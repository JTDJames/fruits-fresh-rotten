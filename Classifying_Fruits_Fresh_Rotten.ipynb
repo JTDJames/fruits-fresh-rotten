{
  "cells": [
    {
      "cell_type": "markdown",
      "metadata": {
        "id": "view-in-github",
        "colab_type": "text"
      },
      "source": [
        "<a href=\"https://colab.research.google.com/github/JTDJames/fruits-fresh-rotten/blob/main/Classifying_Fruits_Fresh_Rotten.ipynb\" target=\"_parent\"><img src=\"https://colab.research.google.com/assets/colab-badge.svg\" alt=\"Open In Colab\"/></a>"
      ]
    },
    {
      "cell_type": "markdown",
      "metadata": {
        "id": "kZ3mRoMbIC9X"
      },
      "source": [
        "# Classiying Fresh and Rotten Fruit"
      ]
    },
    {
      "cell_type": "markdown",
      "source": [
        "**Contents**\n",
        "*   [Objectives](https://colab.research.google.com/drive/1-hMQaztiHzNYugpf-yVTZFyV7k2yCtCI#scrollTo=iqjXMyJWWkYS&line=1&uniqifier=1)\n",
        "*   [Business Understanding](https://colab.research.google.com/drive/1-hMQaztiHzNYugpf-yVTZFyV7k2yCtCI#scrollTo=_8poZOumYeFH&line=1&uniqifier=1)\n",
        "*   [Data Understanding](https://colab.research.google.com/drive/1-hMQaztiHzNYugpf-yVTZFyV7k2yCtCI#scrollTo=t-8puNKGYnUd&line=1&uniqifier=1)\n",
        "*   [Setup and Data Exploration](https://colab.research.google.com/drive/1-hMQaztiHzNYugpf-yVTZFyV7k2yCtCI#scrollTo=dMNdvCXdWv9k&line=1&uniqifier=1)\n",
        "*   [Modeling](https://colab.research.google.com/drive/1-hMQaztiHzNYugpf-yVTZFyV7k2yCtCI#scrollTo=yYqBiFneIC9f)\n",
        "*   [Deomonstration](https://colab.research.google.com/drive/1-hMQaztiHzNYugpf-yVTZFyV7k2yCtCI#scrollTo=tqIpdK_8IC9q)\n",
        "*   [Model Performance](https://colab.research.google.com/drive/1-hMQaztiHzNYugpf-yVTZFyV7k2yCtCI#scrollTo=Shk7bWgIXGeh&line=1&uniqifier=1)\n",
        "*   [Next Steps](https://colab.research.google.com/drive/1-hMQaztiHzNYugpf-yVTZFyV7k2yCtCI#scrollTo=bwu2UAq1XMUr&line=1&uniqifier=1)\n",
        "\n",
        "\n",
        "\n",
        "\n",
        "\n",
        "\n"
      ],
      "metadata": {
        "id": "-gWILwoRXUg3"
      }
    },
    {
      "cell_type": "markdown",
      "source": [
        "# Objectives"
      ],
      "metadata": {
        "id": "iqjXMyJWWkYS"
      }
    },
    {
      "cell_type": "markdown",
      "source": [
        "My main objective was to create a convolutional neural network \n",
        "image classification model that identifies if a fruit was fresh or rotten, \n",
        "and the type of fruit.\n",
        "\n",
        "This model can serve as the foundation for achieving two larger objectives: \n",
        "Saving food focused businesses money, primarily through the reduction of \n",
        "human capital needed to sort rotten food, and Reducing food waste and the \n",
        "impact it has through greenhouse gas emissions."
      ],
      "metadata": {
        "id": "2ngv_2EaYWNL"
      }
    },
    {
      "cell_type": "markdown",
      "source": [
        "# Business Understanding"
      ],
      "metadata": {
        "id": "_8poZOumYeFH"
      }
    },
    {
      "cell_type": "markdown",
      "source": [
        "According to a report from the World Wide Fund for Nature and Tesco in 2021, \n",
        "global food waste on farms alone accounted for 15.3% of all food produced \n",
        "globally. \n",
        "Food waste or food loss is revenue loss. Any unit of food not sold by a farm, \n",
        "wholesaler, or retailer is money lost.\n",
        "\n",
        "While there are many other indirect, and direct factors for food loss, \n",
        "one of the most consistent is human capital. For example, at the farm level \n",
        "growers have left whole fields to rot in order to tend to other fields with \n",
        "what labor was available. Reducing the number of workers needed and the time \n",
        "spent on sorting out rotten fruit allows for workers to put energy towards o\n",
        "ther tasks.\n",
        "\n",
        "And food loss happens at all points in the supply chain: harvest, storage, \n",
        "wholesale, retail, and consumer use. At each of these points, effectively \n",
        "screening fruit freshness through automated systems can help release the \n",
        "pressure needed from human capital.\n",
        "\n",
        "Implementing a CNN model can be used as a tool by food businesses to \n",
        "accomplish this decrease in human labor hours needed and increase efficiency \n",
        "in harvesting, sorting, and selling crops. As mentioned, improving these \n",
        "same systems to save money would also reduce food waste. The UN Environment \n",
        "Programme suggest approximately 9% of global greenhouse gas emissions are \n",
        "associated with food that is not consumed. This means focusing on saving \n",
        "money in this manner, would have the bonus of creating more sustainable systems. \n",
        "This use of machine learning is a win win for businesses and sustainability."
      ],
      "metadata": {
        "id": "YPbfhaiIYeW1"
      }
    },
    {
      "cell_type": "markdown",
      "source": [
        "# Data Understanding"
      ],
      "metadata": {
        "id": "t-8puNKGYnUd"
      }
    },
    {
      "cell_type": "markdown",
      "source": [
        "The data used for the model is comprised of approximately 2700 original images \n",
        "images of fresh and rotten fruits. These images were provided by Jahangirnagar \n",
        "University School & College, and were divided into sixteen equal classes - \n",
        "Fresh and Rotten classes for eight different fruits: Red Apples, Bananas, \n",
        "Grapes, Guavas, Jujubes, Oranges, Pomegranates, and Strawberries."
      ],
      "metadata": {
        "id": "F6kKrfF8Yndu"
      }
    },
    {
      "cell_type": "markdown",
      "source": [
        "# Setup and Data Exploration"
      ],
      "metadata": {
        "id": "dMNdvCXdWv9k"
      }
    },
    {
      "cell_type": "markdown",
      "source": [
        "Data source: [Fresh and Rotten Fruits Dataset for Machine-Based Evaluation of Fruit Quality](https://data.mendeley.com/datasets/bdd69gyhv8/1)\n",
        "\n",
        "Saved Models: [Drive Folder](https://drive.google.com/drive/folders/1Ww2EbecWLkBbT6E61Q1rC3VfdO2yhbc6?usp=share_link)\n",
        "\n",
        "> Indented block\n",
        "\n"
      ],
      "metadata": {
        "id": "Z6ui5tDyDMJm"
      }
    },
    {
      "cell_type": "code",
      "source": [
        "# If data is stored on Google Drive, use this to mount Google Drive in Colab\n",
        "\n",
        "# from google.colab import drive\n",
        "# drive.mount('/content/drive')"
      ],
      "metadata": {
        "colab": {
          "base_uri": "https://localhost:8080/"
        },
        "id": "0vPIfZiiIGjP",
        "outputId": "0d102f85-bdd1-495b-dcb0-d880ecc1006b"
      },
      "execution_count": 2,
      "outputs": [
        {
          "output_type": "stream",
          "name": "stdout",
          "text": [
            "Mounted at /content/drive\n"
          ]
        }
      ]
    },
    {
      "cell_type": "code",
      "source": [
        "# Install packages for colab\n",
        "\n",
        "!pip install split-folders\n",
        "!pip install scikeras[tensorflow]\n",
        "!pip install gradio"
      ],
      "metadata": {
        "colab": {
          "base_uri": "https://localhost:8080/"
        },
        "id": "MRCmy-KZImHV",
        "outputId": "b3cc36b1-6117-4e65-d240-c5d86b53cfb3"
      },
      "execution_count": 3,
      "outputs": [
        {
          "output_type": "stream",
          "name": "stdout",
          "text": [
            "Looking in indexes: https://pypi.org/simple, https://us-python.pkg.dev/colab-wheels/public/simple/\n",
            "Collecting split-folders\n",
            "  Downloading split_folders-0.5.1-py3-none-any.whl (8.4 kB)\n",
            "Installing collected packages: split-folders\n",
            "Successfully installed split-folders-0.5.1\n",
            "Looking in indexes: https://pypi.org/simple, https://us-python.pkg.dev/colab-wheels/public/simple/\n",
            "Collecting scikeras[tensorflow]\n",
            "  Downloading scikeras-0.10.0-py3-none-any.whl (27 kB)\n",
            "Requirement already satisfied: scikit-learn>=1.0.0 in /usr/local/lib/python3.8/dist-packages (from scikeras[tensorflow]) (1.0.2)\n",
            "Requirement already satisfied: packaging>=0.21 in /usr/local/lib/python3.8/dist-packages (from scikeras[tensorflow]) (23.0)\n",
            "Requirement already satisfied: tensorflow>=2.11.0 in /usr/local/lib/python3.8/dist-packages (from scikeras[tensorflow]) (2.11.0)\n",
            "Requirement already satisfied: threadpoolctl>=2.0.0 in /usr/local/lib/python3.8/dist-packages (from scikit-learn>=1.0.0->scikeras[tensorflow]) (3.1.0)\n",
            "Requirement already satisfied: joblib>=0.11 in /usr/local/lib/python3.8/dist-packages (from scikit-learn>=1.0.0->scikeras[tensorflow]) (1.2.0)\n",
            "Requirement already satisfied: numpy>=1.14.6 in /usr/local/lib/python3.8/dist-packages (from scikit-learn>=1.0.0->scikeras[tensorflow]) (1.21.6)\n",
            "Requirement already satisfied: scipy>=1.1.0 in /usr/local/lib/python3.8/dist-packages (from scikit-learn>=1.0.0->scikeras[tensorflow]) (1.7.3)\n",
            "Requirement already satisfied: termcolor>=1.1.0 in /usr/local/lib/python3.8/dist-packages (from tensorflow>=2.11.0->scikeras[tensorflow]) (2.2.0)\n",
            "Requirement already satisfied: absl-py>=1.0.0 in /usr/local/lib/python3.8/dist-packages (from tensorflow>=2.11.0->scikeras[tensorflow]) (1.4.0)\n",
            "Requirement already satisfied: libclang>=13.0.0 in /usr/local/lib/python3.8/dist-packages (from tensorflow>=2.11.0->scikeras[tensorflow]) (15.0.6.1)\n",
            "Requirement already satisfied: tensorboard<2.12,>=2.11 in /usr/local/lib/python3.8/dist-packages (from tensorflow>=2.11.0->scikeras[tensorflow]) (2.11.2)\n",
            "Requirement already satisfied: google-pasta>=0.1.1 in /usr/local/lib/python3.8/dist-packages (from tensorflow>=2.11.0->scikeras[tensorflow]) (0.2.0)\n",
            "Requirement already satisfied: tensorflow-io-gcs-filesystem>=0.23.1 in /usr/local/lib/python3.8/dist-packages (from tensorflow>=2.11.0->scikeras[tensorflow]) (0.30.0)\n",
            "Requirement already satisfied: opt-einsum>=2.3.2 in /usr/local/lib/python3.8/dist-packages (from tensorflow>=2.11.0->scikeras[tensorflow]) (3.3.0)\n",
            "Requirement already satisfied: astunparse>=1.6.0 in /usr/local/lib/python3.8/dist-packages (from tensorflow>=2.11.0->scikeras[tensorflow]) (1.6.3)\n",
            "Requirement already satisfied: wrapt>=1.11.0 in /usr/local/lib/python3.8/dist-packages (from tensorflow>=2.11.0->scikeras[tensorflow]) (1.14.1)\n",
            "Requirement already satisfied: flatbuffers>=2.0 in /usr/local/lib/python3.8/dist-packages (from tensorflow>=2.11.0->scikeras[tensorflow]) (23.1.21)\n",
            "Requirement already satisfied: h5py>=2.9.0 in /usr/local/lib/python3.8/dist-packages (from tensorflow>=2.11.0->scikeras[tensorflow]) (3.1.0)\n",
            "Requirement already satisfied: grpcio<2.0,>=1.24.3 in /usr/local/lib/python3.8/dist-packages (from tensorflow>=2.11.0->scikeras[tensorflow]) (1.51.1)\n",
            "Requirement already satisfied: gast<=0.4.0,>=0.2.1 in /usr/local/lib/python3.8/dist-packages (from tensorflow>=2.11.0->scikeras[tensorflow]) (0.4.0)\n",
            "Requirement already satisfied: keras<2.12,>=2.11.0 in /usr/local/lib/python3.8/dist-packages (from tensorflow>=2.11.0->scikeras[tensorflow]) (2.11.0)\n",
            "Requirement already satisfied: typing-extensions>=3.6.6 in /usr/local/lib/python3.8/dist-packages (from tensorflow>=2.11.0->scikeras[tensorflow]) (4.5.0)\n",
            "Requirement already satisfied: tensorflow-estimator<2.12,>=2.11.0 in /usr/local/lib/python3.8/dist-packages (from tensorflow>=2.11.0->scikeras[tensorflow]) (2.11.0)\n",
            "Requirement already satisfied: setuptools in /usr/local/lib/python3.8/dist-packages (from tensorflow>=2.11.0->scikeras[tensorflow]) (57.4.0)\n",
            "Requirement already satisfied: six>=1.12.0 in /usr/local/lib/python3.8/dist-packages (from tensorflow>=2.11.0->scikeras[tensorflow]) (1.15.0)\n",
            "Requirement already satisfied: protobuf<3.20,>=3.9.2 in /usr/local/lib/python3.8/dist-packages (from tensorflow>=2.11.0->scikeras[tensorflow]) (3.19.6)\n",
            "Requirement already satisfied: wheel<1.0,>=0.23.0 in /usr/local/lib/python3.8/dist-packages (from astunparse>=1.6.0->tensorflow>=2.11.0->scikeras[tensorflow]) (0.38.4)\n",
            "Requirement already satisfied: markdown>=2.6.8 in /usr/local/lib/python3.8/dist-packages (from tensorboard<2.12,>=2.11->tensorflow>=2.11.0->scikeras[tensorflow]) (3.4.1)\n",
            "Requirement already satisfied: tensorboard-data-server<0.7.0,>=0.6.0 in /usr/local/lib/python3.8/dist-packages (from tensorboard<2.12,>=2.11->tensorflow>=2.11.0->scikeras[tensorflow]) (0.6.1)\n",
            "Requirement already satisfied: werkzeug>=1.0.1 in /usr/local/lib/python3.8/dist-packages (from tensorboard<2.12,>=2.11->tensorflow>=2.11.0->scikeras[tensorflow]) (1.0.1)\n",
            "Requirement already satisfied: google-auth<3,>=1.6.3 in /usr/local/lib/python3.8/dist-packages (from tensorboard<2.12,>=2.11->tensorflow>=2.11.0->scikeras[tensorflow]) (2.16.0)\n",
            "Requirement already satisfied: tensorboard-plugin-wit>=1.6.0 in /usr/local/lib/python3.8/dist-packages (from tensorboard<2.12,>=2.11->tensorflow>=2.11.0->scikeras[tensorflow]) (1.8.1)\n",
            "Requirement already satisfied: google-auth-oauthlib<0.5,>=0.4.1 in /usr/local/lib/python3.8/dist-packages (from tensorboard<2.12,>=2.11->tensorflow>=2.11.0->scikeras[tensorflow]) (0.4.6)\n",
            "Requirement already satisfied: requests<3,>=2.21.0 in /usr/local/lib/python3.8/dist-packages (from tensorboard<2.12,>=2.11->tensorflow>=2.11.0->scikeras[tensorflow]) (2.25.1)\n",
            "Requirement already satisfied: pyasn1-modules>=0.2.1 in /usr/local/lib/python3.8/dist-packages (from google-auth<3,>=1.6.3->tensorboard<2.12,>=2.11->tensorflow>=2.11.0->scikeras[tensorflow]) (0.2.8)\n",
            "Requirement already satisfied: cachetools<6.0,>=2.0.0 in /usr/local/lib/python3.8/dist-packages (from google-auth<3,>=1.6.3->tensorboard<2.12,>=2.11->tensorflow>=2.11.0->scikeras[tensorflow]) (5.3.0)\n",
            "Requirement already satisfied: rsa<5,>=3.1.4 in /usr/local/lib/python3.8/dist-packages (from google-auth<3,>=1.6.3->tensorboard<2.12,>=2.11->tensorflow>=2.11.0->scikeras[tensorflow]) (4.9)\n",
            "Requirement already satisfied: requests-oauthlib>=0.7.0 in /usr/local/lib/python3.8/dist-packages (from google-auth-oauthlib<0.5,>=0.4.1->tensorboard<2.12,>=2.11->tensorflow>=2.11.0->scikeras[tensorflow]) (1.3.1)\n",
            "Requirement already satisfied: importlib-metadata>=4.4 in /usr/local/lib/python3.8/dist-packages (from markdown>=2.6.8->tensorboard<2.12,>=2.11->tensorflow>=2.11.0->scikeras[tensorflow]) (6.0.0)\n",
            "Requirement already satisfied: certifi>=2017.4.17 in /usr/local/lib/python3.8/dist-packages (from requests<3,>=2.21.0->tensorboard<2.12,>=2.11->tensorflow>=2.11.0->scikeras[tensorflow]) (2022.12.7)\n",
            "Requirement already satisfied: chardet<5,>=3.0.2 in /usr/local/lib/python3.8/dist-packages (from requests<3,>=2.21.0->tensorboard<2.12,>=2.11->tensorflow>=2.11.0->scikeras[tensorflow]) (4.0.0)\n",
            "Requirement already satisfied: idna<3,>=2.5 in /usr/local/lib/python3.8/dist-packages (from requests<3,>=2.21.0->tensorboard<2.12,>=2.11->tensorflow>=2.11.0->scikeras[tensorflow]) (2.10)\n",
            "Requirement already satisfied: urllib3<1.27,>=1.21.1 in /usr/local/lib/python3.8/dist-packages (from requests<3,>=2.21.0->tensorboard<2.12,>=2.11->tensorflow>=2.11.0->scikeras[tensorflow]) (1.24.3)\n",
            "Requirement already satisfied: zipp>=0.5 in /usr/local/lib/python3.8/dist-packages (from importlib-metadata>=4.4->markdown>=2.6.8->tensorboard<2.12,>=2.11->tensorflow>=2.11.0->scikeras[tensorflow]) (3.13.0)\n",
            "Requirement already satisfied: pyasn1<0.5.0,>=0.4.6 in /usr/local/lib/python3.8/dist-packages (from pyasn1-modules>=0.2.1->google-auth<3,>=1.6.3->tensorboard<2.12,>=2.11->tensorflow>=2.11.0->scikeras[tensorflow]) (0.4.8)\n",
            "Requirement already satisfied: oauthlib>=3.0.0 in /usr/local/lib/python3.8/dist-packages (from requests-oauthlib>=0.7.0->google-auth-oauthlib<0.5,>=0.4.1->tensorboard<2.12,>=2.11->tensorflow>=2.11.0->scikeras[tensorflow]) (3.2.2)\n",
            "Installing collected packages: scikeras\n",
            "Successfully installed scikeras-0.10.0\n",
            "Looking in indexes: https://pypi.org/simple, https://us-python.pkg.dev/colab-wheels/public/simple/\n",
            "Collecting gradio\n",
            "  Downloading gradio-3.19.1-py3-none-any.whl (14.2 MB)\n",
            "\u001b[2K     \u001b[90m━━━━━━━━━━━━━━━━━━━━━━━━━━━━━━━━━━━━━━━━\u001b[0m \u001b[32m14.2/14.2 MB\u001b[0m \u001b[31m85.5 MB/s\u001b[0m eta \u001b[36m0:00:00\u001b[0m\n",
            "\u001b[?25hCollecting orjson\n",
            "  Downloading orjson-3.8.6-cp38-cp38-manylinux_2_28_x86_64.whl (140 kB)\n",
            "\u001b[2K     \u001b[90m━━━━━━━━━━━━━━━━━━━━━━━━━━━━━━━━━━━━━━\u001b[0m \u001b[32m140.7/140.7 KB\u001b[0m \u001b[31m18.5 MB/s\u001b[0m eta \u001b[36m0:00:00\u001b[0m\n",
            "\u001b[?25hRequirement already satisfied: fsspec in /usr/local/lib/python3.8/dist-packages (from gradio) (2023.1.0)\n",
            "Requirement already satisfied: pandas in /usr/local/lib/python3.8/dist-packages (from gradio) (1.3.5)\n",
            "Collecting python-multipart\n",
            "  Downloading python-multipart-0.0.5.tar.gz (32 kB)\n",
            "  Preparing metadata (setup.py) ... \u001b[?25l\u001b[?25hdone\n",
            "Collecting mdit-py-plugins<=0.3.3\n",
            "  Downloading mdit_py_plugins-0.3.3-py3-none-any.whl (50 kB)\n",
            "\u001b[2K     \u001b[90m━━━━━━━━━━━━━━━━━━━━━━━━━━━━━━━━━━━━━━━━\u001b[0m \u001b[32m50.5/50.5 KB\u001b[0m \u001b[31m6.6 MB/s\u001b[0m eta \u001b[36m0:00:00\u001b[0m\n",
            "\u001b[?25hRequirement already satisfied: aiohttp in /usr/local/lib/python3.8/dist-packages (from gradio) (3.8.4)\n",
            "Collecting pycryptodome\n",
            "  Downloading pycryptodome-3.17-cp35-abi3-manylinux_2_17_x86_64.manylinux2014_x86_64.whl (2.1 MB)\n",
            "\u001b[2K     \u001b[90m━━━━━━━━━━━━━━━━━━━━━━━━━━━━━━━━━━━━━━━━\u001b[0m \u001b[32m2.1/2.1 MB\u001b[0m \u001b[31m86.0 MB/s\u001b[0m eta \u001b[36m0:00:00\u001b[0m\n",
            "\u001b[?25hCollecting websockets>=10.0\n",
            "  Downloading websockets-10.4-cp38-cp38-manylinux_2_5_x86_64.manylinux1_x86_64.manylinux_2_17_x86_64.manylinux2014_x86_64.whl (106 kB)\n",
            "\u001b[2K     \u001b[90m━━━━━━━━━━━━━━━━━━━━━━━━━━━━━━━━━━━━━━\u001b[0m \u001b[32m107.0/107.0 KB\u001b[0m \u001b[31m14.9 MB/s\u001b[0m eta \u001b[36m0:00:00\u001b[0m\n",
            "\u001b[?25hCollecting fastapi\n",
            "  Downloading fastapi-0.92.0-py3-none-any.whl (56 kB)\n",
            "\u001b[2K     \u001b[90m━━━━━━━━━━━━━━━━━━━━━━━━━━━━━━━━━━━━━━━━\u001b[0m \u001b[32m56.2/56.2 KB\u001b[0m \u001b[31m8.2 MB/s\u001b[0m eta \u001b[36m0:00:00\u001b[0m\n",
            "\u001b[?25hRequirement already satisfied: markupsafe in /usr/local/lib/python3.8/dist-packages (from gradio) (2.0.1)\n",
            "Collecting uvicorn\n",
            "  Downloading uvicorn-0.20.0-py3-none-any.whl (56 kB)\n",
            "\u001b[2K     \u001b[90m━━━━━━━━━━━━━━━━━━━━━━━━━━━━━━━━━━━━━━━━\u001b[0m \u001b[32m56.9/56.9 KB\u001b[0m \u001b[31m8.5 MB/s\u001b[0m eta \u001b[36m0:00:00\u001b[0m\n",
            "\u001b[?25hRequirement already satisfied: pyyaml in /usr/local/lib/python3.8/dist-packages (from gradio) (6.0)\n",
            "Requirement already satisfied: pydantic in /usr/local/lib/python3.8/dist-packages (from gradio) (1.10.4)\n",
            "Collecting ffmpy\n",
            "  Downloading ffmpy-0.3.0.tar.gz (4.8 kB)\n",
            "  Preparing metadata (setup.py) ... \u001b[?25l\u001b[?25hdone\n",
            "Requirement already satisfied: numpy in /usr/local/lib/python3.8/dist-packages (from gradio) (1.21.6)\n",
            "Requirement already satisfied: typing-extensions in /usr/local/lib/python3.8/dist-packages (from gradio) (4.5.0)\n",
            "Requirement already satisfied: altair>=4.2.0 in /usr/local/lib/python3.8/dist-packages (from gradio) (4.2.2)\n",
            "Requirement already satisfied: requests in /usr/local/lib/python3.8/dist-packages (from gradio) (2.25.1)\n",
            "Collecting aiofiles\n",
            "  Downloading aiofiles-23.1.0-py3-none-any.whl (14 kB)\n",
            "Collecting httpx\n",
            "  Downloading httpx-0.23.3-py3-none-any.whl (71 kB)\n",
            "\u001b[2K     \u001b[90m━━━━━━━━━━━━━━━━━━━━━━━━━━━━━━━━━━━━━━━━\u001b[0m \u001b[32m71.5/71.5 KB\u001b[0m \u001b[31m10.7 MB/s\u001b[0m eta \u001b[36m0:00:00\u001b[0m\n",
            "\u001b[?25hCollecting pydub\n",
            "  Downloading pydub-0.25.1-py2.py3-none-any.whl (32 kB)\n",
            "Requirement already satisfied: pillow in /usr/local/lib/python3.8/dist-packages (from gradio) (7.1.2)\n",
            "Collecting markdown-it-py[linkify]>=2.0.0\n",
            "  Downloading markdown_it_py-2.2.0-py3-none-any.whl (84 kB)\n",
            "\u001b[2K     \u001b[90m━━━━━━━━━━━━━━━━━━━━━━━━━━━━━━━━━━━━━━━━\u001b[0m \u001b[32m84.5/84.5 KB\u001b[0m \u001b[31m12.1 MB/s\u001b[0m eta \u001b[36m0:00:00\u001b[0m\n",
            "\u001b[?25hRequirement already satisfied: jinja2 in /usr/local/lib/python3.8/dist-packages (from gradio) (2.11.3)\n",
            "Requirement already satisfied: matplotlib in /usr/local/lib/python3.8/dist-packages (from gradio) (3.2.2)\n",
            "Requirement already satisfied: entrypoints in /usr/local/lib/python3.8/dist-packages (from altair>=4.2.0->gradio) (0.4)\n",
            "Requirement already satisfied: jsonschema>=3.0 in /usr/local/lib/python3.8/dist-packages (from altair>=4.2.0->gradio) (4.3.3)\n",
            "Requirement already satisfied: toolz in /usr/local/lib/python3.8/dist-packages (from altair>=4.2.0->gradio) (0.12.0)\n",
            "Collecting mdurl~=0.1\n",
            "  Downloading mdurl-0.1.2-py3-none-any.whl (10.0 kB)\n",
            "Collecting linkify-it-py<3,>=1\n",
            "  Downloading linkify_it_py-2.0.0-py3-none-any.whl (19 kB)\n",
            "Requirement already satisfied: pytz>=2017.3 in /usr/local/lib/python3.8/dist-packages (from pandas->gradio) (2022.7.1)\n",
            "Requirement already satisfied: python-dateutil>=2.7.3 in /usr/local/lib/python3.8/dist-packages (from pandas->gradio) (2.8.2)\n",
            "Requirement already satisfied: aiosignal>=1.1.2 in /usr/local/lib/python3.8/dist-packages (from aiohttp->gradio) (1.3.1)\n",
            "Requirement already satisfied: async-timeout<5.0,>=4.0.0a3 in /usr/local/lib/python3.8/dist-packages (from aiohttp->gradio) (4.0.2)\n",
            "Requirement already satisfied: yarl<2.0,>=1.0 in /usr/local/lib/python3.8/dist-packages (from aiohttp->gradio) (1.8.2)\n",
            "Requirement already satisfied: frozenlist>=1.1.1 in /usr/local/lib/python3.8/dist-packages (from aiohttp->gradio) (1.3.3)\n",
            "Requirement already satisfied: multidict<7.0,>=4.5 in /usr/local/lib/python3.8/dist-packages (from aiohttp->gradio) (6.0.4)\n",
            "Requirement already satisfied: attrs>=17.3.0 in /usr/local/lib/python3.8/dist-packages (from aiohttp->gradio) (22.2.0)\n",
            "Requirement already satisfied: charset-normalizer<4.0,>=2.0 in /usr/local/lib/python3.8/dist-packages (from aiohttp->gradio) (3.0.1)\n",
            "Collecting starlette<0.26.0,>=0.25.0\n",
            "  Downloading starlette-0.25.0-py3-none-any.whl (66 kB)\n",
            "\u001b[2K     \u001b[90m━━━━━━━━━━━━━━━━━━━━━━━━━━━━━━━━━━━━━━━━\u001b[0m \u001b[32m66.4/66.4 KB\u001b[0m \u001b[31m7.8 MB/s\u001b[0m eta \u001b[36m0:00:00\u001b[0m\n",
            "\u001b[?25hCollecting rfc3986[idna2008]<2,>=1.3\n",
            "  Downloading rfc3986-1.5.0-py2.py3-none-any.whl (31 kB)\n",
            "Requirement already satisfied: certifi in /usr/local/lib/python3.8/dist-packages (from httpx->gradio) (2022.12.7)\n",
            "Collecting httpcore<0.17.0,>=0.15.0\n",
            "  Downloading httpcore-0.16.3-py3-none-any.whl (69 kB)\n",
            "\u001b[2K     \u001b[90m━━━━━━━━━━━━━━━━━━━━━━━━━━━━━━━━━━━━━━━━\u001b[0m \u001b[32m69.6/69.6 KB\u001b[0m \u001b[31m10.4 MB/s\u001b[0m eta \u001b[36m0:00:00\u001b[0m\n",
            "\u001b[?25hCollecting sniffio\n",
            "  Downloading sniffio-1.3.0-py3-none-any.whl (10 kB)\n",
            "Requirement already satisfied: kiwisolver>=1.0.1 in /usr/local/lib/python3.8/dist-packages (from matplotlib->gradio) (1.4.4)\n",
            "Requirement already satisfied: pyparsing!=2.0.4,!=2.1.2,!=2.1.6,>=2.0.1 in /usr/local/lib/python3.8/dist-packages (from matplotlib->gradio) (3.0.9)\n",
            "Requirement already satisfied: cycler>=0.10 in /usr/local/lib/python3.8/dist-packages (from matplotlib->gradio) (0.11.0)\n",
            "Requirement already satisfied: six>=1.4.0 in /usr/local/lib/python3.8/dist-packages (from python-multipart->gradio) (1.15.0)\n",
            "Requirement already satisfied: urllib3<1.27,>=1.21.1 in /usr/local/lib/python3.8/dist-packages (from requests->gradio) (1.24.3)\n",
            "Requirement already satisfied: chardet<5,>=3.0.2 in /usr/local/lib/python3.8/dist-packages (from requests->gradio) (4.0.0)\n",
            "Requirement already satisfied: idna<3,>=2.5 in /usr/local/lib/python3.8/dist-packages (from requests->gradio) (2.10)\n",
            "Requirement already satisfied: click>=7.0 in /usr/local/lib/python3.8/dist-packages (from uvicorn->gradio) (7.1.2)\n",
            "Collecting h11>=0.8\n",
            "  Downloading h11-0.14.0-py3-none-any.whl (58 kB)\n",
            "\u001b[2K     \u001b[90m━━━━━━━━━━━━━━━━━━━━━━━━━━━━━━━━━━━━━━━━\u001b[0m \u001b[32m58.3/58.3 KB\u001b[0m \u001b[31m9.1 MB/s\u001b[0m eta \u001b[36m0:00:00\u001b[0m\n",
            "\u001b[?25hCollecting anyio<5.0,>=3.0\n",
            "  Downloading anyio-3.6.2-py3-none-any.whl (80 kB)\n",
            "\u001b[2K     \u001b[90m━━━━━━━━━━━━━━━━━━━━━━━━━━━━━━━━━━━━━━━━\u001b[0m \u001b[32m80.6/80.6 KB\u001b[0m \u001b[31m13.1 MB/s\u001b[0m eta \u001b[36m0:00:00\u001b[0m\n",
            "\u001b[?25hRequirement already satisfied: importlib-resources>=1.4.0 in /usr/local/lib/python3.8/dist-packages (from jsonschema>=3.0->altair>=4.2.0->gradio) (5.10.2)\n",
            "Requirement already satisfied: pyrsistent!=0.17.0,!=0.17.1,!=0.17.2,>=0.14.0 in /usr/local/lib/python3.8/dist-packages (from jsonschema>=3.0->altair>=4.2.0->gradio) (0.19.3)\n",
            "Collecting uc-micro-py\n",
            "  Downloading uc_micro_py-1.0.1-py3-none-any.whl (6.2 kB)\n",
            "Requirement already satisfied: zipp>=3.1.0 in /usr/local/lib/python3.8/dist-packages (from importlib-resources>=1.4.0->jsonschema>=3.0->altair>=4.2.0->gradio) (3.13.0)\n",
            "Building wheels for collected packages: ffmpy, python-multipart\n",
            "  Building wheel for ffmpy (setup.py) ... \u001b[?25l\u001b[?25hdone\n",
            "  Created wheel for ffmpy: filename=ffmpy-0.3.0-py3-none-any.whl size=4711 sha256=7c99487f9bf71bc71801e0fa74a7f79c118e0ced5f598717f8a0d92ffc518be4\n",
            "  Stored in directory: /root/.cache/pip/wheels/ff/5b/59/913b443e7369dc04b61f607a746b6f7d83fb65e2e19fcc958d\n",
            "  Building wheel for python-multipart (setup.py) ... \u001b[?25l\u001b[?25hdone\n",
            "  Created wheel for python-multipart: filename=python_multipart-0.0.5-py3-none-any.whl size=31678 sha256=c271e552107e45db8db9a0edf8a531a2ab85165c34b7b15673f7f9fa91877715\n",
            "  Stored in directory: /root/.cache/pip/wheels/9e/fc/1c/cf980e6413d3ee8e70cd8f39e2366b0f487e3e221aeb452eb0\n",
            "Successfully built ffmpy python-multipart\n",
            "Installing collected packages: rfc3986, pydub, ffmpy, websockets, uc-micro-py, sniffio, python-multipart, pycryptodome, orjson, mdurl, h11, aiofiles, uvicorn, markdown-it-py, linkify-it-py, anyio, starlette, mdit-py-plugins, httpcore, httpx, fastapi, gradio\n",
            "Successfully installed aiofiles-23.1.0 anyio-3.6.2 fastapi-0.92.0 ffmpy-0.3.0 gradio-3.19.1 h11-0.14.0 httpcore-0.16.3 httpx-0.23.3 linkify-it-py-2.0.0 markdown-it-py-2.2.0 mdit-py-plugins-0.3.3 mdurl-0.1.2 orjson-3.8.6 pycryptodome-3.17 pydub-0.25.1 python-multipart-0.0.5 rfc3986-1.5.0 sniffio-1.3.0 starlette-0.25.0 uc-micro-py-1.0.1 uvicorn-0.20.0 websockets-10.4\n"
          ]
        }
      ]
    },
    {
      "cell_type": "code",
      "execution_count": 4,
      "metadata": {
        "id": "DCuAj64SIC9Y"
      },
      "outputs": [],
      "source": [
        "# Import libraries\n",
        "\n",
        "import tensorflow as tf\n",
        "from tensorflow import keras\n",
        "from tensorflow.keras.layers import RandomFlip, RandomRotation, RandomZoom, Resizing, Rescaling, RandomContrast\n",
        "from matplotlib import pyplot as plt\n",
        "from tensorflow.keras import datasets, layers, models\n",
        "from tensorflow import image\n",
        "import numpy as np\n",
        "import pandas as pd\n",
        "from sklearn.model_selection import train_test_split\n",
        "from tensorflow.keras import layers\n",
        "from matplotlib import pyplot as plt\n",
        "import splitfolders\n",
        "from sklearn.pipeline import Pipeline\n",
        "from tensorflow.keras.wrappers import scikit_learn\n",
        "from scikeras.wrappers import KerasClassifier, KerasRegressor\n",
        "import seaborn as sns\n",
        "import joblib\n",
        "import gradio as gr\n",
        "from sklearn.metrics import confusion_matrix\n",
        "import json\n",
        "\n",
        "\n",
        "import os\n",
        "import random\n",
        "import shutil\n",
        "import glob"
      ]
    },
    {
      "cell_type": "code",
      "execution_count": null,
      "metadata": {
        "id": "X4qu1P7oIC9a"
      },
      "outputs": [],
      "source": [
        "# To split data into train, val, and test folders, use splitfolders\n",
        "\n",
        "# splitfolders.ratio('data', output=\"data\", seed=42, ratio=(.8, 0.1,0.1))"
      ]
    },
    {
      "cell_type": "markdown",
      "source": [
        "Load in image data from all three folders"
      ],
      "metadata": {
        "id": "anZfOdlleyAr"
      }
    },
    {
      "cell_type": "code",
      "execution_count": 12,
      "metadata": {
        "colab": {
          "base_uri": "https://localhost:8080/"
        },
        "id": "8iug0FkQIC9b",
        "outputId": "0abe85f5-e3ad-4507-a064-c8bc615a980b"
      },
      "outputs": [
        {
          "output_type": "stream",
          "name": "stdout",
          "text": [
            "Found 2720 files belonging to 16 classes.\n"
          ]
        }
      ],
      "source": [
        "train_data = tf.keras.preprocessing.image_dataset_from_directory(\n",
        "    directory='/content/drive/MyDrive/Flatiron/103122/ntl01-dtsc-live-103122/temp_3/fruits-fresh-rotten/data/train',\n",
        "    batch_size=10000,\n",
        "    seed=42    \n",
        ")"
      ]
    },
    {
      "cell_type": "code",
      "execution_count": 13,
      "metadata": {
        "colab": {
          "base_uri": "https://localhost:8080/"
        },
        "id": "nblVrgttIC9b",
        "outputId": "ec0913b8-e313-4488-8834-68a02cc536e5"
      },
      "outputs": [
        {
          "output_type": "stream",
          "name": "stdout",
          "text": [
            "Found 320 files belonging to 16 classes.\n"
          ]
        }
      ],
      "source": [
        "val_data = tf.keras.preprocessing.image_dataset_from_directory(\n",
        "    directory='/content/drive/MyDrive/Flatiron/103122/ntl01-dtsc-live-103122/temp_3/fruits-fresh-rotten/data/validation',\n",
        "    batch_size=10000,\n",
        "    seed=42    \n",
        ")"
      ]
    },
    {
      "cell_type": "code",
      "execution_count": 14,
      "metadata": {
        "colab": {
          "base_uri": "https://localhost:8080/"
        },
        "id": "sSpkuEqvIC9b",
        "outputId": "7a063b03-e5c2-47ba-c243-7d34df84d21d"
      },
      "outputs": [
        {
          "output_type": "stream",
          "name": "stdout",
          "text": [
            "Found 160 files belonging to 16 classes.\n"
          ]
        }
      ],
      "source": [
        "test_data = tf.keras.preprocessing.image_dataset_from_directory(\n",
        "    directory='/content/drive/MyDrive/Flatiron/103122/ntl01-dtsc-live-103122/temp_3/fruits-fresh-rotten/data/test',\n",
        "    batch_size=10000,\n",
        "    seed=42    \n",
        ")"
      ]
    },
    {
      "cell_type": "code",
      "execution_count": 15,
      "metadata": {
        "id": "U2uGUk6yIC9c"
      },
      "outputs": [],
      "source": [
        "train_images, train_labels = next(iter(train_data))\n",
        "val_images, val_labels = next(iter(val_data))\n",
        "test_images, test_labels = next(iter(test_data))"
      ]
    },
    {
      "cell_type": "code",
      "execution_count": 16,
      "metadata": {
        "id": "2ChfIi95IC9c"
      },
      "outputs": [],
      "source": [
        "train_images, train_labels = np.array(train_images), np.array(train_labels)\n",
        "val_images, val_labels = np.array(val_images), np.array(val_labels)\n",
        "test_images, test_labels = np.array(test_images), np.array(test_labels)"
      ]
    },
    {
      "cell_type": "markdown",
      "source": [
        "Check on counts and distrobution of image data"
      ],
      "metadata": {
        "id": "KMbXJoHGe1Or"
      }
    },
    {
      "cell_type": "code",
      "execution_count": null,
      "metadata": {
        "colab": {
          "base_uri": "https://localhost:8080/"
        },
        "id": "wmMyyUtyIC9c",
        "outputId": "2ab2c6af-9e08-4d81-f48f-c8d0bb8185cf"
      },
      "outputs": [
        {
          "output_type": "execute_result",
          "data": {
            "text/plain": [
              "0     0.0625\n",
              "1     0.0625\n",
              "2     0.0625\n",
              "3     0.0625\n",
              "4     0.0625\n",
              "5     0.0625\n",
              "6     0.0625\n",
              "7     0.0625\n",
              "8     0.0625\n",
              "9     0.0625\n",
              "10    0.0625\n",
              "11    0.0625\n",
              "12    0.0625\n",
              "13    0.0625\n",
              "14    0.0625\n",
              "15    0.0625\n",
              "dtype: float64"
            ]
          },
          "metadata": {},
          "execution_count": 12
        }
      ],
      "source": [
        "df_val_counts = pd.DataFrame(train_labels).value_counts(normalize=True).sort_index()\n",
        "df_val_counts"
      ]
    },
    {
      "cell_type": "code",
      "execution_count": null,
      "metadata": {
        "colab": {
          "base_uri": "https://localhost:8080/"
        },
        "id": "-0mkyGeuIC9d",
        "outputId": "0e0e9e8b-fe18-43c0-a950-d71ff13a0bac"
      },
      "outputs": [
        {
          "output_type": "execute_result",
          "data": {
            "text/plain": [
              "0     170\n",
              "1     170\n",
              "2     170\n",
              "3     170\n",
              "4     170\n",
              "5     170\n",
              "6     170\n",
              "7     170\n",
              "8     170\n",
              "9     170\n",
              "10    170\n",
              "11    170\n",
              "12    170\n",
              "13    170\n",
              "14    170\n",
              "15    170\n",
              "dtype: int64"
            ]
          },
          "metadata": {},
          "execution_count": 13
        }
      ],
      "source": [
        "df_val_counts = pd.DataFrame(train_labels).value_counts(normalize=False).sort_index()\n",
        "df_val_counts"
      ]
    },
    {
      "cell_type": "code",
      "execution_count": 10,
      "metadata": {
        "colab": {
          "base_uri": "https://localhost:8080/"
        },
        "id": "mlW7SncTIC9d",
        "outputId": "019a0724-8f6c-4e5a-eec5-aa2c5baaba71"
      },
      "outputs": [
        {
          "output_type": "execute_result",
          "data": {
            "text/plain": [
              "[2720, 320, 160]"
            ]
          },
          "metadata": {},
          "execution_count": 10
        }
      ],
      "source": [
        "split_count_list = list((train_labels.shape[0], val_labels.shape[0], test_labels.shape[0]))\n",
        "split_count_list"
      ]
    },
    {
      "cell_type": "markdown",
      "source": [
        "Data has been split into training, validation, and testing for modeling. \n",
        "This leaves 170 original images left for each classification as training data. \n",
        "To help the model, we will want to use data augmentation  to created new images \n",
        "from the existing originals. This can be seen below in the mideling section"
      ],
      "metadata": {
        "id": "D6Ii6Y-qe5Uf"
      }
    },
    {
      "cell_type": "code",
      "source": [
        "fig, ax = plt.subplots(figsize=(12,8))\n",
        "\n",
        "ax.bar(x=('Train', 'Validation', 'Test'), height=split_count_list)\n",
        "\n",
        "plt.title('Data Split per Classification')\n",
        "plt.ylabel('Number of Files')\n",
        "plt.xlabel('File Use')\n",
        "\n",
        "# plt.savefig('images/data_split.png', dpi=300, bbox_inches='tight')"
      ],
      "metadata": {
        "colab": {
          "base_uri": "https://localhost:8080/",
          "height": 530
        },
        "id": "js8mFjIF7222",
        "outputId": "641a754a-d32d-4149-fda9-59d99287bffb"
      },
      "execution_count": 11,
      "outputs": [
        {
          "output_type": "execute_result",
          "data": {
            "text/plain": [
              "Text(0.5, 0, 'File Use')"
            ]
          },
          "metadata": {},
          "execution_count": 11
        },
        {
          "output_type": "display_data",
          "data": {
            "text/plain": [
              "<Figure size 864x576 with 1 Axes>"
            ],
            "image/png": "[encoded data removed]"
          },
          "metadata": {
            "needs_background": "light"
          }
        }
      ]
    },
    {
      "cell_type": "code",
      "execution_count": null,
      "metadata": {
        "scrolled": true,
        "colab": {
          "base_uri": "https://localhost:8080/",
          "height": 386
        },
        "id": "qSBsQaFiIC9f",
        "outputId": "d938b925-d79c-439a-e394-ac17382e0d17"
      },
      "outputs": [
        {
          "output_type": "execute_result",
          "data": {
            "text/plain": [
              "<matplotlib.axes._subplots.AxesSubplot at 0x7f7c18beac40>"
            ]
          },
          "metadata": {},
          "execution_count": 14
        },
        {
          "output_type": "display_data",
          "data": {
            "text/plain": [
              "<Figure size 432x288 with 1 Axes>"
            ],
            "image/png": "[encoded data removed]"
          },
          "metadata": {
            "needs_background": "light"
          }
        }
      ],
      "source": [
        "# Create visualization of percent by class. While not the most interesting \n",
        "# chart, a final sanity check that classes are all equal\n",
        "\n",
        "import seaborn as sns\n",
        "\n",
        "df_val_counts = pd.DataFrame(train_labels).value_counts()\n",
        "df_val_counts\n",
        "\n",
        "fig, ax = plt.subplots()\n",
        "\n",
        "x=label_list\n",
        "y=df_val_counts.values\n",
        "\n",
        "plt.title('Percent by Class')\n",
        "plt.ylabel('Count')\n",
        "plt.xlabel('Class')\n",
        "plt.xticks(rotation=45, ha='right')\n",
        "\n",
        "sns.barplot(x=x, y=y)\n",
        "\n",
        "# # plt.savefig('../images/class_percent.png', bbox_inches='tight', dpi=300)"
      ]
    },
    {
      "cell_type": "code",
      "execution_count": null,
      "metadata": {
        "colab": {
          "base_uri": "https://localhost:8080/"
        },
        "id": "9yEL_xPSIC9d",
        "outputId": "8bb259a9-27ee-4319-920a-12204627d3fc"
      },
      "outputs": [
        {
          "output_type": "execute_result",
          "data": {
            "text/plain": [
              "(2720, 256, 256, 3)"
            ]
          },
          "metadata": {},
          "execution_count": 16
        }
      ],
      "source": [
        "train_images.shape"
      ]
    },
    {
      "cell_type": "code",
      "execution_count": null,
      "metadata": {
        "colab": {
          "base_uri": "https://localhost:8080/"
        },
        "id": "smxj0OdkIC9d",
        "outputId": "47c9723f-ad39-4c5b-a337-ac4c98f9b14c"
      },
      "outputs": [
        {
          "output_type": "execute_result",
          "data": {
            "text/plain": [
              "(320, 256, 256, 3)"
            ]
          },
          "metadata": {},
          "execution_count": 17
        }
      ],
      "source": [
        "val_images.shape"
      ]
    },
    {
      "cell_type": "code",
      "execution_count": null,
      "metadata": {
        "colab": {
          "base_uri": "https://localhost:8080/"
        },
        "id": "H6eeGYteIC9e",
        "outputId": "4324e3d6-48f2-4a17-c7be-07f2656ece85"
      },
      "outputs": [
        {
          "output_type": "execute_result",
          "data": {
            "text/plain": [
              "(320,)"
            ]
          },
          "metadata": {},
          "execution_count": 18
        }
      ],
      "source": [
        "val_labels.shape"
      ]
    },
    {
      "cell_type": "markdown",
      "source": [
        "Examine images and gather images for illustration"
      ],
      "metadata": {
        "id": "-6SZEo7oe_Jk"
      }
    },
    {
      "cell_type": "code",
      "execution_count": 12,
      "metadata": {
        "id": "Tzq6-fE5IC9e"
      },
      "outputs": [],
      "source": [
        "# Create readable labels list, giving names of fersh/rotten and \n",
        "# fruit from numerical labels.\n",
        "\n",
        "label_list = ['Fresh - Apple',\n",
        "\"Fresh - Banana\",\n",
        "\"Fresh - Grape\",\n",
        "\"Fresh - Guava\",\n",
        "\"Fresh - Jujube\",\n",
        "\"Fresh - Orange\",\n",
        "\"Fresh - Pomegranate\",\n",
        "\"Fresh - Strawberry\",\n",
        "\"Rotten - Apple\",\n",
        "\"Rotten - Banana\",\n",
        "\"Rotten - Grape\",\n",
        "\"Rotten - Guava\",\n",
        "\"Rotten - Jujube\",\n",
        "\"Rotten - Orange\",\n",
        "\"Rotten - Pomegranate\",\n",
        "\"Rotten - Strawberry\"]\n",
        "\n",
        "def label_str(label):\n",
        "    if label == 1:\n",
        "        return label_list[1]\n",
        "    elif label == 2:\n",
        "        return label_list[2]\n",
        "    elif label == 3:\n",
        "        return label_list[3]\n",
        "    elif label == 4:\n",
        "        return label_list[4]\n",
        "    elif label == 5:\n",
        "        return label_list[5]\n",
        "    elif label == 6:\n",
        "        return label_list[6]\n",
        "    elif label == 7:\n",
        "        return label_list[7]\n",
        "    elif label == 8:\n",
        "        return label_list[8]\n",
        "    elif label == 9:\n",
        "        return label_list[9]\n",
        "    elif label == 10:\n",
        "        return label_list[10]\n",
        "    elif label == 11:\n",
        "        return label_list[11]\n",
        "    elif label == 12:\n",
        "        return label_list[12]\n",
        "    elif label == 13:\n",
        "        return label_list[13]\n",
        "    elif label == 14:\n",
        "        return label_list[14]\n",
        "    elif label == 15:\n",
        "        return label_list[15]\n",
        "    else:\n",
        "        return 'Error'"
      ]
    },
    {
      "cell_type": "code",
      "execution_count": 13,
      "metadata": {
        "id": "jHaRaNdQIC9f"
      },
      "outputs": [],
      "source": [
        "# Crate a function that brings up an image and gives a tital of the appropriate \n",
        "# readable label\n",
        "\n",
        "def fruit_img(image_num):\n",
        "    plt.imshow(train_images[image_num].astype('uint8'))\n",
        "    plt.axis('off')\n",
        "    plt.title(label_str(train_labels[image_num]))\n",
        "    plt.tight_layout()\n",
        "    plt.show()\n",
        "    print('Label: ',train_labels[image_num])"
      ]
    },
    {
      "cell_type": "markdown",
      "source": [
        "Test fruit_img Function.\n",
        "\n",
        "Note, image numbers will be assigned to different images each time data is loaded in."
      ],
      "metadata": {
        "id": "nTSw67dyfPOB"
      }
    },
    {
      "cell_type": "code",
      "execution_count": null,
      "metadata": {
        "colab": {
          "base_uri": "https://localhost:8080/",
          "height": 314
        },
        "id": "q3OtwAGsIC9f",
        "outputId": "b6bf2a51-c31f-4cb6-dd2c-d1a6f615a719"
      },
      "outputs": [
        {
          "output_type": "display_data",
          "data": {
            "text/plain": [
              "<Figure size 432x288 with 1 Axes>"
            ],
            "image/png": "[encoded data removed]"
          },
          "metadata": {
            "needs_background": "light"
          }
        },
        {
          "output_type": "stream",
          "name": "stdout",
          "text": [
            "Label:  8\n"
          ]
        }
      ],
      "source": [
        "fruit_img(226)"
      ]
    },
    {
      "cell_type": "markdown",
      "metadata": {
        "id": "yYqBiFneIC9f"
      },
      "source": [
        "# Modeling"
      ]
    },
    {
      "cell_type": "markdown",
      "source": [
        "The below modeling process was interative and lengthy. Models tool a long time to train on the machine I had available.\n",
        "Much of the code is commented out so that this notebook can be run.\n",
        "Sections where the models can be loaded follow the code for training and saving each model."
      ],
      "metadata": {
        "id": "8Yby_ectW6xF"
      }
    },
    {
      "cell_type": "markdown",
      "source": [
        "## Encoding"
      ],
      "metadata": {
        "id": "IH9zinkJcjEO"
      }
    },
    {
      "cell_type": "code",
      "execution_count": 14,
      "metadata": {
        "colab": {
          "base_uri": "https://localhost:8080/"
        },
        "id": "5YSHXjqaIC9g",
        "outputId": "1c60cc0a-b93a-4956-9f8e-1dbb84c6c067"
      },
      "outputs": [
        {
          "output_type": "execute_result",
          "data": {
            "text/plain": [
              "(320, 16)"
            ]
          },
          "metadata": {},
          "execution_count": 14
        }
      ],
      "source": [
        "# Encode labels\n",
        "\n",
        "from sklearn.preprocessing import OneHotEncoder\n",
        "\n",
        "ohe = OneHotEncoder()\n",
        "\n",
        "train_labels_encoded = ohe.fit_transform(train_labels.reshape(-1, 1))\n",
        "\n",
        "train_labels_encoded = train_labels_encoded.toarray()\n",
        "train_labels_encoded.shape\n",
        "\n",
        "val_labels_encoded = ohe.fit_transform(val_labels.reshape(-1, 1))\n",
        "\n",
        "val_labels_encoded = val_labels_encoded.toarray()\n",
        "val_labels_encoded.shape"
      ]
    },
    {
      "cell_type": "markdown",
      "source": [
        "## First Simple Model \n",
        "\n",
        "I began with a FSM without data augmentation.\n",
        "\n",
        "This first simple model is meant to act as a baseline. It is small and can train quickly."
      ],
      "metadata": {
        "id": "DYIOwaoXZZfk"
      }
    },
    {
      "cell_type": "code",
      "execution_count": 12,
      "metadata": {
        "id": "Kqu2JodFIC9g"
      },
      "outputs": [],
      "source": [
        "fsm_model = tf.keras.Sequential([\n",
        "\n",
        "  layers.Conv2D(filters=32,kernel_size=3,padding=\"same\",activation=\"relu\", input_shape=(256,256,3)),\n",
        "  layers.MaxPooling2D(pool_size=2),\n",
        "  layers.Conv2D(filters=64,kernel_size=3,padding=\"same\",activation =\"relu\"),\n",
        "  layers.MaxPooling2D(pool_size=2),\n",
        "\n",
        "  layers.Flatten(),\n",
        "\n",
        "  layers.Dense(100,activation=\"relu\"),\n",
        "  layers.Dense(16,activation=\"softmax\")\n",
        "])"
      ]
    },
    {
      "cell_type": "code",
      "execution_count": null,
      "metadata": {
        "id": "giGQpJBkIC9g"
      },
      "outputs": [],
      "source": [
        "fsm_model.compile(optimizer='adam',\n",
        "              loss='categorical_crossentropy',\n",
        "             metrics=['accuracy'])"
      ]
    },
    {
      "cell_type": "code",
      "execution_count": null,
      "metadata": {
        "colab": {
          "base_uri": "https://localhost:8080/"
        },
        "id": "nGFEMMdAIC9g",
        "outputId": "463a9d0a-af93-4414-aacd-e9bcdfc22ae6"
      },
      "outputs": [
        {
          "output_type": "stream",
          "name": "stdout",
          "text": [
            "Epoch 1/3\n",
            "85/85 [==============================] - 13s 20ms/step - loss: 145.9436 - accuracy: 0.2732 - val_loss: 1.8701 - val_accuracy: 0.4281\n",
            "Epoch 2/3\n",
            "85/85 [==============================] - 1s 16ms/step - loss: 0.8334 - accuracy: 0.7493 - val_loss: 1.9712 - val_accuracy: 0.5250\n",
            "Epoch 3/3\n",
            "85/85 [==============================] - 1s 16ms/step - loss: 0.2049 - accuracy: 0.9371 - val_loss: 2.5688 - val_accuracy: 0.5719\n"
          ]
        },
        {
          "output_type": "execute_result",
          "data": {
            "text/plain": [
              "<keras.callbacks.History at 0x7fee9475e250>"
            ]
          },
          "metadata": {},
          "execution_count": 29
        }
      ],
      "source": [
        "fsm_model.fit(\n",
        "    train_images, \n",
        "    train_labels_encoded,\n",
        "    epochs=3,\n",
        "validation_data=(val_images, val_labels_encoded))"
      ]
    },
    {
      "cell_type": "code",
      "execution_count": null,
      "metadata": {
        "id": "eh2w129jIC9h"
      },
      "outputs": [],
      "source": [
        "fsm_model.save('models/fsm')"
      ]
    },
    {
      "cell_type": "markdown",
      "source": [
        "Validation Accuracy of the first simple model was .57."
      ],
      "metadata": {
        "id": "-n4RaFOFfikL"
      }
    },
    {
      "cell_type": "code",
      "execution_count": 45,
      "metadata": {
        "id": "WJGUxb49IC9h"
      },
      "outputs": [],
      "source": [
        "fsm_model_clf = KerasClassifier(\n",
        "    model=fsm_model,\n",
        "    loss=\"categorical_crossentropy\",\n",
        "    fit__validation_data=(val_images, val_labels_encoded),\n",
        "    metrics=['accuracy'],\n",
        "    epochs=3\n",
        ")"
      ]
    },
    {
      "cell_type": "code",
      "execution_count": 46,
      "metadata": {
        "id": "TtHvy377IC9h",
        "colab": {
          "base_uri": "https://localhost:8080/"
        },
        "outputId": "42636ad5-5d96-474a-f4a4-bfd62777f247"
      },
      "outputs": [
        {
          "output_type": "stream",
          "name": "stdout",
          "text": [
            "Epoch 1/3\n",
            "85/85 [==============================] - 2s 18ms/step - loss: 9.7835 - accuracy: 0.5368 - val_loss: 3.1636 - val_accuracy: 0.3969\n",
            "Epoch 2/3\n",
            "85/85 [==============================] - 1s 16ms/step - loss: 47.2925 - accuracy: 0.5147 - val_loss: 308.4823 - val_accuracy: 0.1281\n",
            "Epoch 3/3\n",
            "85/85 [==============================] - 1s 16ms/step - loss: 29.7322 - accuracy: 0.4798 - val_loss: 4.3987 - val_accuracy: 0.2375\n"
          ]
        }
      ],
      "source": [
        "fsm_model_clf.fit(train_images, train_labels_encoded);"
      ]
    },
    {
      "cell_type": "code",
      "source": [
        "fsm_model_clf.model_.save('/content/drive/MyDrive/Flatiron/103122/ntl01-dtsc-live-103122/temp_3/fruits-fresh-rotten/models/fsm_model_clf')"
      ],
      "metadata": {
        "colab": {
          "base_uri": "https://localhost:8080/"
        },
        "id": "PiPC8QXzkzUI",
        "outputId": "4cd5781c-5a2f-48fa-99dd-55fcc628d88a"
      },
      "execution_count": 47,
      "outputs": [
        {
          "output_type": "stream",
          "name": "stderr",
          "text": [
            "WARNING:absl:Found untraced functions such as _jit_compiled_convolution_op, _jit_compiled_convolution_op while saving (showing 2 of 2). These functions will not be directly callable after loading.\n"
          ]
        }
      ]
    },
    {
      "cell_type": "code",
      "source": [
        "fsm_model_clf.history_['val_accuracy'][-1]"
      ],
      "metadata": {
        "colab": {
          "base_uri": "https://localhost:8080/"
        },
        "id": "W9gAucqkk3p3",
        "outputId": "0e8f1e01-ebfc-46c9-f68f-459cc8e5e4c2"
      },
      "execution_count": 48,
      "outputs": [
        {
          "output_type": "execute_result",
          "data": {
            "text/plain": [
              "0.23749999701976776"
            ]
          },
          "metadata": {},
          "execution_count": 48
        }
      ]
    },
    {
      "cell_type": "code",
      "source": [
        "fsm_model_clf_hist = fsm_model_clf.history_"
      ],
      "metadata": {
        "id": "ko3OHfLGk3zX"
      },
      "execution_count": null,
      "outputs": []
    },
    {
      "cell_type": "code",
      "source": [
        "json.dump(fsm_model_clf_hist, open('/content/drive/MyDrive/Flatiron/103122/ntl01-dtsc-live-103122/temp_3/fruits-fresh-rotten/models/fsm_model_clf/history', 'w'))"
      ],
      "metadata": {
        "id": "KSBZEfWBpTGc"
      },
      "execution_count": null,
      "outputs": []
    },
    {
      "cell_type": "code",
      "source": [
        "# summarize history for accuracy\n",
        "plt.plot(fsm_model_clf.history_['accuracy'])\n",
        "plt.plot(fsm_model_clf.history_['val_accuracy'])\n",
        "plt.title('model accuracy')\n",
        "plt.ylabel('accuracy')\n",
        "plt.xlabel('epoch')\n",
        "plt.legend(['Train', 'Validation'], loc='upper left')\n",
        "plt.show()\n",
        "# summarize history for loss\n",
        "plt.plot(fsm_model_clf.history_['loss'])\n",
        "plt.plot(fsm_model_clf.history_['val_loss'])\n",
        "plt.title('model loss')\n",
        "plt.ylabel('loss')\n",
        "plt.xlabel('epoch')\n",
        "plt.legend(['Train', 'Validation'], loc='upper left')\n",
        "plt.show()"
      ],
      "metadata": {
        "colab": {
          "base_uri": "https://localhost:8080/",
          "height": 573
        },
        "id": "D0PPfHZQDbdI",
        "outputId": "05c694ec-630b-4f9e-8d8d-bd037a0d41d2"
      },
      "execution_count": 51,
      "outputs": [
        {
          "output_type": "display_data",
          "data": {
            "text/plain": [
              "<Figure size 432x288 with 1 Axes>"
            ],
            "image/png": "[encoded data removed]"
          },
          "metadata": {
            "needs_background": "light"
          }
        },
        {
          "output_type": "display_data",
          "data": {
            "text/plain": [
              "<Figure size 432x288 with 1 Axes>"
            ],
            "image/png": "[encoded data removed]"
          },
          "metadata": {
            "needs_background": "light"
          }
        }
      ]
    },
    {
      "cell_type": "code",
      "execution_count": null,
      "metadata": {
        "id": "cnFiP113IC9h"
      },
      "outputs": [],
      "source": [
        "fsm_pipe = Pipeline([\n",
        "    ('fsm_model_clf', fsm_model_clf),\n",
        "])\n"
      ]
    },
    {
      "cell_type": "markdown",
      "source": [
        "## Modeling with data augmentation\n",
        "\n",
        "\n",
        "To set up for data augmentation with Keras,\n",
        "there needs to be preprocessing layers for\n",
        "resizing and rescaling, and the data augmentation\n",
        "desired. This way, for each epoch run for models,\n",
        "new, on the fly, images wil be created and used\n",
        "for training."
      ],
      "metadata": {
        "id": "9cMCLZquZtAa"
      }
    },
    {
      "cell_type": "code",
      "execution_count": 54,
      "metadata": {
        "id": "vnipZyllIC9h"
      },
      "outputs": [],
      "source": [
        "# Resize and rescale images layers\n",
        "\n",
        "IMG_SIZE = 256\n",
        "\n",
        "resize_and_rescale = tf.keras.Sequential([\n",
        "    Resizing(IMG_SIZE, IMG_SIZE,input_shape=(256,256,3)),\n",
        "    Rescaling(1./255)\n",
        "])"
      ]
    },
    {
      "cell_type": "code",
      "execution_count": 55,
      "metadata": {
        "id": "dEASfwcZIC9i"
      },
      "outputs": [],
      "source": [
        "# Data augmentation layers\n",
        "\n",
        "data_augmentation = tf.keras.Sequential([\n",
        "  RandomFlip(\"horizontal_and_vertical\"),\n",
        "  RandomRotation(0.33, fill_mode='reflect'),\n",
        "  RandomZoom(0.2, fill_mode='reflect'),\n",
        "  RandomContrast(.1), \n",
        "])"
      ]
    },
    {
      "cell_type": "markdown",
      "source": [
        "## First data augmentation model\n",
        "\n",
        "The next model is a dimisalr to the first sumple model\n",
        "but with data augmentation andincreased epochs."
      ],
      "metadata": {
        "id": "SfcMZKAEZ828"
      }
    },
    {
      "cell_type": "code",
      "execution_count": 63,
      "metadata": {
        "id": "0pCzT4BrIC9i",
        "colab": {
          "base_uri": "https://localhost:8080/"
        },
        "outputId": "36f38b91-ce1a-4860-974a-7470da4e41cc"
      },
      "outputs": [
        {
          "output_type": "stream",
          "name": "stderr",
          "text": [
            "WARNING:tensorflow:Using a while_loop for converting RngReadAndSkip cause there is no registered converter for this op.\n",
            "WARNING:tensorflow:Using a while_loop for converting Bitcast cause there is no registered converter for this op.\n",
            "WARNING:tensorflow:Using a while_loop for converting Bitcast cause there is no registered converter for this op.\n",
            "WARNING:tensorflow:Using a while_loop for converting StatelessRandomUniformV2 cause there is no registered converter for this op.\n",
            "WARNING:tensorflow:Using a while_loop for converting ImageProjectiveTransformV3 cause there is no registered converter for this op.\n",
            "WARNING:tensorflow:Using a while_loop for converting RngReadAndSkip cause there is no registered converter for this op.\n",
            "WARNING:tensorflow:Using a while_loop for converting Bitcast cause there is no registered converter for this op.\n",
            "WARNING:tensorflow:Using a while_loop for converting Bitcast cause there is no registered converter for this op.\n",
            "WARNING:tensorflow:Using a while_loop for converting StatelessRandomUniformV2 cause there is no registered converter for this op.\n",
            "WARNING:tensorflow:Using a while_loop for converting ImageProjectiveTransformV3 cause there is no registered converter for this op.\n",
            "WARNING:tensorflow:Using a while_loop for converting RngReadAndSkip cause there is no registered converter for this op.\n",
            "WARNING:tensorflow:Using a while_loop for converting Bitcast cause there is no registered converter for this op.\n",
            "WARNING:tensorflow:Using a while_loop for converting Bitcast cause there is no registered converter for this op.\n",
            "WARNING:tensorflow:Using a while_loop for converting StatelessRandomUniformFullIntV2 cause there is no registered converter for this op.\n",
            "WARNING:tensorflow:Using a while_loop for converting StatelessRandomGetKeyCounter cause there is no registered converter for this op.\n",
            "WARNING:tensorflow:Using a while_loop for converting StatelessRandomUniformV2 cause there is no registered converter for this op.\n"
          ]
        }
      ],
      "source": [
        "da_model = tf.keras.Sequential([\n",
        "\n",
        "  resize_and_rescale,\n",
        "  data_augmentation,\n",
        "    \n",
        "  layers.Conv2D(filters=32,kernel_size=3,padding=\"same\",activation=\"relu\"),\n",
        "  layers.MaxPooling2D(pool_size=2),\n",
        "  layers.Conv2D(filters=64,kernel_size=3,padding=\"same\",activation =\"relu\"),\n",
        "  layers.MaxPooling2D(pool_size=2),\n",
        "\n",
        "  layers.Flatten(),\n",
        "\n",
        "  layers.Dense(100,activation=\"relu\"),\n",
        "  layers.Dense(16,activation=\"softmax\")\n",
        "])"
      ]
    },
    {
      "cell_type": "code",
      "execution_count": null,
      "metadata": {
        "id": "9OzvmPGXIC9i"
      },
      "outputs": [],
      "source": [
        "da_model.summary()"
      ]
    },
    {
      "cell_type": "code",
      "execution_count": null,
      "metadata": {
        "id": "MUiTUuk8IC9i"
      },
      "outputs": [],
      "source": [
        "da_model.compile(optimizer='adam',\n",
        "              loss='categorical_crossentropy',\n",
        "             metrics=['accuracy'])"
      ]
    },
    {
      "cell_type": "code",
      "execution_count": null,
      "metadata": {
        "id": "ElpwmIlzIC9i"
      },
      "outputs": [],
      "source": [
        "da_model.fit(\n",
        "    train_images, \n",
        "    train_labels_encoded,\n",
        "    epochs=35,\n",
        "validation_data=(val_images, val_labels_encoded))"
      ]
    },
    {
      "cell_type": "code",
      "execution_count": null,
      "metadata": {
        "id": "EBcMrxHVIC9j"
      },
      "outputs": [],
      "source": [
        "da_model.save('models/da_model')"
      ]
    },
    {
      "cell_type": "code",
      "source": [
        "da_model_clf = KerasClassifier(\n",
        "    model=da_model,\n",
        "    loss=\"categorical_crossentropy\",\n",
        "    fit__validation_data=(val_images, val_labels_encoded),\n",
        "    metrics=['accuracy'],\n",
        "    epochs=20\n",
        ")"
      ],
      "metadata": {
        "id": "Bty4mDTxs0_t"
      },
      "execution_count": null,
      "outputs": []
    },
    {
      "cell_type": "code",
      "source": [
        "da_model_clf.fit(train_images, train_labels_encoded);"
      ],
      "metadata": {
        "colab": {
          "base_uri": "https://localhost:8080/"
        },
        "id": "6u2YhqI_s7JG",
        "outputId": "f87b02e1-c0c6-4ced-f01d-2407dce08218"
      },
      "execution_count": 65,
      "outputs": [
        {
          "output_type": "stream",
          "name": "stdout",
          "text": [
            "Epoch 1/3\n",
            "85/85 [==============================] - 2s 18ms/step - loss: 5.1478 - accuracy: 0.1904 - val_loss: 2.7730 - val_accuracy: 0.0625\n",
            "Epoch 2/3\n",
            "85/85 [==============================] - 1s 16ms/step - loss: 2.7733 - accuracy: 0.0625 - val_loss: 2.7729 - val_accuracy: 0.0625\n",
            "Epoch 3/3\n",
            "85/85 [==============================] - 1s 17ms/step - loss: 2.7732 - accuracy: 0.0625 - val_loss: 2.7729 - val_accuracy: 0.0625\n"
          ]
        }
      ]
    },
    {
      "cell_type": "code",
      "source": [
        "da_model_clf.model_.save('/content/drive/MyDrive/Flatiron/103122/ntl01-dtsc-live-103122/temp_3/fruits-fresh-rotten/models/da_model_clf')"
      ],
      "metadata": {
        "colab": {
          "base_uri": "https://localhost:8080/"
        },
        "id": "qiHWmgq9s-dc",
        "outputId": "5d976ab6-084e-43ab-cfa9-723b8e8bbdd6"
      },
      "execution_count": 66,
      "outputs": [
        {
          "output_type": "stream",
          "name": "stderr",
          "text": [
            "WARNING:absl:Found untraced functions such as _jit_compiled_convolution_op, _jit_compiled_convolution_op while saving (showing 2 of 2). These functions will not be directly callable after loading.\n"
          ]
        }
      ]
    },
    {
      "cell_type": "code",
      "source": [
        "da_model_clf_hist = da_model_clf.history_"
      ],
      "metadata": {
        "id": "ZRTO_eCAtBUo"
      },
      "execution_count": 69,
      "outputs": []
    },
    {
      "cell_type": "code",
      "source": [
        "json.dump(da_model_clf_hist, open('/content/drive/MyDrive/Flatiron/103122/ntl01-dtsc-live-103122/temp_3/fruits-fresh-rotten/models/da_model_clf/history', 'w'))"
      ],
      "metadata": {
        "id": "75IQW-sgtBg6"
      },
      "execution_count": 67,
      "outputs": []
    },
    {
      "cell_type": "code",
      "source": [
        "# summarize history for accuracy\n",
        "plt.plot(da_model_clf.history_['accuracy'])\n",
        "plt.plot(da_model_clf.history_['val_accuracy'])\n",
        "plt.title('model accuracy')\n",
        "plt.ylabel('accuracy')\n",
        "plt.xlabel('epoch')\n",
        "plt.legend(['Train', 'Validation'], loc='upper left')\n",
        "plt.show()\n",
        "# summarize history for loss\n",
        "plt.plot(da_model_clf.history_['loss'])\n",
        "plt.plot(da_model_clf.history_['val_loss'])\n",
        "plt.title('model loss')\n",
        "plt.ylabel('loss')\n",
        "plt.xlabel('epoch')\n",
        "plt.legend(['Train', 'Validation'], loc='upper left')\n",
        "plt.show()"
      ],
      "metadata": {
        "colab": {
          "base_uri": "https://localhost:8080/",
          "height": 573
        },
        "id": "lzis53cZtO9N",
        "outputId": "bc39c17f-4b3f-4ae3-8c5e-2af3665050e3"
      },
      "execution_count": 68,
      "outputs": [
        {
          "output_type": "display_data",
          "data": {
            "text/plain": [
              "<Figure size 432x288 with 1 Axes>"
            ],
            "image/png": "[encoded data removed]"
          },
          "metadata": {
            "needs_background": "light"
          }
        },
        {
          "output_type": "display_data",
          "data": {
            "text/plain": [
              "<Figure size 432x288 with 1 Axes>"
            ],
            "image/png": "[encoded data removed]"
          },
          "metadata": {
            "needs_background": "light"
          }
        }
      ]
    },
    {
      "cell_type": "markdown",
      "source": [
        "## First model with dropout\n",
        "\n",
        "There is some overfitting with the previous model.\n",
        "The first action is to add a dropout layer."
      ],
      "metadata": {
        "id": "aDgdCXrDa_yX"
      }
    },
    {
      "cell_type": "code",
      "execution_count": null,
      "metadata": {
        "id": "GjgEIIykIC9j"
      },
      "outputs": [],
      "source": [
        "da_drop_model = tf.keras.Sequential([\n",
        "\n",
        "  resize_and_rescale,\n",
        "  data_augmentation,\n",
        "    \n",
        "  layers.Conv2D(filters=64,kernel_size=3,padding=\"same\",activation=\"relu\"),\n",
        "  layers.MaxPooling2D(pool_size=2),\n",
        "  layers.Conv2D(filters=128,kernel_size=3,padding=\"same\",activation =\"relu\"),\n",
        "  layers.MaxPooling2D(pool_size=2),\n",
        "\n",
        "  layers.Flatten(),\n",
        "\n",
        "  layers.Dense(1000,activation=\"relu\"),\n",
        "  layers.Dropout(.2),\n",
        "  layers.Dense(16,activation=\"softmax\")\n",
        "])"
      ]
    },
    {
      "cell_type": "code",
      "execution_count": null,
      "metadata": {
        "id": "7aIbzh2SIC9j"
      },
      "outputs": [],
      "source": [
        "da_drop_model.compile(optimizer='adam',\n",
        "              loss='categorical_crossentropy',\n",
        "             metrics=['accuracy'])"
      ]
    },
    {
      "cell_type": "code",
      "execution_count": null,
      "metadata": {
        "id": "zBuhsCsyIC9j"
      },
      "outputs": [],
      "source": [
        "da_drop_model.fit(\n",
        "    train_images, \n",
        "    train_labels_encoded,\n",
        "    epochs=35,\n",
        "validation_data=(val_images, val_labels_encoded))"
      ]
    },
    {
      "cell_type": "code",
      "execution_count": null,
      "metadata": {
        "id": "0nZdPJrfIC9j"
      },
      "outputs": [],
      "source": [
        "da_drop_model.save('models/da_drop_model')"
      ]
    },
    {
      "cell_type": "code",
      "source": [],
      "metadata": {
        "id": "_OXC1ivwtePt"
      },
      "execution_count": null,
      "outputs": []
    },
    {
      "cell_type": "code",
      "source": [
        "da_drop_model_clf = KerasClassifier(\n",
        "    model=da_drop_model,\n",
        "    loss=\"categorical_crossentropy\",\n",
        "    fit__validation_data=(val_images, val_labels_encoded),\n",
        "    metrics=['accuracy'],\n",
        "    epochs=35\n",
        ")"
      ],
      "metadata": {
        "id": "ITNxvbgUt7ha"
      },
      "execution_count": null,
      "outputs": []
    },
    {
      "cell_type": "code",
      "source": [
        "da_drop_model_clf.fit(train_images, train_labels_encoded);"
      ],
      "metadata": {
        "id": "v9_8XrxSt7qj"
      },
      "execution_count": null,
      "outputs": []
    },
    {
      "cell_type": "code",
      "source": [
        "da_drop_model_clf.model_.save('/content/drive/MyDrive/Flatiron/103122/ntl01-dtsc-live-103122/temp_3/fruits-fresh-rotten/models/da_drop_model_clf')"
      ],
      "metadata": {
        "id": "ZKZcqTTut7zV"
      },
      "execution_count": null,
      "outputs": []
    },
    {
      "cell_type": "code",
      "source": [
        "da_drop_model_clf.history_['val_accuracy'][-1]"
      ],
      "metadata": {
        "id": "6RxVp_Qyt76I"
      },
      "execution_count": null,
      "outputs": []
    },
    {
      "cell_type": "code",
      "source": [
        "da_drop_model_clf_hist = da_drop_model_clf.history_"
      ],
      "metadata": {
        "id": "QQuAvShNt8Dh"
      },
      "execution_count": null,
      "outputs": []
    },
    {
      "cell_type": "code",
      "source": [
        "json.dump(da_drop_model_clf_hist, open('/content/drive/MyDrive/Flatiron/103122/ntl01-dtsc-live-103122/temp_3/fruits-fresh-rotten/models/da_drop_model_clf/history', 'w'))"
      ],
      "metadata": {
        "id": "Yn9M0eJAudDr"
      },
      "execution_count": null,
      "outputs": []
    },
    {
      "cell_type": "markdown",
      "source": [
        "## Adding more dropout\n",
        "\n",
        "Adding dropout to the previous model didn't\n",
        "have as strong as an effect as is desired,\n",
        "so fr the next model, another dropout layer\n",
        "is added and the rate is increased."
      ],
      "metadata": {
        "id": "vEn612KNawky"
      }
    },
    {
      "cell_type": "code",
      "execution_count": null,
      "metadata": {
        "colab": {
          "base_uri": "https://localhost:8080/"
        },
        "id": "VaJ9YxDhIC9j",
        "outputId": "56aedbb1-7cba-4a09-960f-3dd696851388"
      },
      "outputs": [
        {
          "output_type": "stream",
          "name": "stderr",
          "text": [
            "WARNING:tensorflow:Using a while_loop for converting RngReadAndSkip cause there is no registered converter for this op.\n",
            "WARNING:tensorflow:Using a while_loop for converting Bitcast cause there is no registered converter for this op.\n",
            "WARNING:tensorflow:Using a while_loop for converting Bitcast cause there is no registered converter for this op.\n",
            "WARNING:tensorflow:Using a while_loop for converting StatelessRandomUniformV2 cause there is no registered converter for this op.\n",
            "WARNING:tensorflow:Using a while_loop for converting ImageProjectiveTransformV3 cause there is no registered converter for this op.\n",
            "WARNING:tensorflow:Using a while_loop for converting RngReadAndSkip cause there is no registered converter for this op.\n",
            "WARNING:tensorflow:Using a while_loop for converting Bitcast cause there is no registered converter for this op.\n",
            "WARNING:tensorflow:Using a while_loop for converting Bitcast cause there is no registered converter for this op.\n",
            "WARNING:tensorflow:Using a while_loop for converting StatelessRandomUniformV2 cause there is no registered converter for this op.\n",
            "WARNING:tensorflow:Using a while_loop for converting ImageProjectiveTransformV3 cause there is no registered converter for this op.\n",
            "WARNING:tensorflow:Using a while_loop for converting RngReadAndSkip cause there is no registered converter for this op.\n",
            "WARNING:tensorflow:Using a while_loop for converting Bitcast cause there is no registered converter for this op.\n",
            "WARNING:tensorflow:Using a while_loop for converting Bitcast cause there is no registered converter for this op.\n",
            "WARNING:tensorflow:Using a while_loop for converting StatelessRandomUniformFullIntV2 cause there is no registered converter for this op.\n",
            "WARNING:tensorflow:Using a while_loop for converting StatelessRandomGetKeyCounter cause there is no registered converter for this op.\n",
            "WARNING:tensorflow:Using a while_loop for converting StatelessRandomUniformV2 cause there is no registered converter for this op.\n"
          ]
        }
      ],
      "source": [
        "da_drop_model_2d = tf.keras.Sequential([\n",
        "\n",
        "  resize_and_rescale,\n",
        "  data_augmentation,\n",
        "    \n",
        "  layers.Conv2D(filters=32,kernel_size=3,padding=\"same\",activation=\"relu\"),\n",
        "  layers.MaxPooling2D(pool_size=2),    \n",
        "  layers.Conv2D(filters=64,kernel_size=3,padding=\"same\",activation=\"relu\"),\n",
        "  layers.MaxPooling2D(pool_size=2),\n",
        "  layers.Conv2D(filters=128,kernel_size=3,padding=\"same\",activation =\"relu\"),\n",
        "  layers.MaxPooling2D(pool_size=2),\n",
        "  layers.Dropout(.5),\n",
        "    \n",
        "  layers.Flatten(),\n",
        "\n",
        "  layers.Dense(1000,activation=\"relu\"),\n",
        "  layers.Dropout(.8),\n",
        "  layers.Dense(16,activation=\"softmax\")\n",
        "])"
      ]
    },
    {
      "cell_type": "code",
      "execution_count": null,
      "metadata": {
        "id": "6Xv0Q6SdIC9k"
      },
      "outputs": [],
      "source": [
        "da_drop_model_2d.compile(optimizer='adam',\n",
        "              loss='categorical_crossentropy',\n",
        "             metrics=['accuracy'])"
      ]
    },
    {
      "cell_type": "code",
      "execution_count": null,
      "metadata": {
        "id": "BwlZeR9wIC9k"
      },
      "outputs": [],
      "source": [
        "results = da_drop_model_2d.fit(\n",
        "    train_images, \n",
        "    train_labels_encoded,\n",
        "    epochs=300,\n",
        "validation_data=(val_images, val_labels_encoded))"
      ]
    },
    {
      "cell_type": "code",
      "execution_count": null,
      "metadata": {
        "id": "te-38p0MIC9k"
      },
      "outputs": [],
      "source": [
        "da_drop_model_2d.save('da_drop_model_2d')"
      ]
    },
    {
      "cell_type": "code",
      "source": [
        "da_drop_model_2d_clf = KerasClassifier(\n",
        "    model=da_drop_model_2d,\n",
        "    loss=\"categorical_crossentropy\",\n",
        "    fit__validation_data=(val_images, val_labels_encoded),\n",
        "    metrics=['accuracy'],\n",
        "    epochs=100\n",
        ")"
      ],
      "metadata": {
        "id": "VtnmWaLrSFI3"
      },
      "execution_count": null,
      "outputs": []
    },
    {
      "cell_type": "code",
      "source": [
        "da_drop_model_2d_clf.fit(train_images, train_labels_encoded)"
      ],
      "metadata": {
        "id": "KN8QLXo2ST1-"
      },
      "execution_count": null,
      "outputs": []
    },
    {
      "cell_type": "code",
      "source": [
        "da_drop_model_2d_clf.model_.save('/content/drive/MyDrive/Flatiron/103122/ntl01-dtsc-live-103122/temp_3/fruits-fresh-rotten/models/da_drop_model_2d_clf')"
      ],
      "metadata": {
        "id": "stSW3wJcvVBD"
      },
      "execution_count": null,
      "outputs": []
    },
    {
      "cell_type": "code",
      "source": [
        "da_drop_model_2d_clf.history_['val_accuracy'][-1]"
      ],
      "metadata": {
        "id": "5cJx4ZaQvVIb"
      },
      "execution_count": null,
      "outputs": []
    },
    {
      "cell_type": "code",
      "source": [
        "da_drop_model_2d_clf_hist = da_drop_model_2d_clf.history_"
      ],
      "metadata": {
        "id": "ho1SBFckvVRP"
      },
      "execution_count": null,
      "outputs": []
    },
    {
      "cell_type": "code",
      "source": [
        "json.dump(da_drop_model_2d_clf_hist, open('/content/drive/MyDrive/Flatiron/103122/ntl01-dtsc-live-103122/temp_3/fruits-fresh-rotten/models/da_drop_model_2d_clf/history', 'w'))"
      ],
      "metadata": {
        "id": "zA2lFxx8vVX6"
      },
      "execution_count": null,
      "outputs": []
    },
    {
      "cell_type": "code",
      "execution_count": null,
      "metadata": {
        "id": "xycSv2shIC9k"
      },
      "outputs": [],
      "source": [
        "# summarize history for accuracy\n",
        "plt.plot(da_drop_model_2d_clf.history['accuracy'])\n",
        "plt.plot(da_drop_model_2d_clf.history['val_accuracy'])\n",
        "plt.title('model accuracy')\n",
        "plt.ylabel('accuracy')\n",
        "plt.xlabel('epoch')\n",
        "plt.legend(['Train', 'Validation'], loc='upper left')\n",
        "plt.show()\n",
        "# summarize history for loss\n",
        "plt.plot(da_drop_model_2d_clf.history['loss'])\n",
        "plt.plot(da_drop_model_2d_clf.history['val_loss'])\n",
        "plt.title('model loss')\n",
        "plt.ylabel('loss')\n",
        "plt.xlabel('epoch')\n",
        "plt.legend(['Train', 'Validation'], loc='upper left')\n",
        "plt.show()"
      ]
    },
    {
      "cell_type": "markdown",
      "source": [
        "## Increasing Epochs\n",
        "\n",
        "Validation accuracy seemed to still\n",
        "be increasing and approaching accuracy,\n",
        "so more epochs are added to the next training."
      ],
      "metadata": {
        "id": "Zwx8bt3JbIDc"
      }
    },
    {
      "cell_type": "code",
      "source": [
        "da_drop_model_2d_300 = tf.keras.Sequential([\n",
        "\n",
        "  resize_and_rescale,\n",
        "  data_augmentation,\n",
        "    \n",
        "  layers.Conv2D(filters=32,kernel_size=3,padding=\"same\",activation=\"relu\"),\n",
        "  layers.MaxPooling2D(pool_size=2),    \n",
        "  layers.Conv2D(filters=64,kernel_size=3,padding=\"same\",activation=\"relu\"),\n",
        "  layers.MaxPooling2D(pool_size=2),\n",
        "  layers.Conv2D(filters=128,kernel_size=3,padding=\"same\",activation =\"relu\"),\n",
        "  layers.MaxPooling2D(pool_size=2),\n",
        "  layers.Dropout(.5),\n",
        "    \n",
        "  layers.Flatten(),\n",
        "\n",
        "  layers.Dense(1000,activation=\"relu\"),\n",
        "  layers.Dropout(.8),\n",
        "  layers.Dense(16,activation=\"softmax\")\n",
        "])"
      ],
      "metadata": {
        "colab": {
          "base_uri": "https://localhost:8080/"
        },
        "id": "SX0rCJMLysTb",
        "outputId": "b966a476-1aa2-4e64-f276-d6bdacb3f415"
      },
      "execution_count": null,
      "outputs": [
        {
          "output_type": "stream",
          "name": "stderr",
          "text": [
            "WARNING:tensorflow:Using a while_loop for converting RngReadAndSkip cause there is no registered converter for this op.\n",
            "WARNING:tensorflow:Using a while_loop for converting Bitcast cause there is no registered converter for this op.\n",
            "WARNING:tensorflow:Using a while_loop for converting Bitcast cause there is no registered converter for this op.\n",
            "WARNING:tensorflow:Using a while_loop for converting StatelessRandomUniformV2 cause there is no registered converter for this op.\n",
            "WARNING:tensorflow:Using a while_loop for converting ImageProjectiveTransformV3 cause there is no registered converter for this op.\n",
            "WARNING:tensorflow:Using a while_loop for converting RngReadAndSkip cause there is no registered converter for this op.\n",
            "WARNING:tensorflow:Using a while_loop for converting Bitcast cause there is no registered converter for this op.\n",
            "WARNING:tensorflow:Using a while_loop for converting Bitcast cause there is no registered converter for this op.\n",
            "WARNING:tensorflow:Using a while_loop for converting StatelessRandomUniformV2 cause there is no registered converter for this op.\n",
            "WARNING:tensorflow:Using a while_loop for converting ImageProjectiveTransformV3 cause there is no registered converter for this op.\n",
            "WARNING:tensorflow:Using a while_loop for converting RngReadAndSkip cause there is no registered converter for this op.\n",
            "WARNING:tensorflow:Using a while_loop for converting Bitcast cause there is no registered converter for this op.\n",
            "WARNING:tensorflow:Using a while_loop for converting Bitcast cause there is no registered converter for this op.\n",
            "WARNING:tensorflow:Using a while_loop for converting StatelessRandomUniformFullIntV2 cause there is no registered converter for this op.\n",
            "WARNING:tensorflow:Using a while_loop for converting StatelessRandomGetKeyCounter cause there is no registered converter for this op.\n",
            "WARNING:tensorflow:Using a while_loop for converting StatelessRandomUniformV2 cause there is no registered converter for this op.\n",
            "WARNING:tensorflow:Using a while_loop for converting RngReadAndSkip cause there is no registered converter for this op.\n",
            "WARNING:tensorflow:Using a while_loop for converting Bitcast cause there is no registered converter for this op.\n",
            "WARNING:tensorflow:Using a while_loop for converting Bitcast cause there is no registered converter for this op.\n",
            "WARNING:tensorflow:Using a while_loop for converting StatelessRandomUniformV2 cause there is no registered converter for this op.\n",
            "WARNING:tensorflow:Using a while_loop for converting ImageProjectiveTransformV3 cause there is no registered converter for this op.\n",
            "WARNING:tensorflow:Using a while_loop for converting RngReadAndSkip cause there is no registered converter for this op.\n",
            "WARNING:tensorflow:Using a while_loop for converting Bitcast cause there is no registered converter for this op.\n",
            "WARNING:tensorflow:Using a while_loop for converting Bitcast cause there is no registered converter for this op.\n",
            "WARNING:tensorflow:Using a while_loop for converting StatelessRandomUniformV2 cause there is no registered converter for this op.\n",
            "WARNING:tensorflow:Using a while_loop for converting ImageProjectiveTransformV3 cause there is no registered converter for this op.\n",
            "WARNING:tensorflow:Using a while_loop for converting RngReadAndSkip cause there is no registered converter for this op.\n",
            "WARNING:tensorflow:Using a while_loop for converting Bitcast cause there is no registered converter for this op.\n",
            "WARNING:tensorflow:Using a while_loop for converting Bitcast cause there is no registered converter for this op.\n",
            "WARNING:tensorflow:Using a while_loop for converting StatelessRandomUniformFullIntV2 cause there is no registered converter for this op.\n",
            "WARNING:tensorflow:Using a while_loop for converting StatelessRandomGetKeyCounter cause there is no registered converter for this op.\n",
            "WARNING:tensorflow:Using a while_loop for converting StatelessRandomUniformV2 cause there is no registered converter for this op.\n"
          ]
        }
      ]
    },
    {
      "cell_type": "code",
      "execution_count": null,
      "metadata": {
        "id": "-MNXIPKsIC9k"
      },
      "outputs": [],
      "source": [
        "da_drop_model_2d_300_clf = KerasClassifier(\n",
        "    model=da_drop_model_2d_300,\n",
        "    loss=\"categorical_crossentropy\",\n",
        "    fit__validation_data=(val_images, val_labels_encoded),\n",
        "    metrics=['accuracy'],\n",
        "    epochs=350\n",
        ")"
      ]
    },
    {
      "cell_type": "code",
      "source": [
        "da_drop_model_2d_300_clf.fit(train_images, train_labels_encoded)"
      ],
      "metadata": {
        "id": "DLNrAVj6yscN"
      },
      "execution_count": null,
      "outputs": []
    },
    {
      "cell_type": "code",
      "source": [
        "da_drop_model_2d_300_clf.model_.save('/content/drive/MyDrive/Flatiron/103122/ntl01-dtsc-live-103122/temp_3/fruits-fresh-rotten/models/da_drop_model_2d_300_clf')"
      ],
      "metadata": {
        "id": "nSBd5JsHyslt"
      },
      "execution_count": null,
      "outputs": []
    },
    {
      "cell_type": "code",
      "source": [
        "da_drop_model_2d_300_clf.history_['val_accuracy'][-1]"
      ],
      "metadata": {
        "id": "y1ENeKNbwt2K"
      },
      "execution_count": null,
      "outputs": []
    },
    {
      "cell_type": "code",
      "source": [
        "da_drop_model_2d_300_clf_hist = da_drop_model_2d_300_clf.history_"
      ],
      "metadata": {
        "id": "AGDwznhVwuBb"
      },
      "execution_count": null,
      "outputs": []
    },
    {
      "cell_type": "code",
      "source": [
        "json.dump(da_drop_model_2d_300_clf_hist, open('/content/drive/MyDrive/Flatiron/103122/ntl01-dtsc-live-103122/temp_3/fruits-fresh-rotten/models/da_drop_model_2d_300_clf/history', 'w'))"
      ],
      "metadata": {
        "id": "K4oYYOFswuLp"
      },
      "execution_count": null,
      "outputs": []
    },
    {
      "cell_type": "code",
      "source": [
        "# summarize history for accuracy\n",
        "plt.plot(da_drop_model_2d_300_clf.history_['accuracy'])\n",
        "plt.plot(da_drop_model_2d_300_clf.history_['val_accuracy'])\n",
        "plt.title('model accuracy')\n",
        "plt.ylabel('accuracy')\n",
        "plt.xlabel('epoch')\n",
        "plt.legend(['Train', 'Validation'], loc='upper left')\n",
        "plt.show()\n",
        "# summarize history for loss\n",
        "plt.plot(da_drop_model_2d_300_clf.history_['loss'])\n",
        "plt.plot(da_drop_model_2d_300_clf.history_['val_loss'])\n",
        "plt.title('model loss')\n",
        "plt.ylabel('loss')\n",
        "plt.xlabel('epoch')\n",
        "plt.legend(['Train', 'Validation'], loc='upper left')\n",
        "plt.show()"
      ],
      "metadata": {
        "id": "fBuFSQNQwuWK"
      },
      "execution_count": null,
      "outputs": []
    },
    {
      "cell_type": "markdown",
      "source": [
        "## Changing the optimizer\n",
        "\n",
        "Now are validation accuracy is much closer\n",
        "to a usable number. Next, we change the\n",
        "optimiser from rmsprop to adam and increase\n",
        "the epochs again."
      ],
      "metadata": {
        "id": "mNZv_Rf8bPv4"
      }
    },
    {
      "cell_type": "code",
      "source": [
        "da_drop_model_2d_300_a = tf.keras.Sequential([\n",
        "\n",
        "  resize_and_rescale,\n",
        "  data_augmentation,\n",
        "    \n",
        "  layers.Conv2D(filters=32,kernel_size=3,padding=\"same\",activation=\"relu\"),\n",
        "  layers.MaxPooling2D(pool_size=2),    \n",
        "  layers.Conv2D(filters=64,kernel_size=3,padding=\"same\",activation=\"relu\"),\n",
        "  layers.MaxPooling2D(pool_size=2),\n",
        "  layers.Conv2D(filters=128,kernel_size=3,padding=\"same\",activation =\"relu\"),\n",
        "  layers.MaxPooling2D(pool_size=2),\n",
        "  layers.Dropout(.5),\n",
        "    \n",
        "  layers.Flatten(),\n",
        "\n",
        "  layers.Dense(1000,activation=\"relu\"),\n",
        "  layers.Dropout(.8),\n",
        "  layers.Dense(16,activation=\"softmax\")\n",
        "])"
      ],
      "metadata": {
        "colab": {
          "base_uri": "https://localhost:8080/"
        },
        "id": "HVjqC0htBV8M",
        "outputId": "3bb2fe42-ccb9-4ab2-9cc6-f2752beaa4fe"
      },
      "execution_count": 56,
      "outputs": [
        {
          "output_type": "stream",
          "name": "stderr",
          "text": [
            "WARNING:tensorflow:Using a while_loop for converting RngReadAndSkip cause there is no registered converter for this op.\n",
            "WARNING:tensorflow:Using a while_loop for converting Bitcast cause there is no registered converter for this op.\n",
            "WARNING:tensorflow:Using a while_loop for converting Bitcast cause there is no registered converter for this op.\n",
            "WARNING:tensorflow:Using a while_loop for converting StatelessRandomUniformV2 cause there is no registered converter for this op.\n",
            "WARNING:tensorflow:Using a while_loop for converting ImageProjectiveTransformV3 cause there is no registered converter for this op.\n",
            "WARNING:tensorflow:Using a while_loop for converting RngReadAndSkip cause there is no registered converter for this op.\n",
            "WARNING:tensorflow:Using a while_loop for converting Bitcast cause there is no registered converter for this op.\n",
            "WARNING:tensorflow:Using a while_loop for converting Bitcast cause there is no registered converter for this op.\n",
            "WARNING:tensorflow:Using a while_loop for converting StatelessRandomUniformV2 cause there is no registered converter for this op.\n",
            "WARNING:tensorflow:Using a while_loop for converting ImageProjectiveTransformV3 cause there is no registered converter for this op.\n",
            "WARNING:tensorflow:Using a while_loop for converting RngReadAndSkip cause there is no registered converter for this op.\n",
            "WARNING:tensorflow:Using a while_loop for converting Bitcast cause there is no registered converter for this op.\n",
            "WARNING:tensorflow:Using a while_loop for converting Bitcast cause there is no registered converter for this op.\n",
            "WARNING:tensorflow:Using a while_loop for converting StatelessRandomUniformFullIntV2 cause there is no registered converter for this op.\n",
            "WARNING:tensorflow:Using a while_loop for converting StatelessRandomGetKeyCounter cause there is no registered converter for this op.\n",
            "WARNING:tensorflow:Using a while_loop for converting StatelessRandomUniformV2 cause there is no registered converter for this op.\n",
            "WARNING:tensorflow:Using a while_loop for converting RngReadAndSkip cause there is no registered converter for this op.\n",
            "WARNING:tensorflow:Using a while_loop for converting Bitcast cause there is no registered converter for this op.\n",
            "WARNING:tensorflow:Using a while_loop for converting Bitcast cause there is no registered converter for this op.\n",
            "WARNING:tensorflow:Using a while_loop for converting StatelessRandomUniformV2 cause there is no registered converter for this op.\n",
            "WARNING:tensorflow:Using a while_loop for converting ImageProjectiveTransformV3 cause there is no registered converter for this op.\n",
            "WARNING:tensorflow:Using a while_loop for converting RngReadAndSkip cause there is no registered converter for this op.\n",
            "WARNING:tensorflow:Using a while_loop for converting Bitcast cause there is no registered converter for this op.\n",
            "WARNING:tensorflow:Using a while_loop for converting Bitcast cause there is no registered converter for this op.\n",
            "WARNING:tensorflow:Using a while_loop for converting StatelessRandomUniformV2 cause there is no registered converter for this op.\n",
            "WARNING:tensorflow:Using a while_loop for converting ImageProjectiveTransformV3 cause there is no registered converter for this op.\n",
            "WARNING:tensorflow:Using a while_loop for converting RngReadAndSkip cause there is no registered converter for this op.\n",
            "WARNING:tensorflow:Using a while_loop for converting Bitcast cause there is no registered converter for this op.\n",
            "WARNING:tensorflow:Using a while_loop for converting Bitcast cause there is no registered converter for this op.\n",
            "WARNING:tensorflow:Using a while_loop for converting StatelessRandomUniformFullIntV2 cause there is no registered converter for this op.\n",
            "WARNING:tensorflow:Using a while_loop for converting StatelessRandomGetKeyCounter cause there is no registered converter for this op.\n",
            "WARNING:tensorflow:Using a while_loop for converting StatelessRandomUniformV2 cause there is no registered converter for this op.\n"
          ]
        }
      ]
    },
    {
      "cell_type": "code",
      "source": [
        "da_drop_model_2d_350_adam_clf = KerasClassifier(\n",
        "    model=da_drop_model_2d_300_a,\n",
        "    optimizer=\"adam\",\n",
        "    loss=\"categorical_crossentropy\",\n",
        "    fit__validation_data=(val_images, val_labels_encoded),\n",
        "    metrics=['accuracy'],\n",
        "    epochs=350\n",
        ")"
      ],
      "metadata": {
        "id": "IJveBK_O7gJZ"
      },
      "execution_count": 57,
      "outputs": []
    },
    {
      "cell_type": "code",
      "source": [
        "da_drop_model_2d_350_adam_clf.fit(train_images, train_labels_encoded)"
      ],
      "metadata": {
        "colab": {
          "base_uri": "https://localhost:8080/"
        },
        "id": "4fgTILto7gQc",
        "outputId": "644725ef-2601-4183-bb38-6bab07386d2c"
      },
      "execution_count": 58,
      "outputs": [
        {
          "output_type": "stream",
          "name": "stdout",
          "text": [
            "Epoch 1/350\n"
          ]
        },
        {
          "output_type": "stream",
          "name": "stderr",
          "text": [
            "WARNING:tensorflow:Using a while_loop for converting RngReadAndSkip cause there is no registered converter for this op.\n",
            "WARNING:tensorflow:Using a while_loop for converting Bitcast cause there is no registered converter for this op.\n",
            "WARNING:tensorflow:Using a while_loop for converting Bitcast cause there is no registered converter for this op.\n",
            "WARNING:tensorflow:Using a while_loop for converting StatelessRandomUniformV2 cause there is no registered converter for this op.\n",
            "WARNING:tensorflow:Using a while_loop for converting ImageProjectiveTransformV3 cause there is no registered converter for this op.\n",
            "WARNING:tensorflow:Using a while_loop for converting RngReadAndSkip cause there is no registered converter for this op.\n",
            "WARNING:tensorflow:Using a while_loop for converting Bitcast cause there is no registered converter for this op.\n",
            "WARNING:tensorflow:Using a while_loop for converting Bitcast cause there is no registered converter for this op.\n",
            "WARNING:tensorflow:Using a while_loop for converting StatelessRandomUniformV2 cause there is no registered converter for this op.\n",
            "WARNING:tensorflow:Using a while_loop for converting ImageProjectiveTransformV3 cause there is no registered converter for this op.\n",
            "WARNING:tensorflow:Using a while_loop for converting RngReadAndSkip cause there is no registered converter for this op.\n",
            "WARNING:tensorflow:Using a while_loop for converting Bitcast cause there is no registered converter for this op.\n",
            "WARNING:tensorflow:Using a while_loop for converting Bitcast cause there is no registered converter for this op.\n",
            "WARNING:tensorflow:Using a while_loop for converting StatelessRandomUniformFullIntV2 cause there is no registered converter for this op.\n",
            "WARNING:tensorflow:Using a while_loop for converting StatelessRandomGetKeyCounter cause there is no registered converter for this op.\n",
            "WARNING:tensorflow:Using a while_loop for converting StatelessRandomUniformV2 cause there is no registered converter for this op.\n",
            "WARNING:tensorflow:Using a while_loop for converting RngReadAndSkip cause there is no registered converter for this op.\n",
            "WARNING:tensorflow:Using a while_loop for converting Bitcast cause there is no registered converter for this op.\n",
            "WARNING:tensorflow:Using a while_loop for converting Bitcast cause there is no registered converter for this op.\n",
            "WARNING:tensorflow:Using a while_loop for converting StatelessRandomUniformV2 cause there is no registered converter for this op.\n",
            "WARNING:tensorflow:Using a while_loop for converting ImageProjectiveTransformV3 cause there is no registered converter for this op.\n",
            "WARNING:tensorflow:Using a while_loop for converting RngReadAndSkip cause there is no registered converter for this op.\n",
            "WARNING:tensorflow:Using a while_loop for converting Bitcast cause there is no registered converter for this op.\n",
            "WARNING:tensorflow:Using a while_loop for converting Bitcast cause there is no registered converter for this op.\n",
            "WARNING:tensorflow:Using a while_loop for converting StatelessRandomUniformV2 cause there is no registered converter for this op.\n",
            "WARNING:tensorflow:Using a while_loop for converting ImageProjectiveTransformV3 cause there is no registered converter for this op.\n",
            "WARNING:tensorflow:Using a while_loop for converting RngReadAndSkip cause there is no registered converter for this op.\n",
            "WARNING:tensorflow:Using a while_loop for converting Bitcast cause there is no registered converter for this op.\n",
            "WARNING:tensorflow:Using a while_loop for converting Bitcast cause there is no registered converter for this op.\n",
            "WARNING:tensorflow:Using a while_loop for converting StatelessRandomUniformFullIntV2 cause there is no registered converter for this op.\n",
            "WARNING:tensorflow:Using a while_loop for converting StatelessRandomGetKeyCounter cause there is no registered converter for this op.\n",
            "WARNING:tensorflow:Using a while_loop for converting StatelessRandomUniformV2 cause there is no registered converter for this op.\n"
          ]
        },
        {
          "output_type": "stream",
          "name": "stdout",
          "text": [
            "85/85 [==============================] - 23s 202ms/step - loss: 2.1807 - accuracy: 0.2794 - val_loss: 1.7664 - val_accuracy: 0.4062\n",
            "Epoch 2/350\n",
            "85/85 [==============================] - 17s 197ms/step - loss: 1.5230 - accuracy: 0.4743 - val_loss: 1.6820 - val_accuracy: 0.5031\n",
            "Epoch 3/350\n",
            "85/85 [==============================] - 17s 198ms/step - loss: 1.2983 - accuracy: 0.5449 - val_loss: 1.2241 - val_accuracy: 0.6062\n",
            "Epoch 4/350\n",
            "85/85 [==============================] - 17s 196ms/step - loss: 1.1423 - accuracy: 0.6103 - val_loss: 1.1703 - val_accuracy: 0.6281\n",
            "Epoch 5/350\n",
            "85/85 [==============================] - 17s 197ms/step - loss: 1.0107 - accuracy: 0.6375 - val_loss: 1.3846 - val_accuracy: 0.6438\n",
            "Epoch 6/350\n",
            "85/85 [==============================] - 17s 197ms/step - loss: 0.9046 - accuracy: 0.6904 - val_loss: 1.1209 - val_accuracy: 0.6656\n",
            "Epoch 7/350\n",
            "85/85 [==============================] - 17s 202ms/step - loss: 0.8651 - accuracy: 0.7143 - val_loss: 1.0205 - val_accuracy: 0.7281\n",
            "Epoch 8/350\n",
            "85/85 [==============================] - 17s 202ms/step - loss: 0.7702 - accuracy: 0.7445 - val_loss: 0.9627 - val_accuracy: 0.6938\n",
            "Epoch 9/350\n",
            "85/85 [==============================] - 17s 204ms/step - loss: 0.7435 - accuracy: 0.7577 - val_loss: 0.8401 - val_accuracy: 0.7500\n",
            "Epoch 10/350\n",
            "85/85 [==============================] - 17s 201ms/step - loss: 0.6377 - accuracy: 0.7864 - val_loss: 1.0784 - val_accuracy: 0.6969\n",
            "Epoch 11/350\n",
            "85/85 [==============================] - 17s 202ms/step - loss: 0.6496 - accuracy: 0.7809 - val_loss: 1.1803 - val_accuracy: 0.7031\n",
            "Epoch 12/350\n",
            "85/85 [==============================] - 17s 204ms/step - loss: 0.6060 - accuracy: 0.7893 - val_loss: 1.1042 - val_accuracy: 0.6938\n",
            "Epoch 13/350\n",
            "85/85 [==============================] - 17s 204ms/step - loss: 0.6643 - accuracy: 0.7827 - val_loss: 0.9328 - val_accuracy: 0.7250\n",
            "Epoch 14/350\n",
            "85/85 [==============================] - 17s 198ms/step - loss: 0.5710 - accuracy: 0.8040 - val_loss: 0.8028 - val_accuracy: 0.7937\n",
            "Epoch 15/350\n",
            "85/85 [==============================] - 17s 198ms/step - loss: 0.5618 - accuracy: 0.8055 - val_loss: 0.6619 - val_accuracy: 0.8156\n",
            "Epoch 16/350\n",
            "85/85 [==============================] - 17s 201ms/step - loss: 0.5351 - accuracy: 0.8272 - val_loss: 0.7814 - val_accuracy: 0.7844\n",
            "Epoch 17/350\n",
            "85/85 [==============================] - 17s 201ms/step - loss: 0.5118 - accuracy: 0.8324 - val_loss: 0.6692 - val_accuracy: 0.7937\n",
            "Epoch 18/350\n",
            "85/85 [==============================] - 17s 198ms/step - loss: 0.4917 - accuracy: 0.8283 - val_loss: 1.0143 - val_accuracy: 0.7563\n",
            "Epoch 19/350\n",
            "85/85 [==============================] - 17s 200ms/step - loss: 0.4669 - accuracy: 0.8463 - val_loss: 0.8634 - val_accuracy: 0.7719\n",
            "Epoch 20/350\n",
            "85/85 [==============================] - 17s 203ms/step - loss: 0.4214 - accuracy: 0.8537 - val_loss: 0.7273 - val_accuracy: 0.7844\n",
            "Epoch 21/350\n",
            "85/85 [==============================] - 17s 199ms/step - loss: 0.4556 - accuracy: 0.8614 - val_loss: 0.8258 - val_accuracy: 0.7875\n",
            "Epoch 22/350\n",
            "85/85 [==============================] - 17s 202ms/step - loss: 0.4081 - accuracy: 0.8607 - val_loss: 0.6321 - val_accuracy: 0.8094\n",
            "Epoch 23/350\n",
            "85/85 [==============================] - 17s 198ms/step - loss: 0.4631 - accuracy: 0.8478 - val_loss: 0.5853 - val_accuracy: 0.8344\n",
            "Epoch 24/350\n",
            "85/85 [==============================] - 17s 201ms/step - loss: 0.4597 - accuracy: 0.8426 - val_loss: 0.7886 - val_accuracy: 0.7844\n",
            "Epoch 25/350\n",
            "85/85 [==============================] - 17s 199ms/step - loss: 0.4442 - accuracy: 0.8603 - val_loss: 0.5857 - val_accuracy: 0.8188\n",
            "Epoch 26/350\n",
            "85/85 [==============================] - 17s 204ms/step - loss: 0.4326 - accuracy: 0.8529 - val_loss: 0.7369 - val_accuracy: 0.7906\n",
            "Epoch 27/350\n",
            "85/85 [==============================] - 17s 201ms/step - loss: 0.4451 - accuracy: 0.8515 - val_loss: 0.6257 - val_accuracy: 0.8188\n",
            "Epoch 28/350\n",
            "85/85 [==============================] - 17s 199ms/step - loss: 0.3909 - accuracy: 0.8643 - val_loss: 1.2393 - val_accuracy: 0.7437\n",
            "Epoch 29/350\n",
            "85/85 [==============================] - 17s 198ms/step - loss: 0.3937 - accuracy: 0.8680 - val_loss: 0.8604 - val_accuracy: 0.8000\n",
            "Epoch 30/350\n",
            "85/85 [==============================] - 17s 200ms/step - loss: 0.3881 - accuracy: 0.8743 - val_loss: 0.6669 - val_accuracy: 0.8156\n",
            "Epoch 31/350\n",
            "85/85 [==============================] - 17s 201ms/step - loss: 0.3569 - accuracy: 0.8857 - val_loss: 0.6540 - val_accuracy: 0.8344\n",
            "Epoch 32/350\n",
            "85/85 [==============================] - 17s 200ms/step - loss: 0.3680 - accuracy: 0.8805 - val_loss: 0.7384 - val_accuracy: 0.8219\n",
            "Epoch 33/350\n",
            "85/85 [==============================] - 17s 200ms/step - loss: 0.3275 - accuracy: 0.8952 - val_loss: 0.4460 - val_accuracy: 0.8750\n",
            "Epoch 34/350\n",
            "85/85 [==============================] - 17s 201ms/step - loss: 0.3489 - accuracy: 0.8882 - val_loss: 0.4353 - val_accuracy: 0.8500\n",
            "Epoch 35/350\n",
            "85/85 [==============================] - 17s 199ms/step - loss: 0.3410 - accuracy: 0.8908 - val_loss: 0.3655 - val_accuracy: 0.8813\n",
            "Epoch 36/350\n",
            "85/85 [==============================] - 17s 199ms/step - loss: 0.3459 - accuracy: 0.8842 - val_loss: 0.2470 - val_accuracy: 0.9250\n",
            "Epoch 37/350\n",
            "85/85 [==============================] - 17s 200ms/step - loss: 0.3662 - accuracy: 0.8779 - val_loss: 0.5843 - val_accuracy: 0.8281\n",
            "Epoch 38/350\n",
            "85/85 [==============================] - 17s 204ms/step - loss: 0.3053 - accuracy: 0.9007 - val_loss: 0.4277 - val_accuracy: 0.8750\n",
            "Epoch 39/350\n",
            "85/85 [==============================] - 17s 201ms/step - loss: 0.3295 - accuracy: 0.8949 - val_loss: 0.3670 - val_accuracy: 0.8656\n",
            "Epoch 40/350\n",
            "85/85 [==============================] - 17s 198ms/step - loss: 0.3309 - accuracy: 0.8919 - val_loss: 0.2984 - val_accuracy: 0.8844\n",
            "Epoch 41/350\n",
            "85/85 [==============================] - 17s 198ms/step - loss: 0.2869 - accuracy: 0.9055 - val_loss: 0.4650 - val_accuracy: 0.8656\n",
            "Epoch 42/350\n",
            "85/85 [==============================] - 17s 198ms/step - loss: 0.2561 - accuracy: 0.9187 - val_loss: 0.4920 - val_accuracy: 0.8625\n",
            "Epoch 43/350\n",
            "85/85 [==============================] - 17s 199ms/step - loss: 0.2949 - accuracy: 0.9033 - val_loss: 0.3877 - val_accuracy: 0.8906\n",
            "Epoch 44/350\n",
            "85/85 [==============================] - 17s 197ms/step - loss: 0.3148 - accuracy: 0.9004 - val_loss: 0.6674 - val_accuracy: 0.8313\n",
            "Epoch 45/350\n",
            "85/85 [==============================] - 17s 197ms/step - loss: 0.2971 - accuracy: 0.9004 - val_loss: 0.2916 - val_accuracy: 0.9187\n",
            "Epoch 46/350\n",
            "85/85 [==============================] - 17s 197ms/step - loss: 0.3163 - accuracy: 0.8941 - val_loss: 0.3101 - val_accuracy: 0.8875\n",
            "Epoch 47/350\n",
            "85/85 [==============================] - 17s 201ms/step - loss: 0.2821 - accuracy: 0.9070 - val_loss: 0.5683 - val_accuracy: 0.8500\n",
            "Epoch 48/350\n",
            "85/85 [==============================] - 17s 198ms/step - loss: 0.2667 - accuracy: 0.9129 - val_loss: 0.4124 - val_accuracy: 0.8813\n",
            "Epoch 49/350\n",
            "85/85 [==============================] - 17s 200ms/step - loss: 0.2806 - accuracy: 0.9070 - val_loss: 0.4426 - val_accuracy: 0.8906\n",
            "Epoch 50/350\n",
            "85/85 [==============================] - 17s 204ms/step - loss: 0.2875 - accuracy: 0.9055 - val_loss: 0.3460 - val_accuracy: 0.9000\n",
            "Epoch 51/350\n",
            "85/85 [==============================] - 17s 200ms/step - loss: 0.2375 - accuracy: 0.9129 - val_loss: 0.3256 - val_accuracy: 0.9000\n",
            "Epoch 52/350\n",
            "85/85 [==============================] - 17s 202ms/step - loss: 0.2531 - accuracy: 0.9107 - val_loss: 0.3081 - val_accuracy: 0.9312\n",
            "Epoch 53/350\n",
            "85/85 [==============================] - 17s 199ms/step - loss: 0.3512 - accuracy: 0.8926 - val_loss: 0.2933 - val_accuracy: 0.9250\n",
            "Epoch 54/350\n",
            "85/85 [==============================] - 17s 203ms/step - loss: 0.3901 - accuracy: 0.8757 - val_loss: 0.3603 - val_accuracy: 0.9094\n",
            "Epoch 55/350\n",
            "85/85 [==============================] - 17s 201ms/step - loss: 0.2927 - accuracy: 0.9000 - val_loss: 0.4968 - val_accuracy: 0.8625\n",
            "Epoch 56/350\n",
            "85/85 [==============================] - 17s 201ms/step - loss: 0.2605 - accuracy: 0.9162 - val_loss: 0.3397 - val_accuracy: 0.9156\n",
            "Epoch 57/350\n",
            "85/85 [==============================] - 17s 200ms/step - loss: 0.2512 - accuracy: 0.9195 - val_loss: 0.4512 - val_accuracy: 0.8938\n",
            "Epoch 58/350\n",
            "85/85 [==============================] - 17s 198ms/step - loss: 0.2657 - accuracy: 0.9099 - val_loss: 0.2865 - val_accuracy: 0.9031\n",
            "Epoch 59/350\n",
            "85/85 [==============================] - 17s 198ms/step - loss: 0.2492 - accuracy: 0.9191 - val_loss: 0.3444 - val_accuracy: 0.9000\n",
            "Epoch 60/350\n",
            "85/85 [==============================] - 17s 198ms/step - loss: 0.2400 - accuracy: 0.9199 - val_loss: 0.2531 - val_accuracy: 0.9281\n",
            "Epoch 61/350\n",
            "85/85 [==============================] - 17s 199ms/step - loss: 0.2769 - accuracy: 0.9147 - val_loss: 0.7232 - val_accuracy: 0.8531\n",
            "Epoch 62/350\n",
            "85/85 [==============================] - 17s 198ms/step - loss: 0.2705 - accuracy: 0.9085 - val_loss: 0.2818 - val_accuracy: 0.9156\n",
            "Epoch 63/350\n",
            "85/85 [==============================] - 17s 198ms/step - loss: 0.2211 - accuracy: 0.9283 - val_loss: 0.4591 - val_accuracy: 0.8813\n",
            "Epoch 64/350\n",
            "85/85 [==============================] - 17s 197ms/step - loss: 0.3121 - accuracy: 0.9051 - val_loss: 0.3603 - val_accuracy: 0.8938\n",
            "Epoch 65/350\n",
            "85/85 [==============================] - 17s 198ms/step - loss: 0.2497 - accuracy: 0.9199 - val_loss: 0.4668 - val_accuracy: 0.8469\n",
            "Epoch 66/350\n",
            "85/85 [==============================] - 17s 197ms/step - loss: 0.2173 - accuracy: 0.9305 - val_loss: 0.4014 - val_accuracy: 0.9125\n",
            "Epoch 67/350\n",
            "85/85 [==============================] - 17s 199ms/step - loss: 0.2480 - accuracy: 0.9239 - val_loss: 0.2970 - val_accuracy: 0.9062\n",
            "Epoch 68/350\n",
            "85/85 [==============================] - 17s 203ms/step - loss: 0.2251 - accuracy: 0.9301 - val_loss: 0.3644 - val_accuracy: 0.9094\n",
            "Epoch 69/350\n",
            "85/85 [==============================] - 17s 200ms/step - loss: 0.2083 - accuracy: 0.9312 - val_loss: 0.4021 - val_accuracy: 0.8938\n",
            "Epoch 70/350\n",
            "85/85 [==============================] - 17s 201ms/step - loss: 0.2221 - accuracy: 0.9320 - val_loss: 0.3779 - val_accuracy: 0.9187\n",
            "Epoch 71/350\n",
            "85/85 [==============================] - 17s 201ms/step - loss: 0.2122 - accuracy: 0.9276 - val_loss: 0.3426 - val_accuracy: 0.9094\n",
            "Epoch 72/350\n",
            "85/85 [==============================] - 17s 204ms/step - loss: 0.2177 - accuracy: 0.9312 - val_loss: 0.2057 - val_accuracy: 0.9375\n",
            "Epoch 73/350\n",
            "85/85 [==============================] - 17s 198ms/step - loss: 0.2601 - accuracy: 0.9199 - val_loss: 0.4369 - val_accuracy: 0.9156\n",
            "Epoch 74/350\n",
            "85/85 [==============================] - 17s 199ms/step - loss: 0.2689 - accuracy: 0.9136 - val_loss: 0.4355 - val_accuracy: 0.8969\n",
            "Epoch 75/350\n",
            "85/85 [==============================] - 17s 205ms/step - loss: 0.2524 - accuracy: 0.9180 - val_loss: 0.4105 - val_accuracy: 0.9062\n",
            "Epoch 76/350\n",
            "85/85 [==============================] - 17s 199ms/step - loss: 0.2232 - accuracy: 0.9261 - val_loss: 0.6550 - val_accuracy: 0.8656\n",
            "Epoch 77/350\n",
            "85/85 [==============================] - 17s 198ms/step - loss: 0.2032 - accuracy: 0.9331 - val_loss: 0.3527 - val_accuracy: 0.9062\n",
            "Epoch 78/350\n",
            "85/85 [==============================] - 17s 199ms/step - loss: 0.2112 - accuracy: 0.9294 - val_loss: 0.3585 - val_accuracy: 0.9125\n",
            "Epoch 79/350\n",
            "85/85 [==============================] - 17s 197ms/step - loss: 0.2053 - accuracy: 0.9371 - val_loss: 0.3610 - val_accuracy: 0.9156\n",
            "Epoch 80/350\n",
            "85/85 [==============================] - 17s 200ms/step - loss: 0.2068 - accuracy: 0.9287 - val_loss: 0.3635 - val_accuracy: 0.9250\n",
            "Epoch 81/350\n",
            "85/85 [==============================] - 17s 198ms/step - loss: 0.2284 - accuracy: 0.9191 - val_loss: 0.7967 - val_accuracy: 0.8438\n",
            "Epoch 82/350\n",
            "85/85 [==============================] - 17s 198ms/step - loss: 0.2957 - accuracy: 0.9088 - val_loss: 0.2248 - val_accuracy: 0.9406\n",
            "Epoch 83/350\n",
            "85/85 [==============================] - 17s 197ms/step - loss: 0.1805 - accuracy: 0.9423 - val_loss: 0.4575 - val_accuracy: 0.8938\n",
            "Epoch 84/350\n",
            "85/85 [==============================] - 17s 197ms/step - loss: 0.1731 - accuracy: 0.9445 - val_loss: 0.2269 - val_accuracy: 0.9250\n",
            "Epoch 85/350\n",
            "85/85 [==============================] - 17s 198ms/step - loss: 0.1854 - accuracy: 0.9423 - val_loss: 0.5755 - val_accuracy: 0.8781\n",
            "Epoch 86/350\n",
            "85/85 [==============================] - 17s 197ms/step - loss: 0.1739 - accuracy: 0.9449 - val_loss: 0.3100 - val_accuracy: 0.9000\n",
            "Epoch 87/350\n",
            "85/85 [==============================] - 17s 197ms/step - loss: 0.2101 - accuracy: 0.9335 - val_loss: 0.9436 - val_accuracy: 0.7969\n",
            "Epoch 88/350\n",
            "85/85 [==============================] - 17s 199ms/step - loss: 0.2158 - accuracy: 0.9327 - val_loss: 0.3528 - val_accuracy: 0.9281\n",
            "Epoch 89/350\n",
            "85/85 [==============================] - 17s 199ms/step - loss: 0.1788 - accuracy: 0.9441 - val_loss: 0.7747 - val_accuracy: 0.8281\n",
            "Epoch 90/350\n",
            "85/85 [==============================] - 17s 196ms/step - loss: 0.2199 - accuracy: 0.9324 - val_loss: 0.4391 - val_accuracy: 0.9125\n",
            "Epoch 91/350\n",
            "85/85 [==============================] - 17s 196ms/step - loss: 0.2292 - accuracy: 0.9239 - val_loss: 0.2156 - val_accuracy: 0.9312\n",
            "Epoch 92/350\n",
            "85/85 [==============================] - 17s 198ms/step - loss: 0.1906 - accuracy: 0.9382 - val_loss: 0.4044 - val_accuracy: 0.9187\n",
            "Epoch 93/350\n",
            "85/85 [==============================] - 17s 196ms/step - loss: 0.2925 - accuracy: 0.9129 - val_loss: 0.2293 - val_accuracy: 0.9438\n",
            "Epoch 94/350\n",
            "85/85 [==============================] - 17s 196ms/step - loss: 0.2013 - accuracy: 0.9342 - val_loss: 0.2362 - val_accuracy: 0.9438\n",
            "Epoch 95/350\n",
            "85/85 [==============================] - 17s 200ms/step - loss: 0.2103 - accuracy: 0.9364 - val_loss: 0.2574 - val_accuracy: 0.9187\n",
            "Epoch 96/350\n",
            "85/85 [==============================] - 17s 198ms/step - loss: 0.2246 - accuracy: 0.9335 - val_loss: 0.2682 - val_accuracy: 0.9187\n",
            "Epoch 97/350\n",
            "85/85 [==============================] - 17s 199ms/step - loss: 0.2055 - accuracy: 0.9368 - val_loss: 0.2693 - val_accuracy: 0.9469\n",
            "Epoch 98/350\n",
            "85/85 [==============================] - 17s 200ms/step - loss: 0.1636 - accuracy: 0.9460 - val_loss: 0.2906 - val_accuracy: 0.9406\n",
            "Epoch 99/350\n",
            "85/85 [==============================] - 17s 198ms/step - loss: 0.1578 - accuracy: 0.9522 - val_loss: 0.3150 - val_accuracy: 0.9219\n",
            "Epoch 100/350\n",
            "85/85 [==============================] - 17s 197ms/step - loss: 0.1581 - accuracy: 0.9485 - val_loss: 0.5237 - val_accuracy: 0.9125\n",
            "Epoch 101/350\n",
            "85/85 [==============================] - 17s 197ms/step - loss: 0.1642 - accuracy: 0.9445 - val_loss: 0.3241 - val_accuracy: 0.9406\n",
            "Epoch 102/350\n",
            "85/85 [==============================] - 17s 199ms/step - loss: 0.1646 - accuracy: 0.9467 - val_loss: 0.3828 - val_accuracy: 0.9250\n",
            "Epoch 103/350\n",
            "85/85 [==============================] - 17s 197ms/step - loss: 0.1883 - accuracy: 0.9364 - val_loss: 0.4035 - val_accuracy: 0.9156\n",
            "Epoch 104/350\n",
            "85/85 [==============================] - 17s 197ms/step - loss: 0.1785 - accuracy: 0.9460 - val_loss: 0.3948 - val_accuracy: 0.9094\n",
            "Epoch 105/350\n",
            "85/85 [==============================] - 17s 198ms/step - loss: 0.1727 - accuracy: 0.9471 - val_loss: 0.4306 - val_accuracy: 0.8969\n",
            "Epoch 106/350\n",
            "85/85 [==============================] - 17s 197ms/step - loss: 0.1838 - accuracy: 0.9412 - val_loss: 0.3636 - val_accuracy: 0.9219\n",
            "Epoch 107/350\n",
            "85/85 [==============================] - 17s 197ms/step - loss: 0.1915 - accuracy: 0.9415 - val_loss: 0.6121 - val_accuracy: 0.8656\n",
            "Epoch 108/350\n",
            "85/85 [==============================] - 17s 198ms/step - loss: 0.2059 - accuracy: 0.9368 - val_loss: 0.2697 - val_accuracy: 0.9563\n",
            "Epoch 109/350\n",
            "85/85 [==============================] - 17s 198ms/step - loss: 0.1807 - accuracy: 0.9397 - val_loss: 0.4452 - val_accuracy: 0.9312\n",
            "Epoch 110/350\n",
            "85/85 [==============================] - 17s 197ms/step - loss: 0.2082 - accuracy: 0.9357 - val_loss: 0.4067 - val_accuracy: 0.9219\n",
            "Epoch 111/350\n",
            "85/85 [==============================] - 17s 197ms/step - loss: 0.1776 - accuracy: 0.9449 - val_loss: 0.4570 - val_accuracy: 0.9094\n",
            "Epoch 112/350\n",
            "85/85 [==============================] - 17s 197ms/step - loss: 0.1721 - accuracy: 0.9460 - val_loss: 0.5004 - val_accuracy: 0.9062\n",
            "Epoch 113/350\n",
            "85/85 [==============================] - 17s 197ms/step - loss: 0.1735 - accuracy: 0.9438 - val_loss: 0.4581 - val_accuracy: 0.9312\n",
            "Epoch 114/350\n",
            "85/85 [==============================] - 17s 197ms/step - loss: 0.2401 - accuracy: 0.9320 - val_loss: 0.4052 - val_accuracy: 0.9281\n",
            "Epoch 115/350\n",
            "85/85 [==============================] - 17s 197ms/step - loss: 0.2185 - accuracy: 0.9408 - val_loss: 0.3255 - val_accuracy: 0.9438\n",
            "Epoch 116/350\n",
            "85/85 [==============================] - 17s 199ms/step - loss: 0.1916 - accuracy: 0.9445 - val_loss: 0.5455 - val_accuracy: 0.9156\n",
            "Epoch 117/350\n",
            "85/85 [==============================] - 17s 198ms/step - loss: 0.1710 - accuracy: 0.9438 - val_loss: 0.4011 - val_accuracy: 0.9156\n",
            "Epoch 118/350\n",
            "85/85 [==============================] - 17s 197ms/step - loss: 0.1604 - accuracy: 0.9507 - val_loss: 0.6148 - val_accuracy: 0.8875\n",
            "Epoch 119/350\n",
            "85/85 [==============================] - 17s 198ms/step - loss: 0.1706 - accuracy: 0.9401 - val_loss: 0.6912 - val_accuracy: 0.8875\n",
            "Epoch 120/350\n",
            "85/85 [==============================] - 17s 197ms/step - loss: 0.1897 - accuracy: 0.9415 - val_loss: 0.3907 - val_accuracy: 0.9469\n",
            "Epoch 121/350\n",
            "85/85 [==============================] - 17s 196ms/step - loss: 0.1815 - accuracy: 0.9426 - val_loss: 0.6001 - val_accuracy: 0.9062\n",
            "Epoch 122/350\n",
            "85/85 [==============================] - 17s 197ms/step - loss: 0.2953 - accuracy: 0.9217 - val_loss: 0.8022 - val_accuracy: 0.8781\n",
            "Epoch 123/350\n",
            "85/85 [==============================] - 17s 197ms/step - loss: 0.1903 - accuracy: 0.9364 - val_loss: 0.4997 - val_accuracy: 0.9219\n",
            "Epoch 124/350\n",
            "85/85 [==============================] - 17s 196ms/step - loss: 0.1690 - accuracy: 0.9452 - val_loss: 0.3947 - val_accuracy: 0.9250\n",
            "Epoch 125/350\n",
            "85/85 [==============================] - 17s 196ms/step - loss: 0.1275 - accuracy: 0.9577 - val_loss: 0.3666 - val_accuracy: 0.9469\n",
            "Epoch 126/350\n",
            "85/85 [==============================] - 17s 198ms/step - loss: 0.1600 - accuracy: 0.9496 - val_loss: 0.4840 - val_accuracy: 0.9062\n",
            "Epoch 127/350\n",
            "85/85 [==============================] - 17s 197ms/step - loss: 0.1746 - accuracy: 0.9419 - val_loss: 0.5136 - val_accuracy: 0.9250\n",
            "Epoch 128/350\n",
            "85/85 [==============================] - 17s 197ms/step - loss: 0.2297 - accuracy: 0.9346 - val_loss: 0.4366 - val_accuracy: 0.9312\n",
            "Epoch 129/350\n",
            "85/85 [==============================] - 17s 200ms/step - loss: 0.1872 - accuracy: 0.9423 - val_loss: 0.6028 - val_accuracy: 0.8875\n",
            "Epoch 130/350\n",
            "85/85 [==============================] - 17s 197ms/step - loss: 0.1541 - accuracy: 0.9555 - val_loss: 0.4628 - val_accuracy: 0.9406\n",
            "Epoch 131/350\n",
            "85/85 [==============================] - 17s 197ms/step - loss: 0.1368 - accuracy: 0.9544 - val_loss: 0.3537 - val_accuracy: 0.9469\n",
            "Epoch 132/350\n",
            "85/85 [==============================] - 17s 197ms/step - loss: 0.1348 - accuracy: 0.9544 - val_loss: 0.4957 - val_accuracy: 0.9438\n",
            "Epoch 133/350\n",
            "85/85 [==============================] - 17s 198ms/step - loss: 0.1695 - accuracy: 0.9430 - val_loss: 0.5617 - val_accuracy: 0.9250\n",
            "Epoch 134/350\n",
            "85/85 [==============================] - 17s 197ms/step - loss: 0.1687 - accuracy: 0.9460 - val_loss: 0.3901 - val_accuracy: 0.9469\n",
            "Epoch 135/350\n",
            "85/85 [==============================] - 17s 199ms/step - loss: 0.1285 - accuracy: 0.9596 - val_loss: 0.5166 - val_accuracy: 0.9125\n",
            "Epoch 136/350\n",
            "85/85 [==============================] - 17s 198ms/step - loss: 0.1438 - accuracy: 0.9529 - val_loss: 0.3737 - val_accuracy: 0.9375\n",
            "Epoch 137/350\n",
            "85/85 [==============================] - 17s 197ms/step - loss: 0.1364 - accuracy: 0.9570 - val_loss: 0.3736 - val_accuracy: 0.9375\n",
            "Epoch 138/350\n",
            "85/85 [==============================] - 17s 197ms/step - loss: 0.1190 - accuracy: 0.9614 - val_loss: 0.2191 - val_accuracy: 0.9438\n",
            "Epoch 139/350\n",
            "85/85 [==============================] - 17s 197ms/step - loss: 0.1218 - accuracy: 0.9636 - val_loss: 0.4559 - val_accuracy: 0.9563\n",
            "Epoch 140/350\n",
            "85/85 [==============================] - 17s 198ms/step - loss: 0.1302 - accuracy: 0.9596 - val_loss: 0.6876 - val_accuracy: 0.9156\n",
            "Epoch 141/350\n",
            "85/85 [==============================] - 17s 197ms/step - loss: 0.1723 - accuracy: 0.9493 - val_loss: 0.3819 - val_accuracy: 0.9281\n",
            "Epoch 142/350\n",
            "85/85 [==============================] - 17s 197ms/step - loss: 0.1724 - accuracy: 0.9515 - val_loss: 0.4739 - val_accuracy: 0.9250\n",
            "Epoch 143/350\n",
            "85/85 [==============================] - 17s 199ms/step - loss: 0.1636 - accuracy: 0.9474 - val_loss: 0.4523 - val_accuracy: 0.9406\n",
            "Epoch 144/350\n",
            "85/85 [==============================] - 17s 197ms/step - loss: 0.2007 - accuracy: 0.9393 - val_loss: 0.3387 - val_accuracy: 0.9375\n",
            "Epoch 145/350\n",
            "85/85 [==============================] - 17s 197ms/step - loss: 0.1619 - accuracy: 0.9500 - val_loss: 0.5488 - val_accuracy: 0.9187\n",
            "Epoch 146/350\n",
            "85/85 [==============================] - 17s 198ms/step - loss: 0.2006 - accuracy: 0.9404 - val_loss: 0.4576 - val_accuracy: 0.9375\n",
            "Epoch 147/350\n",
            "85/85 [==============================] - 17s 197ms/step - loss: 0.1630 - accuracy: 0.9478 - val_loss: 0.3319 - val_accuracy: 0.9469\n",
            "Epoch 148/350\n",
            "85/85 [==============================] - 17s 197ms/step - loss: 0.1410 - accuracy: 0.9566 - val_loss: 0.4427 - val_accuracy: 0.9438\n",
            "Epoch 149/350\n",
            "85/85 [==============================] - 17s 196ms/step - loss: 0.1708 - accuracy: 0.9540 - val_loss: 0.3980 - val_accuracy: 0.9312\n",
            "Epoch 150/350\n",
            "85/85 [==============================] - 17s 198ms/step - loss: 0.1670 - accuracy: 0.9489 - val_loss: 0.4487 - val_accuracy: 0.9344\n",
            "Epoch 151/350\n",
            "85/85 [==============================] - 17s 196ms/step - loss: 0.1678 - accuracy: 0.9540 - val_loss: 0.6493 - val_accuracy: 0.9062\n",
            "Epoch 152/350\n",
            "85/85 [==============================] - 17s 197ms/step - loss: 0.1687 - accuracy: 0.9423 - val_loss: 0.3691 - val_accuracy: 0.9406\n",
            "Epoch 153/350\n",
            "85/85 [==============================] - 17s 199ms/step - loss: 0.1134 - accuracy: 0.9665 - val_loss: 0.4706 - val_accuracy: 0.9281\n",
            "Epoch 154/350\n",
            "85/85 [==============================] - 17s 199ms/step - loss: 0.1715 - accuracy: 0.9467 - val_loss: 0.4979 - val_accuracy: 0.9219\n",
            "Epoch 155/350\n",
            "85/85 [==============================] - 17s 197ms/step - loss: 0.1421 - accuracy: 0.9592 - val_loss: 0.3841 - val_accuracy: 0.9312\n",
            "Epoch 156/350\n",
            "85/85 [==============================] - 17s 199ms/step - loss: 0.2293 - accuracy: 0.9320 - val_loss: 0.5102 - val_accuracy: 0.9219\n",
            "Epoch 157/350\n",
            "85/85 [==============================] - 17s 200ms/step - loss: 0.1829 - accuracy: 0.9460 - val_loss: 0.4100 - val_accuracy: 0.9406\n",
            "Epoch 158/350\n",
            "85/85 [==============================] - 17s 198ms/step - loss: 0.1340 - accuracy: 0.9596 - val_loss: 0.3580 - val_accuracy: 0.9375\n",
            "Epoch 159/350\n",
            "85/85 [==============================] - 17s 197ms/step - loss: 0.1121 - accuracy: 0.9640 - val_loss: 0.4094 - val_accuracy: 0.9375\n",
            "Epoch 160/350\n",
            "85/85 [==============================] - 17s 198ms/step - loss: 0.1470 - accuracy: 0.9581 - val_loss: 0.4737 - val_accuracy: 0.9375\n",
            "Epoch 161/350\n",
            "85/85 [==============================] - 17s 198ms/step - loss: 0.1511 - accuracy: 0.9515 - val_loss: 0.4372 - val_accuracy: 0.9219\n",
            "Epoch 162/350\n",
            "85/85 [==============================] - 17s 198ms/step - loss: 0.1711 - accuracy: 0.9548 - val_loss: 0.6864 - val_accuracy: 0.8844\n",
            "Epoch 163/350\n",
            "85/85 [==============================] - 17s 199ms/step - loss: 0.1472 - accuracy: 0.9540 - val_loss: 0.4480 - val_accuracy: 0.9344\n",
            "Epoch 164/350\n",
            "85/85 [==============================] - 17s 197ms/step - loss: 0.1373 - accuracy: 0.9592 - val_loss: 0.3686 - val_accuracy: 0.9406\n",
            "Epoch 165/350\n",
            "85/85 [==============================] - 17s 198ms/step - loss: 0.1571 - accuracy: 0.9471 - val_loss: 0.5977 - val_accuracy: 0.9219\n",
            "Epoch 166/350\n",
            "85/85 [==============================] - 17s 198ms/step - loss: 0.1778 - accuracy: 0.9423 - val_loss: 0.5300 - val_accuracy: 0.9219\n",
            "Epoch 167/350\n",
            "85/85 [==============================] - 17s 198ms/step - loss: 0.1673 - accuracy: 0.9533 - val_loss: 0.3540 - val_accuracy: 0.9406\n",
            "Epoch 168/350\n",
            "85/85 [==============================] - 17s 198ms/step - loss: 0.1417 - accuracy: 0.9559 - val_loss: 0.3240 - val_accuracy: 0.9344\n",
            "Epoch 169/350\n",
            "85/85 [==============================] - 17s 197ms/step - loss: 0.1226 - accuracy: 0.9570 - val_loss: 0.4651 - val_accuracy: 0.9469\n",
            "Epoch 170/350\n",
            "85/85 [==============================] - 17s 200ms/step - loss: 0.1559 - accuracy: 0.9581 - val_loss: 0.7596 - val_accuracy: 0.9375\n",
            "Epoch 171/350\n",
            "85/85 [==============================] - 17s 197ms/step - loss: 0.1514 - accuracy: 0.9518 - val_loss: 0.5042 - val_accuracy: 0.9187\n",
            "Epoch 172/350\n",
            "85/85 [==============================] - 17s 199ms/step - loss: 0.2363 - accuracy: 0.9386 - val_loss: 0.7144 - val_accuracy: 0.8969\n",
            "Epoch 173/350\n",
            "85/85 [==============================] - 17s 197ms/step - loss: 0.1894 - accuracy: 0.9426 - val_loss: 0.4399 - val_accuracy: 0.9125\n",
            "Epoch 174/350\n",
            "85/85 [==============================] - 17s 197ms/step - loss: 0.1448 - accuracy: 0.9529 - val_loss: 0.3364 - val_accuracy: 0.9500\n",
            "Epoch 175/350\n",
            "85/85 [==============================] - 17s 197ms/step - loss: 0.1366 - accuracy: 0.9518 - val_loss: 0.3537 - val_accuracy: 0.9156\n",
            "Epoch 176/350\n",
            "85/85 [==============================] - 17s 198ms/step - loss: 0.1287 - accuracy: 0.9577 - val_loss: 0.2972 - val_accuracy: 0.9375\n",
            "Epoch 177/350\n",
            "85/85 [==============================] - 17s 198ms/step - loss: 0.1894 - accuracy: 0.9441 - val_loss: 0.5358 - val_accuracy: 0.9406\n",
            "Epoch 178/350\n",
            "85/85 [==============================] - 17s 199ms/step - loss: 0.1535 - accuracy: 0.9507 - val_loss: 1.0256 - val_accuracy: 0.8656\n",
            "Epoch 179/350\n",
            "85/85 [==============================] - 17s 200ms/step - loss: 0.1856 - accuracy: 0.9489 - val_loss: 0.3003 - val_accuracy: 0.9375\n",
            "Epoch 180/350\n",
            "85/85 [==============================] - 17s 201ms/step - loss: 0.1061 - accuracy: 0.9680 - val_loss: 0.2980 - val_accuracy: 0.9594\n",
            "Epoch 181/350\n",
            "85/85 [==============================] - 17s 200ms/step - loss: 0.1089 - accuracy: 0.9647 - val_loss: 0.6465 - val_accuracy: 0.9031\n",
            "Epoch 182/350\n",
            "85/85 [==============================] - 17s 200ms/step - loss: 0.1686 - accuracy: 0.9449 - val_loss: 0.3864 - val_accuracy: 0.9312\n",
            "Epoch 183/350\n",
            "85/85 [==============================] - 17s 201ms/step - loss: 0.1283 - accuracy: 0.9632 - val_loss: 0.4303 - val_accuracy: 0.9187\n",
            "Epoch 184/350\n",
            "85/85 [==============================] - 17s 199ms/step - loss: 0.1284 - accuracy: 0.9618 - val_loss: 0.2865 - val_accuracy: 0.9406\n",
            "Epoch 185/350\n",
            "85/85 [==============================] - 17s 199ms/step - loss: 0.1726 - accuracy: 0.9515 - val_loss: 0.3386 - val_accuracy: 0.9500\n",
            "Epoch 186/350\n",
            "85/85 [==============================] - 17s 200ms/step - loss: 0.1041 - accuracy: 0.9647 - val_loss: 0.3614 - val_accuracy: 0.9375\n",
            "Epoch 187/350\n",
            "85/85 [==============================] - 17s 200ms/step - loss: 0.1887 - accuracy: 0.9467 - val_loss: 0.6120 - val_accuracy: 0.9250\n",
            "Epoch 188/350\n",
            "85/85 [==============================] - 17s 199ms/step - loss: 0.1344 - accuracy: 0.9559 - val_loss: 0.4980 - val_accuracy: 0.9281\n",
            "Epoch 189/350\n",
            "85/85 [==============================] - 17s 199ms/step - loss: 0.1181 - accuracy: 0.9629 - val_loss: 0.3452 - val_accuracy: 0.9500\n",
            "Epoch 190/350\n",
            "85/85 [==============================] - 17s 201ms/step - loss: 0.1028 - accuracy: 0.9680 - val_loss: 0.3607 - val_accuracy: 0.9406\n",
            "Epoch 191/350\n",
            "85/85 [==============================] - 17s 200ms/step - loss: 0.1452 - accuracy: 0.9599 - val_loss: 0.2957 - val_accuracy: 0.9500\n",
            "Epoch 192/350\n",
            "85/85 [==============================] - 17s 199ms/step - loss: 0.1223 - accuracy: 0.9610 - val_loss: 0.5276 - val_accuracy: 0.9219\n",
            "Epoch 193/350\n",
            "85/85 [==============================] - 17s 200ms/step - loss: 0.1146 - accuracy: 0.9669 - val_loss: 0.7077 - val_accuracy: 0.9031\n",
            "Epoch 194/350\n",
            "85/85 [==============================] - 17s 198ms/step - loss: 0.1887 - accuracy: 0.9485 - val_loss: 0.4289 - val_accuracy: 0.9406\n",
            "Epoch 195/350\n",
            "85/85 [==============================] - 17s 199ms/step - loss: 0.1470 - accuracy: 0.9526 - val_loss: 0.4222 - val_accuracy: 0.9438\n",
            "Epoch 196/350\n",
            "85/85 [==============================] - 17s 200ms/step - loss: 0.1334 - accuracy: 0.9607 - val_loss: 0.6609 - val_accuracy: 0.9156\n",
            "Epoch 197/350\n",
            "85/85 [==============================] - 17s 201ms/step - loss: 0.1141 - accuracy: 0.9651 - val_loss: 0.3163 - val_accuracy: 0.9500\n",
            "Epoch 198/350\n",
            "85/85 [==============================] - 17s 199ms/step - loss: 0.1707 - accuracy: 0.9515 - val_loss: 0.6266 - val_accuracy: 0.9187\n",
            "Epoch 199/350\n",
            "85/85 [==============================] - 17s 199ms/step - loss: 0.2258 - accuracy: 0.9382 - val_loss: 0.2515 - val_accuracy: 0.9406\n",
            "Epoch 200/350\n",
            "85/85 [==============================] - 17s 200ms/step - loss: 0.1129 - accuracy: 0.9654 - val_loss: 0.3582 - val_accuracy: 0.9187\n",
            "Epoch 201/350\n",
            "85/85 [==============================] - 17s 199ms/step - loss: 0.1169 - accuracy: 0.9614 - val_loss: 0.5767 - val_accuracy: 0.9312\n",
            "Epoch 202/350\n",
            "85/85 [==============================] - 17s 199ms/step - loss: 0.1871 - accuracy: 0.9588 - val_loss: 0.4312 - val_accuracy: 0.9125\n",
            "Epoch 203/350\n",
            "85/85 [==============================] - 17s 199ms/step - loss: 0.2074 - accuracy: 0.9430 - val_loss: 0.5949 - val_accuracy: 0.9438\n",
            "Epoch 204/350\n",
            "85/85 [==============================] - 17s 198ms/step - loss: 0.1468 - accuracy: 0.9570 - val_loss: 0.3945 - val_accuracy: 0.9438\n",
            "Epoch 205/350\n",
            "85/85 [==============================] - 17s 200ms/step - loss: 0.1415 - accuracy: 0.9574 - val_loss: 0.2987 - val_accuracy: 0.9531\n",
            "Epoch 206/350\n",
            "85/85 [==============================] - 17s 202ms/step - loss: 0.1567 - accuracy: 0.9570 - val_loss: 0.5952 - val_accuracy: 0.9375\n",
            "Epoch 207/350\n",
            "85/85 [==============================] - 17s 199ms/step - loss: 0.1457 - accuracy: 0.9596 - val_loss: 0.2958 - val_accuracy: 0.9594\n",
            "Epoch 208/350\n",
            "85/85 [==============================] - 17s 199ms/step - loss: 0.1532 - accuracy: 0.9544 - val_loss: 0.5482 - val_accuracy: 0.9250\n",
            "Epoch 209/350\n",
            "85/85 [==============================] - 17s 202ms/step - loss: 0.1415 - accuracy: 0.9625 - val_loss: 0.5470 - val_accuracy: 0.9187\n",
            "Epoch 210/350\n",
            "85/85 [==============================] - 17s 199ms/step - loss: 0.1273 - accuracy: 0.9596 - val_loss: 0.5425 - val_accuracy: 0.9563\n",
            "Epoch 211/350\n",
            "85/85 [==============================] - 17s 201ms/step - loss: 0.1145 - accuracy: 0.9665 - val_loss: 0.5166 - val_accuracy: 0.9406\n",
            "Epoch 212/350\n",
            "85/85 [==============================] - 17s 199ms/step - loss: 0.1145 - accuracy: 0.9662 - val_loss: 0.4948 - val_accuracy: 0.9500\n",
            "Epoch 213/350\n",
            "85/85 [==============================] - 17s 200ms/step - loss: 0.1264 - accuracy: 0.9610 - val_loss: 0.5225 - val_accuracy: 0.9438\n",
            "Epoch 214/350\n",
            "85/85 [==============================] - 17s 200ms/step - loss: 0.1453 - accuracy: 0.9614 - val_loss: 0.5931 - val_accuracy: 0.9438\n",
            "Epoch 215/350\n",
            "85/85 [==============================] - 17s 200ms/step - loss: 0.1113 - accuracy: 0.9632 - val_loss: 0.5768 - val_accuracy: 0.9344\n",
            "Epoch 216/350\n",
            "85/85 [==============================] - 17s 200ms/step - loss: 0.1269 - accuracy: 0.9647 - val_loss: 0.4600 - val_accuracy: 0.9312\n",
            "Epoch 217/350\n",
            "85/85 [==============================] - 17s 199ms/step - loss: 0.1641 - accuracy: 0.9471 - val_loss: 1.0743 - val_accuracy: 0.8813\n",
            "Epoch 218/350\n",
            "85/85 [==============================] - 17s 199ms/step - loss: 0.1775 - accuracy: 0.9485 - val_loss: 0.6785 - val_accuracy: 0.9062\n",
            "Epoch 219/350\n",
            "85/85 [==============================] - 17s 199ms/step - loss: 0.1492 - accuracy: 0.9511 - val_loss: 0.9654 - val_accuracy: 0.8719\n",
            "Epoch 220/350\n",
            "85/85 [==============================] - 17s 199ms/step - loss: 0.2189 - accuracy: 0.9331 - val_loss: 0.4832 - val_accuracy: 0.9187\n",
            "Epoch 221/350\n",
            "85/85 [==============================] - 17s 198ms/step - loss: 0.1542 - accuracy: 0.9563 - val_loss: 0.4653 - val_accuracy: 0.9438\n",
            "Epoch 222/350\n",
            "85/85 [==============================] - 17s 199ms/step - loss: 0.1239 - accuracy: 0.9640 - val_loss: 0.4401 - val_accuracy: 0.9438\n",
            "Epoch 223/350\n",
            "85/85 [==============================] - 17s 199ms/step - loss: 0.1160 - accuracy: 0.9680 - val_loss: 0.3025 - val_accuracy: 0.9688\n",
            "Epoch 224/350\n",
            "85/85 [==============================] - 17s 201ms/step - loss: 0.1014 - accuracy: 0.9699 - val_loss: 0.5483 - val_accuracy: 0.9438\n",
            "Epoch 225/350\n",
            "85/85 [==============================] - 17s 199ms/step - loss: 0.1203 - accuracy: 0.9643 - val_loss: 0.4920 - val_accuracy: 0.9375\n",
            "Epoch 226/350\n",
            "85/85 [==============================] - 17s 200ms/step - loss: 0.1145 - accuracy: 0.9658 - val_loss: 0.3840 - val_accuracy: 0.9563\n",
            "Epoch 227/350\n",
            "85/85 [==============================] - 17s 201ms/step - loss: 0.1667 - accuracy: 0.9511 - val_loss: 0.3714 - val_accuracy: 0.9594\n",
            "Epoch 228/350\n",
            "85/85 [==============================] - 17s 199ms/step - loss: 0.1260 - accuracy: 0.9665 - val_loss: 0.4386 - val_accuracy: 0.9563\n",
            "Epoch 229/350\n",
            "85/85 [==============================] - 17s 200ms/step - loss: 0.1120 - accuracy: 0.9658 - val_loss: 0.3347 - val_accuracy: 0.9406\n",
            "Epoch 230/350\n",
            "85/85 [==============================] - 17s 199ms/step - loss: 0.1480 - accuracy: 0.9610 - val_loss: 0.5874 - val_accuracy: 0.9469\n",
            "Epoch 231/350\n",
            "85/85 [==============================] - 17s 200ms/step - loss: 0.1642 - accuracy: 0.9544 - val_loss: 0.5268 - val_accuracy: 0.9469\n",
            "Epoch 232/350\n",
            "85/85 [==============================] - 17s 200ms/step - loss: 0.2047 - accuracy: 0.9445 - val_loss: 0.6744 - val_accuracy: 0.9000\n",
            "Epoch 233/350\n",
            "85/85 [==============================] - 17s 199ms/step - loss: 0.1377 - accuracy: 0.9588 - val_loss: 0.4095 - val_accuracy: 0.9344\n",
            "Epoch 234/350\n",
            "85/85 [==============================] - 17s 199ms/step - loss: 0.1516 - accuracy: 0.9544 - val_loss: 0.2867 - val_accuracy: 0.9438\n",
            "Epoch 235/350\n",
            "85/85 [==============================] - 17s 199ms/step - loss: 0.1287 - accuracy: 0.9629 - val_loss: 0.6842 - val_accuracy: 0.9281\n",
            "Epoch 236/350\n",
            "85/85 [==============================] - 17s 200ms/step - loss: 0.2112 - accuracy: 0.9507 - val_loss: 0.5139 - val_accuracy: 0.9187\n",
            "Epoch 237/350\n",
            "85/85 [==============================] - 17s 199ms/step - loss: 0.2171 - accuracy: 0.9478 - val_loss: 0.4998 - val_accuracy: 0.9375\n",
            "Epoch 238/350\n",
            "85/85 [==============================] - 17s 200ms/step - loss: 0.1494 - accuracy: 0.9504 - val_loss: 0.2679 - val_accuracy: 0.9563\n",
            "Epoch 239/350\n",
            "85/85 [==============================] - 17s 200ms/step - loss: 0.1161 - accuracy: 0.9651 - val_loss: 0.4172 - val_accuracy: 0.9219\n",
            "Epoch 240/350\n",
            "85/85 [==============================] - 17s 199ms/step - loss: 0.1211 - accuracy: 0.9632 - val_loss: 0.3359 - val_accuracy: 0.9281\n",
            "Epoch 241/350\n",
            "85/85 [==============================] - 17s 198ms/step - loss: 0.1127 - accuracy: 0.9706 - val_loss: 0.4373 - val_accuracy: 0.9594\n",
            "Epoch 242/350\n",
            "85/85 [==============================] - 17s 200ms/step - loss: 0.1088 - accuracy: 0.9676 - val_loss: 0.4662 - val_accuracy: 0.9438\n",
            "Epoch 243/350\n",
            "85/85 [==============================] - 17s 200ms/step - loss: 0.1189 - accuracy: 0.9632 - val_loss: 0.5111 - val_accuracy: 0.9688\n",
            "Epoch 244/350\n",
            "85/85 [==============================] - 17s 199ms/step - loss: 0.1095 - accuracy: 0.9684 - val_loss: 0.6116 - val_accuracy: 0.9500\n",
            "Epoch 245/350\n",
            "85/85 [==============================] - 17s 201ms/step - loss: 0.1158 - accuracy: 0.9636 - val_loss: 0.5890 - val_accuracy: 0.9344\n",
            "Epoch 246/350\n",
            "85/85 [==============================] - 17s 200ms/step - loss: 0.1375 - accuracy: 0.9632 - val_loss: 0.5464 - val_accuracy: 0.9375\n",
            "Epoch 247/350\n",
            "85/85 [==============================] - 17s 199ms/step - loss: 0.1343 - accuracy: 0.9621 - val_loss: 0.6172 - val_accuracy: 0.9187\n",
            "Epoch 248/350\n",
            "85/85 [==============================] - 17s 199ms/step - loss: 0.1252 - accuracy: 0.9603 - val_loss: 0.3563 - val_accuracy: 0.9500\n",
            "Epoch 249/350\n",
            "85/85 [==============================] - 17s 201ms/step - loss: 0.1151 - accuracy: 0.9691 - val_loss: 0.4917 - val_accuracy: 0.9563\n",
            "Epoch 250/350\n",
            "85/85 [==============================] - 17s 200ms/step - loss: 0.1693 - accuracy: 0.9592 - val_loss: 0.5992 - val_accuracy: 0.9281\n",
            "Epoch 251/350\n",
            "85/85 [==============================] - 17s 199ms/step - loss: 0.1966 - accuracy: 0.9474 - val_loss: 0.3763 - val_accuracy: 0.9281\n",
            "Epoch 252/350\n",
            "85/85 [==============================] - 17s 201ms/step - loss: 0.3159 - accuracy: 0.9176 - val_loss: 0.9545 - val_accuracy: 0.9062\n",
            "Epoch 253/350\n",
            "85/85 [==============================] - 17s 199ms/step - loss: 0.1795 - accuracy: 0.9489 - val_loss: 0.7324 - val_accuracy: 0.9500\n",
            "Epoch 254/350\n",
            "85/85 [==============================] - 17s 199ms/step - loss: 0.1105 - accuracy: 0.9621 - val_loss: 0.6014 - val_accuracy: 0.9500\n",
            "Epoch 255/350\n",
            "85/85 [==============================] - 17s 199ms/step - loss: 0.1003 - accuracy: 0.9684 - val_loss: 0.2858 - val_accuracy: 0.9438\n",
            "Epoch 256/350\n",
            "85/85 [==============================] - 17s 199ms/step - loss: 0.1508 - accuracy: 0.9581 - val_loss: 0.3149 - val_accuracy: 0.9500\n",
            "Epoch 257/350\n",
            "85/85 [==============================] - 17s 199ms/step - loss: 0.1101 - accuracy: 0.9651 - val_loss: 0.5972 - val_accuracy: 0.9250\n",
            "Epoch 258/350\n",
            "85/85 [==============================] - 17s 198ms/step - loss: 0.1519 - accuracy: 0.9551 - val_loss: 0.7682 - val_accuracy: 0.9344\n",
            "Epoch 259/350\n",
            "85/85 [==============================] - 17s 199ms/step - loss: 0.1420 - accuracy: 0.9599 - val_loss: 0.4389 - val_accuracy: 0.9469\n",
            "Epoch 260/350\n",
            "85/85 [==============================] - 17s 198ms/step - loss: 0.1172 - accuracy: 0.9629 - val_loss: 0.6690 - val_accuracy: 0.9187\n",
            "Epoch 261/350\n",
            "85/85 [==============================] - 17s 200ms/step - loss: 0.1855 - accuracy: 0.9489 - val_loss: 0.4103 - val_accuracy: 0.9406\n",
            "Epoch 262/350\n",
            "85/85 [==============================] - 17s 201ms/step - loss: 0.1460 - accuracy: 0.9577 - val_loss: 0.4156 - val_accuracy: 0.9406\n",
            "Epoch 263/350\n",
            "85/85 [==============================] - 17s 201ms/step - loss: 0.1240 - accuracy: 0.9658 - val_loss: 0.4759 - val_accuracy: 0.9594\n",
            "Epoch 264/350\n",
            "85/85 [==============================] - 17s 200ms/step - loss: 0.1526 - accuracy: 0.9559 - val_loss: 1.0395 - val_accuracy: 0.8750\n",
            "Epoch 265/350\n",
            "85/85 [==============================] - 17s 201ms/step - loss: 0.1645 - accuracy: 0.9559 - val_loss: 0.3991 - val_accuracy: 0.9375\n",
            "Epoch 266/350\n",
            "85/85 [==============================] - 17s 199ms/step - loss: 0.1387 - accuracy: 0.9640 - val_loss: 0.5373 - val_accuracy: 0.9594\n",
            "Epoch 267/350\n",
            "85/85 [==============================] - 17s 200ms/step - loss: 0.0841 - accuracy: 0.9691 - val_loss: 0.5392 - val_accuracy: 0.9406\n",
            "Epoch 268/350\n",
            "85/85 [==============================] - 17s 200ms/step - loss: 0.1354 - accuracy: 0.9629 - val_loss: 0.2286 - val_accuracy: 0.9688\n",
            "Epoch 269/350\n",
            "85/85 [==============================] - 17s 200ms/step - loss: 0.1552 - accuracy: 0.9574 - val_loss: 0.4974 - val_accuracy: 0.9500\n",
            "Epoch 270/350\n",
            "85/85 [==============================] - 17s 199ms/step - loss: 0.1066 - accuracy: 0.9680 - val_loss: 0.6725 - val_accuracy: 0.9500\n",
            "Epoch 271/350\n",
            "85/85 [==============================] - 17s 199ms/step - loss: 0.1157 - accuracy: 0.9643 - val_loss: 0.3493 - val_accuracy: 0.9375\n",
            "Epoch 272/350\n",
            "85/85 [==============================] - 17s 200ms/step - loss: 0.1479 - accuracy: 0.9621 - val_loss: 0.7061 - val_accuracy: 0.9312\n",
            "Epoch 273/350\n",
            "85/85 [==============================] - 17s 199ms/step - loss: 0.1390 - accuracy: 0.9621 - val_loss: 0.7220 - val_accuracy: 0.9187\n",
            "Epoch 274/350\n",
            "85/85 [==============================] - 17s 199ms/step - loss: 0.1338 - accuracy: 0.9640 - val_loss: 0.6040 - val_accuracy: 0.9469\n",
            "Epoch 275/350\n",
            "85/85 [==============================] - 17s 200ms/step - loss: 0.1007 - accuracy: 0.9728 - val_loss: 0.4305 - val_accuracy: 0.9625\n",
            "Epoch 276/350\n",
            "85/85 [==============================] - 17s 198ms/step - loss: 0.1181 - accuracy: 0.9647 - val_loss: 0.5431 - val_accuracy: 0.9281\n",
            "Epoch 277/350\n",
            "85/85 [==============================] - 17s 199ms/step - loss: 0.1249 - accuracy: 0.9640 - val_loss: 0.9591 - val_accuracy: 0.9156\n",
            "Epoch 278/350\n",
            "85/85 [==============================] - 17s 199ms/step - loss: 0.1609 - accuracy: 0.9559 - val_loss: 0.8554 - val_accuracy: 0.9375\n",
            "Epoch 279/350\n",
            "85/85 [==============================] - 17s 200ms/step - loss: 0.1078 - accuracy: 0.9676 - val_loss: 0.5897 - val_accuracy: 0.9469\n",
            "Epoch 280/350\n",
            "85/85 [==============================] - 17s 199ms/step - loss: 0.1273 - accuracy: 0.9629 - val_loss: 1.0254 - val_accuracy: 0.9281\n",
            "Epoch 281/350\n",
            "85/85 [==============================] - 17s 201ms/step - loss: 0.1703 - accuracy: 0.9529 - val_loss: 0.4041 - val_accuracy: 0.9438\n",
            "Epoch 282/350\n",
            "85/85 [==============================] - 17s 202ms/step - loss: 0.1286 - accuracy: 0.9665 - val_loss: 0.7112 - val_accuracy: 0.9156\n",
            "Epoch 283/350\n",
            "85/85 [==============================] - 17s 199ms/step - loss: 0.1658 - accuracy: 0.9566 - val_loss: 0.9227 - val_accuracy: 0.9156\n",
            "Epoch 284/350\n",
            "85/85 [==============================] - 17s 199ms/step - loss: 0.2188 - accuracy: 0.9460 - val_loss: 0.6152 - val_accuracy: 0.9281\n",
            "Epoch 285/350\n",
            "85/85 [==============================] - 17s 200ms/step - loss: 0.1032 - accuracy: 0.9684 - val_loss: 0.5992 - val_accuracy: 0.9344\n",
            "Epoch 286/350\n",
            "85/85 [==============================] - 17s 198ms/step - loss: 0.1186 - accuracy: 0.9614 - val_loss: 0.5581 - val_accuracy: 0.9406\n",
            "Epoch 287/350\n",
            "85/85 [==============================] - 17s 199ms/step - loss: 0.0670 - accuracy: 0.9790 - val_loss: 0.6923 - val_accuracy: 0.9563\n",
            "Epoch 288/350\n",
            "85/85 [==============================] - 17s 200ms/step - loss: 0.1434 - accuracy: 0.9629 - val_loss: 0.7426 - val_accuracy: 0.9187\n",
            "Epoch 289/350\n",
            "85/85 [==============================] - 17s 199ms/step - loss: 0.1263 - accuracy: 0.9596 - val_loss: 0.6317 - val_accuracy: 0.9344\n",
            "Epoch 290/350\n",
            "85/85 [==============================] - 17s 199ms/step - loss: 0.0859 - accuracy: 0.9724 - val_loss: 0.5015 - val_accuracy: 0.9625\n",
            "Epoch 291/350\n",
            "85/85 [==============================] - 17s 200ms/step - loss: 0.0804 - accuracy: 0.9732 - val_loss: 0.3930 - val_accuracy: 0.9469\n",
            "Epoch 292/350\n",
            "85/85 [==============================] - 17s 200ms/step - loss: 0.1199 - accuracy: 0.9629 - val_loss: 0.4100 - val_accuracy: 0.9344\n",
            "Epoch 293/350\n",
            "85/85 [==============================] - 17s 200ms/step - loss: 0.1510 - accuracy: 0.9581 - val_loss: 0.5607 - val_accuracy: 0.9062\n",
            "Epoch 294/350\n",
            "85/85 [==============================] - 17s 200ms/step - loss: 0.1383 - accuracy: 0.9625 - val_loss: 0.4322 - val_accuracy: 0.9344\n",
            "Epoch 295/350\n",
            "85/85 [==============================] - 17s 199ms/step - loss: 0.1039 - accuracy: 0.9702 - val_loss: 0.7564 - val_accuracy: 0.9062\n",
            "Epoch 296/350\n",
            "85/85 [==============================] - 17s 199ms/step - loss: 0.1507 - accuracy: 0.9566 - val_loss: 0.7573 - val_accuracy: 0.9000\n",
            "Epoch 297/350\n",
            "85/85 [==============================] - 17s 198ms/step - loss: 0.1254 - accuracy: 0.9658 - val_loss: 0.6217 - val_accuracy: 0.9250\n",
            "Epoch 298/350\n",
            "85/85 [==============================] - 17s 199ms/step - loss: 0.1077 - accuracy: 0.9654 - val_loss: 0.5812 - val_accuracy: 0.9594\n",
            "Epoch 299/350\n",
            "85/85 [==============================] - 17s 201ms/step - loss: 0.0871 - accuracy: 0.9757 - val_loss: 0.6540 - val_accuracy: 0.9250\n",
            "Epoch 300/350\n",
            "85/85 [==============================] - 17s 201ms/step - loss: 0.0923 - accuracy: 0.9717 - val_loss: 0.5114 - val_accuracy: 0.9438\n",
            "Epoch 301/350\n",
            "85/85 [==============================] - 17s 200ms/step - loss: 0.1068 - accuracy: 0.9647 - val_loss: 0.4491 - val_accuracy: 0.9563\n",
            "Epoch 302/350\n",
            "85/85 [==============================] - 17s 200ms/step - loss: 0.1222 - accuracy: 0.9636 - val_loss: 0.6308 - val_accuracy: 0.9250\n",
            "Epoch 303/350\n",
            "85/85 [==============================] - 17s 200ms/step - loss: 0.1384 - accuracy: 0.9621 - val_loss: 0.5555 - val_accuracy: 0.9406\n",
            "Epoch 304/350\n",
            "85/85 [==============================] - 17s 199ms/step - loss: 0.1831 - accuracy: 0.9500 - val_loss: 0.5407 - val_accuracy: 0.9281\n",
            "Epoch 305/350\n",
            "85/85 [==============================] - 17s 200ms/step - loss: 0.1836 - accuracy: 0.9511 - val_loss: 0.4492 - val_accuracy: 0.9312\n",
            "Epoch 306/350\n",
            "85/85 [==============================] - 17s 200ms/step - loss: 0.1218 - accuracy: 0.9643 - val_loss: 0.5787 - val_accuracy: 0.9312\n",
            "Epoch 307/350\n",
            "85/85 [==============================] - 17s 199ms/step - loss: 0.1390 - accuracy: 0.9621 - val_loss: 0.6465 - val_accuracy: 0.9438\n",
            "Epoch 308/350\n",
            "85/85 [==============================] - 17s 201ms/step - loss: 0.1199 - accuracy: 0.9643 - val_loss: 0.6701 - val_accuracy: 0.9531\n",
            "Epoch 309/350\n",
            "85/85 [==============================] - 17s 199ms/step - loss: 0.1003 - accuracy: 0.9699 - val_loss: 0.6502 - val_accuracy: 0.9406\n",
            "Epoch 310/350\n",
            "85/85 [==============================] - 17s 200ms/step - loss: 0.0889 - accuracy: 0.9746 - val_loss: 0.8567 - val_accuracy: 0.9344\n",
            "Epoch 311/350\n",
            "85/85 [==============================] - 17s 201ms/step - loss: 0.1167 - accuracy: 0.9706 - val_loss: 0.5728 - val_accuracy: 0.9500\n",
            "Epoch 312/350\n",
            "85/85 [==============================] - 17s 199ms/step - loss: 0.1360 - accuracy: 0.9632 - val_loss: 1.0022 - val_accuracy: 0.9250\n",
            "Epoch 313/350\n",
            "85/85 [==============================] - 17s 199ms/step - loss: 0.2165 - accuracy: 0.9430 - val_loss: 0.4514 - val_accuracy: 0.9531\n",
            "Epoch 314/350\n",
            "85/85 [==============================] - 17s 199ms/step - loss: 0.2339 - accuracy: 0.9434 - val_loss: 0.6230 - val_accuracy: 0.9531\n",
            "Epoch 315/350\n",
            "85/85 [==============================] - 17s 199ms/step - loss: 0.1127 - accuracy: 0.9669 - val_loss: 0.6323 - val_accuracy: 0.9625\n",
            "Epoch 316/350\n",
            "85/85 [==============================] - 17s 198ms/step - loss: 0.1122 - accuracy: 0.9654 - val_loss: 0.4156 - val_accuracy: 0.9531\n",
            "Epoch 317/350\n",
            "85/85 [==============================] - 17s 201ms/step - loss: 0.1329 - accuracy: 0.9618 - val_loss: 0.3665 - val_accuracy: 0.9469\n",
            "Epoch 318/350\n",
            "85/85 [==============================] - 17s 201ms/step - loss: 0.1219 - accuracy: 0.9614 - val_loss: 0.5261 - val_accuracy: 0.9156\n",
            "Epoch 319/350\n",
            "85/85 [==============================] - 17s 200ms/step - loss: 0.0983 - accuracy: 0.9669 - val_loss: 0.3960 - val_accuracy: 0.9688\n",
            "Epoch 320/350\n",
            "85/85 [==============================] - 17s 200ms/step - loss: 0.1075 - accuracy: 0.9684 - val_loss: 0.3499 - val_accuracy: 0.9594\n",
            "Epoch 321/350\n",
            "85/85 [==============================] - 17s 202ms/step - loss: 0.0834 - accuracy: 0.9739 - val_loss: 0.4287 - val_accuracy: 0.9625\n",
            "Epoch 322/350\n",
            "85/85 [==============================] - 17s 200ms/step - loss: 0.1344 - accuracy: 0.9629 - val_loss: 0.6322 - val_accuracy: 0.9406\n",
            "Epoch 323/350\n",
            "85/85 [==============================] - 17s 199ms/step - loss: 0.1183 - accuracy: 0.9651 - val_loss: 0.4897 - val_accuracy: 0.9625\n",
            "Epoch 324/350\n",
            "85/85 [==============================] - 17s 200ms/step - loss: 0.1180 - accuracy: 0.9684 - val_loss: 0.5374 - val_accuracy: 0.9438\n",
            "Epoch 325/350\n",
            "85/85 [==============================] - 17s 199ms/step - loss: 0.0913 - accuracy: 0.9721 - val_loss: 0.6129 - val_accuracy: 0.9469\n",
            "Epoch 326/350\n",
            "85/85 [==============================] - 17s 200ms/step - loss: 0.1234 - accuracy: 0.9647 - val_loss: 0.7760 - val_accuracy: 0.9500\n",
            "Epoch 327/350\n",
            "85/85 [==============================] - 17s 200ms/step - loss: 0.1038 - accuracy: 0.9710 - val_loss: 0.5747 - val_accuracy: 0.9531\n",
            "Epoch 328/350\n",
            "85/85 [==============================] - 17s 200ms/step - loss: 0.1317 - accuracy: 0.9654 - val_loss: 0.5248 - val_accuracy: 0.9625\n",
            "Epoch 329/350\n",
            "85/85 [==============================] - 17s 199ms/step - loss: 0.1610 - accuracy: 0.9563 - val_loss: 0.5412 - val_accuracy: 0.9062\n",
            "Epoch 330/350\n",
            "85/85 [==============================] - 17s 199ms/step - loss: 0.1091 - accuracy: 0.9643 - val_loss: 0.6788 - val_accuracy: 0.9281\n",
            "Epoch 331/350\n",
            "85/85 [==============================] - 17s 201ms/step - loss: 0.1354 - accuracy: 0.9643 - val_loss: 0.6198 - val_accuracy: 0.9250\n",
            "Epoch 332/350\n",
            "85/85 [==============================] - 17s 198ms/step - loss: 0.1216 - accuracy: 0.9629 - val_loss: 0.6386 - val_accuracy: 0.9406\n",
            "Epoch 333/350\n",
            "85/85 [==============================] - 17s 200ms/step - loss: 0.1653 - accuracy: 0.9548 - val_loss: 0.4718 - val_accuracy: 0.9563\n",
            "Epoch 334/350\n",
            "85/85 [==============================] - 17s 200ms/step - loss: 0.1331 - accuracy: 0.9625 - val_loss: 0.6338 - val_accuracy: 0.9500\n",
            "Epoch 335/350\n",
            "85/85 [==============================] - 17s 200ms/step - loss: 0.1182 - accuracy: 0.9669 - val_loss: 0.5198 - val_accuracy: 0.9281\n",
            "Epoch 336/350\n",
            "85/85 [==============================] - 17s 201ms/step - loss: 0.1125 - accuracy: 0.9688 - val_loss: 0.4803 - val_accuracy: 0.9594\n",
            "Epoch 337/350\n",
            "85/85 [==============================] - 17s 202ms/step - loss: 0.0930 - accuracy: 0.9684 - val_loss: 0.6447 - val_accuracy: 0.9344\n",
            "Epoch 338/350\n",
            "85/85 [==============================] - 17s 200ms/step - loss: 0.1669 - accuracy: 0.9563 - val_loss: 0.7258 - val_accuracy: 0.9094\n",
            "Epoch 339/350\n",
            "85/85 [==============================] - 17s 199ms/step - loss: 0.1013 - accuracy: 0.9684 - val_loss: 0.5770 - val_accuracy: 0.9469\n",
            "Epoch 340/350\n",
            "85/85 [==============================] - 17s 199ms/step - loss: 0.1553 - accuracy: 0.9625 - val_loss: 0.2818 - val_accuracy: 0.9594\n",
            "Epoch 341/350\n",
            "85/85 [==============================] - 17s 200ms/step - loss: 0.1656 - accuracy: 0.9555 - val_loss: 0.4264 - val_accuracy: 0.9531\n",
            "Epoch 342/350\n",
            "85/85 [==============================] - 17s 199ms/step - loss: 0.1461 - accuracy: 0.9603 - val_loss: 0.5218 - val_accuracy: 0.9469\n",
            "Epoch 343/350\n",
            "85/85 [==============================] - 17s 200ms/step - loss: 0.1005 - accuracy: 0.9699 - val_loss: 0.5691 - val_accuracy: 0.9563\n",
            "Epoch 344/350\n",
            "85/85 [==============================] - 17s 200ms/step - loss: 0.2505 - accuracy: 0.9346 - val_loss: 0.6044 - val_accuracy: 0.9125\n",
            "Epoch 345/350\n",
            "85/85 [==============================] - 17s 199ms/step - loss: 0.1889 - accuracy: 0.9449 - val_loss: 0.5959 - val_accuracy: 0.9563\n",
            "Epoch 346/350\n",
            "85/85 [==============================] - 17s 199ms/step - loss: 0.0942 - accuracy: 0.9739 - val_loss: 0.6797 - val_accuracy: 0.9250\n",
            "Epoch 347/350\n",
            "85/85 [==============================] - 17s 200ms/step - loss: 0.1216 - accuracy: 0.9647 - val_loss: 0.7299 - val_accuracy: 0.9438\n",
            "Epoch 348/350\n",
            "85/85 [==============================] - 17s 201ms/step - loss: 0.1179 - accuracy: 0.9632 - val_loss: 0.4167 - val_accuracy: 0.9406\n",
            "Epoch 349/350\n",
            "85/85 [==============================] - 17s 200ms/step - loss: 0.1302 - accuracy: 0.9603 - val_loss: 0.6769 - val_accuracy: 0.9500\n",
            "Epoch 350/350\n",
            "85/85 [==============================] - 17s 199ms/step - loss: 0.1131 - accuracy: 0.9688 - val_loss: 0.7916 - val_accuracy: 0.9281\n"
          ]
        },
        {
          "output_type": "execute_result",
          "data": {
            "text/plain": [
              "KerasClassifier(\n",
              "\tmodel=<keras.engine.sequential.Sequential object at 0x7fe109e957f0>\n",
              "\tbuild_fn=None\n",
              "\twarm_start=False\n",
              "\trandom_state=None\n",
              "\toptimizer=adam\n",
              "\tloss=categorical_crossentropy\n",
              "\tmetrics=['accuracy']\n",
              "\tbatch_size=None\n",
              "\tvalidation_batch_size=None\n",
              "\tverbose=1\n",
              "\tcallbacks=None\n",
              "\tvalidation_split=0.0\n",
              "\tshuffle=True\n",
              "\trun_eagerly=False\n",
              "\tepochs=350\n",
              "\tfit__validation_data=(array([[[[253.21875 , 158.25781 , 124.62891 ],\n",
              "         [254.51172 , 152.92969 , 120.36719 ],\n",
              "         [255.      , 160.15625 , 116.94531 ],\n",
              "         ...,\n",
              "         [251.35547 , 168.41797 , 114.36719 ],\n",
              "         [253.17578 , 172.13672 , 124.51172 ],\n",
              "         [246.91406 , 149.91406 , 117.32031 ]],\n",
              "\n",
              "        [[251.35156 , 149.57031 , 114.16406 ],\n",
              "         [255.      , 158.21484 , 117.67969 ],\n",
              "         [255.      , 168.76172 , 108.97656 ],\n",
              "         ...,\n",
              "         [246.22656 , 163.47656 ,  95.78516 ],\n",
              "         [249.11719 , 161.46094 , 107.67969 ],\n",
              "         [246.19922 , 146.13281 , 105.73828 ]],\n",
              "\n",
              "        [[255.      , 172.96094 , 122.55469 ],\n",
              "         [254.94531 , 165.01172 , 108.01172 ],\n",
              "         [255.      , 182.2461  , 117.17969 ],\n",
              "         ...,\n",
              "         [239.26172 , 156.35547 ,  86.26172 ],\n",
              "         [244.26953 , 158.61328 ,  93.859375],\n",
              "         [244.95312 , 153.95312 , 106.953125]],\n",
              "\n",
              "        ...,\n",
              "\n",
              "        [[230.30078 , 108.30078 ,  68.48828 ],\n",
              "         [225.84375 ,  98.84375 ,  66.84375 ],\n",
              "         [226.76562 , 102.765625,  68.765625],\n",
              "         ...,\n",
              "         [183.46875 ,  82.5625  ,  70.53125 ],\n",
              "         [179.69922 ,  84.35547 ,  70.13672 ],\n",
              "         [187.5     ,  94.5     ,  76.90625 ]],\n",
              "\n",
              "        [[232.90625 , 112.90625 ,  76.00781 ],\n",
              "         [236.82031 , 110.76953 ,  75.83594 ],\n",
              "         [225.70703 ,  99.58594 ,  59.460938],\n",
              "         ...,\n",
              "         [185.25781 ,  89.26953 ,  77.25781 ],\n",
              "         [192.07812 , 103.203125,  89.203125],\n",
              "         [184.60938 , 104.71094 ,  81.71094 ]],\n",
              "\n",
              "        [[221.4375  ,  94.4375  ,  60.992188],\n",
              "         [236.08984 , 110.25391 ,  70.69141 ],\n",
              "         [242.98047 , 116.98047 ,  75.98047 ],\n",
              "         ...,\n",
              "         [190.91797 ,  95.375   ,  78.60547 ],\n",
              "         [184.0586  , 101.43359 ,  82.30859 ],\n",
              "         [182.19531 , 101.00781 ,  78.296875]]],\n",
              "\n",
              "\n",
              "       [[[239.69727 , 239.69727 , 239.69727 ],\n",
              "         [238.51523 , 238.51523 , 238.51523 ],\n",
              "         [240.7793  , 240.7793  , 240.7793  ],\n",
              "         ...,\n",
              "         [223.4577  , 223.4577  , 225.4577  ],\n",
              "         [222.48477 , 222.48477 , 224.48477 ],\n",
              "         [220.29688 , 220.29688 , 222.29688 ]],\n",
              "\n",
              "        [[238.89062 , 238.89062 , 238.89062 ],\n",
              "         [237.31055 , 237.31055 , 237.31055 ],\n",
              "         [238.5918  , 238.5918  , 238.5918  ],\n",
              "         ...,\n",
              "         [222.10938 , 222.10938 , 224.10938 ],\n",
              "         [225.07541 , 225.07541 , 227.07541 ],\n",
              "         [223.67773 , 223.67773 , 225.67773 ]],\n",
              "\n",
              "        [[238.48438 , 238.48438 , 236.48438 ],\n",
              "         [239.32025 , 239.32025 , 237.32025 ],\n",
              "         [240.8157  , 240.8157  , 240.8157  ],\n",
              "         ...,\n",
              "         [222.48242 , 222.48242 , 224.48242 ],\n",
              "         [221.49408 , 221.49408 , 223.49408 ],\n",
              "         [223.51562 , 223.51562 , 225.51562 ]],\n",
              "\n",
              "        ...,\n",
              "\n",
              "        [[227.10352 , 227.10352 , 229.10352 ],\n",
              "         [224.83987 , 224.83987 , 226.83987 ],\n",
              "         [223.48242 , 223.48242 , 225.48242 ],\n",
              "         ...,\n",
              "         [214.48242 , 214.48242 , 216.48242 ],\n",
              "         [214.15042 , 214.15042 , 216.15042 ],\n",
              "         [214.96875 , 214.96875 , 216.96875 ]],\n",
              "\n",
              "        [[227.02264 , 227.02264 , 229.02264 ],\n",
              "         [223.77191 , 223.77191 , 225.77191 ],\n",
              "         [225.      , 225.      , 227.      ],\n",
              "         ...,\n",
              "         [214.94339 , 214.94339 , 216.94339 ],\n",
              "         [214.      , 214.      , 216.      ],\n",
              "         [215.20743 , 215.20743 , 217.20743 ]],\n",
              "\n",
              "        [[222.89648 , 223.89648 , 225.89648 ],\n",
              "         [223.39258 , 224.39258 , 226.39258 ],\n",
              "         [223.8815  , 224.8815  , 226.8815  ],\n",
              "         ...,\n",
              "         [211.4401  , 211.4401  , 213.4401  ],\n",
              "         [213.79532 , 213.79532 , 215.79532 ],\n",
              "         [214.92722 , 214.92722 , 216.92722 ]]],\n",
              "\n",
              "\n",
              "       [[[171.99762 , 171.99762 , 171.99762 ],\n",
              "         [172.09308 , 172.09308 , 172.09308 ],\n",
              "         [172.53125 , 172.53125 , 172.53125 ],\n",
              "         ...,\n",
              "         [215.52716 , 212.52716 , 207.52716 ],\n",
              "         [221.07031 , 216.07031 , 212.07031 ],\n",
              "         [219.60156 , 214.60156 , 210.60156 ]],\n",
              "\n",
              "        [[173.31897 , 173.31897 , 173.31897 ],\n",
              "         [173.31628 , 173.31628 , 173.31628 ],\n",
              "         [174.      , 174.      , 174.      ],\n",
              "         ...,\n",
              "         [219.04688 , 213.97656 , 210.      ],\n",
              "         [217.04108 , 212.04108 , 208.04108 ],\n",
              "         [218.27411 , 213.27411 , 209.27411 ]],\n",
              "\n",
              "        [[171.97284 , 173.97284 , 172.97284 ],\n",
              "         [172.99664 , 174.82477 , 173.9107  ],\n",
              "         [175.01862 , 175.01862 , 175.01862 ],\n",
              "         ...,\n",
              "         [217.5625  , 209.5625  , 206.5625  ],\n",
              "         [218.125   , 210.125   , 207.125   ],\n",
              "         [219.70721 , 211.70721 , 208.70721 ]],\n",
              "\n",
              "        ...,\n",
              "\n",
              "        [[201.26562 , 207.26562 , 207.26562 ],\n",
              "         [200.66742 , 206.66742 , 206.66742 ],\n",
              "         [201.45013 , 207.45013 , 207.45013 ],\n",
              "         ...,\n",
              "         [227.54205 , 222.54205 , 219.54205 ],\n",
              "         [228.87836 , 223.87836 , 220.87836 ],\n",
              "         [229.73438 , 224.73438 , 221.73438 ]],\n",
              "\n",
              "        [[199.0163  , 208.0163  , 207.0163  ],\n",
              "         [199.09198 , 208.08594 , 207.08795 ],\n",
              "         [202.05804 , 210.98773 , 210.01117 ],\n",
              "         ...,\n",
              "         [226.5346  , 221.5346  , 218.5346  ],\n",
              "         [228.84955 , 223.84955 , 220.84955 ],\n",
              "         [228.02344 , 223.02344 , 220.02344 ]],\n",
              "\n",
              "        [[200.29926 , 209.29926 , 208.29926 ],\n",
              "         [199.98438 , 208.98505 , 207.98505 ],\n",
              "         [200.95312 , 210.48029 , 209.48029 ],\n",
              "         ...,\n",
              "         [225.5     , 220.5     , 217.5     ],\n",
              "         [225.17188 , 220.17188 , 217.17188 ],\n",
              "         [230.6875  , 225.6875  , 222.6875  ]]],\n",
              "\n",
              "\n",
              "       ...,\n",
              "\n",
              "\n",
              "       [[[ 95.39844 , 132.39844 , 158.39844 ],\n",
              "         [ 95.39844 , 132.39844 , 158.39844 ],\n",
              "         [ 94.796875, 131.79688 , 157.79688 ],\n",
              "         ...,\n",
              "         [140.      , 182.      , 207.      ],\n",
              "         [139.953   , 181.953   , 206.953   ],\n",
              "         [139.974   , 181.974   , 206.974   ]],\n",
              "\n",
              "        [[ 97.      , 134.      , 160.      ],\n",
              "         [ 97.      , 134.      , 160.      ],\n",
              "         [ 95.83655 , 132.83655 , 158.83655 ],\n",
              "         ...,\n",
              "         [140.      , 182.      , 206.      ],\n",
              "         [141.07812 , 183.07812 , 207.07812 ],\n",
              "         [141.4845  , 183.4845  , 207.4845  ]],\n",
              "\n",
              "        [[ 98.      , 135.      , 161.      ],\n",
              "         [ 98.      , 135.      , 161.      ],\n",
              "         [ 97.99841 , 134.99841 , 160.99841 ],\n",
              "         ...,\n",
              "         [138.79688 , 180.79688 , 204.79688 ],\n",
              "         [140.08533 , 182.08533 , 206.08533 ],\n",
              "         [140.      , 182.      , 206.      ]],\n",
              "\n",
              "        ...,\n",
              "\n",
              "        [[133.0028  , 169.0028  , 193.0028  ],\n",
              "         [134.92188 , 170.92188 , 194.92188 ],\n",
              "         [136.      , 172.      , 196.      ],\n",
              "         ...,\n",
              "         [145.99219 , 183.99219 , 204.99219 ],\n",
              "         [145.      , 183.      , 206.      ],\n",
              "         [144.99219 , 182.99219 , 205.99219 ]],\n",
              "\n",
              "        [[135.      , 171.      , 195.      ],\n",
              "         [135.      , 171.      , 195.      ],\n",
              "         [134.83655 , 170.83655 , 194.83655 ],\n",
              "         ...,\n",
              "         [144.      , 182.      , 203.      ],\n",
              "         [144.      , 182.      , 205.      ],\n",
              "         [144.      , 182.      , 205.      ]],\n",
              "\n",
              "        [[135.      , 171.      , 195.      ],\n",
              "         [134.39844 , 170.39844 , 194.39844 ],\n",
              "         [134.      , 170.      , 194.      ],\n",
              "         ...,\n",
              "         [146.      , 184.      , 205.      ],\n",
              "         [145.      , 183.      , 206.      ],\n",
              "         [144.      , 182.      , 205.      ]]],\n",
              "\n",
              "\n",
              "       [[[218.16992 , 237.16992 , 251.16992 ],\n",
              "         [218.1634  , 237.1634  , 251.1634  ],\n",
              "         [215.25586 , 234.25586 , 248.25586 ],\n",
              "         ...,\n",
              "         [224.81749 , 238.81749 , 249.81749 ],\n",
              "         [226.84961 , 240.84961 , 251.84961 ],\n",
              "         [226.14691 , 240.14691 , 251.14691 ]],\n",
              "\n",
              "        [[214.95052 , 233.95052 , 247.95052 ],\n",
              "         [215.85156 , 234.85156 , 248.85156 ],\n",
              "         [217.04947 , 236.04947 , 250.04947 ],\n",
              "         ...,\n",
              "         [227.33136 , 241.33136 , 252.33136 ],\n",
              "         [228.8125  , 242.8125  , 253.8125  ],\n",
              "         [226.60872 , 240.60872 , 251.60872 ]],\n",
              "\n",
              "        [[218.8483  , 237.8483  , 251.8483  ],\n",
              "         [217.28125 , 236.28125 , 250.28125 ],\n",
              "         [215.13367 , 234.13367 , 248.13367 ],\n",
              "         ...,\n",
              "         [227.40065 , 241.40065 , 250.40065 ],\n",
              "         [229.      , 243.      , 252.      ],\n",
              "         [228.05772 , 242.05772 , 252.83789 ]],\n",
              "\n",
              "        ...,\n",
              "\n",
              "        [[252.15343 , 254.15343 , 253.15343 ],\n",
              "         [252.      , 254.      , 253.      ],\n",
              "         [253.      , 255.      , 254.      ],\n",
              "         ...,\n",
              "         [244.34375 , 253.3902  , 252.4082  ],\n",
              "         [246.      , 255.      , 254.      ],\n",
              "         [249.      , 255.      , 255.      ]],\n",
              "\n",
              "        [[253.18294 , 255.      , 254.18294 ],\n",
              "         [253.08398 , 255.      , 254.08398 ],\n",
              "         [253.      , 255.      , 254.      ],\n",
              "         ...,\n",
              "         [245.70312 , 254.76758 , 253.76758 ],\n",
              "         [246.      , 255.      , 254.      ],\n",
              "         [249.60417 , 255.      , 255.      ]],\n",
              "\n",
              "        [[252.25586 , 254.25586 , 253.25586 ],\n",
              "         [253.      , 255.      , 254.      ],\n",
              "         [253.      , 255.      , 254.      ],\n",
              "         ...,\n",
              "         [245.93555 , 255.      , 254.      ],\n",
              "         [246.25586 , 255.      , 254.25586 ],\n",
              "         [248.      , 254.      , 254.      ]]],\n",
              "\n",
              "\n",
              "       [[[204.84387 , 186.84387 , 140.84387 ],\n",
              "         [204.46838 , 186.46838 , 140.46838 ],\n",
              "         [203.74219 , 185.74219 , 139.74219 ],\n",
              "         ...,\n",
              "         [213.      , 214.      , 209.      ],\n",
              "         [212.40588 , 213.40588 , 208.40588 ],\n",
              "         [211.51562 , 212.51562 , 207.51562 ]],\n",
              "\n",
              "        [[205.25781 , 187.25781 , 141.25781 ],\n",
              "         [205.45312 , 187.45312 , 141.45312 ],\n",
              "         [203.90442 , 185.90442 , 139.90442 ],\n",
              "         ...,\n",
              "         [213.      , 214.      , 209.      ],\n",
              "         [211.54688 , 212.54688 , 207.54688 ],\n",
              "         [212.      , 213.      , 208.      ]],\n",
              "\n",
              "        [[205.59314 , 187.59314 , 141.59314 ],\n",
              "         [203.96692 , 185.96692 , 139.96692 ],\n",
              "         [202.87805 , 184.87805 , 138.87805 ],\n",
              "         ...,\n",
              "         [212.71094 , 213.71094 , 208.71094 ],\n",
              "         [211.84192 , 212.84192 , 207.84192 ],\n",
              "         [211.43811 , 212.43811 , 207.43811 ]],\n",
              "\n",
              "        ...,\n",
              "\n",
              "        [[201.78247 , 182.78247 , 140.78247 ],\n",
              "         [202.32214 , 183.32214 , 141.32214 ],\n",
              "         [203.57812 , 184.57812 , 142.57812 ],\n",
              "         ...,\n",
              "         [221.42188 , 220.42188 , 216.42188 ],\n",
              "         [222.      , 221.      , 217.      ],\n",
              "         [221.48438 , 222.48438 , 217.48438 ]],\n",
              "\n",
              "        [[200.48438 , 181.48438 , 139.48438 ],\n",
              "         [203.1239  , 184.1239  , 142.1239  ],\n",
              "         [200.22656 , 181.22656 , 139.22656 ],\n",
              "         ...,\n",
              "         [220.55286 , 219.55286 , 215.55286 ],\n",
              "         [220.      , 219.      , 215.      ],\n",
              "         [221.77344 , 222.77344 , 217.77344 ]],\n",
              "\n",
              "        [[200.6405  , 181.6405  , 139.6405  ],\n",
              "         [201.6637  , 182.6637  , 140.6637  ],\n",
              "         [202.47717 , 183.47717 , 141.47717 ],\n",
              "         ...,\n",
              "         [221.      , 220.      , 216.      ],\n",
              "         [220.71094 , 219.71094 , 215.71094 ],\n",
              "         [221.48438 , 222.48438 , 217.48438 ]]]], dtype=float32), array([[1., 0., 0., ..., 0., 0., 0.],\n",
              "       [0., 0., 0., ..., 1., 0., 0.],\n",
              "       [1., 0., 0., ..., 0., 0., 0.],\n",
              "       ...,\n",
              "       [0., 0., 0., ..., 0., 0., 0.],\n",
              "       [0., 0., 0., ..., 0., 0., 0.],\n",
              "       [0., 0., 0., ..., 0., 0., 0.]]))\n",
              "\tclass_weight=None\n",
              ")"
            ]
          },
          "metadata": {},
          "execution_count": 58
        }
      ]
    },
    {
      "cell_type": "code",
      "source": [
        "da_drop_model_2d_350_adam_clf.model_.save('/content/drive/MyDrive/Flatiron/103122/ntl01-dtsc-live-103122/temp_3/fruits-fresh-rotten/models/da_drop_model_2d_350_adam_clf')"
      ],
      "metadata": {
        "colab": {
          "base_uri": "https://localhost:8080/"
        },
        "id": "D1xfvfZL7gm8",
        "outputId": "1a925d67-eed5-4687-96c6-aa692ba48e56"
      },
      "execution_count": 59,
      "outputs": [
        {
          "output_type": "stream",
          "name": "stderr",
          "text": [
            "WARNING:tensorflow:Using a while_loop for converting RngReadAndSkip cause there is no registered converter for this op.\n",
            "WARNING:tensorflow:Using a while_loop for converting Bitcast cause there is no registered converter for this op.\n",
            "WARNING:tensorflow:Using a while_loop for converting Bitcast cause there is no registered converter for this op.\n",
            "WARNING:tensorflow:Using a while_loop for converting StatelessRandomUniformFullIntV2 cause there is no registered converter for this op.\n",
            "WARNING:tensorflow:Using a while_loop for converting StatelessRandomGetKeyCounter cause there is no registered converter for this op.\n",
            "WARNING:tensorflow:Using a while_loop for converting StatelessRandomUniformV2 cause there is no registered converter for this op.\n",
            "WARNING:tensorflow:Using a while_loop for converting RngReadAndSkip cause there is no registered converter for this op.\n",
            "WARNING:tensorflow:Using a while_loop for converting Bitcast cause there is no registered converter for this op.\n",
            "WARNING:tensorflow:Using a while_loop for converting Bitcast cause there is no registered converter for this op.\n",
            "WARNING:tensorflow:Using a while_loop for converting StatelessRandomUniformV2 cause there is no registered converter for this op.\n",
            "WARNING:tensorflow:Using a while_loop for converting ImageProjectiveTransformV3 cause there is no registered converter for this op.\n",
            "WARNING:tensorflow:Using a while_loop for converting RngReadAndSkip cause there is no registered converter for this op.\n",
            "WARNING:tensorflow:Using a while_loop for converting Bitcast cause there is no registered converter for this op.\n",
            "WARNING:tensorflow:Using a while_loop for converting Bitcast cause there is no registered converter for this op.\n",
            "WARNING:tensorflow:Using a while_loop for converting StatelessRandomUniformV2 cause there is no registered converter for this op.\n",
            "WARNING:tensorflow:Using a while_loop for converting ImageProjectiveTransformV3 cause there is no registered converter for this op.\n",
            "WARNING:tensorflow:Using a while_loop for converting RngReadAndSkip cause there is no registered converter for this op.\n",
            "WARNING:tensorflow:Using a while_loop for converting Bitcast cause there is no registered converter for this op.\n",
            "WARNING:tensorflow:Using a while_loop for converting Bitcast cause there is no registered converter for this op.\n",
            "WARNING:tensorflow:Using a while_loop for converting StatelessRandomUniformV2 cause there is no registered converter for this op.\n",
            "WARNING:tensorflow:Using a while_loop for converting ImageProjectiveTransformV3 cause there is no registered converter for this op.\n",
            "WARNING:tensorflow:Using a while_loop for converting RngReadAndSkip cause there is no registered converter for this op.\n",
            "WARNING:tensorflow:Using a while_loop for converting Bitcast cause there is no registered converter for this op.\n",
            "WARNING:tensorflow:Using a while_loop for converting Bitcast cause there is no registered converter for this op.\n",
            "WARNING:tensorflow:Using a while_loop for converting StatelessRandomUniformV2 cause there is no registered converter for this op.\n",
            "WARNING:tensorflow:Using a while_loop for converting ImageProjectiveTransformV3 cause there is no registered converter for this op.\n",
            "WARNING:tensorflow:Using a while_loop for converting RngReadAndSkip cause there is no registered converter for this op.\n",
            "WARNING:tensorflow:Using a while_loop for converting Bitcast cause there is no registered converter for this op.\n",
            "WARNING:tensorflow:Using a while_loop for converting Bitcast cause there is no registered converter for this op.\n",
            "WARNING:tensorflow:Using a while_loop for converting StatelessRandomUniformFullIntV2 cause there is no registered converter for this op.\n",
            "WARNING:tensorflow:Using a while_loop for converting StatelessRandomGetKeyCounter cause there is no registered converter for this op.\n",
            "WARNING:tensorflow:Using a while_loop for converting StatelessRandomUniformV2 cause there is no registered converter for this op.\n",
            "WARNING:tensorflow:Using a while_loop for converting RngReadAndSkip cause there is no registered converter for this op.\n",
            "WARNING:tensorflow:Using a while_loop for converting Bitcast cause there is no registered converter for this op.\n",
            "WARNING:tensorflow:Using a while_loop for converting Bitcast cause there is no registered converter for this op.\n",
            "WARNING:tensorflow:Using a while_loop for converting StatelessRandomUniformV2 cause there is no registered converter for this op.\n",
            "WARNING:tensorflow:Using a while_loop for converting ImageProjectiveTransformV3 cause there is no registered converter for this op.\n",
            "WARNING:tensorflow:Using a while_loop for converting RngReadAndSkip cause there is no registered converter for this op.\n",
            "WARNING:tensorflow:Using a while_loop for converting Bitcast cause there is no registered converter for this op.\n",
            "WARNING:tensorflow:Using a while_loop for converting Bitcast cause there is no registered converter for this op.\n",
            "WARNING:tensorflow:Using a while_loop for converting StatelessRandomUniformV2 cause there is no registered converter for this op.\n",
            "WARNING:tensorflow:Using a while_loop for converting ImageProjectiveTransformV3 cause there is no registered converter for this op.\n",
            "WARNING:tensorflow:Using a while_loop for converting RngReadAndSkip cause there is no registered converter for this op.\n",
            "WARNING:tensorflow:Using a while_loop for converting Bitcast cause there is no registered converter for this op.\n",
            "WARNING:tensorflow:Using a while_loop for converting Bitcast cause there is no registered converter for this op.\n",
            "WARNING:tensorflow:Using a while_loop for converting StatelessRandomUniformFullIntV2 cause there is no registered converter for this op.\n",
            "WARNING:tensorflow:Using a while_loop for converting StatelessRandomGetKeyCounter cause there is no registered converter for this op.\n",
            "WARNING:tensorflow:Using a while_loop for converting StatelessRandomUniformV2 cause there is no registered converter for this op.\n",
            "WARNING:tensorflow:Using a while_loop for converting RngReadAndSkip cause there is no registered converter for this op.\n",
            "WARNING:tensorflow:Using a while_loop for converting Bitcast cause there is no registered converter for this op.\n",
            "WARNING:tensorflow:Using a while_loop for converting Bitcast cause there is no registered converter for this op.\n",
            "WARNING:tensorflow:Using a while_loop for converting StatelessRandomUniformV2 cause there is no registered converter for this op.\n",
            "WARNING:tensorflow:Using a while_loop for converting ImageProjectiveTransformV3 cause there is no registered converter for this op.\n",
            "WARNING:tensorflow:Using a while_loop for converting RngReadAndSkip cause there is no registered converter for this op.\n",
            "WARNING:tensorflow:Using a while_loop for converting Bitcast cause there is no registered converter for this op.\n",
            "WARNING:tensorflow:Using a while_loop for converting Bitcast cause there is no registered converter for this op.\n",
            "WARNING:tensorflow:Using a while_loop for converting StatelessRandomUniformV2 cause there is no registered converter for this op.\n",
            "WARNING:tensorflow:Using a while_loop for converting ImageProjectiveTransformV3 cause there is no registered converter for this op.\n",
            "WARNING:tensorflow:Using a while_loop for converting RngReadAndSkip cause there is no registered converter for this op.\n",
            "WARNING:tensorflow:Using a while_loop for converting Bitcast cause there is no registered converter for this op.\n",
            "WARNING:tensorflow:Using a while_loop for converting Bitcast cause there is no registered converter for this op.\n",
            "WARNING:tensorflow:Using a while_loop for converting StatelessRandomUniformFullIntV2 cause there is no registered converter for this op.\n",
            "WARNING:tensorflow:Using a while_loop for converting StatelessRandomGetKeyCounter cause there is no registered converter for this op.\n",
            "WARNING:tensorflow:Using a while_loop for converting StatelessRandomUniformV2 cause there is no registered converter for this op.\n",
            "WARNING:absl:Found untraced functions such as _jit_compiled_convolution_op, _jit_compiled_convolution_op, _jit_compiled_convolution_op while saving (showing 3 of 3). These functions will not be directly callable after loading.\n"
          ]
        }
      ]
    },
    {
      "cell_type": "code",
      "source": [
        "da_drop_model_2d_350_adam_clf.history_['val_accuracy'][-1]"
      ],
      "metadata": {
        "id": "9TsDKz1b7gu_"
      },
      "execution_count": null,
      "outputs": []
    },
    {
      "cell_type": "code",
      "source": [
        "da_drop_model_2d_350_adam_clf_hist = da_drop_model_2d_350_adam_clf.history_"
      ],
      "metadata": {
        "id": "RMsuvcNm7g3L"
      },
      "execution_count": 61,
      "outputs": []
    },
    {
      "cell_type": "code",
      "source": [
        "json.dump(fsm_model_clf.history_, open('/content/drive/MyDrive/Flatiron/103122/ntl01-dtsc-live-103122/temp_3/fruits-fresh-rotten/models/da_drop_model_2d_350_adam_clf/history', 'w'))"
      ],
      "metadata": {
        "id": "IZklHRv5bYVp"
      },
      "execution_count": 62,
      "outputs": []
    },
    {
      "cell_type": "code",
      "source": [
        "history_dict = json.load(open('/content/drive/MyDrive/Flatiron/103122/ntl01-dtsc-live-103122/temp_3/fruits-fresh-rotten/models/da_drop_model_2d_350_adam_clf/history', 'r'))"
      ],
      "metadata": {
        "id": "yP8GNvS9D3Uw"
      },
      "execution_count": 6,
      "outputs": []
    },
    {
      "cell_type": "code",
      "source": [
        "history_dict"
      ],
      "metadata": {
        "colab": {
          "base_uri": "https://localhost:8080/"
        },
        "id": "w-CGWj0oD_CW",
        "outputId": "89419704-dee7-4ddd-cae8-5959e4931216"
      },
      "execution_count": 7,
      "outputs": [
        {
          "output_type": "execute_result",
          "data": {
            "text/plain": [
              "[0.5367646813392639, 0.5147058963775635, 0.4797794222831726]"
            ]
          },
          "metadata": {},
          "execution_count": 7
        }
      ]
    },
    {
      "cell_type": "code",
      "source": [
        "# summarize history for accuracy\n",
        "plt.plot(da_drop_model_2d_350_adam_clf.history_['accuracy'])\n",
        "plt.plot(da_drop_model_2d_350_adam_clf.history_['val_accuracy'])\n",
        "plt.title('model accuracy')\n",
        "plt.ylabel('accuracy')\n",
        "plt.xlabel('epoch')\n",
        "plt.legend(['Train', 'Validation'], loc='upper left')\n",
        "plt.show()\n",
        "# summarize history for loss\n",
        "plt.plot(da_drop_model_2d_350_adam_clf.history_['loss'])\n",
        "plt.plot(da_drop_model_2d_350_adam_clf.history_['val_loss'])\n",
        "plt.title('model loss')\n",
        "plt.ylabel('loss')\n",
        "plt.xlabel('epoch')\n",
        "plt.legend(['Train', 'Validation'], loc='upper left')\n",
        "plt.show()"
      ],
      "metadata": {
        "id": "6N6ExtUsbYeA"
      },
      "execution_count": null,
      "outputs": []
    },
    {
      "cell_type": "markdown",
      "source": [
        "## Brute Force"
      ],
      "metadata": {
        "id": "XSKnMyZhroIz"
      }
    },
    {
      "cell_type": "markdown",
      "source": [
        "To check if \"brute force\" is the driving factor,\n",
        "the following model was train with a higher dropout,\n",
        "and a much higher nunber of epochs at 800."
      ],
      "metadata": {
        "id": "E80kwFrRKljT"
      }
    },
    {
      "cell_type": "code",
      "source": [
        "da_drop_model_2d_9_800 = tf.keras.Sequential([\n",
        "\n",
        "  resize_and_rescale,\n",
        "  data_augmentation,\n",
        "    \n",
        "  layers.Conv2D(filters=32,kernel_size=3,padding=\"same\",activation=\"relu\"),\n",
        "  layers.MaxPooling2D(pool_size=2),    \n",
        "  layers.Conv2D(filters=64,kernel_size=3,padding=\"same\",activation=\"relu\"),\n",
        "  layers.MaxPooling2D(pool_size=2),\n",
        "  layers.Conv2D(filters=128,kernel_size=3,padding=\"same\",activation =\"relu\"),\n",
        "  layers.MaxPooling2D(pool_size=2),\n",
        "  layers.Dropout(.5),\n",
        "    \n",
        "  layers.Flatten(),\n",
        "\n",
        "  layers.Dense(1000,activation=\"relu\"),\n",
        "  layers.Dropout(.9),\n",
        "  layers.Dense(16,activation=\"softmax\")\n",
        "])"
      ],
      "metadata": {
        "colab": {
          "base_uri": "https://localhost:8080/"
        },
        "id": "3n-JzLUTFDn6",
        "outputId": "a8dc9daa-e526-4aab-a942-243341cb218e"
      },
      "execution_count": null,
      "outputs": [
        {
          "output_type": "stream",
          "name": "stderr",
          "text": [
            "WARNING:tensorflow:Using a while_loop for converting RngReadAndSkip cause there is no registered converter for this op.\n",
            "WARNING:tensorflow:Using a while_loop for converting Bitcast cause there is no registered converter for this op.\n",
            "WARNING:tensorflow:Using a while_loop for converting Bitcast cause there is no registered converter for this op.\n",
            "WARNING:tensorflow:Using a while_loop for converting StatelessRandomUniformV2 cause there is no registered converter for this op.\n",
            "WARNING:tensorflow:Using a while_loop for converting ImageProjectiveTransformV3 cause there is no registered converter for this op.\n",
            "WARNING:tensorflow:Using a while_loop for converting RngReadAndSkip cause there is no registered converter for this op.\n",
            "WARNING:tensorflow:Using a while_loop for converting Bitcast cause there is no registered converter for this op.\n",
            "WARNING:tensorflow:Using a while_loop for converting Bitcast cause there is no registered converter for this op.\n",
            "WARNING:tensorflow:Using a while_loop for converting StatelessRandomUniformV2 cause there is no registered converter for this op.\n",
            "WARNING:tensorflow:Using a while_loop for converting ImageProjectiveTransformV3 cause there is no registered converter for this op.\n",
            "WARNING:tensorflow:Using a while_loop for converting RngReadAndSkip cause there is no registered converter for this op.\n",
            "WARNING:tensorflow:Using a while_loop for converting Bitcast cause there is no registered converter for this op.\n",
            "WARNING:tensorflow:Using a while_loop for converting Bitcast cause there is no registered converter for this op.\n",
            "WARNING:tensorflow:Using a while_loop for converting StatelessRandomUniformFullIntV2 cause there is no registered converter for this op.\n",
            "WARNING:tensorflow:Using a while_loop for converting StatelessRandomGetKeyCounter cause there is no registered converter for this op.\n",
            "WARNING:tensorflow:Using a while_loop for converting StatelessRandomUniformV2 cause there is no registered converter for this op.\n"
          ]
        }
      ]
    },
    {
      "cell_type": "code",
      "source": [
        "da_drop_model_2d_9_800_clf = KerasClassifier(\n",
        "    model=da_drop_model_2d_9_800,\n",
        "    loss=\"categorical_crossentropy\",\n",
        "    fit__validation_data=(val_images, val_labels_encoded),\n",
        "    metrics=['accuracy'],\n",
        "    epochs=800\n",
        ")"
      ],
      "metadata": {
        "id": "5TvV3pstFDNN"
      },
      "execution_count": null,
      "outputs": []
    },
    {
      "cell_type": "code",
      "source": [
        "da_drop_model_2d_9_800_clf.fit(train_images, train_labels_encoded)"
      ],
      "metadata": {
        "colab": {
          "base_uri": "https://localhost:8080/"
        },
        "id": "obHWrtETFEWU",
        "outputId": "4a49cba2-9614-4880-9e4e-542030c7051e"
      },
      "execution_count": null,
      "outputs": [
        {
          "output_type": "stream",
          "name": "stdout",
          "text": [
            "Epoch 1/800\n"
          ]
        },
        {
          "output_type": "stream",
          "name": "stderr",
          "text": [
            "WARNING:tensorflow:Using a while_loop for converting RngReadAndSkip cause there is no registered converter for this op.\n",
            "WARNING:tensorflow:Using a while_loop for converting Bitcast cause there is no registered converter for this op.\n",
            "WARNING:tensorflow:Using a while_loop for converting Bitcast cause there is no registered converter for this op.\n",
            "WARNING:tensorflow:Using a while_loop for converting StatelessRandomUniformV2 cause there is no registered converter for this op.\n",
            "WARNING:tensorflow:Using a while_loop for converting ImageProjectiveTransformV3 cause there is no registered converter for this op.\n",
            "WARNING:tensorflow:Using a while_loop for converting RngReadAndSkip cause there is no registered converter for this op.\n",
            "WARNING:tensorflow:Using a while_loop for converting Bitcast cause there is no registered converter for this op.\n",
            "WARNING:tensorflow:Using a while_loop for converting Bitcast cause there is no registered converter for this op.\n",
            "WARNING:tensorflow:Using a while_loop for converting StatelessRandomUniformV2 cause there is no registered converter for this op.\n",
            "WARNING:tensorflow:Using a while_loop for converting ImageProjectiveTransformV3 cause there is no registered converter for this op.\n",
            "WARNING:tensorflow:Using a while_loop for converting RngReadAndSkip cause there is no registered converter for this op.\n",
            "WARNING:tensorflow:Using a while_loop for converting Bitcast cause there is no registered converter for this op.\n",
            "WARNING:tensorflow:Using a while_loop for converting Bitcast cause there is no registered converter for this op.\n",
            "WARNING:tensorflow:Using a while_loop for converting StatelessRandomUniformFullIntV2 cause there is no registered converter for this op.\n",
            "WARNING:tensorflow:Using a while_loop for converting StatelessRandomGetKeyCounter cause there is no registered converter for this op.\n",
            "WARNING:tensorflow:Using a while_loop for converting StatelessRandomUniformV2 cause there is no registered converter for this op.\n",
            "WARNING:tensorflow:Using a while_loop for converting RngReadAndSkip cause there is no registered converter for this op.\n",
            "WARNING:tensorflow:Using a while_loop for converting Bitcast cause there is no registered converter for this op.\n",
            "WARNING:tensorflow:Using a while_loop for converting Bitcast cause there is no registered converter for this op.\n",
            "WARNING:tensorflow:Using a while_loop for converting StatelessRandomUniformV2 cause there is no registered converter for this op.\n",
            "WARNING:tensorflow:Using a while_loop for converting ImageProjectiveTransformV3 cause there is no registered converter for this op.\n",
            "WARNING:tensorflow:Using a while_loop for converting RngReadAndSkip cause there is no registered converter for this op.\n",
            "WARNING:tensorflow:Using a while_loop for converting Bitcast cause there is no registered converter for this op.\n",
            "WARNING:tensorflow:Using a while_loop for converting Bitcast cause there is no registered converter for this op.\n",
            "WARNING:tensorflow:Using a while_loop for converting StatelessRandomUniformV2 cause there is no registered converter for this op.\n",
            "WARNING:tensorflow:Using a while_loop for converting ImageProjectiveTransformV3 cause there is no registered converter for this op.\n",
            "WARNING:tensorflow:Using a while_loop for converting RngReadAndSkip cause there is no registered converter for this op.\n",
            "WARNING:tensorflow:Using a while_loop for converting Bitcast cause there is no registered converter for this op.\n",
            "WARNING:tensorflow:Using a while_loop for converting Bitcast cause there is no registered converter for this op.\n",
            "WARNING:tensorflow:Using a while_loop for converting StatelessRandomUniformFullIntV2 cause there is no registered converter for this op.\n",
            "WARNING:tensorflow:Using a while_loop for converting StatelessRandomGetKeyCounter cause there is no registered converter for this op.\n",
            "WARNING:tensorflow:Using a while_loop for converting StatelessRandomUniformV2 cause there is no registered converter for this op.\n"
          ]
        },
        {
          "output_type": "stream",
          "name": "stdout",
          "text": [
            "85/85 [==============================] - 22s 206ms/step - loss: 2.9452 - accuracy: 0.1364 - val_loss: 2.1298 - val_accuracy: 0.3656\n",
            "Epoch 2/800\n",
            "85/85 [==============================] - 17s 199ms/step - loss: 2.0863 - accuracy: 0.3162 - val_loss: 1.7138 - val_accuracy: 0.4500\n",
            "Epoch 3/800\n",
            "85/85 [==============================] - 17s 200ms/step - loss: 1.7710 - accuracy: 0.4136 - val_loss: 1.3364 - val_accuracy: 0.5906\n",
            "Epoch 4/800\n",
            "85/85 [==============================] - 17s 202ms/step - loss: 1.5423 - accuracy: 0.4835 - val_loss: 1.2620 - val_accuracy: 0.6187\n",
            "Epoch 5/800\n",
            "85/85 [==============================] - 17s 201ms/step - loss: 1.3889 - accuracy: 0.5312 - val_loss: 1.3561 - val_accuracy: 0.5594\n",
            "Epoch 6/800\n",
            "85/85 [==============================] - 17s 203ms/step - loss: 1.2817 - accuracy: 0.5779 - val_loss: 1.0350 - val_accuracy: 0.6812\n",
            "Epoch 7/800\n",
            "85/85 [==============================] - 17s 200ms/step - loss: 1.1667 - accuracy: 0.6173 - val_loss: 1.0413 - val_accuracy: 0.6656\n",
            "Epoch 8/800\n",
            "85/85 [==============================] - 17s 200ms/step - loss: 1.0832 - accuracy: 0.6504 - val_loss: 1.2038 - val_accuracy: 0.6656\n",
            "Epoch 9/800\n",
            "85/85 [==============================] - 17s 199ms/step - loss: 1.0556 - accuracy: 0.6574 - val_loss: 0.9503 - val_accuracy: 0.6969\n",
            "Epoch 10/800\n",
            "85/85 [==============================] - 17s 200ms/step - loss: 0.9794 - accuracy: 0.6857 - val_loss: 1.0475 - val_accuracy: 0.6781\n",
            "Epoch 11/800\n",
            "85/85 [==============================] - 17s 201ms/step - loss: 0.9306 - accuracy: 0.6949 - val_loss: 1.2364 - val_accuracy: 0.6687\n",
            "Epoch 12/800\n",
            "85/85 [==============================] - 17s 204ms/step - loss: 0.9448 - accuracy: 0.7004 - val_loss: 0.9013 - val_accuracy: 0.7500\n",
            "Epoch 13/800\n",
            "85/85 [==============================] - 17s 200ms/step - loss: 0.8390 - accuracy: 0.7290 - val_loss: 0.9154 - val_accuracy: 0.7406\n",
            "Epoch 14/800\n",
            "85/85 [==============================] - 17s 201ms/step - loss: 0.8210 - accuracy: 0.7338 - val_loss: 0.9288 - val_accuracy: 0.7406\n",
            "Epoch 15/800\n",
            "85/85 [==============================] - 17s 199ms/step - loss: 0.7585 - accuracy: 0.7599 - val_loss: 1.0600 - val_accuracy: 0.6562\n",
            "Epoch 16/800\n",
            "85/85 [==============================] - 17s 199ms/step - loss: 0.7245 - accuracy: 0.7548 - val_loss: 0.8814 - val_accuracy: 0.7312\n",
            "Epoch 17/800\n",
            "85/85 [==============================] - 17s 201ms/step - loss: 0.7470 - accuracy: 0.7636 - val_loss: 0.9551 - val_accuracy: 0.7531\n",
            "Epoch 18/800\n",
            "85/85 [==============================] - 17s 200ms/step - loss: 0.7189 - accuracy: 0.7746 - val_loss: 1.0175 - val_accuracy: 0.7375\n",
            "Epoch 19/800\n",
            "85/85 [==============================] - 17s 203ms/step - loss: 0.7080 - accuracy: 0.7761 - val_loss: 1.2474 - val_accuracy: 0.7281\n",
            "Epoch 20/800\n",
            "85/85 [==============================] - 17s 201ms/step - loss: 0.6695 - accuracy: 0.7860 - val_loss: 1.0426 - val_accuracy: 0.7156\n",
            "Epoch 21/800\n",
            "85/85 [==============================] - 17s 201ms/step - loss: 0.6847 - accuracy: 0.7820 - val_loss: 0.7031 - val_accuracy: 0.7969\n",
            "Epoch 22/800\n",
            "85/85 [==============================] - 17s 203ms/step - loss: 0.6582 - accuracy: 0.7982 - val_loss: 0.6372 - val_accuracy: 0.8094\n",
            "Epoch 23/800\n",
            "85/85 [==============================] - 17s 202ms/step - loss: 0.6520 - accuracy: 0.7915 - val_loss: 0.6407 - val_accuracy: 0.8219\n",
            "Epoch 24/800\n",
            "85/85 [==============================] - 17s 202ms/step - loss: 0.6442 - accuracy: 0.8033 - val_loss: 0.5028 - val_accuracy: 0.8562\n",
            "Epoch 25/800\n",
            "85/85 [==============================] - 17s 204ms/step - loss: 0.5908 - accuracy: 0.8118 - val_loss: 0.5956 - val_accuracy: 0.8094\n",
            "Epoch 26/800\n",
            "85/85 [==============================] - 17s 202ms/step - loss: 0.5756 - accuracy: 0.8279 - val_loss: 0.5035 - val_accuracy: 0.8469\n",
            "Epoch 27/800\n",
            "85/85 [==============================] - 17s 202ms/step - loss: 0.5576 - accuracy: 0.8246 - val_loss: 0.9613 - val_accuracy: 0.7625\n",
            "Epoch 28/800\n",
            "85/85 [==============================] - 17s 200ms/step - loss: 0.6831 - accuracy: 0.8235 - val_loss: 0.4649 - val_accuracy: 0.8625\n",
            "Epoch 29/800\n",
            "85/85 [==============================] - 17s 201ms/step - loss: 0.5822 - accuracy: 0.8195 - val_loss: 0.6056 - val_accuracy: 0.8250\n",
            "Epoch 30/800\n",
            "85/85 [==============================] - 17s 201ms/step - loss: 0.5830 - accuracy: 0.8313 - val_loss: 0.6591 - val_accuracy: 0.8406\n",
            "Epoch 31/800\n",
            "85/85 [==============================] - 17s 200ms/step - loss: 0.5400 - accuracy: 0.8287 - val_loss: 0.7375 - val_accuracy: 0.8281\n",
            "Epoch 32/800\n",
            "85/85 [==============================] - 17s 200ms/step - loss: 0.5932 - accuracy: 0.8243 - val_loss: 0.6436 - val_accuracy: 0.8125\n",
            "Epoch 33/800\n",
            "85/85 [==============================] - 17s 201ms/step - loss: 0.5458 - accuracy: 0.8438 - val_loss: 0.5531 - val_accuracy: 0.8375\n",
            "Epoch 34/800\n",
            "85/85 [==============================] - 17s 200ms/step - loss: 0.5462 - accuracy: 0.8357 - val_loss: 0.3973 - val_accuracy: 0.8875\n",
            "Epoch 35/800\n",
            "85/85 [==============================] - 17s 199ms/step - loss: 0.5182 - accuracy: 0.8404 - val_loss: 0.7619 - val_accuracy: 0.7969\n",
            "Epoch 36/800\n",
            "85/85 [==============================] - 17s 199ms/step - loss: 0.5418 - accuracy: 0.8463 - val_loss: 0.5796 - val_accuracy: 0.8156\n",
            "Epoch 37/800\n",
            "85/85 [==============================] - 17s 200ms/step - loss: 0.5535 - accuracy: 0.8426 - val_loss: 0.5142 - val_accuracy: 0.8750\n",
            "Epoch 38/800\n",
            "85/85 [==============================] - 17s 198ms/step - loss: 0.5241 - accuracy: 0.8397 - val_loss: 0.4742 - val_accuracy: 0.8656\n",
            "Epoch 39/800\n",
            "85/85 [==============================] - 17s 199ms/step - loss: 0.5087 - accuracy: 0.8493 - val_loss: 0.6302 - val_accuracy: 0.8313\n",
            "Epoch 40/800\n",
            "85/85 [==============================] - 17s 200ms/step - loss: 0.5301 - accuracy: 0.8518 - val_loss: 0.5087 - val_accuracy: 0.8438\n",
            "Epoch 41/800\n",
            "85/85 [==============================] - 17s 199ms/step - loss: 0.5321 - accuracy: 0.8482 - val_loss: 0.5697 - val_accuracy: 0.8281\n",
            "Epoch 42/800\n",
            "85/85 [==============================] - 17s 199ms/step - loss: 0.5133 - accuracy: 0.8504 - val_loss: 1.1755 - val_accuracy: 0.7219\n",
            "Epoch 43/800\n",
            "85/85 [==============================] - 17s 199ms/step - loss: 0.4928 - accuracy: 0.8551 - val_loss: 0.4973 - val_accuracy: 0.8625\n",
            "Epoch 44/800\n",
            "85/85 [==============================] - 17s 198ms/step - loss: 0.5075 - accuracy: 0.8504 - val_loss: 0.3029 - val_accuracy: 0.8969\n",
            "Epoch 45/800\n",
            "85/85 [==============================] - 17s 199ms/step - loss: 0.4848 - accuracy: 0.8585 - val_loss: 0.7645 - val_accuracy: 0.8406\n",
            "Epoch 46/800\n",
            "85/85 [==============================] - 17s 198ms/step - loss: 0.5148 - accuracy: 0.8537 - val_loss: 0.5368 - val_accuracy: 0.8531\n",
            "Epoch 47/800\n",
            "85/85 [==============================] - 17s 198ms/step - loss: 0.4804 - accuracy: 0.8596 - val_loss: 0.4626 - val_accuracy: 0.8750\n",
            "Epoch 48/800\n",
            "85/85 [==============================] - 17s 200ms/step - loss: 0.4907 - accuracy: 0.8621 - val_loss: 0.9036 - val_accuracy: 0.8094\n",
            "Epoch 49/800\n",
            "85/85 [==============================] - 17s 200ms/step - loss: 0.4595 - accuracy: 0.8706 - val_loss: 0.4675 - val_accuracy: 0.8875\n",
            "Epoch 50/800\n",
            "85/85 [==============================] - 17s 201ms/step - loss: 0.5228 - accuracy: 0.8551 - val_loss: 0.4371 - val_accuracy: 0.8875\n",
            "Epoch 51/800\n",
            "85/85 [==============================] - 17s 198ms/step - loss: 0.4963 - accuracy: 0.8574 - val_loss: 0.5686 - val_accuracy: 0.8594\n",
            "Epoch 52/800\n",
            "85/85 [==============================] - 17s 199ms/step - loss: 0.4749 - accuracy: 0.8636 - val_loss: 0.3241 - val_accuracy: 0.9125\n",
            "Epoch 53/800\n",
            "85/85 [==============================] - 17s 199ms/step - loss: 0.5000 - accuracy: 0.8618 - val_loss: 0.7591 - val_accuracy: 0.8250\n",
            "Epoch 54/800\n",
            "85/85 [==============================] - 17s 199ms/step - loss: 0.4508 - accuracy: 0.8721 - val_loss: 0.7577 - val_accuracy: 0.8375\n",
            "Epoch 55/800\n",
            "85/85 [==============================] - 17s 199ms/step - loss: 0.4516 - accuracy: 0.8710 - val_loss: 0.6257 - val_accuracy: 0.8562\n",
            "Epoch 56/800\n",
            "85/85 [==============================] - 17s 200ms/step - loss: 0.4533 - accuracy: 0.8710 - val_loss: 0.4607 - val_accuracy: 0.8906\n",
            "Epoch 57/800\n",
            "85/85 [==============================] - 17s 199ms/step - loss: 0.5234 - accuracy: 0.8658 - val_loss: 0.5919 - val_accuracy: 0.8562\n",
            "Epoch 58/800\n",
            "85/85 [==============================] - 17s 199ms/step - loss: 0.4434 - accuracy: 0.8783 - val_loss: 0.4008 - val_accuracy: 0.8719\n",
            "Epoch 59/800\n",
            "85/85 [==============================] - 17s 198ms/step - loss: 0.4480 - accuracy: 0.8717 - val_loss: 0.4146 - val_accuracy: 0.8687\n",
            "Epoch 60/800\n",
            "85/85 [==============================] - 17s 198ms/step - loss: 0.4860 - accuracy: 0.8673 - val_loss: 0.3214 - val_accuracy: 0.9156\n",
            "Epoch 61/800\n",
            "85/85 [==============================] - 17s 195ms/step - loss: 0.4418 - accuracy: 0.8750 - val_loss: 0.4913 - val_accuracy: 0.8625\n",
            "Epoch 62/800\n",
            "85/85 [==============================] - 17s 196ms/step - loss: 0.4721 - accuracy: 0.8654 - val_loss: 0.5803 - val_accuracy: 0.8781\n",
            "Epoch 63/800\n",
            "85/85 [==============================] - 17s 198ms/step - loss: 0.4844 - accuracy: 0.8680 - val_loss: 1.2483 - val_accuracy: 0.7750\n",
            "Epoch 64/800\n",
            "85/85 [==============================] - 17s 195ms/step - loss: 0.4814 - accuracy: 0.8757 - val_loss: 0.6298 - val_accuracy: 0.8344\n",
            "Epoch 65/800\n",
            "85/85 [==============================] - 17s 195ms/step - loss: 0.4393 - accuracy: 0.8732 - val_loss: 0.4678 - val_accuracy: 0.8813\n",
            "Epoch 66/800\n",
            "85/85 [==============================] - 17s 195ms/step - loss: 0.4808 - accuracy: 0.8816 - val_loss: 0.3833 - val_accuracy: 0.9125\n",
            "Epoch 67/800\n",
            "85/85 [==============================] - 17s 198ms/step - loss: 0.4038 - accuracy: 0.8853 - val_loss: 0.5668 - val_accuracy: 0.8438\n",
            "Epoch 68/800\n",
            "85/85 [==============================] - 17s 197ms/step - loss: 0.4373 - accuracy: 0.8853 - val_loss: 0.8668 - val_accuracy: 0.8375\n",
            "Epoch 69/800\n",
            "85/85 [==============================] - 17s 196ms/step - loss: 0.4421 - accuracy: 0.8805 - val_loss: 0.3825 - val_accuracy: 0.8875\n",
            "Epoch 70/800\n",
            "85/85 [==============================] - 17s 197ms/step - loss: 0.5221 - accuracy: 0.8768 - val_loss: 0.7584 - val_accuracy: 0.8562\n",
            "Epoch 71/800\n",
            "85/85 [==============================] - 17s 196ms/step - loss: 0.3982 - accuracy: 0.8904 - val_loss: 0.4790 - val_accuracy: 0.8813\n",
            "Epoch 72/800\n",
            "85/85 [==============================] - 17s 195ms/step - loss: 0.4673 - accuracy: 0.8787 - val_loss: 0.3630 - val_accuracy: 0.8906\n",
            "Epoch 73/800\n",
            "85/85 [==============================] - 17s 195ms/step - loss: 0.4656 - accuracy: 0.8765 - val_loss: 0.5006 - val_accuracy: 0.9000\n",
            "Epoch 74/800\n",
            "85/85 [==============================] - 17s 196ms/step - loss: 0.6970 - accuracy: 0.8629 - val_loss: 1.4168 - val_accuracy: 0.7781\n",
            "Epoch 75/800\n",
            "85/85 [==============================] - 17s 196ms/step - loss: 0.4539 - accuracy: 0.8831 - val_loss: 0.4031 - val_accuracy: 0.8938\n",
            "Epoch 76/800\n",
            "85/85 [==============================] - 17s 196ms/step - loss: 0.5167 - accuracy: 0.8691 - val_loss: 0.5517 - val_accuracy: 0.8656\n",
            "Epoch 77/800\n",
            "85/85 [==============================] - 17s 198ms/step - loss: 0.4859 - accuracy: 0.8835 - val_loss: 0.3695 - val_accuracy: 0.9219\n",
            "Epoch 78/800\n",
            "85/85 [==============================] - 17s 196ms/step - loss: 0.4862 - accuracy: 0.8706 - val_loss: 0.4574 - val_accuracy: 0.8844\n",
            "Epoch 79/800\n",
            "85/85 [==============================] - 17s 195ms/step - loss: 0.4824 - accuracy: 0.8794 - val_loss: 0.6409 - val_accuracy: 0.8781\n",
            "Epoch 80/800\n",
            "85/85 [==============================] - 17s 196ms/step - loss: 0.4448 - accuracy: 0.8835 - val_loss: 0.9066 - val_accuracy: 0.8313\n",
            "Epoch 81/800\n",
            "85/85 [==============================] - 17s 196ms/step - loss: 0.4223 - accuracy: 0.8938 - val_loss: 1.3416 - val_accuracy: 0.8000\n",
            "Epoch 82/800\n",
            "85/85 [==============================] - 17s 197ms/step - loss: 0.4605 - accuracy: 0.8735 - val_loss: 0.5038 - val_accuracy: 0.8906\n",
            "Epoch 83/800\n",
            "85/85 [==============================] - 17s 196ms/step - loss: 0.4014 - accuracy: 0.8857 - val_loss: 1.9076 - val_accuracy: 0.7656\n",
            "Epoch 84/800\n",
            "85/85 [==============================] - 17s 197ms/step - loss: 0.6268 - accuracy: 0.8912 - val_loss: 1.9536 - val_accuracy: 0.7156\n",
            "Epoch 85/800\n",
            "85/85 [==============================] - 17s 196ms/step - loss: 0.4838 - accuracy: 0.8864 - val_loss: 0.6533 - val_accuracy: 0.8687\n",
            "Epoch 86/800\n",
            "85/85 [==============================] - 17s 198ms/step - loss: 0.4555 - accuracy: 0.8713 - val_loss: 0.8386 - val_accuracy: 0.8375\n",
            "Epoch 87/800\n",
            "85/85 [==============================] - 17s 197ms/step - loss: 0.4915 - accuracy: 0.8835 - val_loss: 0.4186 - val_accuracy: 0.9125\n",
            "Epoch 88/800\n",
            "85/85 [==============================] - 17s 197ms/step - loss: 0.4176 - accuracy: 0.8879 - val_loss: 0.3040 - val_accuracy: 0.9312\n",
            "Epoch 89/800\n",
            "85/85 [==============================] - 17s 196ms/step - loss: 0.4805 - accuracy: 0.8772 - val_loss: 0.4264 - val_accuracy: 0.9125\n",
            "Epoch 90/800\n",
            "85/85 [==============================] - 17s 196ms/step - loss: 0.4400 - accuracy: 0.8813 - val_loss: 0.3590 - val_accuracy: 0.8969\n",
            "Epoch 91/800\n",
            "85/85 [==============================] - 17s 197ms/step - loss: 0.4209 - accuracy: 0.8908 - val_loss: 0.5474 - val_accuracy: 0.8969\n",
            "Epoch 92/800\n",
            "85/85 [==============================] - 17s 198ms/step - loss: 0.5670 - accuracy: 0.8816 - val_loss: 0.3717 - val_accuracy: 0.9219\n",
            "Epoch 93/800\n",
            "85/85 [==============================] - 17s 196ms/step - loss: 0.4574 - accuracy: 0.8827 - val_loss: 1.2297 - val_accuracy: 0.8000\n",
            "Epoch 94/800\n",
            "85/85 [==============================] - 17s 196ms/step - loss: 0.4872 - accuracy: 0.8827 - val_loss: 0.3722 - val_accuracy: 0.9187\n",
            "Epoch 95/800\n",
            "85/85 [==============================] - 17s 197ms/step - loss: 0.4112 - accuracy: 0.8831 - val_loss: 0.6220 - val_accuracy: 0.8781\n",
            "Epoch 96/800\n",
            "85/85 [==============================] - 17s 197ms/step - loss: 0.4426 - accuracy: 0.8857 - val_loss: 0.3024 - val_accuracy: 0.9344\n",
            "Epoch 97/800\n",
            "85/85 [==============================] - 17s 197ms/step - loss: 0.4217 - accuracy: 0.8853 - val_loss: 1.0641 - val_accuracy: 0.8219\n",
            "Epoch 98/800\n",
            "85/85 [==============================] - 17s 198ms/step - loss: 0.4550 - accuracy: 0.8871 - val_loss: 0.8076 - val_accuracy: 0.8406\n",
            "Epoch 99/800\n",
            "85/85 [==============================] - 17s 197ms/step - loss: 0.5160 - accuracy: 0.8798 - val_loss: 0.7297 - val_accuracy: 0.8594\n",
            "Epoch 100/800\n",
            "85/85 [==============================] - 17s 197ms/step - loss: 0.4615 - accuracy: 0.8871 - val_loss: 0.8737 - val_accuracy: 0.8500\n",
            "Epoch 101/800\n",
            "85/85 [==============================] - 17s 197ms/step - loss: 0.4793 - accuracy: 0.8893 - val_loss: 0.4702 - val_accuracy: 0.8875\n",
            "Epoch 102/800\n",
            "85/85 [==============================] - 17s 198ms/step - loss: 0.4516 - accuracy: 0.8835 - val_loss: 0.9379 - val_accuracy: 0.8562\n",
            "Epoch 103/800\n",
            "85/85 [==============================] - 17s 197ms/step - loss: 0.4450 - accuracy: 0.8945 - val_loss: 0.6120 - val_accuracy: 0.8750\n",
            "Epoch 104/800\n",
            "85/85 [==============================] - 17s 198ms/step - loss: 0.4526 - accuracy: 0.8853 - val_loss: 0.6828 - val_accuracy: 0.8844\n",
            "Epoch 105/800\n",
            "85/85 [==============================] - 17s 199ms/step - loss: 0.4643 - accuracy: 0.8897 - val_loss: 0.6595 - val_accuracy: 0.9000\n",
            "Epoch 106/800\n",
            "85/85 [==============================] - 17s 198ms/step - loss: 0.4034 - accuracy: 0.8949 - val_loss: 0.5747 - val_accuracy: 0.9000\n",
            "Epoch 107/800\n",
            "85/85 [==============================] - 17s 196ms/step - loss: 0.5427 - accuracy: 0.8857 - val_loss: 1.5853 - val_accuracy: 0.7594\n",
            "Epoch 108/800\n",
            "85/85 [==============================] - 17s 197ms/step - loss: 0.4525 - accuracy: 0.8952 - val_loss: 0.5646 - val_accuracy: 0.8813\n",
            "Epoch 109/800\n",
            "85/85 [==============================] - 17s 197ms/step - loss: 0.6114 - accuracy: 0.8827 - val_loss: 0.6876 - val_accuracy: 0.8719\n",
            "Epoch 110/800\n",
            "85/85 [==============================] - 17s 197ms/step - loss: 0.4991 - accuracy: 0.8908 - val_loss: 0.9904 - val_accuracy: 0.8375\n",
            "Epoch 111/800\n",
            "85/85 [==============================] - 17s 196ms/step - loss: 0.4595 - accuracy: 0.8849 - val_loss: 1.0037 - val_accuracy: 0.8469\n",
            "Epoch 112/800\n",
            "85/85 [==============================] - 17s 198ms/step - loss: 0.4724 - accuracy: 0.8985 - val_loss: 1.0558 - val_accuracy: 0.8687\n",
            "Epoch 113/800\n",
            "85/85 [==============================] - 17s 197ms/step - loss: 0.4721 - accuracy: 0.8864 - val_loss: 0.4345 - val_accuracy: 0.9187\n",
            "Epoch 114/800\n",
            "85/85 [==============================] - 17s 197ms/step - loss: 0.4085 - accuracy: 0.8879 - val_loss: 0.4441 - val_accuracy: 0.8875\n",
            "Epoch 115/800\n",
            "85/85 [==============================] - 17s 197ms/step - loss: 0.4338 - accuracy: 0.8923 - val_loss: 0.7388 - val_accuracy: 0.8875\n",
            "Epoch 116/800\n",
            "85/85 [==============================] - 17s 197ms/step - loss: 0.4502 - accuracy: 0.8864 - val_loss: 1.0516 - val_accuracy: 0.8250\n",
            "Epoch 117/800\n",
            "85/85 [==============================] - 17s 197ms/step - loss: 0.4336 - accuracy: 0.8963 - val_loss: 0.8454 - val_accuracy: 0.8781\n",
            "Epoch 118/800\n",
            "85/85 [==============================] - 17s 197ms/step - loss: 0.4487 - accuracy: 0.8952 - val_loss: 0.5817 - val_accuracy: 0.8813\n",
            "Epoch 119/800\n",
            "85/85 [==============================] - 17s 197ms/step - loss: 0.4721 - accuracy: 0.8912 - val_loss: 0.3494 - val_accuracy: 0.9406\n",
            "Epoch 120/800\n",
            "85/85 [==============================] - 17s 197ms/step - loss: 0.4385 - accuracy: 0.8919 - val_loss: 0.7840 - val_accuracy: 0.8562\n",
            "Epoch 121/800\n",
            "85/85 [==============================] - 17s 198ms/step - loss: 0.4438 - accuracy: 0.8985 - val_loss: 0.7738 - val_accuracy: 0.8781\n",
            "Epoch 122/800\n",
            "85/85 [==============================] - 17s 198ms/step - loss: 0.4841 - accuracy: 0.8831 - val_loss: 0.4982 - val_accuracy: 0.9187\n",
            "Epoch 123/800\n",
            "85/85 [==============================] - 17s 199ms/step - loss: 0.3769 - accuracy: 0.9029 - val_loss: 0.7086 - val_accuracy: 0.8875\n",
            "Epoch 124/800\n",
            "85/85 [==============================] - 17s 197ms/step - loss: 0.4565 - accuracy: 0.8882 - val_loss: 1.0004 - val_accuracy: 0.8625\n",
            "Epoch 125/800\n",
            "85/85 [==============================] - 17s 197ms/step - loss: 0.4559 - accuracy: 0.8875 - val_loss: 0.5499 - val_accuracy: 0.9000\n",
            "Epoch 126/800\n",
            "85/85 [==============================] - 17s 197ms/step - loss: 0.4544 - accuracy: 0.8853 - val_loss: 1.6083 - val_accuracy: 0.8156\n",
            "Epoch 127/800\n",
            "85/85 [==============================] - 17s 196ms/step - loss: 0.4256 - accuracy: 0.8945 - val_loss: 0.7255 - val_accuracy: 0.8875\n",
            "Epoch 128/800\n",
            "85/85 [==============================] - 17s 197ms/step - loss: 0.4933 - accuracy: 0.8871 - val_loss: 0.6829 - val_accuracy: 0.9094\n",
            "Epoch 129/800\n",
            "85/85 [==============================] - 17s 197ms/step - loss: 0.4203 - accuracy: 0.8912 - val_loss: 0.7790 - val_accuracy: 0.8531\n",
            "Epoch 130/800\n",
            "85/85 [==============================] - 17s 197ms/step - loss: 0.4526 - accuracy: 0.8938 - val_loss: 0.6079 - val_accuracy: 0.8875\n",
            "Epoch 131/800\n",
            "85/85 [==============================] - 17s 196ms/step - loss: 0.4937 - accuracy: 0.8842 - val_loss: 0.5754 - val_accuracy: 0.8906\n",
            "Epoch 132/800\n",
            "85/85 [==============================] - 17s 197ms/step - loss: 0.5464 - accuracy: 0.8857 - val_loss: 0.4432 - val_accuracy: 0.9062\n",
            "Epoch 133/800\n",
            "85/85 [==============================] - 17s 197ms/step - loss: 0.3819 - accuracy: 0.9007 - val_loss: 0.7677 - val_accuracy: 0.8750\n",
            "Epoch 134/800\n",
            "85/85 [==============================] - 17s 196ms/step - loss: 0.4902 - accuracy: 0.8846 - val_loss: 1.1123 - val_accuracy: 0.8687\n",
            "Epoch 135/800\n",
            "85/85 [==============================] - 17s 196ms/step - loss: 0.4744 - accuracy: 0.8875 - val_loss: 0.6813 - val_accuracy: 0.8656\n",
            "Epoch 136/800\n",
            "85/85 [==============================] - 17s 199ms/step - loss: 0.5193 - accuracy: 0.8967 - val_loss: 0.7555 - val_accuracy: 0.8719\n",
            "Epoch 137/800\n",
            "85/85 [==============================] - 17s 197ms/step - loss: 0.4309 - accuracy: 0.8974 - val_loss: 1.2308 - val_accuracy: 0.8531\n",
            "Epoch 138/800\n",
            "85/85 [==============================] - 17s 196ms/step - loss: 0.5148 - accuracy: 0.8849 - val_loss: 1.4432 - val_accuracy: 0.8344\n",
            "Epoch 139/800\n",
            "85/85 [==============================] - 17s 197ms/step - loss: 0.5200 - accuracy: 0.8853 - val_loss: 1.1599 - val_accuracy: 0.8594\n",
            "Epoch 140/800\n",
            "85/85 [==============================] - 17s 197ms/step - loss: 0.4797 - accuracy: 0.8919 - val_loss: 0.4180 - val_accuracy: 0.9156\n",
            "Epoch 141/800\n",
            "85/85 [==============================] - 17s 199ms/step - loss: 0.4823 - accuracy: 0.8838 - val_loss: 0.7452 - val_accuracy: 0.8844\n",
            "Epoch 142/800\n",
            "85/85 [==============================] - 17s 198ms/step - loss: 0.5354 - accuracy: 0.8743 - val_loss: 0.5287 - val_accuracy: 0.9031\n",
            "Epoch 143/800\n",
            "85/85 [==============================] - 17s 198ms/step - loss: 0.4581 - accuracy: 0.8860 - val_loss: 0.6694 - val_accuracy: 0.9125\n",
            "Epoch 144/800\n",
            "85/85 [==============================] - 17s 197ms/step - loss: 0.6445 - accuracy: 0.8904 - val_loss: 2.0295 - val_accuracy: 0.7281\n",
            "Epoch 145/800\n",
            "85/85 [==============================] - 17s 197ms/step - loss: 0.4990 - accuracy: 0.8926 - val_loss: 0.9307 - val_accuracy: 0.8438\n",
            "Epoch 146/800\n",
            "85/85 [==============================] - 17s 199ms/step - loss: 0.4692 - accuracy: 0.8886 - val_loss: 0.4338 - val_accuracy: 0.9250\n",
            "Epoch 147/800\n",
            "85/85 [==============================] - 17s 197ms/step - loss: 0.5129 - accuracy: 0.8853 - val_loss: 1.1338 - val_accuracy: 0.8031\n",
            "Epoch 148/800\n",
            "85/85 [==============================] - 17s 197ms/step - loss: 0.5850 - accuracy: 0.8901 - val_loss: 0.7585 - val_accuracy: 0.8813\n",
            "Epoch 149/800\n",
            "85/85 [==============================] - 17s 197ms/step - loss: 0.4399 - accuracy: 0.8934 - val_loss: 1.1267 - val_accuracy: 0.8594\n",
            "Epoch 150/800\n",
            "85/85 [==============================] - 17s 198ms/step - loss: 0.4627 - accuracy: 0.8952 - val_loss: 1.5975 - val_accuracy: 0.7969\n",
            "Epoch 151/800\n",
            "85/85 [==============================] - 17s 197ms/step - loss: 0.6532 - accuracy: 0.8868 - val_loss: 0.5336 - val_accuracy: 0.9312\n",
            "Epoch 152/800\n",
            "85/85 [==============================] - 17s 199ms/step - loss: 0.4456 - accuracy: 0.9004 - val_loss: 0.7409 - val_accuracy: 0.9062\n",
            "Epoch 153/800\n",
            "85/85 [==============================] - 17s 199ms/step - loss: 0.4559 - accuracy: 0.8930 - val_loss: 0.5515 - val_accuracy: 0.9187\n",
            "Epoch 154/800\n",
            "85/85 [==============================] - 17s 197ms/step - loss: 0.4869 - accuracy: 0.8904 - val_loss: 1.5688 - val_accuracy: 0.8125\n",
            "Epoch 155/800\n",
            "85/85 [==============================] - 17s 197ms/step - loss: 0.5211 - accuracy: 0.8864 - val_loss: 0.6478 - val_accuracy: 0.8906\n",
            "Epoch 156/800\n",
            "85/85 [==============================] - 17s 198ms/step - loss: 0.5654 - accuracy: 0.8798 - val_loss: 0.8869 - val_accuracy: 0.8781\n",
            "Epoch 157/800\n",
            "85/85 [==============================] - 17s 198ms/step - loss: 0.4867 - accuracy: 0.8835 - val_loss: 0.9390 - val_accuracy: 0.8781\n",
            "Epoch 158/800\n",
            "85/85 [==============================] - 17s 197ms/step - loss: 0.4875 - accuracy: 0.8967 - val_loss: 0.7087 - val_accuracy: 0.8844\n",
            "Epoch 159/800\n",
            "85/85 [==============================] - 17s 198ms/step - loss: 0.4926 - accuracy: 0.8882 - val_loss: 0.9643 - val_accuracy: 0.8500\n",
            "Epoch 160/800\n",
            "85/85 [==============================] - 17s 200ms/step - loss: 0.5780 - accuracy: 0.8706 - val_loss: 0.4906 - val_accuracy: 0.9000\n",
            "Epoch 161/800\n",
            "85/85 [==============================] - 17s 198ms/step - loss: 0.5455 - accuracy: 0.8835 - val_loss: 0.4581 - val_accuracy: 0.9062\n",
            "Epoch 162/800\n",
            "85/85 [==============================] - 17s 197ms/step - loss: 0.5058 - accuracy: 0.8915 - val_loss: 2.7543 - val_accuracy: 0.7250\n",
            "Epoch 163/800\n",
            "85/85 [==============================] - 17s 198ms/step - loss: 0.5352 - accuracy: 0.8915 - val_loss: 1.3375 - val_accuracy: 0.7781\n",
            "Epoch 164/800\n",
            "85/85 [==============================] - 17s 198ms/step - loss: 0.5085 - accuracy: 0.8901 - val_loss: 0.5609 - val_accuracy: 0.9125\n",
            "Epoch 165/800\n",
            "85/85 [==============================] - 17s 197ms/step - loss: 0.5357 - accuracy: 0.8776 - val_loss: 1.1913 - val_accuracy: 0.8750\n",
            "Epoch 166/800\n",
            "85/85 [==============================] - 17s 199ms/step - loss: 0.6124 - accuracy: 0.8746 - val_loss: 0.7527 - val_accuracy: 0.8687\n",
            "Epoch 167/800\n",
            "85/85 [==============================] - 17s 198ms/step - loss: 0.5269 - accuracy: 0.8816 - val_loss: 1.0187 - val_accuracy: 0.8000\n",
            "Epoch 168/800\n",
            "85/85 [==============================] - 17s 197ms/step - loss: 0.6018 - accuracy: 0.8783 - val_loss: 0.9899 - val_accuracy: 0.8219\n",
            "Epoch 169/800\n",
            "85/85 [==============================] - 17s 197ms/step - loss: 0.5046 - accuracy: 0.8794 - val_loss: 1.5950 - val_accuracy: 0.8438\n",
            "Epoch 170/800\n",
            "85/85 [==============================] - 17s 197ms/step - loss: 0.5738 - accuracy: 0.8750 - val_loss: 0.7022 - val_accuracy: 0.8938\n",
            "Epoch 171/800\n",
            "85/85 [==============================] - 17s 196ms/step - loss: 0.5231 - accuracy: 0.8860 - val_loss: 0.8456 - val_accuracy: 0.8750\n",
            "Epoch 172/800\n",
            "85/85 [==============================] - 17s 197ms/step - loss: 0.6439 - accuracy: 0.8621 - val_loss: 1.2551 - val_accuracy: 0.8188\n",
            "Epoch 173/800\n",
            "85/85 [==============================] - 17s 197ms/step - loss: 0.5843 - accuracy: 0.8783 - val_loss: 1.1188 - val_accuracy: 0.8750\n",
            "Epoch 174/800\n",
            "85/85 [==============================] - 17s 198ms/step - loss: 0.5221 - accuracy: 0.8820 - val_loss: 0.7563 - val_accuracy: 0.9000\n",
            "Epoch 175/800\n",
            "85/85 [==============================] - 17s 197ms/step - loss: 0.6131 - accuracy: 0.8798 - val_loss: 1.2046 - val_accuracy: 0.8813\n",
            "Epoch 176/800\n",
            "85/85 [==============================] - 17s 196ms/step - loss: 0.5174 - accuracy: 0.8779 - val_loss: 0.3807 - val_accuracy: 0.9312\n",
            "Epoch 177/800\n",
            "85/85 [==============================] - 17s 198ms/step - loss: 0.5791 - accuracy: 0.8717 - val_loss: 0.8656 - val_accuracy: 0.8906\n",
            "Epoch 178/800\n",
            "85/85 [==============================] - 17s 199ms/step - loss: 0.5517 - accuracy: 0.8757 - val_loss: 1.2971 - val_accuracy: 0.8438\n",
            "Epoch 179/800\n",
            "85/85 [==============================] - 17s 197ms/step - loss: 0.5862 - accuracy: 0.8746 - val_loss: 0.7169 - val_accuracy: 0.8625\n",
            "Epoch 180/800\n",
            "85/85 [==============================] - 17s 198ms/step - loss: 0.6377 - accuracy: 0.8710 - val_loss: 0.7125 - val_accuracy: 0.8938\n",
            "Epoch 181/800\n",
            "85/85 [==============================] - 17s 198ms/step - loss: 0.6420 - accuracy: 0.8684 - val_loss: 0.8704 - val_accuracy: 0.8656\n",
            "Epoch 182/800\n",
            "85/85 [==============================] - 17s 197ms/step - loss: 0.5839 - accuracy: 0.8831 - val_loss: 0.6328 - val_accuracy: 0.9062\n",
            "Epoch 183/800\n",
            "85/85 [==============================] - 17s 196ms/step - loss: 0.6330 - accuracy: 0.8761 - val_loss: 0.4465 - val_accuracy: 0.9187\n",
            "Epoch 184/800\n",
            "85/85 [==============================] - 17s 198ms/step - loss: 0.5658 - accuracy: 0.8809 - val_loss: 0.8446 - val_accuracy: 0.8906\n",
            "Epoch 185/800\n",
            "85/85 [==============================] - 17s 197ms/step - loss: 0.6214 - accuracy: 0.8765 - val_loss: 1.3202 - val_accuracy: 0.8500\n",
            "Epoch 186/800\n",
            "85/85 [==============================] - 17s 197ms/step - loss: 0.6138 - accuracy: 0.8632 - val_loss: 0.6514 - val_accuracy: 0.9031\n",
            "Epoch 187/800\n",
            "85/85 [==============================] - 17s 198ms/step - loss: 0.7422 - accuracy: 0.8610 - val_loss: 0.7883 - val_accuracy: 0.8906\n",
            "Epoch 188/800\n",
            "85/85 [==============================] - 17s 197ms/step - loss: 0.4958 - accuracy: 0.8915 - val_loss: 0.8762 - val_accuracy: 0.8750\n",
            "Epoch 189/800\n",
            "85/85 [==============================] - 17s 197ms/step - loss: 0.7302 - accuracy: 0.8515 - val_loss: 1.5786 - val_accuracy: 0.8125\n",
            "Epoch 190/800\n",
            "85/85 [==============================] - 17s 198ms/step - loss: 0.6029 - accuracy: 0.8717 - val_loss: 1.2620 - val_accuracy: 0.8500\n",
            "Epoch 191/800\n",
            "85/85 [==============================] - 17s 198ms/step - loss: 0.6532 - accuracy: 0.8739 - val_loss: 0.7755 - val_accuracy: 0.9156\n",
            "Epoch 192/800\n",
            "85/85 [==============================] - 17s 196ms/step - loss: 0.7596 - accuracy: 0.8743 - val_loss: 1.1603 - val_accuracy: 0.8906\n",
            "Epoch 193/800\n",
            "85/85 [==============================] - 17s 197ms/step - loss: 0.6133 - accuracy: 0.8636 - val_loss: 0.4610 - val_accuracy: 0.9062\n",
            "Epoch 194/800\n",
            "85/85 [==============================] - 17s 198ms/step - loss: 0.6550 - accuracy: 0.8732 - val_loss: 0.8508 - val_accuracy: 0.8469\n",
            "Epoch 195/800\n",
            "85/85 [==============================] - 17s 197ms/step - loss: 0.6641 - accuracy: 0.8676 - val_loss: 0.9857 - val_accuracy: 0.8750\n",
            "Epoch 196/800\n",
            "85/85 [==============================] - 17s 197ms/step - loss: 0.6745 - accuracy: 0.8798 - val_loss: 0.7189 - val_accuracy: 0.8781\n",
            "Epoch 197/800\n",
            "85/85 [==============================] - 17s 200ms/step - loss: 0.5875 - accuracy: 0.8750 - val_loss: 1.0794 - val_accuracy: 0.8781\n",
            "Epoch 198/800\n",
            "85/85 [==============================] - 17s 197ms/step - loss: 0.7232 - accuracy: 0.8651 - val_loss: 0.7072 - val_accuracy: 0.8656\n",
            "Epoch 199/800\n",
            "85/85 [==============================] - 17s 197ms/step - loss: 0.5955 - accuracy: 0.8743 - val_loss: 1.4929 - val_accuracy: 0.7937\n",
            "Epoch 200/800\n",
            "85/85 [==============================] - 17s 197ms/step - loss: 0.6924 - accuracy: 0.8721 - val_loss: 3.4485 - val_accuracy: 0.6969\n",
            "Epoch 201/800\n",
            "85/85 [==============================] - 17s 198ms/step - loss: 0.7198 - accuracy: 0.8721 - val_loss: 1.1955 - val_accuracy: 0.8906\n",
            "Epoch 202/800\n",
            "85/85 [==============================] - 17s 197ms/step - loss: 0.6208 - accuracy: 0.8680 - val_loss: 1.0152 - val_accuracy: 0.8906\n",
            "Epoch 203/800\n",
            "85/85 [==============================] - 17s 198ms/step - loss: 0.7477 - accuracy: 0.8636 - val_loss: 1.5557 - val_accuracy: 0.8344\n",
            "Epoch 204/800\n",
            "85/85 [==============================] - 17s 197ms/step - loss: 0.6655 - accuracy: 0.8768 - val_loss: 1.0248 - val_accuracy: 0.8844\n",
            "Epoch 205/800\n",
            "85/85 [==============================] - 17s 197ms/step - loss: 0.7079 - accuracy: 0.8610 - val_loss: 0.7264 - val_accuracy: 0.9000\n",
            "Epoch 206/800\n",
            "85/85 [==============================] - 17s 197ms/step - loss: 0.8055 - accuracy: 0.8518 - val_loss: 1.3271 - val_accuracy: 0.8938\n",
            "Epoch 207/800\n",
            "85/85 [==============================] - 17s 197ms/step - loss: 0.6110 - accuracy: 0.8643 - val_loss: 0.9686 - val_accuracy: 0.7906\n",
            "Epoch 208/800\n",
            "85/85 [==============================] - 17s 197ms/step - loss: 0.6789 - accuracy: 0.8544 - val_loss: 1.5737 - val_accuracy: 0.8531\n",
            "Epoch 209/800\n",
            "85/85 [==============================] - 17s 196ms/step - loss: 0.8030 - accuracy: 0.8537 - val_loss: 1.2191 - val_accuracy: 0.8656\n",
            "Epoch 210/800\n",
            "85/85 [==============================] - 17s 197ms/step - loss: 0.7251 - accuracy: 0.8717 - val_loss: 1.4782 - val_accuracy: 0.8250\n",
            "Epoch 211/800\n",
            "85/85 [==============================] - 17s 197ms/step - loss: 0.6584 - accuracy: 0.8610 - val_loss: 2.9147 - val_accuracy: 0.6969\n",
            "Epoch 212/800\n",
            "85/85 [==============================] - 17s 197ms/step - loss: 0.6730 - accuracy: 0.8643 - val_loss: 0.8259 - val_accuracy: 0.8938\n",
            "Epoch 213/800\n",
            "85/85 [==============================] - 17s 196ms/step - loss: 0.8956 - accuracy: 0.8728 - val_loss: 1.7436 - val_accuracy: 0.8281\n",
            "Epoch 214/800\n",
            "85/85 [==============================] - 17s 196ms/step - loss: 1.1220 - accuracy: 0.8522 - val_loss: 1.2933 - val_accuracy: 0.8375\n",
            "Epoch 215/800\n",
            "85/85 [==============================] - 17s 199ms/step - loss: 0.6435 - accuracy: 0.8654 - val_loss: 1.7817 - val_accuracy: 0.8438\n",
            "Epoch 216/800\n",
            "85/85 [==============================] - 17s 198ms/step - loss: 0.7294 - accuracy: 0.8614 - val_loss: 1.8995 - val_accuracy: 0.8500\n",
            "Epoch 217/800\n",
            "85/85 [==============================] - 17s 195ms/step - loss: 0.6421 - accuracy: 0.8691 - val_loss: 1.5756 - val_accuracy: 0.7750\n",
            "Epoch 218/800\n",
            "85/85 [==============================] - 17s 198ms/step - loss: 0.8679 - accuracy: 0.8460 - val_loss: 2.5120 - val_accuracy: 0.8031\n",
            "Epoch 219/800\n",
            "85/85 [==============================] - 17s 196ms/step - loss: 0.7999 - accuracy: 0.8710 - val_loss: 1.0433 - val_accuracy: 0.8938\n",
            "Epoch 220/800\n",
            "85/85 [==============================] - 17s 196ms/step - loss: 0.7320 - accuracy: 0.8548 - val_loss: 1.0087 - val_accuracy: 0.8656\n",
            "Epoch 221/800\n",
            "85/85 [==============================] - 17s 197ms/step - loss: 0.9891 - accuracy: 0.8588 - val_loss: 1.1010 - val_accuracy: 0.8687\n",
            "Epoch 222/800\n",
            "85/85 [==============================] - 17s 197ms/step - loss: 0.7218 - accuracy: 0.8551 - val_loss: 0.8579 - val_accuracy: 0.8750\n",
            "Epoch 223/800\n",
            "85/85 [==============================] - 17s 196ms/step - loss: 0.9446 - accuracy: 0.8577 - val_loss: 1.3118 - val_accuracy: 0.8813\n",
            "Epoch 224/800\n",
            "85/85 [==============================] - 17s 195ms/step - loss: 0.7331 - accuracy: 0.8540 - val_loss: 0.5895 - val_accuracy: 0.8969\n",
            "Epoch 225/800\n",
            "85/85 [==============================] - 17s 199ms/step - loss: 0.8810 - accuracy: 0.8511 - val_loss: 1.1740 - val_accuracy: 0.8375\n",
            "Epoch 226/800\n",
            "85/85 [==============================] - 17s 196ms/step - loss: 1.0485 - accuracy: 0.8415 - val_loss: 1.2091 - val_accuracy: 0.8750\n",
            "Epoch 227/800\n",
            "85/85 [==============================] - 17s 196ms/step - loss: 0.8962 - accuracy: 0.8544 - val_loss: 0.8427 - val_accuracy: 0.8938\n",
            "Epoch 228/800\n",
            "85/85 [==============================] - 17s 196ms/step - loss: 0.7708 - accuracy: 0.8570 - val_loss: 0.8803 - val_accuracy: 0.8625\n",
            "Epoch 229/800\n",
            "85/85 [==============================] - 17s 198ms/step - loss: 0.8160 - accuracy: 0.8456 - val_loss: 1.8845 - val_accuracy: 0.8844\n",
            "Epoch 230/800\n",
            "85/85 [==============================] - 17s 198ms/step - loss: 0.7044 - accuracy: 0.8636 - val_loss: 3.1827 - val_accuracy: 0.7156\n",
            "Epoch 231/800\n",
            "85/85 [==============================] - 17s 197ms/step - loss: 0.8285 - accuracy: 0.8504 - val_loss: 0.8729 - val_accuracy: 0.8969\n",
            "Epoch 232/800\n",
            "85/85 [==============================] - 17s 198ms/step - loss: 0.7149 - accuracy: 0.8493 - val_loss: 1.5961 - val_accuracy: 0.8375\n",
            "Epoch 233/800\n",
            "85/85 [==============================] - 17s 198ms/step - loss: 0.7664 - accuracy: 0.8452 - val_loss: 1.2188 - val_accuracy: 0.8469\n",
            "Epoch 234/800\n",
            "85/85 [==============================] - 17s 199ms/step - loss: 0.7921 - accuracy: 0.8691 - val_loss: 1.0017 - val_accuracy: 0.8656\n",
            "Epoch 235/800\n",
            "85/85 [==============================] - 17s 198ms/step - loss: 0.7633 - accuracy: 0.8618 - val_loss: 3.5417 - val_accuracy: 0.5531\n",
            "Epoch 236/800\n",
            "85/85 [==============================] - 17s 197ms/step - loss: 0.9080 - accuracy: 0.8540 - val_loss: 0.8970 - val_accuracy: 0.8406\n",
            "Epoch 237/800\n",
            "85/85 [==============================] - 17s 197ms/step - loss: 0.7796 - accuracy: 0.8500 - val_loss: 0.9676 - val_accuracy: 0.8594\n",
            "Epoch 238/800\n",
            "85/85 [==============================] - 17s 197ms/step - loss: 0.9081 - accuracy: 0.8570 - val_loss: 1.0784 - val_accuracy: 0.8500\n",
            "Epoch 239/800\n",
            "85/85 [==============================] - 17s 198ms/step - loss: 0.6959 - accuracy: 0.8562 - val_loss: 1.6158 - val_accuracy: 0.8313\n",
            "Epoch 240/800\n",
            "85/85 [==============================] - 17s 199ms/step - loss: 0.6982 - accuracy: 0.8621 - val_loss: 1.2210 - val_accuracy: 0.8719\n",
            "Epoch 241/800\n",
            "85/85 [==============================] - 17s 197ms/step - loss: 0.9834 - accuracy: 0.8596 - val_loss: 1.2655 - val_accuracy: 0.8750\n",
            "Epoch 242/800\n",
            "85/85 [==============================] - 17s 197ms/step - loss: 1.6230 - accuracy: 0.8537 - val_loss: 0.8722 - val_accuracy: 0.8562\n",
            "Epoch 243/800\n",
            "85/85 [==============================] - 17s 198ms/step - loss: 0.9722 - accuracy: 0.8371 - val_loss: 1.1013 - val_accuracy: 0.8719\n",
            "Epoch 244/800\n",
            "85/85 [==============================] - 17s 197ms/step - loss: 0.8401 - accuracy: 0.8581 - val_loss: 1.0729 - val_accuracy: 0.8656\n",
            "Epoch 245/800\n",
            "85/85 [==============================] - 17s 199ms/step - loss: 0.9328 - accuracy: 0.8415 - val_loss: 1.4399 - val_accuracy: 0.8188\n",
            "Epoch 246/800\n",
            "85/85 [==============================] - 17s 198ms/step - loss: 0.7424 - accuracy: 0.8537 - val_loss: 1.3453 - val_accuracy: 0.8719\n",
            "Epoch 247/800\n",
            "85/85 [==============================] - 17s 196ms/step - loss: 0.8357 - accuracy: 0.8518 - val_loss: 0.9066 - val_accuracy: 0.8625\n",
            "Epoch 248/800\n",
            "85/85 [==============================] - 17s 197ms/step - loss: 0.7833 - accuracy: 0.8434 - val_loss: 1.2904 - val_accuracy: 0.7250\n",
            "Epoch 249/800\n",
            "85/85 [==============================] - 17s 198ms/step - loss: 0.9674 - accuracy: 0.8360 - val_loss: 1.2023 - val_accuracy: 0.8594\n",
            "Epoch 250/800\n",
            "85/85 [==============================] - 17s 196ms/step - loss: 0.7240 - accuracy: 0.8585 - val_loss: 1.6671 - val_accuracy: 0.7625\n",
            "Epoch 251/800\n",
            "85/85 [==============================] - 17s 197ms/step - loss: 0.8400 - accuracy: 0.8496 - val_loss: 1.6072 - val_accuracy: 0.8344\n",
            "Epoch 252/800\n",
            "85/85 [==============================] - 17s 199ms/step - loss: 0.9373 - accuracy: 0.8430 - val_loss: 1.0062 - val_accuracy: 0.8906\n",
            "Epoch 253/800\n",
            "85/85 [==============================] - 17s 199ms/step - loss: 0.8275 - accuracy: 0.8313 - val_loss: 1.1662 - val_accuracy: 0.8813\n",
            "Epoch 254/800\n",
            "85/85 [==============================] - 17s 197ms/step - loss: 0.6394 - accuracy: 0.8665 - val_loss: 2.5779 - val_accuracy: 0.8156\n",
            "Epoch 255/800\n",
            "85/85 [==============================] - 17s 197ms/step - loss: 0.9417 - accuracy: 0.8551 - val_loss: 0.8808 - val_accuracy: 0.8562\n",
            "Epoch 256/800\n",
            "85/85 [==============================] - 17s 199ms/step - loss: 0.7099 - accuracy: 0.8592 - val_loss: 1.2154 - val_accuracy: 0.8562\n",
            "Epoch 257/800\n",
            "85/85 [==============================] - 17s 197ms/step - loss: 0.7607 - accuracy: 0.8577 - val_loss: 1.3172 - val_accuracy: 0.8750\n",
            "Epoch 258/800\n",
            "85/85 [==============================] - 17s 197ms/step - loss: 0.8986 - accuracy: 0.8401 - val_loss: 1.1441 - val_accuracy: 0.8844\n",
            "Epoch 259/800\n",
            "85/85 [==============================] - 17s 197ms/step - loss: 0.7570 - accuracy: 0.8676 - val_loss: 3.1290 - val_accuracy: 0.7750\n",
            "Epoch 260/800\n",
            "85/85 [==============================] - 17s 197ms/step - loss: 0.6844 - accuracy: 0.8640 - val_loss: 1.0482 - val_accuracy: 0.8531\n",
            "Epoch 261/800\n",
            "85/85 [==============================] - 17s 197ms/step - loss: 0.8163 - accuracy: 0.8463 - val_loss: 1.8621 - val_accuracy: 0.8281\n",
            "Epoch 262/800\n",
            "85/85 [==============================] - 17s 197ms/step - loss: 0.9005 - accuracy: 0.8544 - val_loss: 0.9407 - val_accuracy: 0.8719\n",
            "Epoch 263/800\n",
            "85/85 [==============================] - 17s 198ms/step - loss: 0.7873 - accuracy: 0.8500 - val_loss: 1.4905 - val_accuracy: 0.8031\n",
            "Epoch 264/800\n",
            "85/85 [==============================] - 17s 197ms/step - loss: 1.4852 - accuracy: 0.8254 - val_loss: 1.0654 - val_accuracy: 0.8813\n",
            "Epoch 265/800\n",
            "85/85 [==============================] - 17s 197ms/step - loss: 1.3248 - accuracy: 0.8375 - val_loss: 0.9893 - val_accuracy: 0.8656\n",
            "Epoch 266/800\n",
            "85/85 [==============================] - 17s 198ms/step - loss: 0.9579 - accuracy: 0.8555 - val_loss: 1.1639 - val_accuracy: 0.9062\n",
            "Epoch 267/800\n",
            "85/85 [==============================] - 17s 198ms/step - loss: 0.7988 - accuracy: 0.8493 - val_loss: 1.0770 - val_accuracy: 0.8656\n",
            "Epoch 268/800\n",
            "85/85 [==============================] - 17s 197ms/step - loss: 1.0816 - accuracy: 0.8360 - val_loss: 2.6020 - val_accuracy: 0.7031\n",
            "Epoch 269/800\n",
            "85/85 [==============================] - 17s 197ms/step - loss: 0.6940 - accuracy: 0.8640 - val_loss: 1.3583 - val_accuracy: 0.8813\n",
            "Epoch 270/800\n",
            "85/85 [==============================] - 17s 199ms/step - loss: 0.8955 - accuracy: 0.8426 - val_loss: 1.0864 - val_accuracy: 0.8375\n",
            "Epoch 271/800\n",
            "85/85 [==============================] - 17s 201ms/step - loss: 0.9858 - accuracy: 0.8375 - val_loss: 0.9785 - val_accuracy: 0.8750\n",
            "Epoch 272/800\n",
            "85/85 [==============================] - 17s 197ms/step - loss: 0.9065 - accuracy: 0.8548 - val_loss: 0.8448 - val_accuracy: 0.9031\n",
            "Epoch 273/800\n",
            "85/85 [==============================] - 17s 198ms/step - loss: 1.0632 - accuracy: 0.8221 - val_loss: 1.5357 - val_accuracy: 0.8719\n",
            "Epoch 274/800\n",
            "85/85 [==============================] - 17s 198ms/step - loss: 1.0800 - accuracy: 0.8346 - val_loss: 1.2848 - val_accuracy: 0.8625\n",
            "Epoch 275/800\n",
            "85/85 [==============================] - 17s 196ms/step - loss: 0.8924 - accuracy: 0.8390 - val_loss: 2.9983 - val_accuracy: 0.7375\n",
            "Epoch 276/800\n",
            "85/85 [==============================] - 17s 198ms/step - loss: 0.9250 - accuracy: 0.8320 - val_loss: 0.6650 - val_accuracy: 0.8281\n",
            "Epoch 277/800\n",
            "85/85 [==============================] - 17s 198ms/step - loss: 1.0180 - accuracy: 0.8298 - val_loss: 0.9373 - val_accuracy: 0.8719\n",
            "Epoch 278/800\n",
            "85/85 [==============================] - 17s 197ms/step - loss: 0.8665 - accuracy: 0.8423 - val_loss: 0.5066 - val_accuracy: 0.9125\n",
            "Epoch 279/800\n",
            "85/85 [==============================] - 17s 198ms/step - loss: 0.8347 - accuracy: 0.8331 - val_loss: 1.5320 - val_accuracy: 0.8500\n",
            "Epoch 280/800\n",
            "85/85 [==============================] - 17s 198ms/step - loss: 1.3238 - accuracy: 0.8257 - val_loss: 1.3930 - val_accuracy: 0.8344\n",
            "Epoch 281/800\n",
            "85/85 [==============================] - 17s 196ms/step - loss: 0.9116 - accuracy: 0.8357 - val_loss: 0.8684 - val_accuracy: 0.8781\n",
            "Epoch 282/800\n",
            "85/85 [==============================] - 17s 197ms/step - loss: 1.4609 - accuracy: 0.8232 - val_loss: 1.1998 - val_accuracy: 0.8438\n",
            "Epoch 283/800\n",
            "85/85 [==============================] - 17s 197ms/step - loss: 0.8050 - accuracy: 0.8364 - val_loss: 1.2496 - val_accuracy: 0.8344\n",
            "Epoch 284/800\n",
            "85/85 [==============================] - 17s 198ms/step - loss: 1.0980 - accuracy: 0.8169 - val_loss: 1.2570 - val_accuracy: 0.8531\n",
            "Epoch 285/800\n",
            "85/85 [==============================] - 17s 198ms/step - loss: 0.9330 - accuracy: 0.8445 - val_loss: 4.1330 - val_accuracy: 0.7969\n",
            "Epoch 286/800\n",
            "85/85 [==============================] - 17s 198ms/step - loss: 0.9167 - accuracy: 0.8375 - val_loss: 1.3838 - val_accuracy: 0.8406\n",
            "Epoch 287/800\n",
            "85/85 [==============================] - 17s 198ms/step - loss: 0.9845 - accuracy: 0.8257 - val_loss: 1.4002 - val_accuracy: 0.8500\n",
            "Epoch 288/800\n",
            "85/85 [==============================] - 17s 197ms/step - loss: 0.9492 - accuracy: 0.8353 - val_loss: 1.8758 - val_accuracy: 0.8281\n",
            "Epoch 289/800\n",
            "85/85 [==============================] - 17s 198ms/step - loss: 1.0174 - accuracy: 0.8287 - val_loss: 1.0308 - val_accuracy: 0.8375\n",
            "Epoch 290/800\n",
            "85/85 [==============================] - 17s 200ms/step - loss: 0.8660 - accuracy: 0.8522 - val_loss: 1.3271 - val_accuracy: 0.8406\n",
            "Epoch 291/800\n",
            "85/85 [==============================] - 17s 197ms/step - loss: 1.0718 - accuracy: 0.8335 - val_loss: 0.9152 - val_accuracy: 0.8625\n",
            "Epoch 292/800\n",
            "85/85 [==============================] - 17s 197ms/step - loss: 0.9709 - accuracy: 0.8449 - val_loss: 1.3004 - val_accuracy: 0.8625\n",
            "Epoch 293/800\n",
            "85/85 [==============================] - 17s 197ms/step - loss: 1.2837 - accuracy: 0.8349 - val_loss: 1.4169 - val_accuracy: 0.8219\n",
            "Epoch 294/800\n",
            "85/85 [==============================] - 17s 198ms/step - loss: 1.0840 - accuracy: 0.8445 - val_loss: 0.5540 - val_accuracy: 0.8844\n",
            "Epoch 295/800\n",
            "85/85 [==============================] - 17s 197ms/step - loss: 0.8153 - accuracy: 0.8371 - val_loss: 0.9790 - val_accuracy: 0.8625\n",
            "Epoch 296/800\n",
            "85/85 [==============================] - 17s 197ms/step - loss: 0.9250 - accuracy: 0.8393 - val_loss: 1.8352 - val_accuracy: 0.8313\n",
            "Epoch 297/800\n",
            "85/85 [==============================] - 17s 198ms/step - loss: 0.8867 - accuracy: 0.8478 - val_loss: 0.9174 - val_accuracy: 0.8500\n",
            "Epoch 298/800\n",
            "85/85 [==============================] - 17s 197ms/step - loss: 0.7141 - accuracy: 0.8474 - val_loss: 0.9410 - val_accuracy: 0.8813\n",
            "Epoch 299/800\n",
            "85/85 [==============================] - 17s 196ms/step - loss: 0.8622 - accuracy: 0.8496 - val_loss: 0.7270 - val_accuracy: 0.8656\n",
            "Epoch 300/800\n",
            "85/85 [==============================] - 17s 197ms/step - loss: 0.8230 - accuracy: 0.8441 - val_loss: 0.6798 - val_accuracy: 0.8719\n",
            "Epoch 301/800\n",
            "85/85 [==============================] - 17s 199ms/step - loss: 0.9767 - accuracy: 0.8206 - val_loss: 0.9724 - val_accuracy: 0.8469\n",
            "Epoch 302/800\n",
            "85/85 [==============================] - 17s 197ms/step - loss: 0.9457 - accuracy: 0.8386 - val_loss: 0.7238 - val_accuracy: 0.8938\n",
            "Epoch 303/800\n",
            "85/85 [==============================] - 17s 197ms/step - loss: 0.8384 - accuracy: 0.8489 - val_loss: 0.4246 - val_accuracy: 0.9125\n",
            "Epoch 304/800\n",
            "85/85 [==============================] - 17s 199ms/step - loss: 1.7204 - accuracy: 0.8393 - val_loss: 1.4275 - val_accuracy: 0.8375\n",
            "Epoch 305/800\n",
            "85/85 [==============================] - 17s 198ms/step - loss: 0.9699 - accuracy: 0.8423 - val_loss: 0.7085 - val_accuracy: 0.8938\n",
            "Epoch 306/800\n",
            "85/85 [==============================] - 17s 197ms/step - loss: 0.9649 - accuracy: 0.8412 - val_loss: 0.6087 - val_accuracy: 0.8687\n",
            "Epoch 307/800\n",
            "85/85 [==============================] - 17s 199ms/step - loss: 1.1327 - accuracy: 0.8088 - val_loss: 0.8497 - val_accuracy: 0.8656\n",
            "Epoch 308/800\n",
            "85/85 [==============================] - 17s 199ms/step - loss: 0.9115 - accuracy: 0.8272 - val_loss: 0.7065 - val_accuracy: 0.8875\n",
            "Epoch 309/800\n",
            "85/85 [==============================] - 17s 197ms/step - loss: 0.9360 - accuracy: 0.8375 - val_loss: 0.4708 - val_accuracy: 0.9062\n",
            "Epoch 310/800\n",
            "85/85 [==============================] - 17s 197ms/step - loss: 1.1262 - accuracy: 0.8338 - val_loss: 1.4342 - val_accuracy: 0.8094\n",
            "Epoch 311/800\n",
            "85/85 [==============================] - 17s 199ms/step - loss: 0.9753 - accuracy: 0.8423 - val_loss: 2.1407 - val_accuracy: 0.7688\n",
            "Epoch 312/800\n",
            "85/85 [==============================] - 17s 198ms/step - loss: 0.8938 - accuracy: 0.8504 - val_loss: 2.5445 - val_accuracy: 0.8125\n",
            "Epoch 313/800\n",
            "85/85 [==============================] - 17s 197ms/step - loss: 1.1785 - accuracy: 0.8154 - val_loss: 0.5912 - val_accuracy: 0.8219\n",
            "Epoch 314/800\n",
            "85/85 [==============================] - 17s 197ms/step - loss: 0.9561 - accuracy: 0.8287 - val_loss: 0.8664 - val_accuracy: 0.8781\n",
            "Epoch 315/800\n",
            "85/85 [==============================] - 17s 197ms/step - loss: 1.0413 - accuracy: 0.8316 - val_loss: 0.9386 - val_accuracy: 0.8531\n",
            "Epoch 316/800\n",
            "85/85 [==============================] - 17s 198ms/step - loss: 0.8786 - accuracy: 0.8515 - val_loss: 1.2290 - val_accuracy: 0.8969\n",
            "Epoch 317/800\n",
            "85/85 [==============================] - 17s 197ms/step - loss: 0.8898 - accuracy: 0.8423 - val_loss: 0.8559 - val_accuracy: 0.8562\n",
            "Epoch 318/800\n",
            "85/85 [==============================] - 17s 198ms/step - loss: 0.7785 - accuracy: 0.8467 - val_loss: 1.4695 - val_accuracy: 0.8094\n",
            "Epoch 319/800\n",
            "85/85 [==============================] - 17s 197ms/step - loss: 0.9551 - accuracy: 0.8331 - val_loss: 0.9091 - val_accuracy: 0.9000\n",
            "Epoch 320/800\n",
            "85/85 [==============================] - 17s 197ms/step - loss: 1.2337 - accuracy: 0.8165 - val_loss: 0.9330 - val_accuracy: 0.8344\n",
            "Epoch 321/800\n",
            "85/85 [==============================] - 17s 198ms/step - loss: 0.9334 - accuracy: 0.8283 - val_loss: 1.2952 - val_accuracy: 0.8438\n",
            "Epoch 322/800\n",
            "85/85 [==============================] - 17s 197ms/step - loss: 0.8992 - accuracy: 0.8265 - val_loss: 1.2719 - val_accuracy: 0.8281\n",
            "Epoch 323/800\n",
            "85/85 [==============================] - 17s 197ms/step - loss: 1.3251 - accuracy: 0.8305 - val_loss: 1.6783 - val_accuracy: 0.7937\n",
            "Epoch 324/800\n",
            "85/85 [==============================] - 17s 197ms/step - loss: 1.0353 - accuracy: 0.8449 - val_loss: 1.0564 - val_accuracy: 0.8969\n",
            "Epoch 325/800\n",
            "85/85 [==============================] - 17s 197ms/step - loss: 0.9622 - accuracy: 0.8320 - val_loss: 0.8991 - val_accuracy: 0.8562\n",
            "Epoch 326/800\n",
            "85/85 [==============================] - 17s 198ms/step - loss: 0.9460 - accuracy: 0.8301 - val_loss: 1.3440 - val_accuracy: 0.8469\n",
            "Epoch 327/800\n",
            "85/85 [==============================] - 17s 197ms/step - loss: 1.0324 - accuracy: 0.8188 - val_loss: 1.3568 - val_accuracy: 0.8062\n",
            "Epoch 328/800\n",
            "85/85 [==============================] - 17s 198ms/step - loss: 0.7754 - accuracy: 0.8526 - val_loss: 6.8132 - val_accuracy: 0.6781\n",
            "Epoch 329/800\n",
            "85/85 [==============================] - 17s 197ms/step - loss: 1.0005 - accuracy: 0.8551 - val_loss: 2.3421 - val_accuracy: 0.7500\n",
            "Epoch 330/800\n",
            "85/85 [==============================] - 17s 197ms/step - loss: 0.8208 - accuracy: 0.8401 - val_loss: 1.6399 - val_accuracy: 0.8844\n",
            "Epoch 331/800\n",
            "85/85 [==============================] - 17s 199ms/step - loss: 1.2478 - accuracy: 0.8386 - val_loss: 1.2962 - val_accuracy: 0.8500\n",
            "Epoch 332/800\n",
            "85/85 [==============================] - 17s 198ms/step - loss: 1.0173 - accuracy: 0.8386 - val_loss: 0.6391 - val_accuracy: 0.8719\n",
            "Epoch 333/800\n",
            "85/85 [==============================] - 17s 197ms/step - loss: 0.8947 - accuracy: 0.8276 - val_loss: 1.4001 - val_accuracy: 0.7531\n",
            "Epoch 334/800\n",
            "85/85 [==============================] - 17s 197ms/step - loss: 0.9418 - accuracy: 0.8301 - val_loss: 4.3655 - val_accuracy: 0.6812\n",
            "Epoch 335/800\n",
            "85/85 [==============================] - 17s 198ms/step - loss: 1.0111 - accuracy: 0.8426 - val_loss: 1.9563 - val_accuracy: 0.8406\n",
            "Epoch 336/800\n",
            "85/85 [==============================] - 17s 198ms/step - loss: 0.8773 - accuracy: 0.8412 - val_loss: 0.9022 - val_accuracy: 0.8406\n",
            "Epoch 337/800\n",
            "85/85 [==============================] - 17s 196ms/step - loss: 0.8579 - accuracy: 0.8324 - val_loss: 0.9057 - val_accuracy: 0.8562\n",
            "Epoch 338/800\n",
            "85/85 [==============================] - 17s 198ms/step - loss: 1.1390 - accuracy: 0.8217 - val_loss: 0.8377 - val_accuracy: 0.8781\n",
            "Epoch 339/800\n",
            "85/85 [==============================] - 17s 197ms/step - loss: 0.9200 - accuracy: 0.8276 - val_loss: 1.6366 - val_accuracy: 0.8219\n",
            "Epoch 340/800\n",
            "85/85 [==============================] - 17s 197ms/step - loss: 0.9552 - accuracy: 0.8357 - val_loss: 0.8869 - val_accuracy: 0.8781\n",
            "Epoch 341/800\n",
            "85/85 [==============================] - 17s 198ms/step - loss: 0.9402 - accuracy: 0.8540 - val_loss: 1.1454 - val_accuracy: 0.8750\n",
            "Epoch 342/800\n",
            "85/85 [==============================] - 17s 197ms/step - loss: 0.8249 - accuracy: 0.8665 - val_loss: 1.6147 - val_accuracy: 0.8313\n",
            "Epoch 343/800\n",
            "85/85 [==============================] - 17s 197ms/step - loss: 0.8673 - accuracy: 0.8397 - val_loss: 1.2507 - val_accuracy: 0.8719\n",
            "Epoch 344/800\n",
            "85/85 [==============================] - 17s 198ms/step - loss: 0.9452 - accuracy: 0.8441 - val_loss: 1.3411 - val_accuracy: 0.8656\n",
            "Epoch 345/800\n",
            "85/85 [==============================] - 17s 200ms/step - loss: 0.9937 - accuracy: 0.8511 - val_loss: 1.0859 - val_accuracy: 0.8500\n",
            "Epoch 346/800\n",
            "85/85 [==============================] - 17s 197ms/step - loss: 1.3350 - accuracy: 0.8371 - val_loss: 1.1120 - val_accuracy: 0.8906\n",
            "Epoch 347/800\n",
            "85/85 [==============================] - 17s 198ms/step - loss: 0.8754 - accuracy: 0.8669 - val_loss: 1.3141 - val_accuracy: 0.8313\n",
            "Epoch 348/800\n",
            "85/85 [==============================] - 17s 197ms/step - loss: 1.2254 - accuracy: 0.8331 - val_loss: 4.2175 - val_accuracy: 0.7156\n",
            "Epoch 349/800\n",
            "85/85 [==============================] - 17s 198ms/step - loss: 0.8721 - accuracy: 0.8485 - val_loss: 1.0044 - val_accuracy: 0.8594\n",
            "Epoch 350/800\n",
            "85/85 [==============================] - 17s 197ms/step - loss: 1.0833 - accuracy: 0.8272 - val_loss: 1.3662 - val_accuracy: 0.7937\n",
            "Epoch 351/800\n",
            "85/85 [==============================] - 17s 196ms/step - loss: 0.8387 - accuracy: 0.8460 - val_loss: 1.1260 - val_accuracy: 0.7688\n",
            "Epoch 352/800\n",
            "85/85 [==============================] - 17s 198ms/step - loss: 0.9236 - accuracy: 0.8375 - val_loss: 0.6884 - val_accuracy: 0.8844\n",
            "Epoch 353/800\n",
            "85/85 [==============================] - 17s 197ms/step - loss: 2.2707 - accuracy: 0.8320 - val_loss: 1.1911 - val_accuracy: 0.7563\n",
            "Epoch 354/800\n",
            "85/85 [==============================] - 17s 197ms/step - loss: 0.9958 - accuracy: 0.8232 - val_loss: 1.8302 - val_accuracy: 0.7875\n",
            "Epoch 355/800\n",
            "85/85 [==============================] - 17s 197ms/step - loss: 1.0078 - accuracy: 0.8261 - val_loss: 0.7512 - val_accuracy: 0.8719\n",
            "Epoch 356/800\n",
            "85/85 [==============================] - 17s 197ms/step - loss: 1.1172 - accuracy: 0.8180 - val_loss: 1.0066 - val_accuracy: 0.8813\n",
            "Epoch 357/800\n",
            "85/85 [==============================] - 17s 197ms/step - loss: 0.8227 - accuracy: 0.8537 - val_loss: 1.2721 - val_accuracy: 0.8094\n",
            "Epoch 358/800\n",
            "85/85 [==============================] - 17s 197ms/step - loss: 0.8972 - accuracy: 0.8360 - val_loss: 0.9629 - val_accuracy: 0.8656\n",
            "Epoch 359/800\n",
            "85/85 [==============================] - 17s 198ms/step - loss: 0.9036 - accuracy: 0.8364 - val_loss: 0.8590 - val_accuracy: 0.8938\n",
            "Epoch 360/800\n",
            "85/85 [==============================] - 17s 197ms/step - loss: 1.5332 - accuracy: 0.8051 - val_loss: 1.7655 - val_accuracy: 0.7563\n",
            "Epoch 361/800\n",
            "85/85 [==============================] - 17s 197ms/step - loss: 0.9756 - accuracy: 0.8301 - val_loss: 0.7470 - val_accuracy: 0.8687\n",
            "Epoch 362/800\n",
            "85/85 [==============================] - 17s 199ms/step - loss: 1.0091 - accuracy: 0.8221 - val_loss: 1.0044 - val_accuracy: 0.8719\n",
            "Epoch 363/800\n",
            "85/85 [==============================] - 17s 198ms/step - loss: 1.0897 - accuracy: 0.8313 - val_loss: 1.5625 - val_accuracy: 0.8500\n",
            "Epoch 364/800\n",
            "85/85 [==============================] - 17s 198ms/step - loss: 1.0438 - accuracy: 0.8364 - val_loss: 0.9736 - val_accuracy: 0.8469\n",
            "Epoch 365/800\n",
            "85/85 [==============================] - 17s 198ms/step - loss: 0.7777 - accuracy: 0.8438 - val_loss: 0.7553 - val_accuracy: 0.8500\n",
            "Epoch 366/800\n",
            "85/85 [==============================] - 17s 197ms/step - loss: 0.9728 - accuracy: 0.8294 - val_loss: 1.6628 - val_accuracy: 0.8000\n",
            "Epoch 367/800\n",
            "85/85 [==============================] - 17s 197ms/step - loss: 0.9853 - accuracy: 0.8287 - val_loss: 2.8034 - val_accuracy: 0.7000\n",
            "Epoch 368/800\n",
            "85/85 [==============================] - 17s 197ms/step - loss: 1.2606 - accuracy: 0.8007 - val_loss: 0.7169 - val_accuracy: 0.8125\n",
            "Epoch 369/800\n",
            "85/85 [==============================] - 17s 198ms/step - loss: 1.0970 - accuracy: 0.8364 - val_loss: 2.1286 - val_accuracy: 0.8250\n",
            "Epoch 370/800\n",
            "85/85 [==============================] - 17s 197ms/step - loss: 1.2964 - accuracy: 0.8375 - val_loss: 1.8913 - val_accuracy: 0.8406\n",
            "Epoch 371/800\n",
            "85/85 [==============================] - 17s 197ms/step - loss: 2.0657 - accuracy: 0.7971 - val_loss: 0.6160 - val_accuracy: 0.9187\n",
            "Epoch 372/800\n",
            "85/85 [==============================] - 17s 198ms/step - loss: 1.4240 - accuracy: 0.8062 - val_loss: 0.5695 - val_accuracy: 0.8406\n",
            "Epoch 373/800\n",
            "85/85 [==============================] - 17s 197ms/step - loss: 1.0439 - accuracy: 0.8283 - val_loss: 0.8071 - val_accuracy: 0.8562\n",
            "Epoch 374/800\n",
            "85/85 [==============================] - 17s 197ms/step - loss: 0.9709 - accuracy: 0.8151 - val_loss: 0.8092 - val_accuracy: 0.7969\n",
            "Epoch 375/800\n",
            "85/85 [==============================] - 17s 197ms/step - loss: 0.9239 - accuracy: 0.8228 - val_loss: 1.7310 - val_accuracy: 0.8438\n",
            "Epoch 376/800\n",
            "85/85 [==============================] - 17s 198ms/step - loss: 1.2224 - accuracy: 0.8062 - val_loss: 1.5215 - val_accuracy: 0.8219\n",
            "Epoch 377/800\n",
            "85/85 [==============================] - 17s 198ms/step - loss: 0.9738 - accuracy: 0.8272 - val_loss: 1.1804 - val_accuracy: 0.8469\n",
            "Epoch 378/800\n",
            "85/85 [==============================] - 17s 195ms/step - loss: 1.2943 - accuracy: 0.8232 - val_loss: 1.1937 - val_accuracy: 0.8438\n",
            "Epoch 379/800\n",
            "85/85 [==============================] - 17s 197ms/step - loss: 1.3240 - accuracy: 0.8184 - val_loss: 1.7143 - val_accuracy: 0.7812\n",
            "Epoch 380/800\n",
            "85/85 [==============================] - 17s 198ms/step - loss: 1.0895 - accuracy: 0.8074 - val_loss: 0.7129 - val_accuracy: 0.8969\n",
            "Epoch 381/800\n",
            "85/85 [==============================] - 17s 198ms/step - loss: 1.1351 - accuracy: 0.8169 - val_loss: 1.2134 - val_accuracy: 0.7969\n",
            "Epoch 382/800\n",
            "85/85 [==============================] - 17s 200ms/step - loss: 1.0145 - accuracy: 0.8213 - val_loss: 0.7100 - val_accuracy: 0.8781\n",
            "Epoch 383/800\n",
            "85/85 [==============================] - 17s 197ms/step - loss: 1.0359 - accuracy: 0.8246 - val_loss: 0.8732 - val_accuracy: 0.8406\n",
            "Epoch 384/800\n",
            "85/85 [==============================] - 17s 197ms/step - loss: 1.0201 - accuracy: 0.8335 - val_loss: 0.9196 - val_accuracy: 0.8469\n",
            "Epoch 385/800\n",
            "85/85 [==============================] - 17s 197ms/step - loss: 1.0278 - accuracy: 0.8276 - val_loss: 0.7974 - val_accuracy: 0.8875\n",
            "Epoch 386/800\n",
            "85/85 [==============================] - 17s 198ms/step - loss: 1.1899 - accuracy: 0.8235 - val_loss: 0.7744 - val_accuracy: 0.8719\n",
            "Epoch 387/800\n",
            "85/85 [==============================] - 17s 197ms/step - loss: 1.1721 - accuracy: 0.8176 - val_loss: 0.7628 - val_accuracy: 0.8781\n",
            "Epoch 388/800\n",
            "85/85 [==============================] - 17s 196ms/step - loss: 1.0303 - accuracy: 0.8217 - val_loss: 0.8510 - val_accuracy: 0.8844\n",
            "Epoch 389/800\n",
            "85/85 [==============================] - 17s 197ms/step - loss: 1.0310 - accuracy: 0.8210 - val_loss: 1.3491 - val_accuracy: 0.8250\n",
            "Epoch 390/800\n",
            "85/85 [==============================] - 17s 198ms/step - loss: 1.0627 - accuracy: 0.8268 - val_loss: 1.3913 - val_accuracy: 0.8875\n",
            "Epoch 391/800\n",
            "85/85 [==============================] - 17s 195ms/step - loss: 1.1966 - accuracy: 0.8246 - val_loss: 2.2383 - val_accuracy: 0.8531\n",
            "Epoch 392/800\n",
            "85/85 [==============================] - 17s 197ms/step - loss: 0.9689 - accuracy: 0.8382 - val_loss: 0.9586 - val_accuracy: 0.8844\n",
            "Epoch 393/800\n",
            "85/85 [==============================] - 17s 199ms/step - loss: 1.0555 - accuracy: 0.8257 - val_loss: 1.3542 - val_accuracy: 0.8906\n",
            "Epoch 394/800\n",
            "85/85 [==============================] - 17s 197ms/step - loss: 0.9388 - accuracy: 0.8382 - val_loss: 0.6335 - val_accuracy: 0.9031\n",
            "Epoch 395/800\n",
            "85/85 [==============================] - 17s 196ms/step - loss: 1.2119 - accuracy: 0.8272 - val_loss: 0.5803 - val_accuracy: 0.9094\n",
            "Epoch 396/800\n",
            "85/85 [==============================] - 17s 197ms/step - loss: 0.9605 - accuracy: 0.8235 - val_loss: 1.8386 - val_accuracy: 0.8094\n",
            "Epoch 397/800\n",
            "85/85 [==============================] - 17s 197ms/step - loss: 1.2349 - accuracy: 0.8074 - val_loss: 1.1349 - val_accuracy: 0.8656\n",
            "Epoch 398/800\n",
            "85/85 [==============================] - 17s 198ms/step - loss: 0.9223 - accuracy: 0.8393 - val_loss: 1.9266 - val_accuracy: 0.7750\n",
            "Epoch 399/800\n",
            "85/85 [==============================] - 17s 197ms/step - loss: 0.9780 - accuracy: 0.8261 - val_loss: 1.3498 - val_accuracy: 0.8656\n",
            "Epoch 400/800\n",
            "85/85 [==============================] - 17s 201ms/step - loss: 1.3974 - accuracy: 0.8316 - val_loss: 1.2915 - val_accuracy: 0.8313\n",
            "Epoch 401/800\n",
            "85/85 [==============================] - 17s 198ms/step - loss: 1.0010 - accuracy: 0.8276 - val_loss: 1.4201 - val_accuracy: 0.8375\n",
            "Epoch 402/800\n",
            "85/85 [==============================] - 17s 197ms/step - loss: 1.4414 - accuracy: 0.8121 - val_loss: 1.1979 - val_accuracy: 0.8719\n",
            "Epoch 403/800\n",
            "85/85 [==============================] - 17s 197ms/step - loss: 0.9897 - accuracy: 0.8210 - val_loss: 1.8540 - val_accuracy: 0.8094\n",
            "Epoch 404/800\n",
            "85/85 [==============================] - 17s 197ms/step - loss: 1.0558 - accuracy: 0.8268 - val_loss: 1.4054 - val_accuracy: 0.8313\n",
            "Epoch 405/800\n",
            "85/85 [==============================] - 17s 197ms/step - loss: 1.1573 - accuracy: 0.8246 - val_loss: 3.4118 - val_accuracy: 0.7594\n",
            "Epoch 406/800\n",
            "85/85 [==============================] - 17s 197ms/step - loss: 1.0104 - accuracy: 0.8313 - val_loss: 2.6103 - val_accuracy: 0.8031\n",
            "Epoch 407/800\n",
            "85/85 [==============================] - 17s 197ms/step - loss: 1.2486 - accuracy: 0.7945 - val_loss: 1.0786 - val_accuracy: 0.8656\n",
            "Epoch 408/800\n",
            "85/85 [==============================] - 17s 198ms/step - loss: 1.1174 - accuracy: 0.8096 - val_loss: 1.0467 - val_accuracy: 0.8375\n",
            "Epoch 409/800\n",
            "85/85 [==============================] - 17s 197ms/step - loss: 1.4148 - accuracy: 0.8276 - val_loss: 2.5672 - val_accuracy: 0.6187\n",
            "Epoch 410/800\n",
            "85/85 [==============================] - 17s 197ms/step - loss: 1.2980 - accuracy: 0.7934 - val_loss: 0.5317 - val_accuracy: 0.9094\n",
            "Epoch 411/800\n",
            "85/85 [==============================] - 17s 196ms/step - loss: 1.1096 - accuracy: 0.8125 - val_loss: 2.0298 - val_accuracy: 0.7812\n",
            "Epoch 412/800\n",
            "85/85 [==============================] - 17s 197ms/step - loss: 1.2860 - accuracy: 0.8136 - val_loss: 1.6475 - val_accuracy: 0.8344\n",
            "Epoch 413/800\n",
            "85/85 [==============================] - 17s 197ms/step - loss: 1.0499 - accuracy: 0.8342 - val_loss: 2.1983 - val_accuracy: 0.7906\n",
            "Epoch 414/800\n",
            "85/85 [==============================] - 17s 197ms/step - loss: 1.1336 - accuracy: 0.8103 - val_loss: 1.1080 - val_accuracy: 0.8719\n",
            "Epoch 415/800\n",
            "85/85 [==============================] - 17s 197ms/step - loss: 2.3457 - accuracy: 0.7967 - val_loss: 0.9956 - val_accuracy: 0.8219\n",
            "Epoch 416/800\n",
            "85/85 [==============================] - 17s 196ms/step - loss: 1.2195 - accuracy: 0.8140 - val_loss: 1.6334 - val_accuracy: 0.8656\n",
            "Epoch 417/800\n",
            "85/85 [==============================] - 17s 198ms/step - loss: 1.1833 - accuracy: 0.8279 - val_loss: 3.6300 - val_accuracy: 0.8219\n",
            "Epoch 418/800\n",
            "85/85 [==============================] - 17s 196ms/step - loss: 1.4301 - accuracy: 0.7993 - val_loss: 0.6618 - val_accuracy: 0.8562\n",
            "Epoch 419/800\n",
            "85/85 [==============================] - 17s 198ms/step - loss: 1.6749 - accuracy: 0.8184 - val_loss: 1.8727 - val_accuracy: 0.8094\n",
            "Epoch 420/800\n",
            "85/85 [==============================] - 17s 198ms/step - loss: 1.0392 - accuracy: 0.8118 - val_loss: 2.8946 - val_accuracy: 0.7156\n",
            "Epoch 421/800\n",
            "85/85 [==============================] - 17s 197ms/step - loss: 1.0589 - accuracy: 0.8279 - val_loss: 1.2662 - val_accuracy: 0.8375\n",
            "Epoch 422/800\n",
            "85/85 [==============================] - 17s 197ms/step - loss: 1.0903 - accuracy: 0.8224 - val_loss: 0.9124 - val_accuracy: 0.8687\n",
            "Epoch 423/800\n",
            "85/85 [==============================] - 17s 198ms/step - loss: 1.5517 - accuracy: 0.7930 - val_loss: 1.1641 - val_accuracy: 0.8344\n",
            "Epoch 424/800\n",
            "85/85 [==============================] - 17s 199ms/step - loss: 1.8820 - accuracy: 0.7974 - val_loss: 2.0415 - val_accuracy: 0.8313\n",
            "Epoch 425/800\n",
            "85/85 [==============================] - 17s 197ms/step - loss: 1.5186 - accuracy: 0.8011 - val_loss: 0.7198 - val_accuracy: 0.8594\n",
            "Epoch 426/800\n",
            "85/85 [==============================] - 17s 197ms/step - loss: 2.6468 - accuracy: 0.7640 - val_loss: 2.0181 - val_accuracy: 0.8469\n",
            "Epoch 427/800\n",
            "85/85 [==============================] - 17s 197ms/step - loss: 1.2171 - accuracy: 0.7897 - val_loss: 0.6620 - val_accuracy: 0.9000\n",
            "Epoch 428/800\n",
            "85/85 [==============================] - 17s 197ms/step - loss: 1.4127 - accuracy: 0.8037 - val_loss: 1.4414 - val_accuracy: 0.7781\n",
            "Epoch 429/800\n",
            "85/85 [==============================] - 17s 198ms/step - loss: 1.2664 - accuracy: 0.8070 - val_loss: 2.2336 - val_accuracy: 0.8438\n",
            "Epoch 430/800\n",
            "85/85 [==============================] - 17s 197ms/step - loss: 1.2842 - accuracy: 0.8206 - val_loss: 1.4237 - val_accuracy: 0.8500\n",
            "Epoch 431/800\n",
            "85/85 [==============================] - 17s 197ms/step - loss: 1.4654 - accuracy: 0.8096 - val_loss: 1.1510 - val_accuracy: 0.8281\n",
            "Epoch 432/800\n",
            "85/85 [==============================] - 17s 197ms/step - loss: 1.2470 - accuracy: 0.8176 - val_loss: 1.2845 - val_accuracy: 0.8313\n",
            "Epoch 433/800\n",
            "85/85 [==============================] - 17s 197ms/step - loss: 1.1047 - accuracy: 0.8305 - val_loss: 0.8922 - val_accuracy: 0.8594\n",
            "Epoch 434/800\n",
            "85/85 [==============================] - 17s 197ms/step - loss: 1.2761 - accuracy: 0.8051 - val_loss: 2.0812 - val_accuracy: 0.6125\n",
            "Epoch 435/800\n",
            "85/85 [==============================] - 17s 197ms/step - loss: 1.4101 - accuracy: 0.8118 - val_loss: 1.7402 - val_accuracy: 0.8500\n",
            "Epoch 436/800\n",
            "85/85 [==============================] - 17s 197ms/step - loss: 1.0702 - accuracy: 0.8313 - val_loss: 1.7823 - val_accuracy: 0.8781\n",
            "Epoch 437/800\n",
            "85/85 [==============================] - 17s 198ms/step - loss: 1.0698 - accuracy: 0.8298 - val_loss: 1.3972 - val_accuracy: 0.8156\n",
            "Epoch 438/800\n",
            "85/85 [==============================] - 17s 199ms/step - loss: 1.3213 - accuracy: 0.8206 - val_loss: 0.8504 - val_accuracy: 0.8531\n",
            "Epoch 439/800\n",
            "85/85 [==============================] - 17s 199ms/step - loss: 1.3637 - accuracy: 0.8055 - val_loss: 1.5211 - val_accuracy: 0.8156\n",
            "Epoch 440/800\n",
            "85/85 [==============================] - 17s 197ms/step - loss: 1.0809 - accuracy: 0.8313 - val_loss: 2.1256 - val_accuracy: 0.8094\n",
            "Epoch 441/800\n",
            "85/85 [==============================] - 17s 198ms/step - loss: 1.5120 - accuracy: 0.7915 - val_loss: 1.2659 - val_accuracy: 0.8062\n",
            "Epoch 442/800\n",
            "85/85 [==============================] - 17s 198ms/step - loss: 1.4460 - accuracy: 0.7945 - val_loss: 1.6770 - val_accuracy: 0.8438\n",
            "Epoch 443/800\n",
            "85/85 [==============================] - 17s 196ms/step - loss: 1.2447 - accuracy: 0.8250 - val_loss: 1.1977 - val_accuracy: 0.8781\n",
            "Epoch 444/800\n",
            "85/85 [==============================] - 17s 197ms/step - loss: 1.4474 - accuracy: 0.7934 - val_loss: 0.9107 - val_accuracy: 0.8781\n",
            "Epoch 445/800\n",
            "85/85 [==============================] - 17s 196ms/step - loss: 1.0969 - accuracy: 0.8246 - val_loss: 0.9934 - val_accuracy: 0.8719\n",
            "Epoch 446/800\n",
            "85/85 [==============================] - 17s 197ms/step - loss: 2.3865 - accuracy: 0.7901 - val_loss: 0.9631 - val_accuracy: 0.8594\n",
            "Epoch 447/800\n",
            "85/85 [==============================] - 17s 197ms/step - loss: 1.2826 - accuracy: 0.8015 - val_loss: 6.0848 - val_accuracy: 0.8250\n",
            "Epoch 448/800\n",
            "85/85 [==============================] - 17s 198ms/step - loss: 1.0413 - accuracy: 0.8228 - val_loss: 0.8809 - val_accuracy: 0.8687\n",
            "Epoch 449/800\n",
            "85/85 [==============================] - 17s 197ms/step - loss: 1.2933 - accuracy: 0.7941 - val_loss: 1.4551 - val_accuracy: 0.8062\n",
            "Epoch 450/800\n",
            "85/85 [==============================] - 17s 196ms/step - loss: 1.7107 - accuracy: 0.7908 - val_loss: 2.6321 - val_accuracy: 0.7656\n",
            "Epoch 451/800\n",
            "85/85 [==============================] - 17s 198ms/step - loss: 1.2422 - accuracy: 0.8217 - val_loss: 1.0629 - val_accuracy: 0.7719\n",
            "Epoch 452/800\n",
            "85/85 [==============================] - 17s 196ms/step - loss: 1.1545 - accuracy: 0.8129 - val_loss: 0.7264 - val_accuracy: 0.8656\n",
            "Epoch 453/800\n",
            "85/85 [==============================] - 17s 198ms/step - loss: 1.0483 - accuracy: 0.8191 - val_loss: 2.3468 - val_accuracy: 0.8313\n",
            "Epoch 454/800\n",
            "85/85 [==============================] - 17s 198ms/step - loss: 1.6004 - accuracy: 0.7886 - val_loss: 0.7885 - val_accuracy: 0.8719\n",
            "Epoch 455/800\n",
            "85/85 [==============================] - 17s 197ms/step - loss: 1.2249 - accuracy: 0.7956 - val_loss: 0.7445 - val_accuracy: 0.8375\n",
            "Epoch 456/800\n",
            "85/85 [==============================] - 17s 199ms/step - loss: 1.2409 - accuracy: 0.7912 - val_loss: 1.2857 - val_accuracy: 0.8438\n",
            "Epoch 457/800\n",
            "85/85 [==============================] - 17s 196ms/step - loss: 1.3766 - accuracy: 0.7937 - val_loss: 1.7584 - val_accuracy: 0.8500\n",
            "Epoch 458/800\n",
            "85/85 [==============================] - 17s 198ms/step - loss: 1.0023 - accuracy: 0.8169 - val_loss: 0.9430 - val_accuracy: 0.8219\n",
            "Epoch 459/800\n",
            "85/85 [==============================] - 17s 197ms/step - loss: 1.1444 - accuracy: 0.7868 - val_loss: 0.7302 - val_accuracy: 0.8781\n",
            "Epoch 460/800\n",
            "85/85 [==============================] - 17s 196ms/step - loss: 1.2079 - accuracy: 0.7974 - val_loss: 4.6504 - val_accuracy: 0.8062\n",
            "Epoch 461/800\n",
            "85/85 [==============================] - 17s 197ms/step - loss: 1.0991 - accuracy: 0.8110 - val_loss: 1.8029 - val_accuracy: 0.7188\n",
            "Epoch 462/800\n",
            "85/85 [==============================] - 17s 197ms/step - loss: 1.1640 - accuracy: 0.8074 - val_loss: 1.2998 - val_accuracy: 0.8813\n",
            "Epoch 463/800\n",
            "85/85 [==============================] - 17s 197ms/step - loss: 1.5625 - accuracy: 0.7960 - val_loss: 1.1871 - val_accuracy: 0.8625\n",
            "Epoch 464/800\n",
            "85/85 [==============================] - 17s 197ms/step - loss: 1.1614 - accuracy: 0.8213 - val_loss: 0.6753 - val_accuracy: 0.8719\n",
            "Epoch 465/800\n",
            "85/85 [==============================] - 17s 198ms/step - loss: 1.5518 - accuracy: 0.7971 - val_loss: 1.1264 - val_accuracy: 0.8719\n",
            "Epoch 466/800\n",
            "85/85 [==============================] - 17s 197ms/step - loss: 1.0736 - accuracy: 0.8276 - val_loss: 0.7892 - val_accuracy: 0.9000\n",
            "Epoch 467/800\n",
            "85/85 [==============================] - 17s 197ms/step - loss: 1.2588 - accuracy: 0.8099 - val_loss: 1.0230 - val_accuracy: 0.8781\n",
            "Epoch 468/800\n",
            "85/85 [==============================] - 17s 198ms/step - loss: 1.0767 - accuracy: 0.8011 - val_loss: 1.5652 - val_accuracy: 0.8375\n",
            "Epoch 469/800\n",
            "85/85 [==============================] - 17s 197ms/step - loss: 1.1514 - accuracy: 0.8114 - val_loss: 1.1518 - val_accuracy: 0.8469\n",
            "Epoch 470/800\n",
            "85/85 [==============================] - 17s 198ms/step - loss: 1.2876 - accuracy: 0.8118 - val_loss: 0.8768 - val_accuracy: 0.9062\n",
            "Epoch 471/800\n",
            "85/85 [==============================] - 17s 198ms/step - loss: 1.1091 - accuracy: 0.8206 - val_loss: 1.3065 - val_accuracy: 0.8438\n",
            "Epoch 472/800\n",
            "85/85 [==============================] - 17s 197ms/step - loss: 1.1479 - accuracy: 0.8055 - val_loss: 3.5190 - val_accuracy: 0.7750\n",
            "Epoch 473/800\n",
            "85/85 [==============================] - 17s 197ms/step - loss: 2.0515 - accuracy: 0.7779 - val_loss: 1.2544 - val_accuracy: 0.8562\n",
            "Epoch 474/800\n",
            "85/85 [==============================] - 17s 197ms/step - loss: 1.1008 - accuracy: 0.8121 - val_loss: 0.7362 - val_accuracy: 0.8906\n",
            "Epoch 475/800\n",
            "85/85 [==============================] - 17s 198ms/step - loss: 0.9372 - accuracy: 0.8276 - val_loss: 1.3807 - val_accuracy: 0.8844\n",
            "Epoch 476/800\n",
            "85/85 [==============================] - 17s 197ms/step - loss: 1.3765 - accuracy: 0.8040 - val_loss: 1.0174 - val_accuracy: 0.8719\n",
            "Epoch 477/800\n",
            "85/85 [==============================] - 17s 197ms/step - loss: 1.1235 - accuracy: 0.8272 - val_loss: 1.2450 - val_accuracy: 0.8562\n",
            "Epoch 478/800\n",
            "85/85 [==============================] - 17s 197ms/step - loss: 1.4592 - accuracy: 0.7982 - val_loss: 1.3600 - val_accuracy: 0.8156\n",
            "Epoch 479/800\n",
            "85/85 [==============================] - 17s 198ms/step - loss: 1.0337 - accuracy: 0.8184 - val_loss: 1.1015 - val_accuracy: 0.8406\n",
            "Epoch 480/800\n",
            "85/85 [==============================] - 17s 196ms/step - loss: 1.1194 - accuracy: 0.8173 - val_loss: 1.3584 - val_accuracy: 0.8031\n",
            "Epoch 481/800\n",
            "85/85 [==============================] - 17s 196ms/step - loss: 1.7212 - accuracy: 0.8386 - val_loss: 1.3723 - val_accuracy: 0.8594\n",
            "Epoch 482/800\n",
            "85/85 [==============================] - 17s 197ms/step - loss: 1.2184 - accuracy: 0.8316 - val_loss: 0.8073 - val_accuracy: 0.9187\n",
            "Epoch 483/800\n",
            "85/85 [==============================] - 17s 197ms/step - loss: 1.1925 - accuracy: 0.8382 - val_loss: 0.7989 - val_accuracy: 0.9125\n",
            "Epoch 484/800\n",
            "85/85 [==============================] - 17s 197ms/step - loss: 1.4398 - accuracy: 0.8180 - val_loss: 0.8481 - val_accuracy: 0.8844\n",
            "Epoch 485/800\n",
            "85/85 [==============================] - 17s 199ms/step - loss: 1.1383 - accuracy: 0.8316 - val_loss: 1.9767 - val_accuracy: 0.8125\n",
            "Epoch 486/800\n",
            "85/85 [==============================] - 17s 197ms/step - loss: 1.0664 - accuracy: 0.8357 - val_loss: 0.4343 - val_accuracy: 0.9062\n",
            "Epoch 487/800\n",
            "85/85 [==============================] - 17s 196ms/step - loss: 1.0552 - accuracy: 0.8154 - val_loss: 0.4765 - val_accuracy: 0.8844\n",
            "Epoch 488/800\n",
            "85/85 [==============================] - 17s 197ms/step - loss: 1.6429 - accuracy: 0.7908 - val_loss: 1.0062 - val_accuracy: 0.8375\n",
            "Epoch 489/800\n",
            "85/85 [==============================] - 17s 198ms/step - loss: 1.7291 - accuracy: 0.7875 - val_loss: 1.0778 - val_accuracy: 0.8750\n",
            "Epoch 490/800\n",
            "85/85 [==============================] - 17s 197ms/step - loss: 1.1569 - accuracy: 0.8037 - val_loss: 0.9701 - val_accuracy: 0.8844\n",
            "Epoch 491/800\n",
            "85/85 [==============================] - 17s 196ms/step - loss: 1.3225 - accuracy: 0.8029 - val_loss: 1.4657 - val_accuracy: 0.8719\n",
            "Epoch 492/800\n",
            "85/85 [==============================] - 17s 197ms/step - loss: 1.1074 - accuracy: 0.8331 - val_loss: 0.8435 - val_accuracy: 0.8531\n",
            "Epoch 493/800\n",
            "85/85 [==============================] - 17s 200ms/step - loss: 1.4761 - accuracy: 0.7875 - val_loss: 0.5953 - val_accuracy: 0.9156\n",
            "Epoch 494/800\n",
            "85/85 [==============================] - 17s 197ms/step - loss: 1.2872 - accuracy: 0.8059 - val_loss: 1.5551 - val_accuracy: 0.8469\n",
            "Epoch 495/800\n",
            "85/85 [==============================] - 17s 197ms/step - loss: 1.2998 - accuracy: 0.8022 - val_loss: 0.6755 - val_accuracy: 0.8375\n",
            "Epoch 496/800\n",
            "85/85 [==============================] - 17s 198ms/step - loss: 1.4978 - accuracy: 0.7838 - val_loss: 1.6494 - val_accuracy: 0.8813\n",
            "Epoch 497/800\n",
            "85/85 [==============================] - 17s 196ms/step - loss: 1.3136 - accuracy: 0.8092 - val_loss: 2.7000 - val_accuracy: 0.8344\n",
            "Epoch 498/800\n",
            "85/85 [==============================] - 17s 197ms/step - loss: 1.1049 - accuracy: 0.8180 - val_loss: 1.2540 - val_accuracy: 0.8531\n",
            "Epoch 499/800\n",
            "85/85 [==============================] - 17s 198ms/step - loss: 2.0411 - accuracy: 0.8103 - val_loss: 1.4990 - val_accuracy: 0.8094\n",
            "Epoch 500/800\n",
            "85/85 [==============================] - 17s 197ms/step - loss: 1.3008 - accuracy: 0.7949 - val_loss: 1.3509 - val_accuracy: 0.8344\n",
            "Epoch 501/800\n",
            "85/85 [==============================] - 17s 198ms/step - loss: 1.3817 - accuracy: 0.7820 - val_loss: 0.8182 - val_accuracy: 0.8062\n",
            "Epoch 502/800\n",
            "85/85 [==============================] - 17s 198ms/step - loss: 1.3311 - accuracy: 0.7952 - val_loss: 1.0413 - val_accuracy: 0.9031\n",
            "Epoch 503/800\n",
            "85/85 [==============================] - 17s 197ms/step - loss: 1.8378 - accuracy: 0.7875 - val_loss: 0.7981 - val_accuracy: 0.8375\n",
            "Epoch 504/800\n",
            "85/85 [==============================] - 17s 198ms/step - loss: 1.3059 - accuracy: 0.8000 - val_loss: 0.5229 - val_accuracy: 0.8500\n",
            "Epoch 505/800\n",
            "85/85 [==============================] - 17s 197ms/step - loss: 1.2327 - accuracy: 0.8055 - val_loss: 2.2169 - val_accuracy: 0.8125\n",
            "Epoch 506/800\n",
            "85/85 [==============================] - 17s 199ms/step - loss: 1.2698 - accuracy: 0.7952 - val_loss: 1.1939 - val_accuracy: 0.8031\n",
            "Epoch 507/800\n",
            "85/85 [==============================] - 17s 197ms/step - loss: 1.1574 - accuracy: 0.8143 - val_loss: 0.8653 - val_accuracy: 0.8625\n",
            "Epoch 508/800\n",
            "85/85 [==============================] - 17s 197ms/step - loss: 1.2389 - accuracy: 0.8081 - val_loss: 0.7778 - val_accuracy: 0.8844\n",
            "Epoch 509/800\n",
            "85/85 [==============================] - 17s 198ms/step - loss: 1.2509 - accuracy: 0.7952 - val_loss: 1.6871 - val_accuracy: 0.8344\n",
            "Epoch 510/800\n",
            "85/85 [==============================] - 17s 197ms/step - loss: 1.5583 - accuracy: 0.7684 - val_loss: 0.4675 - val_accuracy: 0.8906\n",
            "Epoch 511/800\n",
            "85/85 [==============================] - 17s 199ms/step - loss: 1.3234 - accuracy: 0.7923 - val_loss: 0.9237 - val_accuracy: 0.9031\n",
            "Epoch 512/800\n",
            "85/85 [==============================] - 17s 197ms/step - loss: 1.2855 - accuracy: 0.7956 - val_loss: 1.1997 - val_accuracy: 0.9000\n",
            "Epoch 513/800\n",
            "85/85 [==============================] - 17s 199ms/step - loss: 1.6065 - accuracy: 0.8221 - val_loss: 0.9209 - val_accuracy: 0.8687\n",
            "Epoch 514/800\n",
            "85/85 [==============================] - 17s 197ms/step - loss: 1.5201 - accuracy: 0.7934 - val_loss: 8.9002 - val_accuracy: 0.6750\n",
            "Epoch 515/800\n",
            "85/85 [==============================] - 17s 198ms/step - loss: 1.8712 - accuracy: 0.7658 - val_loss: 1.4376 - val_accuracy: 0.8531\n",
            "Epoch 516/800\n",
            "85/85 [==============================] - 17s 199ms/step - loss: 1.3973 - accuracy: 0.8037 - val_loss: 1.1176 - val_accuracy: 0.8906\n",
            "Epoch 517/800\n",
            "85/85 [==============================] - 17s 197ms/step - loss: 1.9737 - accuracy: 0.7441 - val_loss: 1.2753 - val_accuracy: 0.9062\n",
            "Epoch 518/800\n",
            "85/85 [==============================] - 17s 197ms/step - loss: 1.6625 - accuracy: 0.7603 - val_loss: 0.8546 - val_accuracy: 0.8344\n",
            "Epoch 519/800\n",
            "85/85 [==============================] - 17s 197ms/step - loss: 1.3686 - accuracy: 0.7779 - val_loss: 0.7485 - val_accuracy: 0.8969\n",
            "Epoch 520/800\n",
            "85/85 [==============================] - 17s 198ms/step - loss: 1.6022 - accuracy: 0.7717 - val_loss: 2.5838 - val_accuracy: 0.8156\n",
            "Epoch 521/800\n",
            "85/85 [==============================] - 17s 197ms/step - loss: 1.7823 - accuracy: 0.8018 - val_loss: 1.1767 - val_accuracy: 0.8313\n",
            "Epoch 522/800\n",
            "85/85 [==============================] - 17s 197ms/step - loss: 1.6441 - accuracy: 0.7783 - val_loss: 1.0219 - val_accuracy: 0.8625\n",
            "Epoch 523/800\n",
            "85/85 [==============================] - 17s 198ms/step - loss: 1.4622 - accuracy: 0.7886 - val_loss: 1.8942 - val_accuracy: 0.7563\n",
            "Epoch 524/800\n",
            "85/85 [==============================] - 17s 197ms/step - loss: 1.3772 - accuracy: 0.7890 - val_loss: 0.8268 - val_accuracy: 0.8531\n",
            "Epoch 525/800\n",
            "85/85 [==============================] - 17s 196ms/step - loss: 1.3018 - accuracy: 0.7831 - val_loss: 1.1072 - val_accuracy: 0.8625\n",
            "Epoch 526/800\n",
            "85/85 [==============================] - 17s 198ms/step - loss: 1.3179 - accuracy: 0.7879 - val_loss: 1.6373 - val_accuracy: 0.8625\n",
            "Epoch 527/800\n",
            "85/85 [==============================] - 17s 197ms/step - loss: 1.3649 - accuracy: 0.7757 - val_loss: 1.3382 - val_accuracy: 0.8687\n",
            "Epoch 528/800\n",
            "85/85 [==============================] - 17s 198ms/step - loss: 1.3437 - accuracy: 0.7897 - val_loss: 0.9236 - val_accuracy: 0.8969\n",
            "Epoch 529/800\n",
            "85/85 [==============================] - 17s 198ms/step - loss: 1.2286 - accuracy: 0.7937 - val_loss: 1.7690 - val_accuracy: 0.8531\n",
            "Epoch 530/800\n",
            "85/85 [==============================] - 17s 200ms/step - loss: 1.2167 - accuracy: 0.7937 - val_loss: 3.0410 - val_accuracy: 0.7625\n",
            "Epoch 531/800\n",
            "85/85 [==============================] - 17s 200ms/step - loss: 1.8352 - accuracy: 0.7750 - val_loss: 1.7506 - val_accuracy: 0.8094\n",
            "Epoch 532/800\n",
            "85/85 [==============================] - 17s 198ms/step - loss: 1.6755 - accuracy: 0.7794 - val_loss: 4.5467 - val_accuracy: 0.6781\n",
            "Epoch 533/800\n",
            "85/85 [==============================] - 17s 199ms/step - loss: 2.1042 - accuracy: 0.7574 - val_loss: 6.3522 - val_accuracy: 0.6969\n",
            "Epoch 534/800\n",
            "85/85 [==============================] - 17s 197ms/step - loss: 1.6455 - accuracy: 0.7342 - val_loss: 2.5398 - val_accuracy: 0.7656\n",
            "Epoch 535/800\n",
            "85/85 [==============================] - 17s 197ms/step - loss: 1.9185 - accuracy: 0.7456 - val_loss: 0.8865 - val_accuracy: 0.8656\n",
            "Epoch 536/800\n",
            "85/85 [==============================] - 17s 198ms/step - loss: 1.5977 - accuracy: 0.7522 - val_loss: 1.0815 - val_accuracy: 0.8344\n",
            "Epoch 537/800\n",
            "85/85 [==============================] - 17s 198ms/step - loss: 1.8553 - accuracy: 0.7437 - val_loss: 1.2757 - val_accuracy: 0.8625\n",
            "Epoch 538/800\n",
            "85/85 [==============================] - 17s 199ms/step - loss: 3.8900 - accuracy: 0.7478 - val_loss: 2.5502 - val_accuracy: 0.6844\n",
            "Epoch 539/800\n",
            "85/85 [==============================] - 17s 198ms/step - loss: 2.0515 - accuracy: 0.6592 - val_loss: 1.0353 - val_accuracy: 0.8062\n",
            "Epoch 540/800\n",
            "85/85 [==============================] - 17s 199ms/step - loss: 1.5537 - accuracy: 0.7243 - val_loss: 1.6768 - val_accuracy: 0.8281\n",
            "Epoch 541/800\n",
            "85/85 [==============================] - 17s 198ms/step - loss: 1.6059 - accuracy: 0.7577 - val_loss: 0.8765 - val_accuracy: 0.8313\n",
            "Epoch 542/800\n",
            "85/85 [==============================] - 17s 198ms/step - loss: 1.4837 - accuracy: 0.7680 - val_loss: 1.1192 - val_accuracy: 0.8531\n",
            "Epoch 543/800\n",
            "85/85 [==============================] - 17s 200ms/step - loss: 1.3569 - accuracy: 0.7776 - val_loss: 0.7388 - val_accuracy: 0.8594\n",
            "Epoch 544/800\n",
            "85/85 [==============================] - 17s 197ms/step - loss: 1.8099 - accuracy: 0.7393 - val_loss: 1.9957 - val_accuracy: 0.8625\n",
            "Epoch 545/800\n",
            "85/85 [==============================] - 17s 198ms/step - loss: 1.3806 - accuracy: 0.7835 - val_loss: 1.3395 - val_accuracy: 0.8594\n",
            "Epoch 546/800\n",
            "85/85 [==============================] - 17s 200ms/step - loss: 1.2616 - accuracy: 0.7625 - val_loss: 1.4749 - val_accuracy: 0.8625\n",
            "Epoch 547/800\n",
            "85/85 [==============================] - 17s 199ms/step - loss: 1.3144 - accuracy: 0.7941 - val_loss: 2.1343 - val_accuracy: 0.7563\n",
            "Epoch 548/800\n",
            "85/85 [==============================] - 17s 200ms/step - loss: 1.4922 - accuracy: 0.7787 - val_loss: 1.0385 - val_accuracy: 0.8750\n",
            "Epoch 549/800\n",
            "85/85 [==============================] - 17s 200ms/step - loss: 1.4710 - accuracy: 0.7540 - val_loss: 1.0543 - val_accuracy: 0.7781\n",
            "Epoch 550/800\n",
            "85/85 [==============================] - 17s 199ms/step - loss: 1.5782 - accuracy: 0.7548 - val_loss: 1.7442 - val_accuracy: 0.8719\n",
            "Epoch 551/800\n",
            "85/85 [==============================] - 17s 198ms/step - loss: 3.6178 - accuracy: 0.6412 - val_loss: 1.0704 - val_accuracy: 0.7188\n",
            "Epoch 552/800\n",
            "85/85 [==============================] - 17s 198ms/step - loss: 1.8046 - accuracy: 0.7195 - val_loss: 3.1814 - val_accuracy: 0.7406\n",
            "Epoch 553/800\n",
            "85/85 [==============================] - 17s 200ms/step - loss: 1.8811 - accuracy: 0.7184 - val_loss: 0.7465 - val_accuracy: 0.8250\n",
            "Epoch 554/800\n",
            "85/85 [==============================] - 17s 199ms/step - loss: 1.8516 - accuracy: 0.7059 - val_loss: 0.8128 - val_accuracy: 0.8156\n",
            "Epoch 555/800\n",
            "85/85 [==============================] - 17s 199ms/step - loss: 1.5723 - accuracy: 0.7585 - val_loss: 1.8145 - val_accuracy: 0.8250\n",
            "Epoch 556/800\n",
            "85/85 [==============================] - 17s 199ms/step - loss: 1.5844 - accuracy: 0.7496 - val_loss: 1.9203 - val_accuracy: 0.8500\n",
            "Epoch 557/800\n",
            "85/85 [==============================] - 17s 199ms/step - loss: 1.8969 - accuracy: 0.7037 - val_loss: 0.9091 - val_accuracy: 0.8281\n",
            "Epoch 558/800\n",
            "85/85 [==============================] - 17s 199ms/step - loss: 1.6239 - accuracy: 0.7518 - val_loss: 1.6176 - val_accuracy: 0.8438\n",
            "Epoch 559/800\n",
            "85/85 [==============================] - 17s 199ms/step - loss: 1.5414 - accuracy: 0.7684 - val_loss: 1.3260 - val_accuracy: 0.8406\n",
            "Epoch 560/800\n",
            "85/85 [==============================] - 17s 200ms/step - loss: 1.4949 - accuracy: 0.7827 - val_loss: 1.1211 - val_accuracy: 0.8219\n",
            "Epoch 561/800\n",
            "85/85 [==============================] - 17s 201ms/step - loss: 1.4855 - accuracy: 0.7871 - val_loss: 2.2536 - val_accuracy: 0.7875\n",
            "Epoch 562/800\n",
            "85/85 [==============================] - 17s 198ms/step - loss: 1.5309 - accuracy: 0.7599 - val_loss: 1.1471 - val_accuracy: 0.8250\n",
            "Epoch 563/800\n",
            "85/85 [==============================] - 17s 200ms/step - loss: 1.5070 - accuracy: 0.7728 - val_loss: 3.5829 - val_accuracy: 0.8219\n",
            "Epoch 564/800\n",
            "85/85 [==============================] - 17s 198ms/step - loss: 1.3150 - accuracy: 0.7860 - val_loss: 2.3197 - val_accuracy: 0.8438\n",
            "Epoch 565/800\n",
            "85/85 [==============================] - 17s 198ms/step - loss: 1.4919 - accuracy: 0.7816 - val_loss: 2.4879 - val_accuracy: 0.8000\n",
            "Epoch 566/800\n",
            "85/85 [==============================] - 17s 199ms/step - loss: 1.5256 - accuracy: 0.8026 - val_loss: 1.2403 - val_accuracy: 0.8719\n",
            "Epoch 567/800\n",
            "85/85 [==============================] - 17s 200ms/step - loss: 1.7283 - accuracy: 0.7533 - val_loss: 1.7881 - val_accuracy: 0.8250\n",
            "Epoch 568/800\n",
            "85/85 [==============================] - 17s 198ms/step - loss: 1.5722 - accuracy: 0.7397 - val_loss: 1.0881 - val_accuracy: 0.8656\n",
            "Epoch 569/800\n",
            "85/85 [==============================] - 17s 198ms/step - loss: 1.5159 - accuracy: 0.7346 - val_loss: 1.5869 - val_accuracy: 0.8188\n",
            "Epoch 570/800\n",
            "85/85 [==============================] - 17s 199ms/step - loss: 1.5912 - accuracy: 0.7555 - val_loss: 0.9841 - val_accuracy: 0.8562\n",
            "Epoch 571/800\n",
            "85/85 [==============================] - 17s 199ms/step - loss: 1.3476 - accuracy: 0.7654 - val_loss: 1.9262 - val_accuracy: 0.8531\n",
            "Epoch 572/800\n",
            "85/85 [==============================] - 17s 199ms/step - loss: 1.5445 - accuracy: 0.7397 - val_loss: 1.0968 - val_accuracy: 0.8844\n",
            "Epoch 573/800\n",
            "85/85 [==============================] - 17s 200ms/step - loss: 1.5000 - accuracy: 0.7478 - val_loss: 1.0423 - val_accuracy: 0.8156\n",
            "Epoch 574/800\n",
            "85/85 [==============================] - 17s 198ms/step - loss: 1.3437 - accuracy: 0.7809 - val_loss: 1.5820 - val_accuracy: 0.8781\n",
            "Epoch 575/800\n",
            "85/85 [==============================] - 17s 200ms/step - loss: 1.3310 - accuracy: 0.7842 - val_loss: 2.7030 - val_accuracy: 0.8469\n",
            "Epoch 576/800\n",
            "85/85 [==============================] - 17s 199ms/step - loss: 1.6084 - accuracy: 0.7842 - val_loss: 1.7885 - val_accuracy: 0.8156\n",
            "Epoch 577/800\n",
            "85/85 [==============================] - 17s 199ms/step - loss: 1.4093 - accuracy: 0.7805 - val_loss: 1.3316 - val_accuracy: 0.8438\n",
            "Epoch 578/800\n",
            "85/85 [==============================] - 17s 198ms/step - loss: 1.5563 - accuracy: 0.7441 - val_loss: 0.6715 - val_accuracy: 0.8813\n",
            "Epoch 579/800\n",
            "85/85 [==============================] - 17s 199ms/step - loss: 1.3704 - accuracy: 0.7728 - val_loss: 1.5503 - val_accuracy: 0.8281\n",
            "Epoch 580/800\n",
            "85/85 [==============================] - 17s 199ms/step - loss: 1.5906 - accuracy: 0.7533 - val_loss: 1.3773 - val_accuracy: 0.8438\n",
            "Epoch 581/800\n",
            "85/85 [==============================] - 17s 198ms/step - loss: 1.4974 - accuracy: 0.7540 - val_loss: 0.9278 - val_accuracy: 0.8813\n",
            "Epoch 582/800\n",
            "85/85 [==============================] - 17s 198ms/step - loss: 1.4594 - accuracy: 0.7857 - val_loss: 1.8450 - val_accuracy: 0.7594\n",
            "Epoch 583/800\n",
            "85/85 [==============================] - 17s 198ms/step - loss: 1.4356 - accuracy: 0.7702 - val_loss: 1.1855 - val_accuracy: 0.8188\n",
            "Epoch 584/800\n",
            "85/85 [==============================] - 17s 198ms/step - loss: 1.4416 - accuracy: 0.7835 - val_loss: 1.8615 - val_accuracy: 0.7656\n",
            "Epoch 585/800\n",
            "85/85 [==============================] - 17s 202ms/step - loss: 1.6674 - accuracy: 0.7529 - val_loss: 2.5292 - val_accuracy: 0.8250\n",
            "Epoch 586/800\n",
            "85/85 [==============================] - 17s 199ms/step - loss: 1.4523 - accuracy: 0.7761 - val_loss: 6.2113 - val_accuracy: 0.7875\n",
            "Epoch 587/800\n",
            "85/85 [==============================] - 17s 198ms/step - loss: 1.7867 - accuracy: 0.7588 - val_loss: 1.1772 - val_accuracy: 0.8313\n",
            "Epoch 588/800\n",
            "85/85 [==============================] - 17s 198ms/step - loss: 1.3905 - accuracy: 0.7805 - val_loss: 1.5813 - val_accuracy: 0.8000\n",
            "Epoch 589/800\n",
            "85/85 [==============================] - 17s 198ms/step - loss: 1.5666 - accuracy: 0.7724 - val_loss: 0.7662 - val_accuracy: 0.8625\n",
            "Epoch 590/800\n",
            "85/85 [==============================] - 17s 201ms/step - loss: 1.5549 - accuracy: 0.7382 - val_loss: 1.1461 - val_accuracy: 0.8125\n",
            "Epoch 591/800\n",
            "85/85 [==============================] - 17s 198ms/step - loss: 1.6349 - accuracy: 0.7360 - val_loss: 0.9887 - val_accuracy: 0.8844\n",
            "Epoch 592/800\n",
            "85/85 [==============================] - 17s 198ms/step - loss: 1.8588 - accuracy: 0.7346 - val_loss: 2.0133 - val_accuracy: 0.8313\n",
            "Epoch 593/800\n",
            "85/85 [==============================] - 17s 199ms/step - loss: 1.5518 - accuracy: 0.7419 - val_loss: 2.8533 - val_accuracy: 0.7750\n",
            "Epoch 594/800\n",
            "85/85 [==============================] - 17s 197ms/step - loss: 1.7711 - accuracy: 0.7338 - val_loss: 1.4261 - val_accuracy: 0.8625\n",
            "Epoch 595/800\n",
            "85/85 [==============================] - 17s 198ms/step - loss: 1.6193 - accuracy: 0.7651 - val_loss: 2.1294 - val_accuracy: 0.8625\n",
            "Epoch 596/800\n",
            "85/85 [==============================] - 17s 198ms/step - loss: 1.6831 - accuracy: 0.7629 - val_loss: 3.2464 - val_accuracy: 0.8375\n",
            "Epoch 597/800\n",
            "85/85 [==============================] - 17s 198ms/step - loss: 1.5200 - accuracy: 0.7559 - val_loss: 2.1568 - val_accuracy: 0.8594\n",
            "Epoch 598/800\n",
            "85/85 [==============================] - 17s 197ms/step - loss: 1.8437 - accuracy: 0.7456 - val_loss: 1.4152 - val_accuracy: 0.8531\n",
            "Epoch 599/800\n",
            "85/85 [==============================] - 17s 197ms/step - loss: 1.5578 - accuracy: 0.7640 - val_loss: 3.9061 - val_accuracy: 0.8000\n",
            "Epoch 600/800\n",
            "85/85 [==============================] - 17s 198ms/step - loss: 1.6249 - accuracy: 0.7592 - val_loss: 1.3104 - val_accuracy: 0.8500\n",
            "Epoch 601/800\n",
            "85/85 [==============================] - 17s 196ms/step - loss: 1.5884 - accuracy: 0.7526 - val_loss: 1.1664 - val_accuracy: 0.8687\n",
            "Epoch 602/800\n",
            "85/85 [==============================] - 17s 198ms/step - loss: 1.7325 - accuracy: 0.7037 - val_loss: 1.5149 - val_accuracy: 0.8438\n",
            "Epoch 603/800\n",
            "85/85 [==============================] - 17s 199ms/step - loss: 1.6917 - accuracy: 0.7533 - val_loss: 1.8254 - val_accuracy: 0.7875\n",
            "Epoch 604/800\n",
            "85/85 [==============================] - 17s 198ms/step - loss: 1.4893 - accuracy: 0.7320 - val_loss: 0.8375 - val_accuracy: 0.8562\n",
            "Epoch 605/800\n",
            "85/85 [==============================] - 17s 199ms/step - loss: 1.9027 - accuracy: 0.7540 - val_loss: 1.7026 - val_accuracy: 0.8313\n",
            "Epoch 606/800\n",
            "85/85 [==============================] - 17s 199ms/step - loss: 1.5263 - accuracy: 0.7783 - val_loss: 1.8502 - val_accuracy: 0.8562\n",
            "Epoch 607/800\n",
            "85/85 [==============================] - 17s 198ms/step - loss: 1.4161 - accuracy: 0.7625 - val_loss: 1.1532 - val_accuracy: 0.8250\n",
            "Epoch 608/800\n",
            "85/85 [==============================] - 17s 197ms/step - loss: 1.4684 - accuracy: 0.7680 - val_loss: 1.5643 - val_accuracy: 0.8625\n",
            "Epoch 609/800\n",
            "85/85 [==============================] - 17s 197ms/step - loss: 1.3502 - accuracy: 0.7857 - val_loss: 1.4627 - val_accuracy: 0.8438\n",
            "Epoch 610/800\n",
            "85/85 [==============================] - 17s 199ms/step - loss: 1.4729 - accuracy: 0.7500 - val_loss: 2.0590 - val_accuracy: 0.8719\n",
            "Epoch 611/800\n",
            "85/85 [==============================] - 17s 198ms/step - loss: 1.3671 - accuracy: 0.7640 - val_loss: 0.8559 - val_accuracy: 0.9000\n",
            "Epoch 612/800\n",
            "85/85 [==============================] - 17s 199ms/step - loss: 1.3277 - accuracy: 0.7890 - val_loss: 0.8219 - val_accuracy: 0.8375\n",
            "Epoch 613/800\n",
            "85/85 [==============================] - 17s 199ms/step - loss: 1.5769 - accuracy: 0.7540 - val_loss: 1.7759 - val_accuracy: 0.8125\n",
            "Epoch 614/800\n",
            "85/85 [==============================] - 17s 199ms/step - loss: 1.4132 - accuracy: 0.7603 - val_loss: 1.3562 - val_accuracy: 0.8531\n",
            "Epoch 615/800\n",
            "85/85 [==============================] - 17s 198ms/step - loss: 1.2690 - accuracy: 0.7776 - val_loss: 0.7196 - val_accuracy: 0.8750\n",
            "Epoch 616/800\n",
            "85/85 [==============================] - 17s 198ms/step - loss: 1.4894 - accuracy: 0.7699 - val_loss: 1.9655 - val_accuracy: 0.8219\n",
            "Epoch 617/800\n",
            "85/85 [==============================] - 17s 198ms/step - loss: 1.4784 - accuracy: 0.7537 - val_loss: 0.7721 - val_accuracy: 0.8531\n",
            "Epoch 618/800\n",
            "85/85 [==============================] - 17s 198ms/step - loss: 1.4637 - accuracy: 0.7757 - val_loss: 1.1241 - val_accuracy: 0.8625\n",
            "Epoch 619/800\n",
            "85/85 [==============================] - 17s 197ms/step - loss: 1.4070 - accuracy: 0.8022 - val_loss: 1.4143 - val_accuracy: 0.8531\n",
            "Epoch 620/800\n",
            "85/85 [==============================] - 17s 200ms/step - loss: 1.5557 - accuracy: 0.7790 - val_loss: 7.3842 - val_accuracy: 0.6344\n",
            "Epoch 621/800\n",
            "85/85 [==============================] - 17s 198ms/step - loss: 2.6461 - accuracy: 0.7180 - val_loss: 1.3863 - val_accuracy: 0.8625\n",
            "Epoch 622/800\n",
            "85/85 [==============================] - 17s 199ms/step - loss: 1.6074 - accuracy: 0.7665 - val_loss: 0.7495 - val_accuracy: 0.8438\n",
            "Epoch 623/800\n",
            "85/85 [==============================] - 17s 198ms/step - loss: 1.5080 - accuracy: 0.7680 - val_loss: 2.2263 - val_accuracy: 0.8656\n",
            "Epoch 624/800\n",
            "85/85 [==============================] - 17s 198ms/step - loss: 1.5269 - accuracy: 0.7662 - val_loss: 1.6292 - val_accuracy: 0.8188\n",
            "Epoch 625/800\n",
            "85/85 [==============================] - 17s 197ms/step - loss: 1.2754 - accuracy: 0.7875 - val_loss: 1.2705 - val_accuracy: 0.8438\n",
            "Epoch 626/800\n",
            "85/85 [==============================] - 17s 198ms/step - loss: 1.2005 - accuracy: 0.8007 - val_loss: 2.0569 - val_accuracy: 0.8469\n",
            "Epoch 627/800\n",
            "85/85 [==============================] - 17s 198ms/step - loss: 1.5329 - accuracy: 0.7596 - val_loss: 1.5528 - val_accuracy: 0.8188\n",
            "Epoch 628/800\n",
            "85/85 [==============================] - 17s 197ms/step - loss: 1.3054 - accuracy: 0.7717 - val_loss: 1.4457 - val_accuracy: 0.8781\n",
            "Epoch 629/800\n",
            "85/85 [==============================] - 17s 198ms/step - loss: 1.3427 - accuracy: 0.7794 - val_loss: 1.3346 - val_accuracy: 0.8750\n",
            "Epoch 630/800\n",
            "85/85 [==============================] - 17s 198ms/step - loss: 1.4209 - accuracy: 0.7772 - val_loss: 1.3217 - val_accuracy: 0.8625\n",
            "Epoch 631/800\n",
            "85/85 [==============================] - 17s 198ms/step - loss: 1.3070 - accuracy: 0.7790 - val_loss: 1.3170 - val_accuracy: 0.8875\n",
            "Epoch 632/800\n",
            "85/85 [==============================] - 17s 197ms/step - loss: 1.3968 - accuracy: 0.7846 - val_loss: 0.9872 - val_accuracy: 0.8719\n",
            "Epoch 633/800\n",
            "85/85 [==============================] - 17s 197ms/step - loss: 1.6231 - accuracy: 0.7735 - val_loss: 1.0650 - val_accuracy: 0.8313\n",
            "Epoch 634/800\n",
            "85/85 [==============================] - 17s 198ms/step - loss: 1.3934 - accuracy: 0.7732 - val_loss: 2.0340 - val_accuracy: 0.8344\n",
            "Epoch 635/800\n",
            "85/85 [==============================] - 17s 197ms/step - loss: 1.2984 - accuracy: 0.7908 - val_loss: 1.7344 - val_accuracy: 0.8313\n",
            "Epoch 636/800\n",
            "85/85 [==============================] - 17s 198ms/step - loss: 1.3108 - accuracy: 0.7923 - val_loss: 1.1116 - val_accuracy: 0.8844\n",
            "Epoch 637/800\n",
            "85/85 [==============================] - 17s 199ms/step - loss: 1.6123 - accuracy: 0.7647 - val_loss: 1.7550 - val_accuracy: 0.8438\n",
            "Epoch 638/800\n",
            "85/85 [==============================] - 17s 197ms/step - loss: 1.4396 - accuracy: 0.7636 - val_loss: 1.8976 - val_accuracy: 0.8125\n",
            "Epoch 639/800\n",
            "85/85 [==============================] - 17s 198ms/step - loss: 1.3961 - accuracy: 0.7857 - val_loss: 1.7203 - val_accuracy: 0.7844\n",
            "Epoch 640/800\n",
            "85/85 [==============================] - 17s 200ms/step - loss: 1.3238 - accuracy: 0.7676 - val_loss: 1.0196 - val_accuracy: 0.9125\n",
            "Epoch 641/800\n",
            "85/85 [==============================] - 17s 198ms/step - loss: 1.4691 - accuracy: 0.7577 - val_loss: 0.9873 - val_accuracy: 0.8625\n",
            "Epoch 642/800\n",
            "85/85 [==============================] - 17s 197ms/step - loss: 1.5791 - accuracy: 0.7699 - val_loss: 1.4007 - val_accuracy: 0.8000\n",
            "Epoch 643/800\n",
            "85/85 [==============================] - 17s 198ms/step - loss: 1.3004 - accuracy: 0.7776 - val_loss: 1.5118 - val_accuracy: 0.8656\n",
            "Epoch 644/800\n",
            "85/85 [==============================] - 17s 199ms/step - loss: 1.4112 - accuracy: 0.8165 - val_loss: 2.5146 - val_accuracy: 0.8562\n",
            "Epoch 645/800\n",
            "85/85 [==============================] - 17s 197ms/step - loss: 1.7169 - accuracy: 0.7835 - val_loss: 1.0211 - val_accuracy: 0.8500\n",
            "Epoch 646/800\n",
            "85/85 [==============================] - 17s 198ms/step - loss: 1.5856 - accuracy: 0.7643 - val_loss: 2.3647 - val_accuracy: 0.8406\n",
            "Epoch 647/800\n",
            "85/85 [==============================] - 17s 198ms/step - loss: 1.4454 - accuracy: 0.7776 - val_loss: 1.2303 - val_accuracy: 0.8875\n",
            "Epoch 648/800\n",
            "85/85 [==============================] - 17s 197ms/step - loss: 1.4386 - accuracy: 0.7746 - val_loss: 0.8864 - val_accuracy: 0.8906\n",
            "Epoch 649/800\n",
            "85/85 [==============================] - 17s 197ms/step - loss: 1.1971 - accuracy: 0.8154 - val_loss: 1.3228 - val_accuracy: 0.8281\n",
            "Epoch 650/800\n",
            "85/85 [==============================] - 17s 198ms/step - loss: 1.4995 - accuracy: 0.7662 - val_loss: 2.0744 - val_accuracy: 0.8000\n",
            "Epoch 651/800\n",
            "85/85 [==============================] - 17s 198ms/step - loss: 1.4555 - accuracy: 0.7699 - val_loss: 1.2143 - val_accuracy: 0.8781\n",
            "Epoch 652/800\n",
            "85/85 [==============================] - 17s 197ms/step - loss: 1.1168 - accuracy: 0.8033 - val_loss: 3.8141 - val_accuracy: 0.7969\n",
            "Epoch 653/800\n",
            "85/85 [==============================] - 17s 198ms/step - loss: 1.6554 - accuracy: 0.7449 - val_loss: 1.1352 - val_accuracy: 0.7937\n",
            "Epoch 654/800\n",
            "85/85 [==============================] - 17s 199ms/step - loss: 1.3117 - accuracy: 0.7710 - val_loss: 2.2534 - val_accuracy: 0.8406\n",
            "Epoch 655/800\n",
            "85/85 [==============================] - 17s 198ms/step - loss: 1.4213 - accuracy: 0.7783 - val_loss: 2.4208 - val_accuracy: 0.8594\n",
            "Epoch 656/800\n",
            "85/85 [==============================] - 17s 198ms/step - loss: 1.5287 - accuracy: 0.7963 - val_loss: 0.9160 - val_accuracy: 0.8813\n",
            "Epoch 657/800\n",
            "85/85 [==============================] - 17s 198ms/step - loss: 1.4141 - accuracy: 0.7853 - val_loss: 1.2245 - val_accuracy: 0.8750\n",
            "Epoch 658/800\n",
            "85/85 [==============================] - 17s 198ms/step - loss: 1.3889 - accuracy: 0.7853 - val_loss: 2.0719 - val_accuracy: 0.7969\n",
            "Epoch 659/800\n",
            "85/85 [==============================] - 17s 199ms/step - loss: 1.8150 - accuracy: 0.7357 - val_loss: 1.1685 - val_accuracy: 0.7969\n",
            "Epoch 660/800\n",
            "85/85 [==============================] - 17s 198ms/step - loss: 1.8090 - accuracy: 0.7533 - val_loss: 0.9374 - val_accuracy: 0.8281\n",
            "Epoch 661/800\n",
            "85/85 [==============================] - 17s 199ms/step - loss: 1.4086 - accuracy: 0.7563 - val_loss: 1.0538 - val_accuracy: 0.8219\n",
            "Epoch 662/800\n",
            "85/85 [==============================] - 17s 197ms/step - loss: 1.3641 - accuracy: 0.7533 - val_loss: 1.9915 - val_accuracy: 0.8500\n",
            "Epoch 663/800\n",
            "85/85 [==============================] - 17s 196ms/step - loss: 1.5158 - accuracy: 0.7699 - val_loss: 2.3794 - val_accuracy: 0.8531\n",
            "Epoch 664/800\n",
            "85/85 [==============================] - 17s 198ms/step - loss: 1.4688 - accuracy: 0.7879 - val_loss: 1.7117 - val_accuracy: 0.8094\n",
            "Epoch 665/800\n",
            "85/85 [==============================] - 17s 198ms/step - loss: 1.3579 - accuracy: 0.7842 - val_loss: 0.6791 - val_accuracy: 0.9031\n",
            "Epoch 666/800\n",
            "85/85 [==============================] - 17s 198ms/step - loss: 1.4565 - accuracy: 0.7772 - val_loss: 2.0600 - val_accuracy: 0.6812\n",
            "Epoch 667/800\n",
            "85/85 [==============================] - 17s 198ms/step - loss: 1.4117 - accuracy: 0.7794 - val_loss: 1.9392 - val_accuracy: 0.8656\n",
            "Epoch 668/800\n",
            "85/85 [==============================] - 17s 198ms/step - loss: 1.4813 - accuracy: 0.7816 - val_loss: 1.9341 - val_accuracy: 0.8094\n",
            "Epoch 669/800\n",
            "85/85 [==============================] - 17s 197ms/step - loss: 1.6296 - accuracy: 0.7320 - val_loss: 1.5643 - val_accuracy: 0.8344\n",
            "Epoch 670/800\n",
            "85/85 [==============================] - 17s 198ms/step - loss: 1.5846 - accuracy: 0.7647 - val_loss: 2.9630 - val_accuracy: 0.7312\n",
            "Epoch 671/800\n",
            "85/85 [==============================] - 17s 199ms/step - loss: 1.4447 - accuracy: 0.7651 - val_loss: 1.7047 - val_accuracy: 0.8500\n",
            "Epoch 672/800\n",
            "85/85 [==============================] - 17s 198ms/step - loss: 1.4291 - accuracy: 0.7570 - val_loss: 1.2000 - val_accuracy: 0.8875\n",
            "Epoch 673/800\n",
            "85/85 [==============================] - 17s 198ms/step - loss: 1.7562 - accuracy: 0.7184 - val_loss: 1.1975 - val_accuracy: 0.8219\n",
            "Epoch 674/800\n",
            "85/85 [==============================] - 17s 197ms/step - loss: 1.6104 - accuracy: 0.7151 - val_loss: 0.8583 - val_accuracy: 0.8344\n",
            "Epoch 675/800\n",
            "85/85 [==============================] - 17s 198ms/step - loss: 1.6135 - accuracy: 0.7390 - val_loss: 1.2046 - val_accuracy: 0.8531\n",
            "Epoch 676/800\n",
            "85/85 [==============================] - 17s 197ms/step - loss: 1.5617 - accuracy: 0.7706 - val_loss: 1.4781 - val_accuracy: 0.8594\n",
            "Epoch 677/800\n",
            "85/85 [==============================] - 17s 198ms/step - loss: 1.5377 - accuracy: 0.7673 - val_loss: 2.6817 - val_accuracy: 0.8500\n",
            "Epoch 678/800\n",
            "85/85 [==============================] - 17s 199ms/step - loss: 1.5523 - accuracy: 0.7846 - val_loss: 1.4460 - val_accuracy: 0.7563\n",
            "Epoch 679/800\n",
            "85/85 [==============================] - 17s 197ms/step - loss: 1.4475 - accuracy: 0.7706 - val_loss: 1.2714 - val_accuracy: 0.8500\n",
            "Epoch 680/800\n",
            "85/85 [==============================] - 17s 197ms/step - loss: 1.4532 - accuracy: 0.7820 - val_loss: 2.0840 - val_accuracy: 0.8875\n",
            "Epoch 681/800\n",
            "85/85 [==============================] - 17s 198ms/step - loss: 1.6475 - accuracy: 0.7713 - val_loss: 1.5672 - val_accuracy: 0.8281\n",
            "Epoch 682/800\n",
            "85/85 [==============================] - 17s 199ms/step - loss: 1.5180 - accuracy: 0.7713 - val_loss: 1.3203 - val_accuracy: 0.8438\n",
            "Epoch 683/800\n",
            "85/85 [==============================] - 17s 199ms/step - loss: 1.2510 - accuracy: 0.8007 - val_loss: 2.0799 - val_accuracy: 0.7937\n",
            "Epoch 684/800\n",
            "85/85 [==============================] - 17s 198ms/step - loss: 1.3199 - accuracy: 0.7710 - val_loss: 1.4982 - val_accuracy: 0.8406\n",
            "Epoch 685/800\n",
            "85/85 [==============================] - 17s 197ms/step - loss: 1.5742 - accuracy: 0.7471 - val_loss: 1.3926 - val_accuracy: 0.8344\n",
            "Epoch 686/800\n",
            "85/85 [==============================] - 17s 198ms/step - loss: 1.3977 - accuracy: 0.7831 - val_loss: 1.8670 - val_accuracy: 0.8562\n",
            "Epoch 687/800\n",
            "85/85 [==============================] - 17s 196ms/step - loss: 1.4427 - accuracy: 0.7824 - val_loss: 0.7684 - val_accuracy: 0.8687\n",
            "Epoch 688/800\n",
            "85/85 [==============================] - 17s 199ms/step - loss: 1.4811 - accuracy: 0.7735 - val_loss: 1.8497 - val_accuracy: 0.7625\n",
            "Epoch 689/800\n",
            "85/85 [==============================] - 17s 197ms/step - loss: 1.4221 - accuracy: 0.7581 - val_loss: 1.9800 - val_accuracy: 0.8656\n",
            "Epoch 690/800\n",
            "85/85 [==============================] - 17s 197ms/step - loss: 1.3991 - accuracy: 0.7566 - val_loss: 1.4836 - val_accuracy: 0.8969\n",
            "Epoch 691/800\n",
            "85/85 [==============================] - 17s 198ms/step - loss: 1.4036 - accuracy: 0.7768 - val_loss: 0.7997 - val_accuracy: 0.8687\n",
            "Epoch 692/800\n",
            "85/85 [==============================] - 17s 198ms/step - loss: 1.4822 - accuracy: 0.7956 - val_loss: 1.2326 - val_accuracy: 0.8313\n",
            "Epoch 693/800\n",
            "85/85 [==============================] - 17s 198ms/step - loss: 1.5168 - accuracy: 0.7485 - val_loss: 1.1303 - val_accuracy: 0.8500\n",
            "Epoch 694/800\n",
            "85/85 [==============================] - 17s 198ms/step - loss: 1.4935 - accuracy: 0.7563 - val_loss: 2.1493 - val_accuracy: 0.8406\n",
            "Epoch 695/800\n",
            "85/85 [==============================] - 17s 200ms/step - loss: 1.4974 - accuracy: 0.7658 - val_loss: 1.9073 - val_accuracy: 0.7781\n",
            "Epoch 696/800\n",
            "85/85 [==============================] - 17s 199ms/step - loss: 1.6189 - accuracy: 0.7401 - val_loss: 1.0512 - val_accuracy: 0.8719\n",
            "Epoch 697/800\n",
            "85/85 [==============================] - 17s 197ms/step - loss: 1.8627 - accuracy: 0.7162 - val_loss: 1.3443 - val_accuracy: 0.8625\n",
            "Epoch 698/800\n",
            "85/85 [==============================] - 17s 198ms/step - loss: 1.8501 - accuracy: 0.7415 - val_loss: 1.3656 - val_accuracy: 0.8188\n",
            "Epoch 699/800\n",
            "85/85 [==============================] - 17s 198ms/step - loss: 1.8249 - accuracy: 0.7371 - val_loss: 1.5994 - val_accuracy: 0.8500\n",
            "Epoch 700/800\n",
            "85/85 [==============================] - 17s 198ms/step - loss: 1.5090 - accuracy: 0.7544 - val_loss: 2.1302 - val_accuracy: 0.8562\n",
            "Epoch 701/800\n",
            "85/85 [==============================] - 17s 198ms/step - loss: 1.5441 - accuracy: 0.7452 - val_loss: 0.8666 - val_accuracy: 0.8281\n",
            "Epoch 702/800\n",
            "85/85 [==============================] - 17s 198ms/step - loss: 1.6089 - accuracy: 0.7496 - val_loss: 2.1930 - val_accuracy: 0.8625\n",
            "Epoch 703/800\n",
            "85/85 [==============================] - 17s 197ms/step - loss: 1.3628 - accuracy: 0.7717 - val_loss: 2.3871 - val_accuracy: 0.8188\n",
            "Epoch 704/800\n",
            "85/85 [==============================] - 17s 197ms/step - loss: 1.6110 - accuracy: 0.7467 - val_loss: 1.4440 - val_accuracy: 0.8844\n",
            "Epoch 705/800\n",
            "85/85 [==============================] - 17s 199ms/step - loss: 1.2701 - accuracy: 0.7831 - val_loss: 0.9420 - val_accuracy: 0.8625\n",
            "Epoch 706/800\n",
            "85/85 [==============================] - 17s 198ms/step - loss: 1.3768 - accuracy: 0.7688 - val_loss: 1.9376 - val_accuracy: 0.8687\n",
            "Epoch 707/800\n",
            "85/85 [==============================] - 17s 198ms/step - loss: 1.4223 - accuracy: 0.7871 - val_loss: 0.7756 - val_accuracy: 0.8531\n",
            "Epoch 708/800\n",
            "85/85 [==============================] - 17s 198ms/step - loss: 1.5499 - accuracy: 0.7724 - val_loss: 1.6849 - val_accuracy: 0.8156\n",
            "Epoch 709/800\n",
            "85/85 [==============================] - 17s 199ms/step - loss: 1.3187 - accuracy: 0.7765 - val_loss: 0.8777 - val_accuracy: 0.8188\n",
            "Epoch 710/800\n",
            "85/85 [==============================] - 17s 198ms/step - loss: 1.4904 - accuracy: 0.7662 - val_loss: 1.2934 - val_accuracy: 0.8844\n",
            "Epoch 711/800\n",
            "85/85 [==============================] - 17s 197ms/step - loss: 1.4795 - accuracy: 0.7603 - val_loss: 2.0129 - val_accuracy: 0.7406\n",
            "Epoch 712/800\n",
            "85/85 [==============================] - 17s 198ms/step - loss: 1.4413 - accuracy: 0.7563 - val_loss: 9.8189 - val_accuracy: 0.7875\n",
            "Epoch 713/800\n",
            "85/85 [==============================] - 17s 198ms/step - loss: 1.5717 - accuracy: 0.7684 - val_loss: 2.8841 - val_accuracy: 0.7875\n",
            "Epoch 714/800\n",
            "85/85 [==============================] - 17s 199ms/step - loss: 1.4125 - accuracy: 0.7699 - val_loss: 3.8552 - val_accuracy: 0.8438\n",
            "Epoch 715/800\n",
            "85/85 [==============================] - 17s 199ms/step - loss: 1.6288 - accuracy: 0.7489 - val_loss: 2.6123 - val_accuracy: 0.8313\n",
            "Epoch 716/800\n",
            "85/85 [==============================] - 17s 197ms/step - loss: 1.2923 - accuracy: 0.7886 - val_loss: 2.1146 - val_accuracy: 0.8344\n",
            "Epoch 717/800\n",
            "85/85 [==============================] - 17s 198ms/step - loss: 1.3902 - accuracy: 0.7746 - val_loss: 2.1130 - val_accuracy: 0.8313\n",
            "Epoch 718/800\n",
            "85/85 [==============================] - 17s 197ms/step - loss: 1.6861 - accuracy: 0.7338 - val_loss: 1.6558 - val_accuracy: 0.8031\n",
            "Epoch 719/800\n",
            "85/85 [==============================] - 17s 198ms/step - loss: 1.5902 - accuracy: 0.7647 - val_loss: 1.0444 - val_accuracy: 0.8750\n",
            "Epoch 720/800\n",
            "85/85 [==============================] - 17s 198ms/step - loss: 1.3548 - accuracy: 0.7647 - val_loss: 1.1612 - val_accuracy: 0.8906\n",
            "Epoch 721/800\n",
            "85/85 [==============================] - 17s 198ms/step - loss: 1.5896 - accuracy: 0.7548 - val_loss: 0.7854 - val_accuracy: 0.8219\n",
            "Epoch 722/800\n",
            "85/85 [==============================] - 17s 199ms/step - loss: 1.3410 - accuracy: 0.7739 - val_loss: 1.1540 - val_accuracy: 0.8281\n",
            "Epoch 723/800\n",
            "85/85 [==============================] - 17s 197ms/step - loss: 1.6616 - accuracy: 0.7254 - val_loss: 1.7917 - val_accuracy: 0.7000\n",
            "Epoch 724/800\n",
            "85/85 [==============================] - 17s 197ms/step - loss: 1.3310 - accuracy: 0.7518 - val_loss: 0.8768 - val_accuracy: 0.8594\n",
            "Epoch 725/800\n",
            "85/85 [==============================] - 17s 199ms/step - loss: 1.4945 - accuracy: 0.7658 - val_loss: 1.1772 - val_accuracy: 0.8313\n",
            "Epoch 726/800\n",
            "85/85 [==============================] - 17s 197ms/step - loss: 1.6698 - accuracy: 0.7632 - val_loss: 0.9244 - val_accuracy: 0.8844\n",
            "Epoch 727/800\n",
            "71/85 [========================>.....] - ETA: 2s - loss: 1.2596 - accuracy: 0.7676"
          ]
        }
      ]
    },
    {
      "cell_type": "markdown",
      "source": [
        "This \"brute force\" model did not perform\n",
        "btter than the previous adam model, so\n",
        "that is still the best model."
      ],
      "metadata": {
        "id": "6c9nd5WCKrtM"
      }
    },
    {
      "cell_type": "markdown",
      "metadata": {
        "id": "tqIpdK_8IC9q"
      },
      "source": [
        "# Demonstration"
      ]
    },
    {
      "cell_type": "markdown",
      "source": [
        "Import and set up Gradio."
      ],
      "metadata": {
        "id": "CBhGKITrFFVl"
      }
    },
    {
      "cell_type": "code",
      "source": [
        "da_drop_model_2d_350_adam_clf = keras.models.load_model('/content/drive/MyDrive/Flatiron/103122/ntl01-dtsc-live-103122/temp_3/fruits-fresh-rotten/models/da_drop_model_2d_350_adam_clf')"
      ],
      "metadata": {
        "colab": {
          "base_uri": "https://localhost:8080/"
        },
        "id": "DSOLbPLSFLJY",
        "outputId": "14a43a5b-676c-41c5-effb-8570fb96cb79"
      },
      "execution_count": 9,
      "outputs": [
        {
          "output_type": "stream",
          "name": "stderr",
          "text": [
            "WARNING:tensorflow:Using a while_loop for converting RngReadAndSkip cause there is no registered converter for this op.\n",
            "WARNING:tensorflow:Using a while_loop for converting Bitcast cause there is no registered converter for this op.\n",
            "WARNING:tensorflow:Using a while_loop for converting Bitcast cause there is no registered converter for this op.\n",
            "WARNING:tensorflow:Using a while_loop for converting StatelessRandomUniformV2 cause there is no registered converter for this op.\n",
            "WARNING:tensorflow:Using a while_loop for converting ImageProjectiveTransformV3 cause there is no registered converter for this op.\n",
            "WARNING:tensorflow:Using a while_loop for converting RngReadAndSkip cause there is no registered converter for this op.\n",
            "WARNING:tensorflow:Using a while_loop for converting Bitcast cause there is no registered converter for this op.\n",
            "WARNING:tensorflow:Using a while_loop for converting Bitcast cause there is no registered converter for this op.\n",
            "WARNING:tensorflow:Using a while_loop for converting StatelessRandomUniformV2 cause there is no registered converter for this op.\n",
            "WARNING:tensorflow:Using a while_loop for converting ImageProjectiveTransformV3 cause there is no registered converter for this op.\n",
            "WARNING:tensorflow:Using a while_loop for converting RngReadAndSkip cause there is no registered converter for this op.\n",
            "WARNING:tensorflow:Using a while_loop for converting Bitcast cause there is no registered converter for this op.\n",
            "WARNING:tensorflow:Using a while_loop for converting Bitcast cause there is no registered converter for this op.\n",
            "WARNING:tensorflow:Using a while_loop for converting StatelessRandomUniformFullIntV2 cause there is no registered converter for this op.\n",
            "WARNING:tensorflow:Using a while_loop for converting StatelessRandomGetKeyCounter cause there is no registered converter for this op.\n",
            "WARNING:tensorflow:Using a while_loop for converting StatelessRandomUniformV2 cause there is no registered converter for this op.\n",
            "WARNING:tensorflow:Using a while_loop for converting RngReadAndSkip cause there is no registered converter for this op.\n",
            "WARNING:tensorflow:Using a while_loop for converting Bitcast cause there is no registered converter for this op.\n",
            "WARNING:tensorflow:Using a while_loop for converting Bitcast cause there is no registered converter for this op.\n",
            "WARNING:tensorflow:Using a while_loop for converting StatelessRandomUniformV2 cause there is no registered converter for this op.\n",
            "WARNING:tensorflow:Using a while_loop for converting ImageProjectiveTransformV3 cause there is no registered converter for this op.\n",
            "WARNING:tensorflow:Using a while_loop for converting RngReadAndSkip cause there is no registered converter for this op.\n",
            "WARNING:tensorflow:Using a while_loop for converting Bitcast cause there is no registered converter for this op.\n",
            "WARNING:tensorflow:Using a while_loop for converting Bitcast cause there is no registered converter for this op.\n",
            "WARNING:tensorflow:Using a while_loop for converting StatelessRandomUniformV2 cause there is no registered converter for this op.\n",
            "WARNING:tensorflow:Using a while_loop for converting ImageProjectiveTransformV3 cause there is no registered converter for this op.\n",
            "WARNING:tensorflow:Using a while_loop for converting RngReadAndSkip cause there is no registered converter for this op.\n",
            "WARNING:tensorflow:Using a while_loop for converting Bitcast cause there is no registered converter for this op.\n",
            "WARNING:tensorflow:Using a while_loop for converting Bitcast cause there is no registered converter for this op.\n",
            "WARNING:tensorflow:Using a while_loop for converting StatelessRandomUniformFullIntV2 cause there is no registered converter for this op.\n",
            "WARNING:tensorflow:Using a while_loop for converting StatelessRandomGetKeyCounter cause there is no registered converter for this op.\n",
            "WARNING:tensorflow:Using a while_loop for converting StatelessRandomUniformV2 cause there is no registered converter for this op.\n"
          ]
        }
      ]
    },
    {
      "cell_type": "code",
      "execution_count": 20,
      "metadata": {
        "colab": {
          "base_uri": "https://localhost:8080/",
          "height": 591
        },
        "id": "yMZlYxByIC9q",
        "outputId": "43a96bfa-4ba8-412e-a99d-d9fa39fb53f8"
      },
      "outputs": [
        {
          "output_type": "stream",
          "name": "stdout",
          "text": [
            "Colab notebook detected. To show errors in colab notebook, set debug=True in launch()\n",
            "Running on public URL: https://e3b683c9121fb61a9e.gradio.live\n",
            "\n",
            "This share link expires in 72 hours. For free permanent hosting and GPU upgrades (NEW!), check out Spaces: https://huggingface.co/spaces\n"
          ]
        },
        {
          "output_type": "display_data",
          "data": {
            "text/plain": [
              "<IPython.core.display.HTML object>"
            ],
            "text/html": [
              "<div><iframe src=\"https://e3b683c9121fb61a9e.gradio.live\" width=\"100%\" height=\"500\" allow=\"autoplay; camera; microphone; clipboard-read; clipboard-write;\" frameborder=\"0\" allowfullscreen></iframe></div>"
            ]
          },
          "metadata": {}
        },
        {
          "output_type": "execute_result",
          "data": {
            "text/plain": []
          },
          "metadata": {},
          "execution_count": 20
        }
      ],
      "source": [
        "import gradio as gr\n",
        "\n",
        "def img_class(input_img):\n",
        "    test_img = input_img.reshape(1, 256, 256, 3)\n",
        "    class_int = int(np.argmax(da_drop_model_2d_350_adam_clf.predict(input_img.reshape(1, 256, 256, 3)), axis=-1)[0])\n",
        "    if class_int == 0:\n",
        "        class_str = label_list[0]\n",
        "    elif class_int == 1:\n",
        "        class_str = label_list[1]\n",
        "    elif class_int == 2:\n",
        "        class_str = label_list[2]\n",
        "    elif class_int == 3:\n",
        "        class_str = label_list[3]\n",
        "    elif class_int == 4:\n",
        "        class_str = label_list[4]\n",
        "    elif class_int == 5:\n",
        "        class_str = label_list[5]\n",
        "    elif class_int == 6:\n",
        "        class_str = label_list[6]\n",
        "    elif class_int == 7:\n",
        "        class_str = label_list[7]\n",
        "    elif class_int == 8:\n",
        "        class_str = label_list[8]\n",
        "    elif class_int == 9:\n",
        "        class_str = label_list[9]\n",
        "    elif class_int == 10:\n",
        "        class_str = label_list[10]\n",
        "    elif class_int == 11:\n",
        "        class_str = label_list[11]\n",
        "    elif class_int == 12:\n",
        "        class_str = label_list[12]\n",
        "    elif class_int == 13:\n",
        "        class_str = label_list[13]\n",
        "    elif class_int == 14:\n",
        "        class_str = label_list[14]\n",
        "    else:\n",
        "        class_str = label_list[15]\n",
        "    return class_str\n",
        "\n",
        "demo = gr.Interface(img_class, inputs=gr.Image(shape=(256, 256)), \n",
        "                    outputs=gr.Textbox(label=\"Predicted Classification\"), \n",
        "                    allow_flagging='never', \n",
        "                    title='Fruit and Fresh Classification by Image Demo',\n",
        "                    description=\"Upload an image of a fruit for classification prediction.\"\n",
        "                   )\n",
        "demo.launch(share=True)"
      ]
    },
    {
      "cell_type": "markdown",
      "source": [
        "# Model Perforamnce"
      ],
      "metadata": {
        "id": "Shk7bWgIXGeh"
      }
    },
    {
      "cell_type": "markdown",
      "source": [
        "When looking at the prediction of just fresh and rotten classification, the model predicted the correct freshness at 98% on the unseen test data. Both of the errors were false negatives, the model predicted the fruit was fresh, when in fact, they were rotten. As a screener for rotten fruit, this is the less desirable error, and an indication that further tuning to the model will be beneficial. The model was able to predict the correct freshness AND fruit 96% (0.9625) of the time. Fresh jujube was the only true fresh classification that had an inaccurate prediction, in this case, as a fresh grape. Collecting more data of original images of each classification in the future will increase the models performance."
      ],
      "metadata": {
        "id": "vkQzQmO5LLmz"
      }
    },
    {
      "cell_type": "markdown",
      "source": [
        "Create predictions and confusion matrix."
      ],
      "metadata": {
        "id": "jhzkVQJsG6Mi"
      }
    },
    {
      "cell_type": "code",
      "execution_count": 17,
      "metadata": {
        "id": "8rm8JJkhIC9r",
        "outputId": "e56ca21c-2fc0-4e8f-844a-1c30c9e921c7",
        "colab": {
          "base_uri": "https://localhost:8080/"
        }
      },
      "outputs": [
        {
          "output_type": "stream",
          "name": "stdout",
          "text": [
            "1/1 [==============================] - 0s 98ms/step\n"
          ]
        },
        {
          "output_type": "execute_result",
          "data": {
            "text/plain": [
              "array([[6.6733883e-16, 1.8630644e-15, 4.0366218e-23, 2.4159381e-22,\n",
              "        3.5298408e-23, 2.8098728e-09, 9.3553099e-12, 3.3154184e-14,\n",
              "        1.3232835e-05, 1.4954904e-11, 3.1569825e-21, 8.9939100e-01,\n",
              "        6.0763443e-07, 1.0059415e-01, 1.1215806e-06, 3.3082216e-15]],\n",
              "      dtype=float32)"
            ]
          },
          "metadata": {},
          "execution_count": 17
        }
      ],
      "source": [
        "# Test prediction\n",
        "\n",
        "da_drop_model_2d_350_adam_clf.predict(train_images[0].reshape(1,256, 256, 3))"
      ]
    },
    {
      "cell_type": "code",
      "execution_count": null,
      "metadata": {
        "colab": {
          "base_uri": "https://localhost:8080/"
        },
        "id": "E5re4fR9IC9s",
        "outputId": "9a61ac34-35fc-4d06-af2b-16bee3fca6a7"
      },
      "outputs": [
        {
          "output_type": "stream",
          "name": "stdout",
          "text": [
            "5/5 [==============================] - 0s 9ms/step\n"
          ]
        }
      ],
      "source": [
        " y_pred = da_drop_model_2d_350_adam_clf.predict(test_images)"
      ]
    },
    {
      "cell_type": "code",
      "source": [
        "y_pred_bf = da_drop_model_2d_300_clf.predict(test_images)"
      ],
      "metadata": {
        "colab": {
          "base_uri": "https://localhost:8080/"
        },
        "id": "42KPL6Qjxd-6",
        "outputId": "0e43db19-115e-4b6b-834e-a8548fdb24b7"
      },
      "execution_count": null,
      "outputs": [
        {
          "output_type": "stream",
          "name": "stdout",
          "text": [
            "5/5 [==============================] - 0s 9ms/step\n"
          ]
        }
      ]
    },
    {
      "cell_type": "code",
      "source": [
        "cm_bf = confusion_matrix(test_labels, np.argmax(y_pred_bf, axis=1))\n",
        "cm_bf"
      ],
      "metadata": {
        "colab": {
          "base_uri": "https://localhost:8080/"
        },
        "id": "zOGTAYMqxoxG",
        "outputId": "a087a8ba-7c3f-4f74-a9f2-3a7c5bada38d"
      },
      "execution_count": null,
      "outputs": [
        {
          "output_type": "execute_result",
          "data": {
            "text/plain": [
              "array([[10,  0,  0,  0,  0,  0,  0,  0,  0,  0,  0,  0,  0,  0,  0,  0],\n",
              "       [ 0, 10,  0,  0,  0,  0,  0,  0,  0,  0,  0,  0,  0,  0,  0,  0],\n",
              "       [ 0,  0, 10,  0,  0,  0,  0,  0,  0,  0,  0,  0,  0,  0,  0,  0],\n",
              "       [ 0,  0,  0, 10,  0,  0,  0,  0,  0,  0,  0,  0,  0,  0,  0,  0],\n",
              "       [ 0,  0,  1,  0,  9,  0,  0,  0,  0,  0,  0,  0,  0,  0,  0,  0],\n",
              "       [ 0,  0,  0,  0,  0, 10,  0,  0,  0,  0,  0,  0,  0,  0,  0,  0],\n",
              "       [ 0,  0,  0,  0,  0,  0, 10,  0,  0,  0,  0,  0,  0,  0,  0,  0],\n",
              "       [ 0,  0,  0,  0,  0,  0,  0, 10,  0,  0,  0,  0,  0,  0,  0,  0],\n",
              "       [ 0,  0,  0,  0,  0,  0,  0,  0,  9,  0,  0,  0,  0,  1,  0,  0],\n",
              "       [ 0,  0,  0,  0,  0,  0,  0,  0,  0, 10,  0,  0,  0,  0,  0,  0],\n",
              "       [ 0,  0,  1,  0,  0,  0,  0,  0,  0,  0,  9,  0,  0,  0,  0,  0],\n",
              "       [ 0,  0,  0,  0,  0,  0,  0,  0,  0,  0,  0, 10,  0,  0,  0,  0],\n",
              "       [ 0,  0,  0,  0,  1,  0,  0,  0,  0,  0,  0,  0,  9,  0,  0,  0],\n",
              "       [ 0,  0,  0,  0,  0,  1,  0,  0,  0,  0,  0,  0,  0,  9,  0,  0],\n",
              "       [ 0,  0,  0,  0,  0,  0,  0,  0,  0,  0,  0,  1,  0,  0,  9,  0],\n",
              "       [ 0,  0,  0,  0,  0,  0,  0,  0,  0,  0,  0,  0,  0,  0,  0, 10]])"
            ]
          },
          "metadata": {},
          "execution_count": 24
        }
      ]
    },
    {
      "cell_type": "code",
      "execution_count": null,
      "metadata": {
        "id": "8VnvTh0ZIC9s",
        "outputId": "ab70946b-64a8-4ed7-e456-34e310f6ca9a"
      },
      "outputs": [
        {
          "data": {
            "text/plain": [
              "(array([ 0.5,  1.5,  2.5,  3.5,  4.5,  5.5,  6.5,  7.5,  8.5,  9.5, 10.5,\n",
              "        11.5, 12.5, 13.5, 14.5, 15.5]),\n",
              " [Text(0, 0.5, 'Apple - Fresh'),\n",
              "  Text(0, 1.5, 'Banana - Fresh'),\n",
              "  Text(0, 2.5, 'Grape - Fresh'),\n",
              "  Text(0, 3.5, 'Guava - Fresh'),\n",
              "  Text(0, 4.5, 'Jujube - Fresh'),\n",
              "  Text(0, 5.5, 'Orange - Fresh'),\n",
              "  Text(0, 6.5, 'Pomegranate - Fresh'),\n",
              "  Text(0, 7.5, 'Strawberry - Fresh'),\n",
              "  Text(0, 8.5, 'Apple - Rotten'),\n",
              "  Text(0, 9.5, 'Banana - Rotten'),\n",
              "  Text(0, 10.5, 'Grape - Rotten'),\n",
              "  Text(0, 11.5, 'Guava - Rotten'),\n",
              "  Text(0, 12.5, 'Jujube - Rotten'),\n",
              "  Text(0, 13.5, 'Orange - Rotten'),\n",
              "  Text(0, 14.5, 'Pomegranate - Rotten'),\n",
              "  Text(0, 15.5, 'Strawberry - Rotten')])"
            ]
          },
          "execution_count": 54,
          "metadata": {},
          "output_type": "execute_result"
        },
        {
          "data": {
            "image/png": "[encoded data removed]",
            "text/plain": [
              "<Figure size 640x480 with 2 Axes>"
            ]
          },
          "metadata": {},
          "output_type": "display_data"
        }
      ],
      "source": [
        "ax = sns.heatmap(cm_bf, annot=True, cmap='Blues', fmt='0.5g')\n",
        "ax.set_xticklabels(label_list, ha='right')\n",
        "plt.xticks(rotation=45)\n",
        "ax.set_yticklabels(label_list)\n",
        "plt.yticks(rotation=0)"
      ]
    },
    {
      "cell_type": "code",
      "source": [
        "ax = sns.heatmap(cm_bf, annot=True, cmap='Blues', fmt='0.5g')\n",
        "ax.set_xticklabels(label_list, ha='right')\n",
        "plt.xticks(rotation=45)\n",
        "ax.set_yticklabels(label_list)\n",
        "plt.yticks(rotation=0)\n",
        "plt.title('Fruit and Freshness Predictions')\n",
        "plt.xlabel('Predicted')\n",
        "plt.ylabel('Actual')\n",
        "\n",
        "# plt.savefig('/content/drive/MyDrive/Flatiron/103122/ntl01-dtsc-live-103122/temp_3/fruits-fresh-rotten/images/con_mat_all.png', bbox_inches='tight', dpi=300)"
      ],
      "metadata": {
        "colab": {
          "base_uri": "https://localhost:8080/",
          "height": 369
        },
        "id": "GM4nWIJIx1Z9",
        "outputId": "33d690f3-9331-41cd-dc7a-4e09f46ec106"
      },
      "execution_count": null,
      "outputs": [
        {
          "output_type": "display_data",
          "data": {
            "text/plain": [
              "<Figure size 432x288 with 2 Axes>"
            ],
            "image/png": "[encoded data removed]"
          },
          "metadata": {
            "needs_background": "light"
          }
        }
      ]
    },
    {
      "cell_type": "code",
      "execution_count": null,
      "metadata": {
        "id": "vrkZQ0wrIC9s"
      },
      "outputs": [],
      "source": [
        "cm_df = pd.DataFrame(cm)"
      ]
    },
    {
      "cell_type": "code",
      "source": [
        "cm_bf_df = pd.DataFrame(cm_bf)\n",
        "cm_bf_df"
      ],
      "metadata": {
        "colab": {
          "base_uri": "https://localhost:8080/",
          "height": 551
        },
        "id": "MipTxphWyDO1",
        "outputId": "31995ee9-b791-4ece-c157-ce0bbe315356"
      },
      "execution_count": null,
      "outputs": [
        {
          "output_type": "execute_result",
          "data": {
            "text/plain": [
              "    0   1   2   3   4   5   6   7   8   9   10  11  12  13  14  15\n",
              "0   10   0   0   0   0   0   0   0   0   0   0   0   0   0   0   0\n",
              "1    0  10   0   0   0   0   0   0   0   0   0   0   0   0   0   0\n",
              "2    0   0  10   0   0   0   0   0   0   0   0   0   0   0   0   0\n",
              "3    0   0   0  10   0   0   0   0   0   0   0   0   0   0   0   0\n",
              "4    0   0   1   0   9   0   0   0   0   0   0   0   0   0   0   0\n",
              "5    0   0   0   0   0  10   0   0   0   0   0   0   0   0   0   0\n",
              "6    0   0   0   0   0   0  10   0   0   0   0   0   0   0   0   0\n",
              "7    0   0   0   0   0   0   0  10   0   0   0   0   0   0   0   0\n",
              "8    0   0   0   0   0   0   0   0   9   0   0   0   0   1   0   0\n",
              "9    0   0   0   0   0   0   0   0   0  10   0   0   0   0   0   0\n",
              "10   0   0   1   0   0   0   0   0   0   0   9   0   0   0   0   0\n",
              "11   0   0   0   0   0   0   0   0   0   0   0  10   0   0   0   0\n",
              "12   0   0   0   0   1   0   0   0   0   0   0   0   9   0   0   0\n",
              "13   0   0   0   0   0   1   0   0   0   0   0   0   0   9   0   0\n",
              "14   0   0   0   0   0   0   0   0   0   0   0   1   0   0   9   0\n",
              "15   0   0   0   0   0   0   0   0   0   0   0   0   0   0   0  10"
            ],
            "text/html": [
              "\n",
              "  <div id=\"df-2c368496-8b83-45b4-ae44-20ea23528278\">\n",
              "    <div class=\"colab-df-container\">\n",
              "      <div>\n",
              "<style scoped>\n",
              "    .dataframe tbody tr th:only-of-type {\n",
              "        vertical-align: middle;\n",
              "    }\n",
              "\n",
              "    .dataframe tbody tr th {\n",
              "        vertical-align: top;\n",
              "    }\n",
              "\n",
              "    .dataframe thead th {\n",
              "        text-align: right;\n",
              "    }\n",
              "</style>\n",
              "<table border=\"1\" class=\"dataframe\">\n",
              "  <thead>\n",
              "    <tr style=\"text-align: right;\">\n",
              "      <th></th>\n",
              "      <th>0</th>\n",
              "      <th>1</th>\n",
              "      <th>2</th>\n",
              "      <th>3</th>\n",
              "      <th>4</th>\n",
              "      <th>5</th>\n",
              "      <th>6</th>\n",
              "      <th>7</th>\n",
              "      <th>8</th>\n",
              "      <th>9</th>\n",
              "      <th>10</th>\n",
              "      <th>11</th>\n",
              "      <th>12</th>\n",
              "      <th>13</th>\n",
              "      <th>14</th>\n",
              "      <th>15</th>\n",
              "    </tr>\n",
              "  </thead>\n",
              "  <tbody>\n",
              "    <tr>\n",
              "      <th>0</th>\n",
              "      <td>10</td>\n",
              "      <td>0</td>\n",
              "      <td>0</td>\n",
              "      <td>0</td>\n",
              "      <td>0</td>\n",
              "      <td>0</td>\n",
              "      <td>0</td>\n",
              "      <td>0</td>\n",
              "      <td>0</td>\n",
              "      <td>0</td>\n",
              "      <td>0</td>\n",
              "      <td>0</td>\n",
              "      <td>0</td>\n",
              "      <td>0</td>\n",
              "      <td>0</td>\n",
              "      <td>0</td>\n",
              "    </tr>\n",
              "    <tr>\n",
              "      <th>1</th>\n",
              "      <td>0</td>\n",
              "      <td>10</td>\n",
              "      <td>0</td>\n",
              "      <td>0</td>\n",
              "      <td>0</td>\n",
              "      <td>0</td>\n",
              "      <td>0</td>\n",
              "      <td>0</td>\n",
              "      <td>0</td>\n",
              "      <td>0</td>\n",
              "      <td>0</td>\n",
              "      <td>0</td>\n",
              "      <td>0</td>\n",
              "      <td>0</td>\n",
              "      <td>0</td>\n",
              "      <td>0</td>\n",
              "    </tr>\n",
              "    <tr>\n",
              "      <th>2</th>\n",
              "      <td>0</td>\n",
              "      <td>0</td>\n",
              "      <td>10</td>\n",
              "      <td>0</td>\n",
              "      <td>0</td>\n",
              "      <td>0</td>\n",
              "      <td>0</td>\n",
              "      <td>0</td>\n",
              "      <td>0</td>\n",
              "      <td>0</td>\n",
              "      <td>0</td>\n",
              "      <td>0</td>\n",
              "      <td>0</td>\n",
              "      <td>0</td>\n",
              "      <td>0</td>\n",
              "      <td>0</td>\n",
              "    </tr>\n",
              "    <tr>\n",
              "      <th>3</th>\n",
              "      <td>0</td>\n",
              "      <td>0</td>\n",
              "      <td>0</td>\n",
              "      <td>10</td>\n",
              "      <td>0</td>\n",
              "      <td>0</td>\n",
              "      <td>0</td>\n",
              "      <td>0</td>\n",
              "      <td>0</td>\n",
              "      <td>0</td>\n",
              "      <td>0</td>\n",
              "      <td>0</td>\n",
              "      <td>0</td>\n",
              "      <td>0</td>\n",
              "      <td>0</td>\n",
              "      <td>0</td>\n",
              "    </tr>\n",
              "    <tr>\n",
              "      <th>4</th>\n",
              "      <td>0</td>\n",
              "      <td>0</td>\n",
              "      <td>1</td>\n",
              "      <td>0</td>\n",
              "      <td>9</td>\n",
              "      <td>0</td>\n",
              "      <td>0</td>\n",
              "      <td>0</td>\n",
              "      <td>0</td>\n",
              "      <td>0</td>\n",
              "      <td>0</td>\n",
              "      <td>0</td>\n",
              "      <td>0</td>\n",
              "      <td>0</td>\n",
              "      <td>0</td>\n",
              "      <td>0</td>\n",
              "    </tr>\n",
              "    <tr>\n",
              "      <th>5</th>\n",
              "      <td>0</td>\n",
              "      <td>0</td>\n",
              "      <td>0</td>\n",
              "      <td>0</td>\n",
              "      <td>0</td>\n",
              "      <td>10</td>\n",
              "      <td>0</td>\n",
              "      <td>0</td>\n",
              "      <td>0</td>\n",
              "      <td>0</td>\n",
              "      <td>0</td>\n",
              "      <td>0</td>\n",
              "      <td>0</td>\n",
              "      <td>0</td>\n",
              "      <td>0</td>\n",
              "      <td>0</td>\n",
              "    </tr>\n",
              "    <tr>\n",
              "      <th>6</th>\n",
              "      <td>0</td>\n",
              "      <td>0</td>\n",
              "      <td>0</td>\n",
              "      <td>0</td>\n",
              "      <td>0</td>\n",
              "      <td>0</td>\n",
              "      <td>10</td>\n",
              "      <td>0</td>\n",
              "      <td>0</td>\n",
              "      <td>0</td>\n",
              "      <td>0</td>\n",
              "      <td>0</td>\n",
              "      <td>0</td>\n",
              "      <td>0</td>\n",
              "      <td>0</td>\n",
              "      <td>0</td>\n",
              "    </tr>\n",
              "    <tr>\n",
              "      <th>7</th>\n",
              "      <td>0</td>\n",
              "      <td>0</td>\n",
              "      <td>0</td>\n",
              "      <td>0</td>\n",
              "      <td>0</td>\n",
              "      <td>0</td>\n",
              "      <td>0</td>\n",
              "      <td>10</td>\n",
              "      <td>0</td>\n",
              "      <td>0</td>\n",
              "      <td>0</td>\n",
              "      <td>0</td>\n",
              "      <td>0</td>\n",
              "      <td>0</td>\n",
              "      <td>0</td>\n",
              "      <td>0</td>\n",
              "    </tr>\n",
              "    <tr>\n",
              "      <th>8</th>\n",
              "      <td>0</td>\n",
              "      <td>0</td>\n",
              "      <td>0</td>\n",
              "      <td>0</td>\n",
              "      <td>0</td>\n",
              "      <td>0</td>\n",
              "      <td>0</td>\n",
              "      <td>0</td>\n",
              "      <td>9</td>\n",
              "      <td>0</td>\n",
              "      <td>0</td>\n",
              "      <td>0</td>\n",
              "      <td>0</td>\n",
              "      <td>1</td>\n",
              "      <td>0</td>\n",
              "      <td>0</td>\n",
              "    </tr>\n",
              "    <tr>\n",
              "      <th>9</th>\n",
              "      <td>0</td>\n",
              "      <td>0</td>\n",
              "      <td>0</td>\n",
              "      <td>0</td>\n",
              "      <td>0</td>\n",
              "      <td>0</td>\n",
              "      <td>0</td>\n",
              "      <td>0</td>\n",
              "      <td>0</td>\n",
              "      <td>10</td>\n",
              "      <td>0</td>\n",
              "      <td>0</td>\n",
              "      <td>0</td>\n",
              "      <td>0</td>\n",
              "      <td>0</td>\n",
              "      <td>0</td>\n",
              "    </tr>\n",
              "    <tr>\n",
              "      <th>10</th>\n",
              "      <td>0</td>\n",
              "      <td>0</td>\n",
              "      <td>1</td>\n",
              "      <td>0</td>\n",
              "      <td>0</td>\n",
              "      <td>0</td>\n",
              "      <td>0</td>\n",
              "      <td>0</td>\n",
              "      <td>0</td>\n",
              "      <td>0</td>\n",
              "      <td>9</td>\n",
              "      <td>0</td>\n",
              "      <td>0</td>\n",
              "      <td>0</td>\n",
              "      <td>0</td>\n",
              "      <td>0</td>\n",
              "    </tr>\n",
              "    <tr>\n",
              "      <th>11</th>\n",
              "      <td>0</td>\n",
              "      <td>0</td>\n",
              "      <td>0</td>\n",
              "      <td>0</td>\n",
              "      <td>0</td>\n",
              "      <td>0</td>\n",
              "      <td>0</td>\n",
              "      <td>0</td>\n",
              "      <td>0</td>\n",
              "      <td>0</td>\n",
              "      <td>0</td>\n",
              "      <td>10</td>\n",
              "      <td>0</td>\n",
              "      <td>0</td>\n",
              "      <td>0</td>\n",
              "      <td>0</td>\n",
              "    </tr>\n",
              "    <tr>\n",
              "      <th>12</th>\n",
              "      <td>0</td>\n",
              "      <td>0</td>\n",
              "      <td>0</td>\n",
              "      <td>0</td>\n",
              "      <td>1</td>\n",
              "      <td>0</td>\n",
              "      <td>0</td>\n",
              "      <td>0</td>\n",
              "      <td>0</td>\n",
              "      <td>0</td>\n",
              "      <td>0</td>\n",
              "      <td>0</td>\n",
              "      <td>9</td>\n",
              "      <td>0</td>\n",
              "      <td>0</td>\n",
              "      <td>0</td>\n",
              "    </tr>\n",
              "    <tr>\n",
              "      <th>13</th>\n",
              "      <td>0</td>\n",
              "      <td>0</td>\n",
              "      <td>0</td>\n",
              "      <td>0</td>\n",
              "      <td>0</td>\n",
              "      <td>1</td>\n",
              "      <td>0</td>\n",
              "      <td>0</td>\n",
              "      <td>0</td>\n",
              "      <td>0</td>\n",
              "      <td>0</td>\n",
              "      <td>0</td>\n",
              "      <td>0</td>\n",
              "      <td>9</td>\n",
              "      <td>0</td>\n",
              "      <td>0</td>\n",
              "    </tr>\n",
              "    <tr>\n",
              "      <th>14</th>\n",
              "      <td>0</td>\n",
              "      <td>0</td>\n",
              "      <td>0</td>\n",
              "      <td>0</td>\n",
              "      <td>0</td>\n",
              "      <td>0</td>\n",
              "      <td>0</td>\n",
              "      <td>0</td>\n",
              "      <td>0</td>\n",
              "      <td>0</td>\n",
              "      <td>0</td>\n",
              "      <td>1</td>\n",
              "      <td>0</td>\n",
              "      <td>0</td>\n",
              "      <td>9</td>\n",
              "      <td>0</td>\n",
              "    </tr>\n",
              "    <tr>\n",
              "      <th>15</th>\n",
              "      <td>0</td>\n",
              "      <td>0</td>\n",
              "      <td>0</td>\n",
              "      <td>0</td>\n",
              "      <td>0</td>\n",
              "      <td>0</td>\n",
              "      <td>0</td>\n",
              "      <td>0</td>\n",
              "      <td>0</td>\n",
              "      <td>0</td>\n",
              "      <td>0</td>\n",
              "      <td>0</td>\n",
              "      <td>0</td>\n",
              "      <td>0</td>\n",
              "      <td>0</td>\n",
              "      <td>10</td>\n",
              "    </tr>\n",
              "  </tbody>\n",
              "</table>\n",
              "</div>\n",
              "      <button class=\"colab-df-convert\" onclick=\"convertToInteractive('df-2c368496-8b83-45b4-ae44-20ea23528278')\"\n",
              "              title=\"Convert this dataframe to an interactive table.\"\n",
              "              style=\"display:none;\">\n",
              "        \n",
              "  <svg xmlns=\"http://www.w3.org/2000/svg\" height=\"24px\"viewBox=\"0 0 24 24\"\n",
              "       width=\"24px\">\n",
              "    <path d=\"M0 0h24v24H0V0z\" fill=\"none\"/>\n",
              "    <path d=\"M18.56 5.44l.94 2.06.94-2.06 2.06-.94-2.06-.94-.94-2.06-.94 2.06-2.06.94zm-11 1L8.5 8.5l.94-2.06 2.06-.94-2.06-.94L8.5 2.5l-.94 2.06-2.06.94zm10 10l.94 2.06.94-2.06 2.06-.94-2.06-.94-.94-2.06-.94 2.06-2.06.94z\"/><path d=\"M17.41 7.96l-1.37-1.37c-.4-.4-.92-.59-1.43-.59-.52 0-1.04.2-1.43.59L10.3 9.45l-7.72 7.72c-.78.78-.78 2.05 0 2.83L4 21.41c.39.39.9.59 1.41.59.51 0 1.02-.2 1.41-.59l7.78-7.78 2.81-2.81c.8-.78.8-2.07 0-2.86zM5.41 20L4 18.59l7.72-7.72 1.47 1.35L5.41 20z\"/>\n",
              "  </svg>\n",
              "      </button>\n",
              "      \n",
              "  <style>\n",
              "    .colab-df-container {\n",
              "      display:flex;\n",
              "      flex-wrap:wrap;\n",
              "      gap: 12px;\n",
              "    }\n",
              "\n",
              "    .colab-df-convert {\n",
              "      background-color: #E8F0FE;\n",
              "      border: none;\n",
              "      border-radius: 50%;\n",
              "      cursor: pointer;\n",
              "      display: none;\n",
              "      fill: #1967D2;\n",
              "      height: 32px;\n",
              "      padding: 0 0 0 0;\n",
              "      width: 32px;\n",
              "    }\n",
              "\n",
              "    .colab-df-convert:hover {\n",
              "      background-color: #E2EBFA;\n",
              "      box-shadow: 0px 1px 2px rgba(60, 64, 67, 0.3), 0px 1px 3px 1px rgba(60, 64, 67, 0.15);\n",
              "      fill: #174EA6;\n",
              "    }\n",
              "\n",
              "    [theme=dark] .colab-df-convert {\n",
              "      background-color: #3B4455;\n",
              "      fill: #D2E3FC;\n",
              "    }\n",
              "\n",
              "    [theme=dark] .colab-df-convert:hover {\n",
              "      background-color: #434B5C;\n",
              "      box-shadow: 0px 1px 3px 1px rgba(0, 0, 0, 0.15);\n",
              "      filter: drop-shadow(0px 1px 2px rgba(0, 0, 0, 0.3));\n",
              "      fill: #FFFFFF;\n",
              "    }\n",
              "  </style>\n",
              "\n",
              "      <script>\n",
              "        const buttonEl =\n",
              "          document.querySelector('#df-2c368496-8b83-45b4-ae44-20ea23528278 button.colab-df-convert');\n",
              "        buttonEl.style.display =\n",
              "          google.colab.kernel.accessAllowed ? 'block' : 'none';\n",
              "\n",
              "        async function convertToInteractive(key) {\n",
              "          const element = document.querySelector('#df-2c368496-8b83-45b4-ae44-20ea23528278');\n",
              "          const dataTable =\n",
              "            await google.colab.kernel.invokeFunction('convertToInteractive',\n",
              "                                                     [key], {});\n",
              "          if (!dataTable) return;\n",
              "\n",
              "          const docLinkHtml = 'Like what you see? Visit the ' +\n",
              "            '<a target=\"_blank\" href=https://colab.research.google.com/notebooks/data_table.ipynb>data table notebook</a>'\n",
              "            + ' to learn more about interactive tables.';\n",
              "          element.innerHTML = '';\n",
              "          dataTable['output_type'] = 'display_data';\n",
              "          await google.colab.output.renderOutput(dataTable, element);\n",
              "          const docLink = document.createElement('div');\n",
              "          docLink.innerHTML = docLinkHtml;\n",
              "          element.appendChild(docLink);\n",
              "        }\n",
              "      </script>\n",
              "    </div>\n",
              "  </div>\n",
              "  "
            ]
          },
          "metadata": {},
          "execution_count": 26
        }
      ]
    },
    {
      "cell_type": "code",
      "source": [
        "accuracies_for_bar_bf = (cm_bf_df[0][0])/10, (cm_bf_df[1][1])/10, (cm_bf_df[2][2])/10"
      ],
      "metadata": {
        "id": "8ducUayYyL-i"
      },
      "execution_count": null,
      "outputs": []
    },
    {
      "cell_type": "code",
      "execution_count": null,
      "metadata": {
        "id": "FhvJLm6CIC9t",
        "outputId": "7ba66ad8-27b5-4d1c-c965-e9aff9ab9dd8"
      },
      "outputs": [
        {
          "data": {
            "text/plain": [
              "[100.0,\n",
              " 90.9090909090909,\n",
              " 90.9090909090909,\n",
              " 100.0,\n",
              " 81.81818181818183,\n",
              " 90.0,\n",
              " 100.0,\n",
              " 100.0,\n",
              " 88.88888888888889,\n",
              " 83.33333333333334,\n",
              " 100.0,\n",
              " 100.0,\n",
              " 100.0,\n",
              " 100.0,\n",
              " 80.0,\n",
              " 90.9090909090909]"
            ]
          },
          "execution_count": 90,
          "metadata": {},
          "output_type": "execute_result"
        }
      ],
      "source": [
        "height"
      ]
    },
    {
      "cell_type": "markdown",
      "source": [
        "Create freshness only confusion matrix by summing quadrants"
      ],
      "metadata": {
        "id": "OB8BuihcIgjI"
      }
    },
    {
      "cell_type": "code",
      "execution_count": null,
      "metadata": {
        "colab": {
          "base_uri": "https://localhost:8080/"
        },
        "id": "zJLeLxmvIC9t",
        "outputId": "176f109b-3485-4853-dee8-b577c3f098a6"
      },
      "outputs": [
        {
          "output_type": "stream",
          "name": "stdout",
          "text": [
            "    0   1   2   3  4   5   6   7\n",
            "0  10   0   0   0  0   0   0   0\n",
            "1   0  10   0   0  0   0   0   0\n",
            "2   0   0  10   0  0   0   0   0\n",
            "3   0   0   0  10  0   0   0   0\n",
            "4   0   0   1   0  9   0   0   0\n",
            "5   0   0   0   0  0  10   0   0\n",
            "6   0   0   0   0  0   0  10   0\n",
            "7   0   0   0   0  0   0   0  10\n"
          ]
        },
        {
          "output_type": "execute_result",
          "data": {
            "text/plain": [
              "80"
            ]
          },
          "metadata": {},
          "execution_count": 30
        }
      ],
      "source": [
        "tns = cm_bf_df.iloc[0:8].loc[:,0:7] # tns\n",
        "print(tns)\n",
        "tns.values.sum()"
      ]
    },
    {
      "cell_type": "code",
      "execution_count": null,
      "metadata": {
        "colab": {
          "base_uri": "https://localhost:8080/"
        },
        "id": "IMGhfteaIC9t",
        "outputId": "73773611-b6a4-4411-b028-92b39f28071f"
      },
      "outputs": [
        {
          "output_type": "stream",
          "name": "stdout",
          "text": [
            "   8   9   10  11  12  13  14  15\n",
            "0   0   0   0   0   0   0   0   0\n",
            "1   0   0   0   0   0   0   0   0\n",
            "2   0   0   0   0   0   0   0   0\n",
            "3   0   0   0   0   0   0   0   0\n",
            "4   0   0   0   0   0   0   0   0\n",
            "5   0   0   0   0   0   0   0   0\n",
            "6   0   0   0   0   0   0   0   0\n",
            "7   0   0   0   0   0   0   0   0\n"
          ]
        },
        {
          "output_type": "execute_result",
          "data": {
            "text/plain": [
              "0"
            ]
          },
          "metadata": {},
          "execution_count": 31
        }
      ],
      "source": [
        "fps = cm_bf_df.iloc[0:8].loc[:,8:16] # fps\n",
        "\n",
        "print(fps)\n",
        "fps.values.sum()"
      ]
    },
    {
      "cell_type": "code",
      "execution_count": null,
      "metadata": {
        "colab": {
          "base_uri": "https://localhost:8080/"
        },
        "id": "J9FrU5mNIC9u",
        "outputId": "ba3cdc80-c636-4a19-97ae-62d0a2dbe8d0"
      },
      "outputs": [
        {
          "output_type": "stream",
          "name": "stdout",
          "text": [
            "    0  1  2  3  4  5  6  7\n",
            "8   0  0  0  0  0  0  0  0\n",
            "9   0  0  0  0  0  0  0  0\n",
            "10  0  0  1  0  0  0  0  0\n",
            "11  0  0  0  0  0  0  0  0\n",
            "12  0  0  0  0  1  0  0  0\n",
            "13  0  0  0  0  0  1  0  0\n",
            "14  0  0  0  0  0  0  0  0\n",
            "15  0  0  0  0  0  0  0  0\n"
          ]
        },
        {
          "output_type": "execute_result",
          "data": {
            "text/plain": [
              "3"
            ]
          },
          "metadata": {},
          "execution_count": 32
        }
      ],
      "source": [
        "fns = cm_bf_df.iloc[8:16].loc[:,0:7] # fns\n",
        "\n",
        "print(fns)\n",
        "fns.values.sum()"
      ]
    },
    {
      "cell_type": "code",
      "execution_count": null,
      "metadata": {
        "colab": {
          "base_uri": "https://localhost:8080/"
        },
        "id": "j3sfNCLSIC9u",
        "outputId": "876dc362-752c-49cf-a6a5-94ffdb2ba0c7"
      },
      "outputs": [
        {
          "output_type": "stream",
          "name": "stdout",
          "text": [
            "    8   9   10  11  12  13  14  15\n",
            "8    9   0   0   0   0   1   0   0\n",
            "9    0  10   0   0   0   0   0   0\n",
            "10   0   0   9   0   0   0   0   0\n",
            "11   0   0   0  10   0   0   0   0\n",
            "12   0   0   0   0   9   0   0   0\n",
            "13   0   0   0   0   0   9   0   0\n",
            "14   0   0   0   1   0   0   9   0\n",
            "15   0   0   0   0   0   0   0  10\n"
          ]
        },
        {
          "output_type": "execute_result",
          "data": {
            "text/plain": [
              "77"
            ]
          },
          "metadata": {},
          "execution_count": 33
        }
      ],
      "source": [
        "tps = cm_bf_df.iloc[8:16].loc[:,8:16] # tps\n",
        "\n",
        "print(tps)\n",
        "tps.values.sum()"
      ]
    },
    {
      "cell_type": "code",
      "execution_count": null,
      "metadata": {
        "colab": {
          "base_uri": "https://localhost:8080/",
          "height": 112
        },
        "id": "WPwMHCX0IC9u",
        "outputId": "cf5b6357-4ae3-4753-a240-810a33e0f326"
      },
      "outputs": [
        {
          "output_type": "execute_result",
          "data": {
            "text/plain": [
              "   Fresh  Rotten\n",
              "0     80       0\n",
              "1      3      77"
            ],
            "text/html": [
              "\n",
              "  <div id=\"df-2e8fdcf9-5706-456d-9c65-f88c7ed08b6c\">\n",
              "    <div class=\"colab-df-container\">\n",
              "      <div>\n",
              "<style scoped>\n",
              "    .dataframe tbody tr th:only-of-type {\n",
              "        vertical-align: middle;\n",
              "    }\n",
              "\n",
              "    .dataframe tbody tr th {\n",
              "        vertical-align: top;\n",
              "    }\n",
              "\n",
              "    .dataframe thead th {\n",
              "        text-align: right;\n",
              "    }\n",
              "</style>\n",
              "<table border=\"1\" class=\"dataframe\">\n",
              "  <thead>\n",
              "    <tr style=\"text-align: right;\">\n",
              "      <th></th>\n",
              "      <th>Fresh</th>\n",
              "      <th>Rotten</th>\n",
              "    </tr>\n",
              "  </thead>\n",
              "  <tbody>\n",
              "    <tr>\n",
              "      <th>0</th>\n",
              "      <td>80</td>\n",
              "      <td>0</td>\n",
              "    </tr>\n",
              "    <tr>\n",
              "      <th>1</th>\n",
              "      <td>3</td>\n",
              "      <td>77</td>\n",
              "    </tr>\n",
              "  </tbody>\n",
              "</table>\n",
              "</div>\n",
              "      <button class=\"colab-df-convert\" onclick=\"convertToInteractive('df-2e8fdcf9-5706-456d-9c65-f88c7ed08b6c')\"\n",
              "              title=\"Convert this dataframe to an interactive table.\"\n",
              "              style=\"display:none;\">\n",
              "        \n",
              "  <svg xmlns=\"http://www.w3.org/2000/svg\" height=\"24px\"viewBox=\"0 0 24 24\"\n",
              "       width=\"24px\">\n",
              "    <path d=\"M0 0h24v24H0V0z\" fill=\"none\"/>\n",
              "    <path d=\"M18.56 5.44l.94 2.06.94-2.06 2.06-.94-2.06-.94-.94-2.06-.94 2.06-2.06.94zm-11 1L8.5 8.5l.94-2.06 2.06-.94-2.06-.94L8.5 2.5l-.94 2.06-2.06.94zm10 10l.94 2.06.94-2.06 2.06-.94-2.06-.94-.94-2.06-.94 2.06-2.06.94z\"/><path d=\"M17.41 7.96l-1.37-1.37c-.4-.4-.92-.59-1.43-.59-.52 0-1.04.2-1.43.59L10.3 9.45l-7.72 7.72c-.78.78-.78 2.05 0 2.83L4 21.41c.39.39.9.59 1.41.59.51 0 1.02-.2 1.41-.59l7.78-7.78 2.81-2.81c.8-.78.8-2.07 0-2.86zM5.41 20L4 18.59l7.72-7.72 1.47 1.35L5.41 20z\"/>\n",
              "  </svg>\n",
              "      </button>\n",
              "      \n",
              "  <style>\n",
              "    .colab-df-container {\n",
              "      display:flex;\n",
              "      flex-wrap:wrap;\n",
              "      gap: 12px;\n",
              "    }\n",
              "\n",
              "    .colab-df-convert {\n",
              "      background-color: #E8F0FE;\n",
              "      border: none;\n",
              "      border-radius: 50%;\n",
              "      cursor: pointer;\n",
              "      display: none;\n",
              "      fill: #1967D2;\n",
              "      height: 32px;\n",
              "      padding: 0 0 0 0;\n",
              "      width: 32px;\n",
              "    }\n",
              "\n",
              "    .colab-df-convert:hover {\n",
              "      background-color: #E2EBFA;\n",
              "      box-shadow: 0px 1px 2px rgba(60, 64, 67, 0.3), 0px 1px 3px 1px rgba(60, 64, 67, 0.15);\n",
              "      fill: #174EA6;\n",
              "    }\n",
              "\n",
              "    [theme=dark] .colab-df-convert {\n",
              "      background-color: #3B4455;\n",
              "      fill: #D2E3FC;\n",
              "    }\n",
              "\n",
              "    [theme=dark] .colab-df-convert:hover {\n",
              "      background-color: #434B5C;\n",
              "      box-shadow: 0px 1px 3px 1px rgba(0, 0, 0, 0.15);\n",
              "      filter: drop-shadow(0px 1px 2px rgba(0, 0, 0, 0.3));\n",
              "      fill: #FFFFFF;\n",
              "    }\n",
              "  </style>\n",
              "\n",
              "      <script>\n",
              "        const buttonEl =\n",
              "          document.querySelector('#df-2e8fdcf9-5706-456d-9c65-f88c7ed08b6c button.colab-df-convert');\n",
              "        buttonEl.style.display =\n",
              "          google.colab.kernel.accessAllowed ? 'block' : 'none';\n",
              "\n",
              "        async function convertToInteractive(key) {\n",
              "          const element = document.querySelector('#df-2e8fdcf9-5706-456d-9c65-f88c7ed08b6c');\n",
              "          const dataTable =\n",
              "            await google.colab.kernel.invokeFunction('convertToInteractive',\n",
              "                                                     [key], {});\n",
              "          if (!dataTable) return;\n",
              "\n",
              "          const docLinkHtml = 'Like what you see? Visit the ' +\n",
              "            '<a target=\"_blank\" href=https://colab.research.google.com/notebooks/data_table.ipynb>data table notebook</a>'\n",
              "            + ' to learn more about interactive tables.';\n",
              "          element.innerHTML = '';\n",
              "          dataTable['output_type'] = 'display_data';\n",
              "          await google.colab.output.renderOutput(dataTable, element);\n",
              "          const docLink = document.createElement('div');\n",
              "          docLink.innerHTML = docLinkHtml;\n",
              "          element.appendChild(docLink);\n",
              "        }\n",
              "      </script>\n",
              "    </div>\n",
              "  </div>\n",
              "  "
            ]
          },
          "metadata": {},
          "execution_count": 40
        }
      ],
      "source": [
        "cm_bf_s_d = {'Fresh': [tns.values.sum(), fns.values.sum()], 'Rotten': [fps.values.sum(), tps.values.sum()]}\n",
        "cm_bf_s = pd.DataFrame(data=cm_bf_s_d)\n",
        "cm_bf_s"
      ]
    },
    {
      "cell_type": "code",
      "execution_count": null,
      "metadata": {
        "colab": {
          "base_uri": "https://localhost:8080/",
          "height": 112
        },
        "id": "yHSfJXLWIC9u",
        "outputId": "c832e5e7-1af4-4804-8eee-2a577d12c01d"
      },
      "outputs": [
        {
          "output_type": "execute_result",
          "data": {
            "text/plain": [
              "     Fresh   Rotten\n",
              "0  0.50000  0.00000\n",
              "1  0.01875  0.48125"
            ],
            "text/html": [
              "\n",
              "  <div id=\"df-0d08a430-e80b-4214-9c1e-8691e69d79d9\">\n",
              "    <div class=\"colab-df-container\">\n",
              "      <div>\n",
              "<style scoped>\n",
              "    .dataframe tbody tr th:only-of-type {\n",
              "        vertical-align: middle;\n",
              "    }\n",
              "\n",
              "    .dataframe tbody tr th {\n",
              "        vertical-align: top;\n",
              "    }\n",
              "\n",
              "    .dataframe thead th {\n",
              "        text-align: right;\n",
              "    }\n",
              "</style>\n",
              "<table border=\"1\" class=\"dataframe\">\n",
              "  <thead>\n",
              "    <tr style=\"text-align: right;\">\n",
              "      <th></th>\n",
              "      <th>Fresh</th>\n",
              "      <th>Rotten</th>\n",
              "    </tr>\n",
              "  </thead>\n",
              "  <tbody>\n",
              "    <tr>\n",
              "      <th>0</th>\n",
              "      <td>0.50000</td>\n",
              "      <td>0.00000</td>\n",
              "    </tr>\n",
              "    <tr>\n",
              "      <th>1</th>\n",
              "      <td>0.01875</td>\n",
              "      <td>0.48125</td>\n",
              "    </tr>\n",
              "  </tbody>\n",
              "</table>\n",
              "</div>\n",
              "      <button class=\"colab-df-convert\" onclick=\"convertToInteractive('df-0d08a430-e80b-4214-9c1e-8691e69d79d9')\"\n",
              "              title=\"Convert this dataframe to an interactive table.\"\n",
              "              style=\"display:none;\">\n",
              "        \n",
              "  <svg xmlns=\"http://www.w3.org/2000/svg\" height=\"24px\"viewBox=\"0 0 24 24\"\n",
              "       width=\"24px\">\n",
              "    <path d=\"M0 0h24v24H0V0z\" fill=\"none\"/>\n",
              "    <path d=\"M18.56 5.44l.94 2.06.94-2.06 2.06-.94-2.06-.94-.94-2.06-.94 2.06-2.06.94zm-11 1L8.5 8.5l.94-2.06 2.06-.94-2.06-.94L8.5 2.5l-.94 2.06-2.06.94zm10 10l.94 2.06.94-2.06 2.06-.94-2.06-.94-.94-2.06-.94 2.06-2.06.94z\"/><path d=\"M17.41 7.96l-1.37-1.37c-.4-.4-.92-.59-1.43-.59-.52 0-1.04.2-1.43.59L10.3 9.45l-7.72 7.72c-.78.78-.78 2.05 0 2.83L4 21.41c.39.39.9.59 1.41.59.51 0 1.02-.2 1.41-.59l7.78-7.78 2.81-2.81c.8-.78.8-2.07 0-2.86zM5.41 20L4 18.59l7.72-7.72 1.47 1.35L5.41 20z\"/>\n",
              "  </svg>\n",
              "      </button>\n",
              "      \n",
              "  <style>\n",
              "    .colab-df-container {\n",
              "      display:flex;\n",
              "      flex-wrap:wrap;\n",
              "      gap: 12px;\n",
              "    }\n",
              "\n",
              "    .colab-df-convert {\n",
              "      background-color: #E8F0FE;\n",
              "      border: none;\n",
              "      border-radius: 50%;\n",
              "      cursor: pointer;\n",
              "      display: none;\n",
              "      fill: #1967D2;\n",
              "      height: 32px;\n",
              "      padding: 0 0 0 0;\n",
              "      width: 32px;\n",
              "    }\n",
              "\n",
              "    .colab-df-convert:hover {\n",
              "      background-color: #E2EBFA;\n",
              "      box-shadow: 0px 1px 2px rgba(60, 64, 67, 0.3), 0px 1px 3px 1px rgba(60, 64, 67, 0.15);\n",
              "      fill: #174EA6;\n",
              "    }\n",
              "\n",
              "    [theme=dark] .colab-df-convert {\n",
              "      background-color: #3B4455;\n",
              "      fill: #D2E3FC;\n",
              "    }\n",
              "\n",
              "    [theme=dark] .colab-df-convert:hover {\n",
              "      background-color: #434B5C;\n",
              "      box-shadow: 0px 1px 3px 1px rgba(0, 0, 0, 0.15);\n",
              "      filter: drop-shadow(0px 1px 2px rgba(0, 0, 0, 0.3));\n",
              "      fill: #FFFFFF;\n",
              "    }\n",
              "  </style>\n",
              "\n",
              "      <script>\n",
              "        const buttonEl =\n",
              "          document.querySelector('#df-0d08a430-e80b-4214-9c1e-8691e69d79d9 button.colab-df-convert');\n",
              "        buttonEl.style.display =\n",
              "          google.colab.kernel.accessAllowed ? 'block' : 'none';\n",
              "\n",
              "        async function convertToInteractive(key) {\n",
              "          const element = document.querySelector('#df-0d08a430-e80b-4214-9c1e-8691e69d79d9');\n",
              "          const dataTable =\n",
              "            await google.colab.kernel.invokeFunction('convertToInteractive',\n",
              "                                                     [key], {});\n",
              "          if (!dataTable) return;\n",
              "\n",
              "          const docLinkHtml = 'Like what you see? Visit the ' +\n",
              "            '<a target=\"_blank\" href=https://colab.research.google.com/notebooks/data_table.ipynb>data table notebook</a>'\n",
              "            + ' to learn more about interactive tables.';\n",
              "          element.innerHTML = '';\n",
              "          dataTable['output_type'] = 'display_data';\n",
              "          await google.colab.output.renderOutput(dataTable, element);\n",
              "          const docLink = document.createElement('div');\n",
              "          docLink.innerHTML = docLinkHtml;\n",
              "          element.appendChild(docLink);\n",
              "        }\n",
              "      </script>\n",
              "    </div>\n",
              "  </div>\n",
              "  "
            ]
          },
          "metadata": {},
          "execution_count": 39
        }
      ],
      "source": [
        "cm_bf_s_d_n = {'Fresh': [tns.values.sum()/160, fns.values.sum()/160], 'Rotten': [fps.values.sum()/160, tps.values.sum()/160]}\n",
        "cm_bf_s_n = pd.DataFrame(data=cm_bf_s_d_n)\n",
        "cm_bf_s_n"
      ]
    },
    {
      "cell_type": "code",
      "execution_count": null,
      "metadata": {
        "colab": {
          "base_uri": "https://localhost:8080/",
          "height": 315
        },
        "id": "cVCqQhUWIC9v",
        "outputId": "7680c53a-0f7b-4fca-c716-948be17802d8"
      },
      "outputs": [
        {
          "output_type": "display_data",
          "data": {
            "text/plain": [
              "<Figure size 432x288 with 1 Axes>"
            ],
            "image/png": "[encoded data removed]"
          },
          "metadata": {
            "needs_background": "light"
          }
        }
      ],
      "source": [
        "ax = sns.heatmap(cm_bf_s, annot=True, cmap='Blues', fmt='0.5g', cbar=False)\n",
        "ax.set_xticklabels([\"Fresh\", \"Rotten\"], ha='right')\n",
        "plt.xticks(rotation=45)\n",
        "ax.set_yticklabels([\"Fresh\", \"Rotten\"])\n",
        "plt.yticks(rotation=0)\n",
        "plt.title('Freshness Predictions')\n",
        "plt.xlabel('Predicted')\n",
        "plt.ylabel('Actual')\n",
        "\n",
        "# plt.savefig('/content/drive/MyDrive/Flatiron/103122/ntl01-dtsc-live-103122/temp_3/fruits-fresh-rotten/images/con_mat.png', bbox_inches='tight', dpi=300)"
      ]
    },
    {
      "cell_type": "code",
      "execution_count": null,
      "metadata": {
        "id": "sMIZfnfsIC9v",
        "outputId": "d471eef3-5ade-4b8c-b01d-a38b15c54c77"
      },
      "outputs": [
        {
          "data": {
            "text/plain": [
              "(array([0.5, 1.5]), [Text(0, 0.5, 'Fresh'), Text(0, 1.5, 'Rotten')])"
            ]
          },
          "execution_count": 257,
          "metadata": {},
          "output_type": "execute_result"
        },
        {
          "data": {
            "image/png": "[encoded data removed]",
            "text/plain": [
              "<Figure size 640x480 with 2 Axes>"
            ]
          },
          "metadata": {},
          "output_type": "display_data"
        }
      ],
      "source": [
        "ax = sns.heatmap(cm_sn, annot=True, cmap='Blues', fmt='0.5g')\n",
        "ax.set_xticklabels([\"Fresh\", \"Rotten\"], ha='right')\n",
        "plt.xticks(rotation=45)\n",
        "ax.set_yticklabels([\"Fresh\", \"Rotten\"])\n",
        "plt.yticks(rotation=0)\n",
        "\n"
      ]
    },
    {
      "cell_type": "markdown",
      "source": [
        "Create bar charts of preiction accuracy by classification.\n",
        "One with all, and then split by fresh and rotten for use\n",
        "depending on display need."
      ],
      "metadata": {
        "id": "ZwhMOE9KIpn6"
      }
    },
    {
      "cell_type": "code",
      "execution_count": null,
      "metadata": {
        "colab": {
          "base_uri": "https://localhost:8080/",
          "height": 410
        },
        "id": "H5qW9uN6IC9v",
        "outputId": "622d16af-f2bf-4abf-c3f9-02a989ac4630"
      },
      "outputs": [
        {
          "output_type": "display_data",
          "data": {
            "text/plain": [
              "<Figure size 864x360 with 1 Axes>"
            ],
            "image/png": "[encoded data removed]"
          },
          "metadata": {
            "needs_background": "light"
          }
        }
      ],
      "source": [
        "fig, ax = plt.subplots(figsize=(12,5))\n",
        "\n",
        "height = [(cm_bf_df[0][0]/sum(cm_bf_df.iloc[0]))*100,\n",
        "        (cm_bf_df[1][1]/sum(cm_bf_df.iloc[1]))*100,\n",
        "        (cm_bf_df[2][2]/sum(cm_bf_df.iloc[2]))*100,\n",
        "        (cm_bf_df[3][3]/sum(cm_bf_df.iloc[3]))*100,\n",
        "        (cm_bf_df[4][4]/sum(cm_bf_df.iloc[4]))*100,\n",
        "        (cm_bf_df[5][5]/sum(cm_bf_df.iloc[5]))*100,\n",
        "        (cm_bf_df[6][6]/sum(cm_bf_df.iloc[6]))*100,\n",
        "        (cm_bf_df[7][7]/sum(cm_bf_df.iloc[7]))*100,\n",
        "        (cm_bf_df[8][8]/sum(cm_bf_df.iloc[8]))*100,\n",
        "        (cm_bf_df[9][9]/sum(cm_bf_df.iloc[9]))*100,\n",
        "        (cm_bf_df[10][10]/sum(cm_bf_df.iloc[10]))*100,\n",
        "        (cm_bf_df[11][11]/sum(cm_bf_df.iloc[11]))*100,\n",
        "        (cm_bf_df[12][12]/sum(cm_bf_df.iloc[12]))*100,\n",
        "        (cm_bf_df[13][13]/sum(cm_bf_df.iloc[13]))*100,\n",
        "        (cm_bf_df[14][14]/sum(cm_bf_df.iloc[14]))*100,\n",
        "        (cm_bf_df[15][15]/sum(cm_bf_df.iloc[15]))*100\n",
        "         ]\n",
        "\n",
        "ax.bar(x=label_list, height=height)\n",
        "ax.set_xticklabels(label_list, ha='right')\n",
        "plt.xticks(rotation=45)\n",
        "plt.yticks(rotation=0)\n",
        "plt.title('Fruit and Freshness Predictions')\n",
        "plt.ylabel('Percent Accurate')\n",
        "# plt.show()\n",
        "\n",
        "plt.savefig('/content/drive/MyDrive/Flatiron/103122/ntl01-dtsc-live-103122/temp_3/fruits-fresh-rotten/images/preds_bars.png', bbox_inches='tight', dpi=300)"
      ]
    },
    {
      "cell_type": "code",
      "execution_count": null,
      "metadata": {
        "id": "68T3aTkCIC9v",
        "outputId": "fb8d93d9-a8b5-4b20-925c-62b7c583bb95"
      },
      "outputs": [
        {
          "data": {
            "text/plain": [
              "['Apple - Rotten',\n",
              " 'Banana - Rotten',\n",
              " 'Grape - Rotten',\n",
              " 'Guava - Rotten',\n",
              " 'Jujube - Rotten',\n",
              " 'Orange - Rotten',\n",
              " 'Pomegranate - Rotten']"
            ]
          },
          "execution_count": 117,
          "metadata": {},
          "output_type": "execute_result"
        }
      ],
      "source": [
        "label_list[8:15]"
      ]
    },
    {
      "cell_type": "code",
      "execution_count": null,
      "metadata": {
        "id": "hNA-XHK7IC9v",
        "outputId": "1b069222-1aa9-4060-d5f9-69ce45b0b349"
      },
      "outputs": [
        {
          "name": "stderr",
          "output_type": "stream",
          "text": [
            "C:\\Users\\jtdja\\AppData\\Local\\Temp\\ipykernel_26708\\2628324551.py:17: UserWarning: FixedFormatter should only be used together with FixedLocator\n",
            "  ax.set_xticklabels(label_list[8:16], ha='right')\n"
          ]
        },
        {
          "data": {
            "image/png": "[encoded data removed]",
            "text/plain": [
              "<Figure size 800x500 with 1 Axes>"
            ]
          },
          "metadata": {},
          "output_type": "display_data"
        }
      ],
      "source": [
        "fig, ax = plt.subplots(figsize=(8,5))\n",
        "\n",
        "\n",
        "\n",
        "height = [\n",
        "        (cm_df[8][8]/sum(cm_df.iloc[8]))*100,\n",
        "        (cm_df[9][9]/sum(cm_df.iloc[9]))*100,\n",
        "        (cm_df[10][10]/sum(cm_df.iloc[10]))*100,\n",
        "        (cm_df[11][11]/sum(cm_df.iloc[11]))*100,\n",
        "        (cm_df[12][12]/sum(cm_df.iloc[12]))*100,\n",
        "        (cm_df[13][13]/sum(cm_df.iloc[13]))*100,\n",
        "        (cm_df[14][14]/sum(cm_df.iloc[14]))*100,\n",
        "        (cm_df[15][15]/sum(cm_df.iloc[15]))*100\n",
        "         ]\n",
        "\n",
        "ax.bar(x=label_list[8:16], height=height)\n",
        "ax.set_xticklabels(label_list[8:16], ha='right')\n",
        "plt.xticks(rotation=45)\n",
        "plt.yticks(rotation=0)\n",
        "plt.title('Correct Prediction of Rotten Fruit')\n",
        "plt.xlabel('Fruit')\n",
        "plt.ylabel('Percent')\n",
        "plt.show()"
      ]
    },
    {
      "cell_type": "code",
      "execution_count": null,
      "metadata": {
        "id": "dVDric2rIC9v",
        "outputId": "f10ad06e-d641-44ab-aa55-006a719f6415"
      },
      "outputs": [
        {
          "name": "stderr",
          "output_type": "stream",
          "text": [
            "C:\\Users\\jtdja\\AppData\\Local\\Temp\\ipykernel_26708\\1671646898.py:16: UserWarning: FixedFormatter should only be used together with FixedLocator\n",
            "  ax.set_xticklabels(label_list[0:8], ha='right')\n"
          ]
        },
        {
          "data": {
            "image/png": "[encoded data removed]",
            "text/plain": [
              "<Figure size 800x500 with 1 Axes>"
            ]
          },
          "metadata": {},
          "output_type": "display_data"
        }
      ],
      "source": [
        "fig, ax = plt.subplots(figsize=(8,5))\n",
        "\n",
        "label = label_list\n",
        "\n",
        "height = [(cm_df[0][0]/sum(cm_df.iloc[0]))*100,\n",
        "        (cm_df[1][1]/sum(cm_df.iloc[1]))*100,\n",
        "        (cm_df[2][2]/sum(cm_df.iloc[2]))*100,\n",
        "        (cm_df[3][3]/sum(cm_df.iloc[3]))*100,\n",
        "        (cm_df[4][4]/sum(cm_df.iloc[4]))*100,\n",
        "        (cm_df[5][5]/sum(cm_df.iloc[5]))*100,\n",
        "        (cm_df[6][6]/sum(cm_df.iloc[6]))*100,\n",
        "        (cm_df[7][7]/sum(cm_df.iloc[7]))*100,\n",
        "         ]\n",
        "\n",
        "ax.bar(x=label_list[0:8], height=height)\n",
        "ax.set_xticklabels(label_list[0:8], ha='right')\n",
        "plt.xticks(rotation=45)\n",
        "plt.yticks(rotation=0)\n",
        "plt.title('Correct Prediction of Fresh Fruit')\n",
        "plt.xlabel('Fruit')\n",
        "plt.ylabel('Percent')\n",
        "plt.show()"
      ]
    },
    {
      "cell_type": "markdown",
      "source": [
        "# Next Steps"
      ],
      "metadata": {
        "id": "bwu2UAq1XMUr"
      }
    },
    {
      "cell_type": "markdown",
      "source": [
        "## Original Data Next Steps"
      ],
      "metadata": {
        "id": "6iNLpjnkJEil"
      }
    },
    {
      "cell_type": "markdown",
      "source": [
        "Models were saved as scikeras models in order to grid search hyperparametres such as optimizer in the future. At the time of pushing this notebook, I ran short on time and computing power.\n",
        "\n",
        "There are other data sources with images of fresh and rotten fruit that can be added to the training set, increasing the number of classifications the model is trained on."
      ],
      "metadata": {
        "id": "HVen21nWJF9v"
      }
    },
    {
      "cell_type": "markdown",
      "source": [
        "## Business Use Next Steps"
      ],
      "metadata": {
        "id": "IQevC2vUI_su"
      }
    },
    {
      "cell_type": "markdown",
      "source": [
        "Each food business that will be using the model should add data that fits its purposes. As an example farms should add images of fresh and rotten crops grown at that farm, which could include vegetables. In additional to expanding the classification of crops for that farm, more data will continue to increase the accuracy of the model. This will also fine-tune the model for what that farm considers rotten, (a subjective term).\n",
        "\n",
        "Some crops may have visible blemishes making them unlikely to be purchased by a consumer at a market or store, but can still be sold to other businesses and used in the creation of other food products. Adding a middle level of freshness classification will allow businesses to maximize product use, increasing revenue and reducing waste further. Another level of freshness classification that could be added at the farm level is unripe. This could be used for crop monitoring to signal when fruit is ready to be harvested.\n",
        "\n",
        "And lastly, integrate the model for specific business need. From crop monitoring before harvest to sorting freshness via a conveyor belt, each business has a unique need for classification. I look forward to working with them on implementing this model in the best way."
      ],
      "metadata": {
        "id": "TFtrdetAXOfp"
      }
    }
  ],
  "metadata": {
    "kernelspec": {
      "display_name": "fruity",
      "language": "python",
      "name": "fruity"
    },
    "language_info": {
      "codemirror_mode": {
        "name": "ipython",
        "version": 3
      },
      "file_extension": ".py",
      "mimetype": "text/x-python",
      "name": "python",
      "nbconvert_exporter": "python",
      "pygments_lexer": "ipython3",
      "version": "3.10.9"
    },
    "colab": {
      "provenance": [],
      "machine_shape": "hm",
      "collapsed_sections": [
        "t-8puNKGYnUd"
      ],
      "include_colab_link": true
    },
    "accelerator": "GPU",
    "gpuClass": "premium"
  },
  "nbformat": 4,
  "nbformat_minor": 0
}